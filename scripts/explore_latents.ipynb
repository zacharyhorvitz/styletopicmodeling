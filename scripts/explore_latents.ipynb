{
 "cells": [
  {
   "cell_type": "code",
   "execution_count": 4,
   "metadata": {},
   "outputs": [
    {
     "ename": "NameError",
     "evalue": "name '_C' is not defined",
     "output_type": "error",
     "traceback": [
      "\u001b[0;31m---------------------------------------------------------------------------\u001b[0m",
      "\u001b[0;31mNameError\u001b[0m                                 Traceback (most recent call last)",
      "Cell \u001b[0;32mIn[4], line 1\u001b[0m\n\u001b[0;32m----> 1\u001b[0m \u001b[39mimport\u001b[39;00m \u001b[39mpyro\u001b[39;00m\n\u001b[1;32m      2\u001b[0m \u001b[39mimport\u001b[39;00m \u001b[39mtorch\u001b[39;00m\n\u001b[1;32m      3\u001b[0m \u001b[39mimport\u001b[39;00m \u001b[39mjson\u001b[39;00m\n",
      "File \u001b[0;32m/burg/nlp/users/zfh2000/miniconda3/lib/python3.11/site-packages/pyro/__init__.py:4\u001b[0m\n\u001b[1;32m      1\u001b[0m \u001b[39m# Copyright (c) 2017-2019 Uber Technologies, Inc.\u001b[39;00m\n\u001b[1;32m      2\u001b[0m \u001b[39m# SPDX-License-Identifier: Apache-2.0\u001b[39;00m\n\u001b[0;32m----> 4\u001b[0m \u001b[39mimport\u001b[39;00m \u001b[39mpyro\u001b[39;00m\u001b[39m.\u001b[39;00m\u001b[39mpoutine\u001b[39;00m \u001b[39mas\u001b[39;00m \u001b[39mpoutine\u001b[39;00m\n\u001b[1;32m      5\u001b[0m \u001b[39mfrom\u001b[39;00m \u001b[39mpyro\u001b[39;00m\u001b[39m.\u001b[39;00m\u001b[39minfer\u001b[39;00m\u001b[39m.\u001b[39;00m\u001b[39minspect\u001b[39;00m \u001b[39mimport\u001b[39;00m render_model\n\u001b[1;32m      6\u001b[0m \u001b[39mfrom\u001b[39;00m \u001b[39mpyro\u001b[39;00m\u001b[39m.\u001b[39;00m\u001b[39mlogger\u001b[39;00m \u001b[39mimport\u001b[39;00m log\n",
      "File \u001b[0;32m/burg/nlp/users/zfh2000/miniconda3/lib/python3.11/site-packages/pyro/poutine/__init__.py:4\u001b[0m\n\u001b[1;32m      1\u001b[0m \u001b[39m# Copyright (c) 2017-2019 Uber Technologies, Inc.\u001b[39;00m\n\u001b[1;32m      2\u001b[0m \u001b[39m# SPDX-License-Identifier: Apache-2.0\u001b[39;00m\n\u001b[0;32m----> 4\u001b[0m \u001b[39mfrom\u001b[39;00m \u001b[39m.\u001b[39;00m\u001b[39mhandlers\u001b[39;00m \u001b[39mimport\u001b[39;00m (\n\u001b[1;32m      5\u001b[0m     block,\n\u001b[1;32m      6\u001b[0m     broadcast,\n\u001b[1;32m      7\u001b[0m     collapse,\n\u001b[1;32m      8\u001b[0m     condition,\n\u001b[1;32m      9\u001b[0m     do,\n\u001b[1;32m     10\u001b[0m     enum,\n\u001b[1;32m     11\u001b[0m     escape,\n\u001b[1;32m     12\u001b[0m     infer_config,\n\u001b[1;32m     13\u001b[0m     lift,\n\u001b[1;32m     14\u001b[0m     markov,\n\u001b[1;32m     15\u001b[0m     mask,\n\u001b[1;32m     16\u001b[0m     queue,\n\u001b[1;32m     17\u001b[0m     reparam,\n\u001b[1;32m     18\u001b[0m     replay,\n\u001b[1;32m     19\u001b[0m     scale,\n\u001b[1;32m     20\u001b[0m     seed,\n\u001b[1;32m     21\u001b[0m     substitute,\n\u001b[1;32m     22\u001b[0m     trace,\n\u001b[1;32m     23\u001b[0m     uncondition,\n\u001b[1;32m     24\u001b[0m )\n\u001b[1;32m     25\u001b[0m \u001b[39mfrom\u001b[39;00m \u001b[39m.\u001b[39;00m\u001b[39mmessenger\u001b[39;00m \u001b[39mimport\u001b[39;00m unwrap\n\u001b[1;32m     26\u001b[0m \u001b[39mfrom\u001b[39;00m \u001b[39m.\u001b[39;00m\u001b[39mruntime\u001b[39;00m \u001b[39mimport\u001b[39;00m NonlocalExit, get_mask\n",
      "File \u001b[0;32m/burg/nlp/users/zfh2000/miniconda3/lib/python3.11/site-packages/pyro/poutine/handlers.py:58\u001b[0m\n\u001b[1;32m     54\u001b[0m \u001b[39mimport\u001b[39;00m \u001b[39mre\u001b[39;00m\n\u001b[1;32m     56\u001b[0m \u001b[39mfrom\u001b[39;00m \u001b[39mpyro\u001b[39;00m\u001b[39m.\u001b[39;00m\u001b[39mpoutine\u001b[39;00m \u001b[39mimport\u001b[39;00m util\n\u001b[0;32m---> 58\u001b[0m \u001b[39mfrom\u001b[39;00m \u001b[39m.\u001b[39;00m\u001b[39mblock_messenger\u001b[39;00m \u001b[39mimport\u001b[39;00m BlockMessenger\n\u001b[1;32m     59\u001b[0m \u001b[39mfrom\u001b[39;00m \u001b[39m.\u001b[39;00m\u001b[39mbroadcast_messenger\u001b[39;00m \u001b[39mimport\u001b[39;00m BroadcastMessenger\n\u001b[1;32m     60\u001b[0m \u001b[39mfrom\u001b[39;00m \u001b[39m.\u001b[39;00m\u001b[39mcollapse_messenger\u001b[39;00m \u001b[39mimport\u001b[39;00m CollapseMessenger\n",
      "File \u001b[0;32m/burg/nlp/users/zfh2000/miniconda3/lib/python3.11/site-packages/pyro/poutine/block_messenger.py:6\u001b[0m\n\u001b[1;32m      1\u001b[0m \u001b[39m# Copyright (c) 2017-2019 Uber Technologies, Inc.\u001b[39;00m\n\u001b[1;32m      2\u001b[0m \u001b[39m# SPDX-License-Identifier: Apache-2.0\u001b[39;00m\n\u001b[1;32m      4\u001b[0m \u001b[39mfrom\u001b[39;00m \u001b[39mfunctools\u001b[39;00m \u001b[39mimport\u001b[39;00m partial\n\u001b[0;32m----> 6\u001b[0m \u001b[39mfrom\u001b[39;00m \u001b[39mpyro\u001b[39;00m\u001b[39m.\u001b[39;00m\u001b[39mpoutine\u001b[39;00m\u001b[39m.\u001b[39;00m\u001b[39mmessenger\u001b[39;00m \u001b[39mimport\u001b[39;00m Messenger\n\u001b[1;32m      9\u001b[0m \u001b[39mdef\u001b[39;00m \u001b[39m_block_fn\u001b[39m(expose, expose_types, hide, hide_types, hide_all, msg):\n\u001b[1;32m     10\u001b[0m     \u001b[39m# handle observes\u001b[39;00m\n\u001b[1;32m     11\u001b[0m     \u001b[39mif\u001b[39;00m msg[\u001b[39m\"\u001b[39m\u001b[39mtype\u001b[39m\u001b[39m\"\u001b[39m] \u001b[39m==\u001b[39m \u001b[39m\"\u001b[39m\u001b[39msample\u001b[39m\u001b[39m\"\u001b[39m \u001b[39mand\u001b[39;00m msg[\u001b[39m\"\u001b[39m\u001b[39mis_observed\u001b[39m\u001b[39m\"\u001b[39m]:\n",
      "File \u001b[0;32m/burg/nlp/users/zfh2000/miniconda3/lib/python3.11/site-packages/pyro/poutine/messenger.py:7\u001b[0m\n\u001b[1;32m      4\u001b[0m \u001b[39mfrom\u001b[39;00m \u001b[39mcontextlib\u001b[39;00m \u001b[39mimport\u001b[39;00m contextmanager\n\u001b[1;32m      5\u001b[0m \u001b[39mfrom\u001b[39;00m \u001b[39mfunctools\u001b[39;00m \u001b[39mimport\u001b[39;00m partial\n\u001b[0;32m----> 7\u001b[0m \u001b[39mfrom\u001b[39;00m \u001b[39m.\u001b[39;00m\u001b[39mruntime\u001b[39;00m \u001b[39mimport\u001b[39;00m _PYRO_STACK\n\u001b[1;32m     10\u001b[0m \u001b[39mdef\u001b[39;00m \u001b[39m_context_wrap\u001b[39m(context, fn, \u001b[39m*\u001b[39margs, \u001b[39m*\u001b[39m\u001b[39m*\u001b[39mkwargs):\n\u001b[1;32m     11\u001b[0m     \u001b[39mwith\u001b[39;00m context:\n",
      "File \u001b[0;32m/burg/nlp/users/zfh2000/miniconda3/lib/python3.11/site-packages/pyro/poutine/runtime.py:7\u001b[0m\n\u001b[1;32m      4\u001b[0m \u001b[39mimport\u001b[39;00m \u001b[39mfunctools\u001b[39;00m\n\u001b[1;32m      5\u001b[0m \u001b[39mfrom\u001b[39;00m \u001b[39mtyping\u001b[39;00m \u001b[39mimport\u001b[39;00m Dict\n\u001b[0;32m----> 7\u001b[0m \u001b[39mfrom\u001b[39;00m \u001b[39mpyro\u001b[39;00m\u001b[39m.\u001b[39;00m\u001b[39mparams\u001b[39;00m\u001b[39m.\u001b[39;00m\u001b[39mparam_store\u001b[39;00m \u001b[39mimport\u001b[39;00m (  \u001b[39m# noqa: F401\u001b[39;00m\n\u001b[1;32m      8\u001b[0m     _MODULE_NAMESPACE_DIVIDER,\n\u001b[1;32m      9\u001b[0m     ParamStoreDict,\n\u001b[1;32m     10\u001b[0m )\n\u001b[1;32m     12\u001b[0m \u001b[39m# the global pyro stack\u001b[39;00m\n\u001b[1;32m     13\u001b[0m _PYRO_STACK \u001b[39m=\u001b[39m []\n",
      "File \u001b[0;32m/burg/nlp/users/zfh2000/miniconda3/lib/python3.11/site-packages/pyro/params/__init__.py:4\u001b[0m\n\u001b[1;32m      1\u001b[0m \u001b[39m# Copyright (c) 2017-2019 Uber Technologies, Inc.\u001b[39;00m\n\u001b[1;32m      2\u001b[0m \u001b[39m# SPDX-License-Identifier: Apache-2.0\u001b[39;00m\n\u001b[0;32m----> 4\u001b[0m \u001b[39mfrom\u001b[39;00m \u001b[39m.\u001b[39;00m\u001b[39mparam_store\u001b[39;00m \u001b[39mimport\u001b[39;00m (\n\u001b[1;32m      5\u001b[0m     module_from_param_with_module_name,\n\u001b[1;32m      6\u001b[0m     param_with_module_name,\n\u001b[1;32m      7\u001b[0m     user_param_name,\n\u001b[1;32m      8\u001b[0m )\n\u001b[1;32m     10\u001b[0m __all__ \u001b[39m=\u001b[39m [\n\u001b[1;32m     11\u001b[0m     \u001b[39m\"\u001b[39m\u001b[39mmodule_from_param_with_module_name\u001b[39m\u001b[39m\"\u001b[39m,\n\u001b[1;32m     12\u001b[0m     \u001b[39m\"\u001b[39m\u001b[39mparam_with_module_name\u001b[39m\u001b[39m\"\u001b[39m,\n\u001b[1;32m     13\u001b[0m     \u001b[39m\"\u001b[39m\u001b[39muser_param_name\u001b[39m\u001b[39m\"\u001b[39m,\n\u001b[1;32m     14\u001b[0m ]\n",
      "File \u001b[0;32m/burg/nlp/users/zfh2000/miniconda3/lib/python3.11/site-packages/pyro/params/param_store.py:9\u001b[0m\n\u001b[1;32m      6\u001b[0m \u001b[39mimport\u001b[39;00m \u001b[39mweakref\u001b[39;00m\n\u001b[1;32m      7\u001b[0m \u001b[39mfrom\u001b[39;00m \u001b[39mcontextlib\u001b[39;00m \u001b[39mimport\u001b[39;00m contextmanager\n\u001b[0;32m----> 9\u001b[0m \u001b[39mimport\u001b[39;00m \u001b[39mtorch\u001b[39;00m\n\u001b[1;32m     10\u001b[0m \u001b[39mfrom\u001b[39;00m \u001b[39mtorch\u001b[39;00m\u001b[39m.\u001b[39;00m\u001b[39mdistributions\u001b[39;00m \u001b[39mimport\u001b[39;00m constraints, transform_to\n\u001b[1;32m     13\u001b[0m \u001b[39mclass\u001b[39;00m \u001b[39mParamStoreDict\u001b[39;00m:\n",
      "File \u001b[0;32m/burg/nlp/users/zfh2000/miniconda3/lib/python3.11/site-packages/torch/__init__.py:223\u001b[0m\n\u001b[1;32m    209\u001b[0m         \u001b[39mraise\u001b[39;00m \u001b[39mImportError\u001b[39;00m(textwrap\u001b[39m.\u001b[39mdedent(\u001b[39m'''\u001b[39m\n\u001b[1;32m    210\u001b[0m \u001b[39m            Failed to load PyTorch C extensions:\u001b[39m\n\u001b[1;32m    211\u001b[0m \u001b[39m                It appears that PyTorch has loaded the `torch/_C` folder\u001b[39m\n\u001b[0;32m   (...)\u001b[0m\n\u001b[1;32m    219\u001b[0m \u001b[39m                or by running Python from a different directory.\u001b[39m\n\u001b[1;32m    220\u001b[0m \u001b[39m            \u001b[39m\u001b[39m'''\u001b[39m)\u001b[39m.\u001b[39mstrip()) \u001b[39mfrom\u001b[39;00m \u001b[39mNone\u001b[39;00m\n\u001b[1;32m    221\u001b[0m     \u001b[39mraise\u001b[39;00m  \u001b[39m# If __file__ is not None the cause is unknown, so just re-raise.\u001b[39;00m\n\u001b[0;32m--> 223\u001b[0m \u001b[39mfor\u001b[39;00m name \u001b[39min\u001b[39;00m \u001b[39mdir\u001b[39m(_C):\n\u001b[1;32m    224\u001b[0m     \u001b[39mif\u001b[39;00m name[\u001b[39m0\u001b[39m] \u001b[39m!=\u001b[39m \u001b[39m'\u001b[39m\u001b[39m_\u001b[39m\u001b[39m'\u001b[39m \u001b[39mand\u001b[39;00m \u001b[39mnot\u001b[39;00m name\u001b[39m.\u001b[39mendswith(\u001b[39m'\u001b[39m\u001b[39mBase\u001b[39m\u001b[39m'\u001b[39m):\n\u001b[1;32m    225\u001b[0m         __all__\u001b[39m.\u001b[39mappend(name)\n",
      "\u001b[0;31mNameError\u001b[0m: name '_C' is not defined"
     ]
    }
   ],
   "source": [
    "import pyro\n",
    "import torch\n",
    "import json\n",
    "import pickle\n",
    "import os \n",
    "from prodslda_cls import ProdSLDA\n",
    "\n",
    "from sklearn.feature_extraction.text import CountVectorizer\n",
    "\n",
    "MODEL_PATH = '/burg/nlp/users/zfh2000/style_results/pos_bigrams/2023-12-14_17_54_45/model_epoch5_20914.218841552734.pt'\n",
    "DATA_DIR_PATH = '/burg/nlp/users/zfh2000/style_results/pos_bigrams/maxdf0.5_mindf5_DATA'\n",
    "\n",
    "with open(os.path.join(DATA_DIR_PATH, 'bows.pickle'), 'rb') as in_file:\n",
    "    bows = pickle.load(in_file)\n",
    "        \n",
    "with open(os.path.join(DATA_DIR_PATH, 'meta_vectorized.pickle'), 'rb') as in_file:\n",
    "    meta_vectorized = pickle.load(in_file)    \n",
    "\n",
    "with open(os.path.join(DATA_DIR_PATH, \"raw_text.json\"), 'r') as in_file:\n",
    "    raw_text = json.load(in_file)    \n",
    "\n",
    "with open(os.path.join(DATA_DIR_PATH, \"authors_json.json\"), 'r') as in_file:\n",
    "    authors_json = json.load(in_file)    \n",
    "\n",
    "with open(os.path.join(DATA_DIR_PATH, \"meta_feature_to_names.json\"), 'r') as in_file:\n",
    "    meta_feature_to_names = json.load(in_file)\n",
    "\n",
    "with open(os.path.join(DATA_DIR_PATH, \"vectorizer.pickle\"), 'rb') as in_file:\n",
    "    vectorizer = pickle.load(in_file)"
   ]
  },
  {
   "cell_type": "code",
   "execution_count": null,
   "metadata": {},
   "outputs": [],
   "source": [
    "import pdb; pdb.set_trace()\n",
    "\n",
    "pyro.clear_param_store()\n",
    "\n",
    "prodsdla = torch.load(MODEL_PATH)\n",
    "prodsdla.eval()\n",
    "\n",
    "\n",
    "\n",
    "with torch.no_grad():\n",
    "\n",
    "    for text, author, bow, meta in zip(raw_text['training'], authors_json['training'], bows['training'], meta_vectorized['training']):\n",
    "        print(author, text)\n",
    "        # print(text)\n",
    "        # print(author)\n",
    "        # print(bow)\n",
    "        # print(meta)\n",
    "        # print('------------------')\n",
    "        # result =  F.softmax(prodsdla.guide(bow.unsqueeze(0), meta.unsqueeze(0))[1])\n",
    "        # print(result)\n",
    "        # print('------------------')\n",
    "        # print('------------------'\n",
    "\n",
    "\n",
    "# label_to_topic = {}\n",
    "# label_to_max = {}\n",
    "\n",
    "# for d, text, encoded_label, label in zip(docs, data['data'], labels, data['labels']):\n",
    "#     if label not in label_to_topic:\n",
    "#         label_to_topic[label] = []\n",
    "#         label_to_max[label] = []\n",
    "#     # print(d)\n",
    "#     # print(label)\n",
    "#     # print('------------------')\n",
    "#     result =  F.softmax(prodLDA.guide(d.unsqueeze(0), encoded_label.unsqueeze(0))[1])\n",
    "\n",
    "#     # argmax = torch.argmax(result)\n",
    "#     # print(argmax)\n",
    "#     label_to_max[label].append(result[0].detach().cpu().numpy())\n",
    "#     print(label, result)\n",
    "#     label_to_topic[label].append((text,result))\n",
    "\n",
    "\n",
    "# for label in label_to_topic:\n",
    "#     print(label, np.mean(label_to_max[label]))\n"
   ]
  }
 ],
 "metadata": {
  "kernelspec": {
   "display_name": "Python 3",
   "language": "python",
   "name": "python3"
  },
  "language_info": {
   "codemirror_mode": {
    "name": "ipython",
    "version": 3
   },
   "file_extension": ".py",
   "mimetype": "text/x-python",
   "name": "python",
   "nbconvert_exporter": "python",
   "pygments_lexer": "ipython3",
   "version": "3.11.5"
  },
  "orig_nbformat": 4
 },
 "nbformat": 4,
 "nbformat_minor": 2
}
