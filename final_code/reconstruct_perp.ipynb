{
 "cells": [
  {
   "cell_type": "code",
   "execution_count": 3,
   "id": "e2f8012e-f322-4234-aa7f-212c6c1620de",
   "metadata": {},
   "outputs": [],
   "source": [
    "import numpy as np\n",
    "import pandas as pd\n",
    "from scipy import sparse\n",
    "\n",
    "from tqdm import tqdm\n",
    "tqdm.pandas()\n",
    "import matplotlib.pyplot as plt\n",
    "\n",
    "from sklearn.model_selection import train_test_split\n",
    "from sklearn.feature_extraction.text import CountVectorizer\n",
    "\n",
    "from nltk.tag import pos_tag\n",
    "from nltk.tokenize import word_tokenize\n",
    "\n",
    "import torch\n",
    "import torch.nn as nn\n",
    "import torch.nn.functional as F\n",
    "from torch.utils.data import Dataset, DataLoader\n",
    "\n",
    "import pyro\n",
    "import pyro.distributions as dist\n",
    "from pyro.infer import SVI, Trace_ELBO, TraceMeanField_ELBO\n",
    "from pyro.optim import Adam, ClippedAdam\n",
    "\n",
    "from datetime import datetime\n",
    "import json\n",
    "from collections import defaultdict\n",
    "\n",
    "import os"
   ]
  },
  {
   "cell_type": "code",
   "execution_count": 4,
   "id": "073131aa-9d82-4037-91e6-8a5d750a0605",
   "metadata": {},
   "outputs": [],
   "source": [
    "OUT_DIR = '/mnt/swordfish-pool2/ndeas/prob_models/results2/' #'/burg/nlp/users/zfh2000/style_results'\n",
    "\n",
    "DATA_SRC = '/mnt/swordfish-pool2/ndeas/prob_models/data/enron_processed.json' #'/burg/nlp/users/zfh2000/enron_processed.json'\n",
    "SPLITS_PATH = '/mnt/swordfish-pool2/ndeas/prob_models/data/authors_splits.json' #'/burg/home/zfh2000/styletopicmodeling/scripts/authors_splits.json'\n",
    "SYNTHETIC_SRC = '/mnt/swordfish-pool2/ndeas/prob_models/data/gpt_4_enron_processed.json' #'/burg/nlp/users/zfh2000/gpt_4_enron_processed.json'\n",
    "\n",
    "# NICK: files have been uploaded here: https://drive.google.com/drive/folders/1uF9GWEGe4aqSeo2MlachAWR9bTHsJq1q?usp=sharing\n",
    "# ['formality','irony', 'sentences', 'punc_tags', 'pos_bigrams', 'morph_tags', 'pos', 'casing', 'question',  'passive', 'emotion_task', 'sentiment_task', 'emoji_task']\n",
    "# NICK: Unsure which of of these features we should include!\n",
    "\n",
    "META_FEATURES = ['pos_bigrams','formality','emoji_task', 'casing','punc_tags', 'sentiment_task']\n",
    "EXPERIMENT_NAME = '_'.join(META_FEATURES)\n",
    "\n",
    "BATCH_SIZE = 128\n",
    "NUM_WORKERS = 2 #8\n",
    "\n",
    "LR = 1e3\n",
    "BETAS = (0.99, 0.999)\n",
    "EPS   = 1e-8\n",
    "CLIP_NORM = 10.\n",
    "ADAM_ARGS = {'lr': LR, 'betas': BETAS, 'eps': EPS, 'clip_norm': CLIP_NORM}\n",
    "\n",
    "DEVICE = torch.device('cuda:0')\n",
    "\n",
    "NUM_TOPICS = 10 #10 #20 # NICK totally subject to changes\n",
    "NUM_STYLES = 10  #20\n",
    "HIDDEN_DIM = 128\n",
    "DROPOUT    = 0 #0.2\n",
    "\n",
    "THETA_PRIOR_DIST = 'gaussian'\n",
    "THETA_PRIOR_LOC = 0.\n",
    "THETA_PRIOR_SCALE = 1.\n",
    "\n",
    "KAPPA_PRIOR_DIST = 'gaussian' #'laplace'\n",
    "KAPPA_PRIOR_LOC = 0.\n",
    "KAPPA_PRIOR_SCALE = 5 #10 #1.\n",
    "\n",
    "STYLE_TOPIC_LINK = 'none' #'kappa_doc' #'none'\n",
    "\n",
    "NUM_EPOCHS = 50 #100\n",
    "\n",
    "MAX_DF=0.7\n",
    "MIN_DF=20\n",
    "\n",
    "date = datetime.now().strftime(\"%Y-%m-%d_%H_%M_%S\")\n",
    "info = {\n",
    "    'experiment_name': EXPERIMENT_NAME,\n",
    "    'num_topics': NUM_TOPICS,\n",
    "    'num_styles': NUM_STYLES,\n",
    "    'hidden_dim': HIDDEN_DIM,\n",
    "    'dropout': DROPOUT,\n",
    "    'theta_prior_dist': THETA_PRIOR_DIST,\n",
    "    'theta_prior_loc': THETA_PRIOR_LOC,\n",
    "    'theta_prior_scale': THETA_PRIOR_SCALE,\n",
    "    'kappa_prior_dist': KAPPA_PRIOR_DIST,\n",
    "    'kappa_prior_loc': KAPPA_PRIOR_LOC,\n",
    "    'kappa_prior_scale': KAPPA_PRIOR_SCALE,\n",
    "    'style_topic_link': STYLE_TOPIC_LINK,\n",
    "    'num_epochs': NUM_EPOCHS,\n",
    "    'date': date,\n",
    "    'lr': LR,\n",
    "    'betas': BETAS,\n",
    "    'eps': EPS,\n",
    "    'batch_size': BATCH_SIZE,\n",
    "    'clip_norm': CLIP_NORM,\n",
    "    'num_workers': NUM_WORKERS,\n",
    "    'device': DEVICE.type,\n",
    "    'meta_features': META_FEATURES,\n",
    "    'DATA_SRC': DATA_SRC,\n",
    "    'SPLITS_PATH': SPLITS_PATH,\n",
    "    'SYNTHETIC_SRC': SYNTHETIC_SRC,\n",
    "    'MAX_DF': MAX_DF,\n",
    "    'MIN_DF': MIN_DF,\n",
    "\n",
    "}\n",
    "PATH = os.path.join(OUT_DIR, EXPERIMENT_NAME, date)\n",
    "os.makedirs(PATH, exist_ok=True)\n",
    "with open(os.path.join(PATH, 'info.json'), 'w') as f:\n",
    "    json.dump(info, f, indent=4)\n",
    "\n",
    "DATA_DIR_PATH = os.path.join(OUT_DIR,EXPERIMENT_NAME, f'maxdf{MAX_DF}_mindf{MIN_DF}_DATA')\n"
   ]
  },
  {
   "cell_type": "markdown",
   "id": "293b5753-b006-44c8-885f-32f70635d4ca",
   "metadata": {},
   "source": [
    "# Data Setup "
   ]
  },
  {
   "cell_type": "markdown",
   "id": "3ec51068-a48f-46e4-9ae6-c1b4eb9d8244",
   "metadata": {
    "tags": []
   },
   "source": [
    "## Data Processing "
   ]
  },
  {
   "cell_type": "code",
   "execution_count": 5,
   "id": "4f79754a-9fa0-4fdd-a647-0084e702f05f",
   "metadata": {
    "scrolled": true,
    "tags": []
   },
   "outputs": [
    {
     "name": "stdout",
     "output_type": "stream",
     "text": [
      "LOADING FROM /mnt/swordfish-pool2/ndeas/prob_models/results2/pos_bigrams_formality_emoji_task_casing_punc_tags_sentiment_task/maxdf0.7_mindf20_DATA\n"
     ]
    }
   ],
   "source": [
    "import json\n",
    "import pickle\n",
    "from preprocess import clean_up_features, get_possible_values, extract_features\n",
    "\n",
    "if not os.path.exists(DATA_DIR_PATH):\n",
    "    with open(DATA_SRC, 'r') as in_file:\n",
    "        data = json.load(in_file)\n",
    "    \n",
    "    with open(SYNTHETIC_SRC, 'r') as in_file:\n",
    "       synthetic_data = json.load(in_file)\n",
    "    \n",
    "    # print(synthetic_data[:1])\n",
    "    \n",
    "    data = data + synthetic_data\n",
    "    \n",
    "    with open(SPLITS_PATH, 'r') as in_file:\n",
    "        SPLITS = json.load(in_file)\n",
    "    \n",
    "    # data.head(2)\n",
    "    for x in data:\n",
    "        clean_up_features(x)\n",
    "        \n",
    "    print(data[:1])\n",
    "    \n",
    "    meta_feature_to_names = {}\n",
    "    \n",
    "    for key in META_FEATURES:\n",
    "        meta_feature_to_names[key] = get_possible_values(data, key)\n",
    "    \n",
    "    extracted_features = [extract_features(d, meta_feature_to_names) for d in data]\n",
    "    \n",
    "    # extracted_features[2]\n",
    "    \n",
    "    training = []\n",
    "    holdout = []\n",
    "\n",
    "    author_labels = {'training':[], 'holdout':[]}\n",
    "\n",
    "    raw_text = {'training':[], 'holdout':[]}\n",
    "    \n",
    "    authors = [d['info']['from'] for d in data]\n",
    "    texts = [d['text'] for d in data]\n",
    "    for author, t, d  in zip(authors, texts, extracted_features):\n",
    "        if author.startswith('gpt') or author in SPLITS['train']:\n",
    "            training.append(d)\n",
    "            author_labels['training'].append(author)\n",
    "            raw_text['training'].append(t)\n",
    "            \n",
    "    \n",
    "        else:\n",
    "            holdout.append(d)\n",
    "            author_labels['holdout'].append(author)\n",
    "            assert author in SPLITS['test']\n",
    "            raw_text['holdout'].append(t)\n",
    "    \n",
    "    \n",
    "    vectorizer = CountVectorizer(max_df=MAX_DF, min_df=MIN_DF, stop_words='english')\n",
    "    vectorizer.fit([d['text'] for d in training])\n",
    "    \n",
    "    bows = {}\n",
    "\n",
    "    meta_vectorized = {}\n",
    "    \n",
    "    for split_name, data_split in zip(['training','holdout'], [training, holdout]):\n",
    "         bows[split_name] = vectorizer.transform([d['text'] for d in data_split])\n",
    "         meta_vectorized[split_name] = {}\n",
    "         for key in tqdm(sorted(data_split[0].keys())):\n",
    "            if key in ['text']: continue\n",
    "            meta_vectorized[split_name][key] = sparse.csr_matrix(np.stack([d[key] for d in data_split]))\n",
    "            assert(bows[split_name].shape[0] == meta_vectorized[split_name][key].shape[0])\n",
    "\n",
    "    os.makedirs(DATA_DIR_PATH, exist_ok=False)\n",
    "    pickle.dump(vectorizer, open(os.path.join(DATA_DIR_PATH,\"vectorizer.pickle\"), \"wb\"))\n",
    "    pickle.dump(bows, open(os.path.join(DATA_DIR_PATH,\"bows.pickle\"), \"wb\"))\n",
    "    pickle.dump(meta_vectorized, open(os.path.join(DATA_DIR_PATH,\"meta_vectorized.pickle\"), \"wb\"))\n",
    "    \n",
    "    json.dump(raw_text, open(os.path.join(DATA_DIR_PATH,\"raw_text.json\"), \"w\"))\n",
    "    json.dump(author_labels, open(os.path.join(DATA_DIR_PATH,\"authors_json.json\"), \"w\"))\n",
    "    json.dump(meta_feature_to_names, open(os.path.join(DATA_DIR_PATH,\"meta_feature_to_names.json\"), \"w\"))\n",
    "    \n",
    "else:\n",
    "    print(f\"LOADING FROM {DATA_DIR_PATH}\")\n",
    "    with open(os.path.join(DATA_DIR_PATH, 'bows.pickle'), 'rb') as in_file:\n",
    "        bows = pickle.load(in_file)\n",
    "        \n",
    "    with open(os.path.join(DATA_DIR_PATH, 'meta_vectorized.pickle'), 'rb') as in_file:\n",
    "        meta_vectorized = pickle.load(in_file)    \n",
    "    \n",
    "    with open(os.path.join(DATA_DIR_PATH,\"vectorizer.pickle\"), 'rb') as in_file:\n",
    "        vectorizer = pickle.load(in_file)\n",
    "    "
   ]
  },
  {
   "cell_type": "markdown",
   "id": "97291dbb-5aa9-4612-8961-a629cfa16c13",
   "metadata": {
    "tags": []
   },
   "source": [
    "### Summary "
   ]
  },
  {
   "cell_type": "code",
   "execution_count": 6,
   "id": "fa09ece7-3827-47a7-b7fc-a441a589298c",
   "metadata": {},
   "outputs": [],
   "source": [
    "NUM_DOCS   = bows['training'].shape[0]\n",
    "VOCAB_SIZE = bows['training'].shape[1]\n",
    "META_SIZE  = {k:v.shape[1] for k,v in meta_vectorized['training'].items()}\n",
    "IDX_TO_TERM = {v:k for k,v in vectorizer.vocabulary_.items()}"
   ]
  },
  {
   "cell_type": "code",
   "execution_count": 7,
   "id": "14566e36-f4aa-4812-8633-d6e6c638f2e9",
   "metadata": {},
   "outputs": [
    {
     "name": "stdout",
     "output_type": "stream",
     "text": [
      "BOW Dims: (66668, 3098)\n",
      "META Dims: {'casing': 3, 'emoji_task': 20, 'formality': 2, 'pos_bigrams': 324, 'punc_tags': 20, 'sentiment_task': 3}\n"
     ]
    }
   ],
   "source": [
    "print(f'BOW Dims: {bows[\"training\"].shape}')\n",
    "print(f'META Dims: {META_SIZE}')"
   ]
  },
  {
   "cell_type": "markdown",
   "id": "cb6e3a9e-420d-4b50-887a-6e00b5ec98f7",
   "metadata": {},
   "source": [
    "## Dataset"
   ]
  },
  {
   "cell_type": "code",
   "execution_count": 8,
   "id": "09a7d78c-c311-4b0a-9e2c-6d35e552ca97",
   "metadata": {},
   "outputs": [],
   "source": [
    "class DocMetaData(Dataset):\n",
    "    \n",
    "    def __init__(self, bows, metas, \n",
    "                 split_halves = False, perc_obs = 0.5,\n",
    "                 dtype = np.float32):\n",
    "        self.bows = bows\n",
    "        self.metas = metas\n",
    "        \n",
    "        self.split_halves = split_halves\n",
    "        self.perc_obs = perc_obs\n",
    "        \n",
    "        self.dtype = dtype\n",
    "        \n",
    "        if self.split_halves:\n",
    "            bowh_counts = (bows.toarray().sum(axis= -1) * self.perc_obs).astype(int).tolist()\n",
    "    \n",
    "            self.bows_h1, self.bows_h2 = [], []\n",
    "            for bow, bcount in zip(bows, bowh_counts):\n",
    "                h1 = bow.toarray().copy().squeeze()\n",
    "                for i in range(bcount):\n",
    "                    idx = np.random.choice(h1.squeeze().nonzero()[0])\n",
    "                    h1[idx] -= 1\n",
    "                h2 = (bow.toarray() - h1).squeeze()\n",
    "\n",
    "                self.bows_h1.append(h1)\n",
    "                self.bows_h2.append(h2)\n",
    "            \n",
    "            self.bows_h1 = sparse.csr_matrix(self.bows_h1)\n",
    "            self.bows_h2 = sparse.csr_matrix(self.bows_h2)\n",
    "        \n",
    "    def __len__(self):\n",
    "        return self.bows.shape[0]\n",
    "    \n",
    "    def __getitem__(self, idx):\n",
    "        \n",
    "        bow = self.bows[idx].toarray().astype(self.dtype)[0]\n",
    "        \n",
    "        meta = {key:self.metas[key][idx].toarray().astype(self.dtype)[0] for key in self.metas}\n",
    "        \n",
    "        batch = {\n",
    "            'bow': bow,\n",
    "            'meta': meta,\n",
    "        }\n",
    "        \n",
    "        if self.split_halves:\n",
    "            batch['bow_h1'] = self.bows_h1[idx].toarray().astype(self.dtype)[0]\n",
    "            batch['bow_h2'] = self.bows_h2[idx].toarray().astype(self.dtype)[0]\n",
    "        \n",
    "        return batch"
   ]
  },
  {
   "cell_type": "code",
   "execution_count": 9,
   "id": "eae84587-4202-4136-a98a-8cc5f52b4402",
   "metadata": {},
   "outputs": [],
   "source": [
    "# from prodslda_cls import DocMetaData"
   ]
  },
  {
   "cell_type": "code",
   "execution_count": 10,
   "id": "e16dec22-8379-430b-8f25-5675e8ef8af3",
   "metadata": {},
   "outputs": [],
   "source": [
    "dataset = DocMetaData(bows['training'], meta_vectorized['training'])\n",
    "eval_dataset = DocMetaData(bows['holdout'], meta_vectorized['holdout'], split_halves = True)"
   ]
  },
  {
   "cell_type": "code",
   "execution_count": 11,
   "id": "e231698c-1fd3-48de-98ee-43843613b690",
   "metadata": {},
   "outputs": [],
   "source": [
    "dl = DataLoader(dataset, batch_size = BATCH_SIZE, num_workers = NUM_WORKERS, shuffle=True)\n",
    "eval_dl = DataLoader(eval_dataset, batch_size = BATCH_SIZE, num_workers = NUM_WORKERS, shuffle=True)"
   ]
  },
  {
   "cell_type": "code",
   "execution_count": 31,
   "id": "eb31ab8a-2164-4454-93be-ea3fb6899331",
   "metadata": {},
   "outputs": [
    {
     "name": "stdout",
     "output_type": "stream",
     "text": [
      "bow torch.Size([128, 3098])\n",
      "meta\n",
      "\tcasing torch.Size([128, 3])\n",
      "\temoji_task torch.Size([128, 20])\n",
      "\tformality torch.Size([128, 2])\n",
      "\tpos_bigrams torch.Size([128, 324])\n",
      "\tpunc_tags torch.Size([128, 20])\n",
      "\tsentiment_task torch.Size([128, 3])\n"
     ]
    }
   ],
   "source": [
    "test_ = next(iter(dl))\n",
    "for k, v in test_.items():\n",
    "    if isinstance(v, dict):\n",
    "        print(k)\n",
    "        for k1, v1 in v.items():\n",
    "             print('\\t'+k1, v1.shape)\n",
    "    else:\n",
    "        print(k, v.shape)\n",
    "            \n",
    "    # print(f'{k:7s}: {str(v.shape):25s} {str(v.dtype):25s}')"
   ]
  },
  {
   "cell_type": "markdown",
   "id": "6d1b0ce8-9814-431f-8ecb-f557327c933d",
   "metadata": {},
   "source": [
    "# Model Definition "
   ]
  },
  {
   "cell_type": "markdown",
   "id": "93f3b961-5983-4575-af2a-b5fe5ca56f84",
   "metadata": {},
   "source": [
    "## ProdSLDA "
   ]
  },
  {
   "cell_type": "code",
   "execution_count": 13,
   "id": "d7d033aa-6189-415b-8d37-80ca01b8dd0d",
   "metadata": {},
   "outputs": [],
   "source": [
    "# from prodslda_cls import ProdSLDA"
   ]
  },
  {
   "cell_type": "code",
   "execution_count": 64,
   "id": "8c3896ff-e21e-491b-81a9-506b2ad6b64f",
   "metadata": {},
   "outputs": [],
   "source": [
    "class DocMetaData(Dataset):\n",
    "    \n",
    "    def __init__(self, bows, metas, dtype = np.float32):\n",
    "        self.bows = bows\n",
    "        self.metas = metas\n",
    "        \n",
    "        self.dtype = dtype\n",
    "        \n",
    "    def __len__(self):\n",
    "        return self.bows.shape[0]\n",
    "    \n",
    "    def __getitem__(self, idx):\n",
    "        \n",
    "        bow = self.bows[idx].toarray().astype(self.dtype)[0]\n",
    "        \n",
    "        meta = {key:self.metas[key][idx].toarray().astype(self.dtype)[0] for key in self.metas}\n",
    "        \n",
    "        batch = {\n",
    "            'bow': bow,\n",
    "            'meta': meta,\n",
    "        }\n",
    "        \n",
    "        return batch\n",
    "\n",
    "class GeneralEncoder(nn.Module):\n",
    "    \n",
    "    def __init__(self, size_dict, num_styles, hidden, dropout, eps = 1e-10):\n",
    "        super().__init__()\n",
    "        \n",
    "        self.eps = eps\n",
    "\n",
    "        self.sizes = size_dict\n",
    "        \n",
    "        self.drop = nn.Dropout(dropout)  # to avoid component collapse\n",
    "        \n",
    "        # self.fc1_doc = nn.Linear(vocab_size, hidden)\n",
    "        # self.fc1_meta = nn.Linear(meta_size, hidden)\n",
    "\n",
    "        self.features = sorted(size_dict.keys())\n",
    "        self.fc1s = nn.ModuleDict({feature:nn.Linear(self.sizes[feature], hidden) for feature in self.features})\n",
    "        self.fc2 = nn.Linear(len(self.features) * hidden, hidden)\n",
    "        self.fcmu = nn.Linear(hidden, num_styles)\n",
    "        self.fclv = nn.Linear(hidden, num_styles)\n",
    "\n",
    "        self.bnmu = nn.BatchNorm1d(num_styles, affine=False)  # to avoid component collapse\n",
    "        self.bnlv = nn.BatchNorm1d(num_styles, affine=False)  # to avoid component collapse\n",
    "\n",
    "    def forward(self, inputs): #inputs_doc, inputs_meta):\n",
    "        assert isinstance(inputs, dict)\n",
    "        first_hiddens = []\n",
    "        for _, feature in enumerate(self.features):\n",
    "            first_hiddens.append(F.softplus(self.fc1s[feature](inputs[feature])))\n",
    "        \n",
    "        h = torch.hstack(first_hiddens)\n",
    "        h = F.softplus(self.fc2(h))\n",
    "        h = self.drop(h)\n",
    "        # μ and Σ are the outputs\n",
    "        logkappa_loc = self.bnmu(self.fcmu(h))\n",
    "        logkappa_logvar = self.bnlv(self.fclv(h))\n",
    "        logkappa_scale = self.eps + (0.5 * logkappa_logvar).exp()  # Enforces positivity\n",
    "        return logkappa_loc, logkappa_scale\n",
    "\n",
    "class Decoder(nn.Module):\n",
    "    # Base class for the decoder net, used in the model\n",
    "    def __init__(self, vocab_size, num_topics, dropout):\n",
    "        super().__init__()\n",
    "        self.beta = nn.Linear(num_topics, vocab_size, bias=False)\n",
    "        self.bn = nn.BatchNorm1d(vocab_size, affine=False)\n",
    "        self.drop = nn.Dropout(dropout)\n",
    "\n",
    "    def forward(self, inputs):\n",
    "        inputs = self.drop(inputs)\n",
    "        # the output is σ(βθ)\n",
    "        return self.bn(self.beta(inputs))\n",
    "    \n",
    "class MetaDocDecoder(nn.Module):\n",
    "    # Base class for the decoder net, used in the model\n",
    "    def __init__(self, vocab_size, num_topics, num_styles, dropout):\n",
    "        super().__init__()\n",
    "        self.t_beta = nn.Linear(num_topics, vocab_size, bias=False)\n",
    "        self.s_beta = nn.Linear(num_styles, vocab_size, bias=False)\n",
    "        self.t_bn = nn.BatchNorm1d(vocab_size, affine=False)\n",
    "        self.s_bn = nn.BatchNorm1d(vocab_size, affine=False)\n",
    "        self.drop = nn.Dropout(dropout)\n",
    "\n",
    "    def forward(self, inputs_doc, inputs_meta):\n",
    "        inputs_doc  = self.drop(inputs_doc)\n",
    "        dist_t = self.t_bn(self.t_beta(inputs_doc))\n",
    "        \n",
    "        if inputs_meta is None:\n",
    "            return dist_t\n",
    "        else:\n",
    "            inputs_meta = self.drop(inputs_meta)\n",
    "            dist_s = self.s_bn(self.s_beta(inputs_meta))\n",
    "            \n",
    "            return 0.5 * (dist_t + dist_s)\n",
    "\n",
    "class ProdSLDA(nn.Module):\n",
    "    \n",
    "    PRIOR_DISTS  = {'gaussian': dist.Normal,\n",
    "                    'laplace': dist.Laplace,\n",
    "                   }\n",
    "    TK_LINKS     = ('none', # Model style and documents independently\n",
    "                    'kappa_doc', # Allow kappa to effect word distributions\n",
    "                    'kappa_doc_style', # Allow kappa to effect word distributions and sampled words to effect style\n",
    "                   )\n",
    "    \n",
    "    def __init__(self, vocab_size, meta_sizes, num_topics, num_styles, hidden, dropout, \n",
    "                 theta_prior_dist = 'gaussian', theta_prior_loc = 0., theta_prior_scale = 1.,\n",
    "                 kappa_prior_dist = 'laplace', kappa_prior_loc = 0., kappa_prior_scale = 1.,\n",
    "                 style_topic_link = 'none',\n",
    "                 eps = 1e-10):\n",
    "        super().__init__()\n",
    "        \n",
    "        # Global model variables\n",
    "        self.vocab_size = vocab_size\n",
    "        self.meta_sizes = meta_sizes\n",
    "        self.num_topics = num_topics\n",
    "        self.num_styles = num_styles\n",
    "        self.hidden     = hidden\n",
    "        self.dropout    = dropout\n",
    "\n",
    "        self.meta_features = sorted(self.meta_sizes.keys())\n",
    "        \n",
    "        self.eps = eps\n",
    "        \n",
    "        # Theta Prior\n",
    "        if theta_prior_dist not in ProdSLDA.PRIOR_DISTS.keys():\n",
    "            raise ValueError(f'Theta prior {theta_prior_dist} not yet implemented. Must be one of {\", \".join(ProdSLDA.PRIOR_DISTS.keys())}')\n",
    "        self.theta_prior_dist = theta_prior_dist\n",
    "        \n",
    "        self.theta_prior_scale = theta_prior_scale\n",
    "        self.theta_prior_loc = theta_prior_loc\n",
    "        \n",
    "        # Kappa Prior\n",
    "        if kappa_prior_dist not in ProdSLDA.PRIOR_DISTS.keys():\n",
    "            raise ValueError(f'Kappa prior {kappa_prior_dist} not yet implemented. Must be one of {\", \".join(ProdSLDA.PRIOR_DISTS.keys())}')\n",
    "        self.kappa_prior_dist = kappa_prior_dist\n",
    "        \n",
    "        self.kappa_prior_scale = kappa_prior_scale\n",
    "        self.kappa_prior_loc = kappa_prior_loc\n",
    "        \n",
    "        \n",
    "        # Document style linking\n",
    "        self.style_topic_link = style_topic_link\n",
    "        \n",
    "        if self.style_topic_link not in ProdSLDA.TK_LINKS:\n",
    "            raise ValueError(f'Link {self.style_topic_link} not yet implemented. Must be one of {\", \".join(ProdSLDA.TK_LINKS)}')\n",
    "        elif self.style_topic_link == 'none':\n",
    "            # Independent modeling of style and topic, all normal encoder/decoders\n",
    "            \n",
    "            self.encoder = GeneralEncoder({'doc':vocab_size}, num_topics, hidden, dropout, self.eps)\n",
    "            self.decoder = Decoder(vocab_size, num_topics, dropout)\n",
    "            self.style_encoder = GeneralEncoder(meta_sizes, num_styles, hidden, dropout, self.eps)\n",
    "            self.style_decoder = nn.ModuleDict({feature: Decoder(meta_s, num_styles, dropout) for feature, meta_s in meta_sizes.items()})\n",
    "            \n",
    "        elif self.style_topic_link == 'kappa_doc':\n",
    "            # raise NotImplementedError()\n",
    "            # Doc influences kappa encoding, style encoder takes in doc\n",
    "            self.encoder = GeneralEncoder({'doc':vocab_size}, num_styles, hidden, dropout, self.eps)\n",
    "            self.style_encoder = GeneralEncoder({'doc':vocab_size, **meta_sizes}, num_styles, hidden, dropout, self.eps)\n",
    "\n",
    "            self.decoder = MetaDocDecoder(vocab_size=vocab_size, num_topics=num_topics, num_styles=num_styles, dropout=dropout)\n",
    "            self.style_decoder = nn.ModuleDict({feature: Decoder(meta_s, num_styles, dropout) for feature, meta_s in meta_sizes.items()})\n",
    "\n",
    "\n",
    "    def model(self, docs, metas):\n",
    "        pyro.module(\"decoder\", self.decoder)\n",
    "        pyro.module(\"style_decoder\", self.style_decoder)\n",
    "        \n",
    "        with pyro.plate(\"documents\", docs.shape[0]):\n",
    "            # Dirichlet prior 𝑝(𝜃|𝛼) is replaced by a logistic-normal distribution\n",
    "            logtheta_loc = docs.new_zeros((docs.shape[0], self.num_topics)) * self.theta_prior_loc\n",
    "            logtheta_scale = docs.new_ones((docs.shape[0], self.num_topics)) * self.theta_prior_scale\n",
    "            logkappa_loc = docs.new_zeros((docs.shape[0], self.num_styles)) * self.kappa_prior_loc\n",
    "            logkappa_scale = docs.new_ones((docs.shape[0], self.num_styles)) * self.kappa_prior_scale\n",
    "            \n",
    "            if self.style_topic_link == 'kappa_doc':\n",
    "                logtheta_s_loc = docs.new_zeros((docs.shape[0], self.num_topics)) * self.theta_prior_loc\n",
    "                logtheta_s_scale = docs.new_ones((docs.shape[0], self.num_topics)) * self.theta_prior_scale\n",
    "                \n",
    "                logtheta_s = pyro.sample(\n",
    "                    \"logtheta_s\", ProdSLDA.PRIOR_DISTS[self.theta_prior_dist](logtheta_s_loc, logtheta_s_scale).to_event(1))\n",
    "                \n",
    "                theta_s = F.softmax(logtheta_s, -1)\n",
    "            \n",
    "            logtheta = pyro.sample(\n",
    "                \"logtheta\", ProdSLDA.PRIOR_DISTS[self.theta_prior_dist](logtheta_loc, logtheta_scale).to_event(1))\n",
    "            logkappa = pyro.sample(\n",
    "                \"logkappa\", ProdSLDA.PRIOR_DISTS[self.kappa_prior_dist](logkappa_loc, logkappa_scale).to_event(1))\n",
    "            \n",
    "            theta = F.softmax(logtheta, -1)\n",
    "            kappa = F.softmax(logkappa, -1)\n",
    "\n",
    "            if self.style_topic_link == 'none':\n",
    "                word_logits = self.decoder(theta)\n",
    "            elif self.style_topic_link == 'kappa_doc':\n",
    "                word_logits = self.decoder(theta, kappa)\n",
    "                \n",
    "            style_logits = {feature:self.style_decoder[feature](kappa) for feature in self.meta_features}\n",
    "\n",
    "            total_count = int(docs.sum(-1).max())\n",
    "            pyro.sample(\n",
    "                'obs_doc',\n",
    "                dist.Multinomial(total_count, logits = word_logits),\n",
    "                obs=docs\n",
    "            )\n",
    "\n",
    "            for feature in self.meta_features:\n",
    "                total_s_count = int(metas[feature].sum(-1).max())\n",
    "                pyro.sample(\n",
    "                    'obs_meta_'+feature,\n",
    "                    dist.Multinomial(total_s_count, logits = style_logits[feature]),\n",
    "                    obs=metas[feature]\n",
    "                )\n",
    "\n",
    "    def guide(self, docs, metas):\n",
    "        pyro.module(\"encoder\", self.encoder)\n",
    "        pyro.module(\"style_encoder\", self.style_encoder)\n",
    "            \n",
    "        with pyro.plate(\"documents\", docs.shape[0]):\n",
    "            # Dirichlet prior 𝑝(𝜃|𝛼) is replaced by a logistic-normal distribution,\n",
    "            # where μ and Σ are the encoder network outputs\n",
    "            \n",
    "            if self.style_topic_link == 'none':\n",
    "                logtheta_loc, logtheta_scale = self.encoder({'doc':docs})\n",
    "                logkappa_loc, logkappa_scale = self.style_encoder(metas)\n",
    "\n",
    "            elif self.style_topic_link == 'kappa_doc':\n",
    "                # raise NotImplementedError()\n",
    "                # logtheta_loc, logtheta_scale, logkappa_d_loc, logkappa_d_scale = self.encoder({'doc':docs, **metas})\n",
    "                logtheta_loc, logtheta_scale  = self.encoder({'doc':docs})\n",
    "                logkappa_loc, logkappa_scale = self.style_encoder({'doc':docs, **metas})\n",
    "\n",
    "                # NICK what was the point of d_loc and d_scale? Shoudln't we be generating one set of kappas from both features?\n",
    "                \n",
    "                # Average theta loc from document and style\n",
    "                # logkappa_loc = 0.5 * (logkappa_loc + logkappa_d_loc) \n",
    "                # logkappa_scale = 0.5 * (logkappa_scale + logkappa_d_scale)\n",
    "            \n",
    "            # Sample logtheta/logkappa from guide\n",
    "            logtheta = pyro.sample(\n",
    "                \"logtheta\", ProdSLDA.PRIOR_DISTS[self.theta_prior_dist](logtheta_loc, logtheta_scale).to_event(1))\n",
    "            logkappa = pyro.sample(\n",
    "                \"logkappa\", ProdSLDA.PRIOR_DISTS[self.kappa_prior_dist](logkappa_loc, logkappa_scale).to_event(1))\n",
    "\n",
    "        # return logtheta, logkappa\n",
    "            \n",
    "\n",
    "    def beta_document(self):\n",
    "        if self.style_topic_link == 'none':\n",
    "            return {'beta_topic':self.decoder.beta.weight.cpu().detach().T}\n",
    "        elif self.style_topic_link == 'kappa_doc':\n",
    "            return {\n",
    "                'beta_topic':self.decoder.t_beta.weight.cpu().detach().T,\n",
    "                'beta_style':self.decoder.s_beta.weight.cpu().detach().T,\n",
    "            }\n",
    "        else:\n",
    "            raise NotImplementedError()\n",
    "            \n",
    "    def beta_meta(self):\n",
    "        # beta matrix elements are the weights of the FC layer on the decoder\n",
    "        # return self.decoder.beta.weight.cpu().detach().T\n",
    "        retval = {}\n",
    "        for key, layer in self.style_decoder.items():\n",
    "            retval[key] = layer.beta.weight.cpu().detach().T\n",
    "        return retval\n",
    "    \n",
    "    def reconstruct_doc(self, inputs, use_style = True):\n",
    "        \n",
    "        if self.style_topic_link == 'none':\n",
    "            logtheta_loc, _  = self.encoder({'doc':inputs['bow_h1']})\n",
    "            theta = F.softmax(logtheta_loc, -1)\n",
    "            word_logits = self.decoder(theta)\n",
    "            \n",
    "        elif self.style_topic_link == 'kappa_doc':\n",
    "            logtheta_loc, _  = self.encoder({'doc':inputs['bow_h1']})\n",
    "            theta = F.softmax(logtheta_loc, -1)\n",
    "            \n",
    "            if use_style:\n",
    "                logkappa_loc, _ = self.style_encoder({'doc':inputs['bow_h1'], **inputs['meta']})\n",
    "                kappa = F.softmax(logkappa_loc, -1)\n",
    "            else:\n",
    "                kappa = None\n",
    "            \n",
    "            word_logits = self.decoder(theta, kappa)\n",
    "        \n",
    "        recon = F.softmax(word_logits, dim = -1)\n",
    "        \n",
    "        return recon\n",
    "    \n",
    "    def reconstruct_style(self, inputs):\n",
    "        '''\n",
    "            Reconstruct style/metadata from document alone by zeroing out metadata.\n",
    "        '''\n",
    "        \n",
    "        zero_meta = {k:torch.zeros_like(inputs['meta'][k]) for k in inputs['meta'].keys()}\n",
    "        \n",
    "        logkappa_loc, _ = self.style_encoder({'doc':inputs['bow'], **zero_meta})\n",
    "\n",
    "        kappa = F.softmax(logkappa_loc, dim = -1)\n",
    "        \n",
    "        s_recon = {feature:self.style_decoder[feature](kappa) for feature in self.meta_features}\n",
    "        s_recon = {feature:F.softmax(s_recon[feature], dim = -1) for feature in self.meta_features}\n",
    "        \n",
    "        return s_recon\n",
    "    \n",
    "    def doc_reconstruct_ce(self, inputs, use_style = True):\n",
    "    \n",
    "        recon = self.reconstruct_doc(inputs, use_style = use_style)\n",
    "\n",
    "        total_count = inputs['bow_h2'].sum()\n",
    "\n",
    "        ce = (-inputs['bow_h2']*torch.log(recon)).sum().cpu().item()\n",
    "\n",
    "        return ce, total_count\n",
    "    \n",
    "    def style_reconstruct_ce(self, inputs):\n",
    "        \n",
    "        s_recon = ProdSLDA.reconstruct_style(self, inputs)\n",
    "        \n",
    "        style_ce, total_s_count = 0, 0\n",
    "        for feature in self.meta_features:\n",
    "            total_s_count += inputs['meta'][feature].sum()\n",
    "            \n",
    "            style_ce += (-inputs['meta'][feature]*torch.log(s_recon[feature])).sum().cpu().item()\n",
    "        \n",
    "        return style_ce, total_s_count\n",
    "            "
   ]
  },
  {
   "cell_type": "markdown",
   "id": "638ada7b-44f5-4ff7-abbf-1d270ae28110",
   "metadata": {},
   "source": [
    "# Reconstruct Perplexity "
   ]
  },
  {
   "cell_type": "code",
   "execution_count": 15,
   "id": "212124e2-2f4e-4140-9330-5d88e1cdc677",
   "metadata": {},
   "outputs": [],
   "source": [
    "prod_slda = torch.load('/mnt/swordfish-pool2/ndeas/prob_models/results2/pos_bigrams_formality_emoji_task_casing_punc_tags_sentiment_task/2023-12-15_00_30_51/model_epoch50_5439.549745559692.pt').to(DEVICE)"
   ]
  },
  {
   "cell_type": "code",
   "execution_count": 124,
   "id": "29d0f209-c28c-4c0c-9bad-c9aa6a37b40a",
   "metadata": {},
   "outputs": [
    {
     "name": "stderr",
     "output_type": "stream",
     "text": [
      "100%|██████████| 179/179 [00:12<00:00, 14.36it/s]\n"
     ]
    }
   ],
   "source": [
    "total_ce, total_count = 0., 0.\n",
    "for batch in tqdm(eval_dl):\n",
    "    for key in batch.keys():\n",
    "        if isinstance(batch[key], dict):\n",
    "            for key2 in batch[key].keys():\n",
    "                batch[key][key2] = batch[key][key2].to(DEVICE)\n",
    "        else:\n",
    "            batch[key] = batch[key].to(DEVICE)\n",
    "    \n",
    "    ce, count = reconstruct_ce(prod_slda, batch)\n",
    "    total_ce += ce\n",
    "    total_count += count"
   ]
  },
  {
   "cell_type": "code",
   "execution_count": 125,
   "id": "a4bfb47a-4b9c-4b36-a1cc-089037eabf34",
   "metadata": {},
   "outputs": [
    {
     "name": "stdout",
     "output_type": "stream",
     "text": [
      "PERP: 3104.6968\n"
     ]
    }
   ],
   "source": [
    "print(f'PERP: {torch.exp(total_ce/total_count).item():.4f}')"
   ]
  },
  {
   "cell_type": "markdown",
   "id": "93050dff-fe64-4737-862e-2e6baa0af03e",
   "metadata": {},
   "source": [
    "# Model Fitting "
   ]
  },
  {
   "cell_type": "code",
   "execution_count": 13,
   "id": "714576bd-b9ff-48ad-b297-62471689e78a",
   "metadata": {},
   "outputs": [],
   "source": [
    "# NUM_TOPICS = 10\n",
    "# # BATCH_SIZE = \n",
    "# # NUM_STYLES = 2\n",
    "# # DROPOUT    = 0.\n",
    "# HIDDEN_DIM = 256\n",
    "# LR = 1e3\n",
    "\n",
    "# THETA_PRIOR_SCALE = 1\n",
    "# # KAPPA_PRIOR_SCALE = 3\n",
    "\n",
    "# CLIP_NORM = 10"
   ]
  },
  {
   "cell_type": "markdown",
   "id": "9ed443b9-6ebe-4351-aeb7-5c85caff576b",
   "metadata": {},
   "source": [
    "## Setup"
   ]
  },
  {
   "cell_type": "code",
   "execution_count": 14,
   "id": "5cb86678-f33a-49a1-971c-1641b2da6e66",
   "metadata": {
    "scrolled": true,
    "tags": []
   },
   "outputs": [
    {
     "name": "stdout",
     "output_type": "stream",
     "text": [
      "{'beta_topic': tensor([[ 0.1991, -0.1363, -0.1472,  ...,  0.1322,  0.2636, -0.0783],\n",
      "        [-0.2153,  0.2501, -0.1350,  ..., -0.0792,  0.1818,  0.1772],\n",
      "        [ 0.1964, -0.2804,  0.0250,  ...,  0.1309,  0.1166, -0.2686],\n",
      "        ...,\n",
      "        [-0.0902,  0.0421,  0.2616,  ..., -0.1802,  0.2770,  0.0874],\n",
      "        [ 0.1353,  0.3139, -0.1316,  ..., -0.0847, -0.0984, -0.1902],\n",
      "        [ 0.3023,  0.0318, -0.1055,  ...,  0.1219, -0.0238,  0.0458]])}\n",
      "{'casing': tensor([[-0.0006, -0.1709, -0.2364],\n",
      "        [-0.2986, -0.1544,  0.2920],\n",
      "        [ 0.1431, -0.0717,  0.1599],\n",
      "        [ 0.1246,  0.0029,  0.0759],\n",
      "        [ 0.0959, -0.0642,  0.0878],\n",
      "        [-0.2332,  0.2444, -0.2629],\n",
      "        [-0.1812, -0.0995,  0.0694],\n",
      "        [-0.2636, -0.2692,  0.1475],\n",
      "        [ 0.0458,  0.0275, -0.0629],\n",
      "        [-0.1145,  0.0815,  0.2279]]), 'emoji_task': tensor([[-0.1511, -0.1578, -0.0612,  0.1374, -0.2138, -0.1289, -0.0504, -0.1511,\n",
      "         -0.2411,  0.3024,  0.0727,  0.2787,  0.2465,  0.0232, -0.0429,  0.1916,\n",
      "          0.1737, -0.0745, -0.1308, -0.1874],\n",
      "        [-0.1768, -0.1419,  0.2664, -0.2195, -0.2023,  0.1550, -0.2936, -0.2587,\n",
      "         -0.2695,  0.2004, -0.1849,  0.3114,  0.1240, -0.0591, -0.0313,  0.2792,\n",
      "         -0.2608, -0.1536, -0.0689, -0.1033],\n",
      "        [-0.0174, -0.1081,  0.0451,  0.3037,  0.0896, -0.0561,  0.2613,  0.0034,\n",
      "          0.2772,  0.2213,  0.0691,  0.1708,  0.1792,  0.1112, -0.2213,  0.0229,\n",
      "         -0.1558,  0.1790, -0.1934,  0.1092],\n",
      "        [ 0.1788,  0.0222, -0.0443,  0.2163,  0.2419,  0.0524,  0.0362, -0.3035,\n",
      "         -0.2289, -0.0958, -0.3162,  0.1318,  0.0119, -0.2151, -0.0855, -0.0735,\n",
      "          0.2061, -0.3001, -0.2947, -0.1923],\n",
      "        [ 0.1632, -0.0917, -0.2890, -0.0041,  0.1448,  0.2221,  0.2245,  0.2676,\n",
      "          0.0161,  0.1331,  0.1493, -0.1828,  0.0598, -0.1249,  0.3068,  0.0640,\n",
      "          0.0109, -0.0882, -0.2230, -0.2821],\n",
      "        [ 0.0169,  0.0856, -0.2761,  0.1344, -0.0115, -0.0013, -0.1816, -0.1041,\n",
      "         -0.2620, -0.0957,  0.2907, -0.1222,  0.2175,  0.1701,  0.2907, -0.1211,\n",
      "          0.0190,  0.1504,  0.1525,  0.0027],\n",
      "        [-0.2198, -0.2048, -0.1734,  0.1830, -0.2421,  0.2164, -0.1196, -0.1614,\n",
      "          0.2661,  0.0862,  0.2385, -0.0692, -0.2694,  0.3133, -0.0166,  0.0841,\n",
      "          0.2496,  0.2277,  0.1441,  0.1963],\n",
      "        [ 0.1381,  0.2492, -0.0223,  0.1525, -0.1923,  0.1860,  0.0408, -0.2172,\n",
      "          0.1929, -0.0451,  0.2971, -0.2547, -0.2404,  0.0084, -0.3111,  0.1440,\n",
      "          0.1050,  0.0047,  0.3026,  0.0613],\n",
      "        [-0.1663, -0.0809,  0.1165,  0.1787, -0.0222, -0.1915,  0.2120,  0.2231,\n",
      "          0.0381,  0.2520, -0.0988, -0.2542,  0.2067,  0.2330,  0.1068,  0.2788,\n",
      "          0.0055,  0.2432, -0.3112, -0.2223],\n",
      "        [ 0.1978,  0.2317,  0.1608,  0.1631,  0.2165, -0.2033, -0.0451, -0.0338,\n",
      "         -0.2645, -0.2623, -0.0991, -0.0136, -0.1293, -0.1973,  0.0947,  0.3093,\n",
      "          0.1831, -0.1896,  0.2049,  0.2806]]), 'formality': tensor([[-0.1539, -0.2600],\n",
      "        [ 0.0274,  0.2087],\n",
      "        [-0.2120, -0.1319],\n",
      "        [-0.2732, -0.2087],\n",
      "        [-0.2390,  0.0181],\n",
      "        [-0.0518, -0.0145],\n",
      "        [ 0.0776,  0.1805],\n",
      "        [ 0.0552,  0.1195],\n",
      "        [-0.1794,  0.1807],\n",
      "        [ 0.3047,  0.1319]]), 'pos_bigrams': tensor([[ 0.1350, -0.0221,  0.1918,  ..., -0.1192, -0.2826, -0.0421],\n",
      "        [ 0.2355,  0.1236,  0.2620,  ...,  0.2756, -0.0392,  0.0004],\n",
      "        [ 0.0788,  0.2297, -0.1330,  ...,  0.2342,  0.0019, -0.2007],\n",
      "        ...,\n",
      "        [-0.2808, -0.3023,  0.0597,  ..., -0.2639,  0.0340, -0.2593],\n",
      "        [ 0.0427,  0.1504, -0.2627,  ..., -0.0490, -0.1044, -0.0867],\n",
      "        [ 0.1784, -0.1338, -0.0806,  ...,  0.2094, -0.1773, -0.1745]]), 'punc_tags': tensor([[-0.0639, -0.2778,  0.2366, -0.1080,  0.1200, -0.1878, -0.0776, -0.3097,\n",
      "         -0.2473,  0.0652,  0.2850, -0.2352, -0.3134,  0.1506,  0.3151, -0.3045,\n",
      "         -0.0055,  0.2306, -0.2004,  0.2842],\n",
      "        [ 0.1081, -0.2939,  0.1633, -0.2079, -0.0346,  0.2924,  0.2852, -0.2982,\n",
      "          0.1685, -0.1747,  0.1706, -0.0385, -0.0175,  0.2054, -0.0430, -0.1460,\n",
      "          0.0826,  0.0690, -0.2219,  0.1164],\n",
      "        [-0.1781, -0.2947, -0.0888,  0.0289,  0.0202,  0.1202,  0.0026,  0.2362,\n",
      "          0.2133, -0.0788,  0.1803,  0.2748, -0.0118,  0.2837, -0.1793, -0.0812,\n",
      "          0.2920,  0.1166,  0.2082, -0.0727],\n",
      "        [ 0.1545, -0.0104,  0.0819,  0.2262,  0.1239,  0.0583,  0.0295,  0.0035,\n",
      "          0.3120,  0.3119,  0.0658,  0.1301,  0.1545, -0.1021, -0.0976, -0.1624,\n",
      "         -0.0323, -0.1847,  0.2447, -0.1327],\n",
      "        [ 0.0382,  0.2483,  0.0328,  0.2293,  0.1296,  0.2837,  0.2190,  0.2151,\n",
      "          0.2158,  0.2761,  0.2986,  0.0930, -0.2817,  0.2361, -0.0539, -0.1474,\n",
      "         -0.2928,  0.1741,  0.2982,  0.1852],\n",
      "        [-0.0676,  0.2859,  0.0531, -0.0271,  0.0823, -0.2796,  0.2252,  0.0464,\n",
      "         -0.2851,  0.1750, -0.2480, -0.2555, -0.0840,  0.2423,  0.1605, -0.1731,\n",
      "         -0.0649,  0.1722,  0.0566,  0.2848],\n",
      "        [ 0.2801,  0.2878, -0.0383, -0.1314,  0.2471, -0.0416,  0.1473, -0.1701,\n",
      "         -0.0528,  0.2848, -0.0489,  0.1357,  0.1312, -0.1379, -0.2916, -0.0843,\n",
      "          0.3000, -0.0962, -0.1543, -0.2682],\n",
      "        [ 0.1052,  0.0670, -0.0537, -0.2471,  0.0648, -0.1992, -0.0618,  0.0359,\n",
      "          0.2225,  0.0971, -0.1293, -0.2793, -0.1849,  0.0009, -0.0470, -0.2514,\n",
      "          0.0685, -0.1304, -0.1753,  0.2332],\n",
      "        [-0.1480, -0.2039,  0.0717,  0.0399,  0.1818, -0.0401, -0.0884,  0.3120,\n",
      "         -0.2144,  0.2682, -0.0094,  0.0669, -0.1853,  0.2022,  0.1904, -0.2686,\n",
      "          0.0742,  0.1440, -0.1215, -0.2535],\n",
      "        [-0.0577, -0.2623,  0.1576,  0.1181,  0.1527, -0.1914, -0.1136,  0.1146,\n",
      "         -0.1381, -0.2373,  0.2028,  0.0553, -0.2683, -0.1903,  0.1934,  0.3107,\n",
      "          0.0042,  0.0010,  0.1192,  0.2486]]), 'sentiment_task': tensor([[-0.2074,  0.2087,  0.0379],\n",
      "        [-0.0018,  0.1746, -0.2240],\n",
      "        [-0.3038, -0.2789,  0.1880],\n",
      "        [ 0.0431,  0.0379,  0.0753],\n",
      "        [ 0.2097,  0.2221,  0.2081],\n",
      "        [ 0.2390, -0.2064,  0.1628],\n",
      "        [ 0.2645,  0.0396,  0.1534],\n",
      "        [-0.0284,  0.2337,  0.1354],\n",
      "        [ 0.1037,  0.0900,  0.1918],\n",
      "        [-0.2177,  0.1645, -0.1509]])}\n"
     ]
    }
   ],
   "source": [
    "prod_slda = ProdSLDA(\n",
    "    vocab_size = VOCAB_SIZE,\n",
    "    meta_sizes  = META_SIZE,\n",
    "    num_topics = NUM_TOPICS, num_styles = NUM_STYLES, \n",
    "    hidden = HIDDEN_DIM, dropout = DROPOUT, \n",
    "    theta_prior_dist = THETA_PRIOR_DIST, \n",
    "    theta_prior_loc = THETA_PRIOR_LOC, theta_prior_scale = THETA_PRIOR_SCALE,\n",
    "    kappa_prior_dist = KAPPA_PRIOR_DIST, \n",
    "    kappa_prior_loc = KAPPA_PRIOR_LOC, kappa_prior_scale = KAPPA_PRIOR_SCALE,\n",
    "    style_topic_link = STYLE_TOPIC_LINK,\n",
    ").to(DEVICE)\n",
    "\n",
    "print(prod_slda.beta_document())\n",
    "print(prod_slda.beta_meta())\n"
   ]
  },
  {
   "cell_type": "markdown",
   "id": "bf790d2c-25ba-4769-8703-5b9e672a735f",
   "metadata": {},
   "source": [
    "## Training "
   ]
  },
  {
   "cell_type": "code",
   "execution_count": 15,
   "id": "4487f140-7c91-4b84-9404-af5d21b233d8",
   "metadata": {
    "scrolled": true,
    "tags": []
   },
   "outputs": [
    {
     "name": "stdout",
     "output_type": "stream",
     "text": [
      "cuda:0\n"
     ]
    },
    {
     "data": {
      "text/plain": [
       "''"
      ]
     },
     "execution_count": 15,
     "metadata": {},
     "output_type": "execute_result"
    }
   ],
   "source": [
    "pyro.clear_param_store()\n",
    "prod_slda.train()\n",
    "print(DEVICE)\n",
    "_"
   ]
  },
  {
   "cell_type": "code",
   "execution_count": 16,
   "id": "2cc93883-15f9-411c-98b0-851ee1f1390a",
   "metadata": {},
   "outputs": [],
   "source": [
    "optim = pyro.optim.ClippedAdam(ADAM_ARGS)\n",
    "\n",
    "svi = SVI(\n",
    "    pyro.poutine.scale(prod_slda.model, BATCH_SIZE/len(dl.dataset)),\n",
    "    pyro.poutine.scale(prod_slda.model, BATCH_SIZE/len(dl.dataset)),\n",
    "    optim,\n",
    "    loss = TraceMeanField_ELBO()\n",
    ")"
   ]
  },
  {
   "cell_type": "code",
   "execution_count": 17,
   "id": "4f1bea62-f21c-46d2-9963-9a2b4ee9e90c",
   "metadata": {
    "scrolled": true,
    "tags": []
   },
   "outputs": [
    {
     "name": "stdout",
     "output_type": "stream",
     "text": [
      "                             Trace Shapes:            \n",
      "                              Param Sites:            \n",
      "                 encoder$$$fc1s.doc.weight 128 3098   \n",
      "                   encoder$$$fc1s.doc.bias      128   \n",
      "                      encoder$$$fc2.weight 128  128   \n",
      "                        encoder$$$fc2.bias      128   \n",
      "                     encoder$$$fcmu.weight  10  128   \n",
      "                       encoder$$$fcmu.bias       10   \n",
      "                     encoder$$$fclv.weight  10  128   \n",
      "                       encoder$$$fclv.bias       10   \n",
      "        style_encoder$$$fc1s.casing.weight 128    3   \n",
      "          style_encoder$$$fc1s.casing.bias      128   \n",
      "    style_encoder$$$fc1s.emoji_task.weight 128   20   \n",
      "      style_encoder$$$fc1s.emoji_task.bias      128   \n",
      "     style_encoder$$$fc1s.formality.weight 128    2   \n",
      "       style_encoder$$$fc1s.formality.bias      128   \n",
      "   style_encoder$$$fc1s.pos_bigrams.weight 128  324   \n",
      "     style_encoder$$$fc1s.pos_bigrams.bias      128   \n",
      "     style_encoder$$$fc1s.punc_tags.weight 128   20   \n",
      "       style_encoder$$$fc1s.punc_tags.bias      128   \n",
      "style_encoder$$$fc1s.sentiment_task.weight 128    3   \n",
      "  style_encoder$$$fc1s.sentiment_task.bias      128   \n",
      "                style_encoder$$$fc2.weight 128  768   \n",
      "                  style_encoder$$$fc2.bias      128   \n",
      "               style_encoder$$$fcmu.weight  10  128   \n",
      "                 style_encoder$$$fcmu.bias       10   \n",
      "               style_encoder$$$fclv.weight  10  128   \n",
      "                 style_encoder$$$fclv.bias       10   \n",
      "                             Sample Sites:            \n",
      "                            documents dist        |   \n",
      "                                     value 128    |   \n",
      "                             logtheta dist 128    | 10\n",
      "                                     value 128    | 10\n",
      "                             logkappa dist 128    | 10\n",
      "                                     value 128    | 10\n"
     ]
    }
   ],
   "source": [
    "print(pyro.poutine.trace(prod_slda.guide).get_trace(test_['bow'].to(DEVICE), {k:v.to(DEVICE) for k,v in test_['meta'].items()}).format_shapes())\n"
   ]
  },
  {
   "cell_type": "code",
   "execution_count": 18,
   "id": "7323f1de-8558-482e-91f2-4e05b4c822d4",
   "metadata": {},
   "outputs": [],
   "source": [
    "total_epochs = 0"
   ]
  },
  {
   "cell_type": "code",
   "execution_count": 19,
   "id": "a08d6d3d-f8a6-412d-9abd-3510ccda0c25",
   "metadata": {},
   "outputs": [],
   "source": [
    "NUM_EPOCHS = 50"
   ]
  },
  {
   "cell_type": "code",
   "execution_count": 68,
   "id": "45bda596-0af1-4f57-81ed-fb6527fa1b36",
   "metadata": {},
   "outputs": [],
   "source": [
    "def batch_to_device(batch, device):\n",
    "    bow = batch['bow'].to(device)\n",
    "    meta = {k:v.to(device) for k,v in batch['meta'].items()}\n",
    "    \n",
    "    new_batch = {'bow': bow, 'meta': meta}\n",
    "    \n",
    "    if 'bow_h1' in batch.keys() and 'bow_h2' in batch.keys():\n",
    "        bow_h1 = batch['bow_h1'].to(device)\n",
    "        bow_h2 = batch['bow_h2'].to(device)\n",
    "        \n",
    "        new_batch['bow_h1'] = bow_h1\n",
    "        new_batch['bow_h2'] = bow_h2\n",
    "    \n",
    "    return new_batch"
   ]
  },
  {
   "cell_type": "code",
   "execution_count": 20,
   "id": "e61c37b2-22a8-463a-9c4c-2aaec9f4e538",
   "metadata": {
    "scrolled": true,
    "tags": []
   },
   "outputs": [
    {
     "name": "stdout",
     "output_type": "stream",
     "text": [
      "---TRAINING---\n"
     ]
    },
    {
     "name": "stderr",
     "output_type": "stream",
     "text": [
      "  0%|          | 0/521 [00:00<?, ?it/s]/home/ndeas/envs/test_env/lib/python3.8/site-packages/pyro/util.py:288: UserWarning: Found non-auxiliary vars in guide but not model, consider marking these infer={'is_auxiliary': True}:\n",
      "{'obs_meta_emoji_task', 'obs_meta_formality', 'obs_meta_pos_bigrams', 'obs_meta_casing', 'obs_meta_sentiment_task', 'obs_meta_punc_tags', 'obs_doc'}\n",
      "  warnings.warn(\n",
      "100%|██████████| 521/521 [00:32<00:00, 15.87it/s]\n",
      "100%|██████████| 179/179 [00:12<00:00, 14.00it/s]\n"
     ]
    },
    {
     "name": "stdout",
     "output_type": "stream",
     "text": [
      "Epoch 0: 17970.592\n",
      "Epoch 0: Eval: 6013.945\n"
     ]
    },
    {
     "name": "stderr",
     "output_type": "stream",
     "text": [
      "100%|██████████| 521/521 [00:45<00:00, 11.45it/s]\n",
      "100%|██████████| 179/179 [00:12<00:00, 13.77it/s]\n"
     ]
    },
    {
     "name": "stdout",
     "output_type": "stream",
     "text": [
      "Epoch 1: 17963.382\n",
      "Epoch 1: Eval: 6006.773\n"
     ]
    },
    {
     "name": "stderr",
     "output_type": "stream",
     "text": [
      "100%|██████████| 521/521 [00:55<00:00,  9.47it/s]\n",
      "100%|██████████| 179/179 [00:22<00:00,  8.10it/s]\n"
     ]
    },
    {
     "name": "stdout",
     "output_type": "stream",
     "text": [
      "Epoch 2: 17940.314\n",
      "Epoch 2: Eval: 6005.278\n"
     ]
    },
    {
     "name": "stderr",
     "output_type": "stream",
     "text": [
      "100%|██████████| 521/521 [01:13<00:00,  7.09it/s]\n",
      "100%|██████████| 179/179 [00:15<00:00, 11.34it/s]\n"
     ]
    },
    {
     "name": "stdout",
     "output_type": "stream",
     "text": [
      "Epoch 3: 17919.088\n",
      "Epoch 3: Eval: 6000.394\n"
     ]
    },
    {
     "name": "stderr",
     "output_type": "stream",
     "text": [
      "100%|██████████| 521/521 [00:40<00:00, 12.94it/s]\n",
      "100%|██████████| 179/179 [00:12<00:00, 14.45it/s]\n"
     ]
    },
    {
     "name": "stdout",
     "output_type": "stream",
     "text": [
      "Epoch 4: 17893.937\n",
      "Epoch 4: Eval: 5985.915\n"
     ]
    },
    {
     "name": "stderr",
     "output_type": "stream",
     "text": [
      "100%|██████████| 521/521 [00:33<00:00, 15.33it/s]\n",
      "100%|██████████| 179/179 [00:11<00:00, 16.06it/s]\n"
     ]
    },
    {
     "name": "stdout",
     "output_type": "stream",
     "text": [
      "Epoch 5: 17866.533\n",
      "Epoch 5: Eval: 5984.000\n"
     ]
    },
    {
     "name": "stderr",
     "output_type": "stream",
     "text": [
      "100%|██████████| 521/521 [00:35<00:00, 14.52it/s]\n",
      "100%|██████████| 179/179 [00:15<00:00, 11.67it/s]\n"
     ]
    },
    {
     "name": "stdout",
     "output_type": "stream",
     "text": [
      "Epoch 6: 17835.479\n",
      "Epoch 6: Eval: 5964.155\n"
     ]
    },
    {
     "name": "stderr",
     "output_type": "stream",
     "text": [
      "100%|██████████| 521/521 [00:44<00:00, 11.84it/s]\n",
      "100%|██████████| 179/179 [00:14<00:00, 12.07it/s]\n"
     ]
    },
    {
     "name": "stdout",
     "output_type": "stream",
     "text": [
      "Epoch 7: 17769.914\n",
      "Epoch 7: Eval: 5936.017\n"
     ]
    },
    {
     "name": "stderr",
     "output_type": "stream",
     "text": [
      "100%|██████████| 521/521 [00:42<00:00, 12.14it/s]\n",
      "100%|██████████| 179/179 [00:14<00:00, 12.65it/s]\n"
     ]
    },
    {
     "name": "stdout",
     "output_type": "stream",
     "text": [
      "Epoch 8: 17720.876\n",
      "Epoch 8: Eval: 5911.568\n"
     ]
    },
    {
     "name": "stderr",
     "output_type": "stream",
     "text": [
      "100%|██████████| 521/521 [00:36<00:00, 14.09it/s]\n",
      "100%|██████████| 179/179 [00:11<00:00, 15.00it/s]\n"
     ]
    },
    {
     "name": "stdout",
     "output_type": "stream",
     "text": [
      "Epoch 9: 17650.103\n",
      "Epoch 9: Eval: 5893.457\n"
     ]
    },
    {
     "name": "stderr",
     "output_type": "stream",
     "text": [
      "100%|██████████| 521/521 [00:34<00:00, 15.19it/s]\n",
      "100%|██████████| 179/179 [00:11<00:00, 15.55it/s]\n"
     ]
    },
    {
     "name": "stdout",
     "output_type": "stream",
     "text": [
      "Epoch 10: 17563.911\n",
      "Epoch 10: Eval: 5857.679\n"
     ]
    },
    {
     "name": "stderr",
     "output_type": "stream",
     "text": [
      "100%|██████████| 521/521 [00:33<00:00, 15.44it/s]\n",
      "100%|██████████| 179/179 [00:11<00:00, 15.52it/s]\n"
     ]
    },
    {
     "name": "stdout",
     "output_type": "stream",
     "text": [
      "Epoch 11: 17468.618\n",
      "Epoch 11: Eval: 5835.173\n"
     ]
    },
    {
     "name": "stderr",
     "output_type": "stream",
     "text": [
      "100%|██████████| 521/521 [00:33<00:00, 15.45it/s]\n",
      "100%|██████████| 179/179 [00:11<00:00, 15.24it/s]\n"
     ]
    },
    {
     "name": "stdout",
     "output_type": "stream",
     "text": [
      "Epoch 12: 17344.274\n",
      "Epoch 12: Eval: 5786.883\n"
     ]
    },
    {
     "name": "stderr",
     "output_type": "stream",
     "text": [
      "100%|██████████| 521/521 [00:34<00:00, 14.89it/s]\n",
      "100%|██████████| 179/179 [00:11<00:00, 15.69it/s]\n"
     ]
    },
    {
     "name": "stdout",
     "output_type": "stream",
     "text": [
      "Epoch 13: 17224.919\n",
      "Epoch 13: Eval: 5733.703\n"
     ]
    },
    {
     "name": "stderr",
     "output_type": "stream",
     "text": [
      "100%|██████████| 521/521 [00:33<00:00, 15.48it/s]\n",
      "100%|██████████| 179/179 [00:11<00:00, 15.31it/s]\n"
     ]
    },
    {
     "name": "stdout",
     "output_type": "stream",
     "text": [
      "Epoch 14: 17080.785\n",
      "Epoch 14: Eval: 5677.069\n"
     ]
    },
    {
     "name": "stderr",
     "output_type": "stream",
     "text": [
      "100%|██████████| 521/521 [00:34<00:00, 15.01it/s]\n",
      "100%|██████████| 179/179 [00:11<00:00, 15.97it/s]\n"
     ]
    },
    {
     "name": "stdout",
     "output_type": "stream",
     "text": [
      "Epoch 15: 16928.795\n",
      "Epoch 15: Eval: 5630.107\n"
     ]
    },
    {
     "name": "stderr",
     "output_type": "stream",
     "text": [
      "100%|██████████| 521/521 [00:34<00:00, 15.30it/s]\n",
      "100%|██████████| 179/179 [00:11<00:00, 15.29it/s]\n"
     ]
    },
    {
     "name": "stdout",
     "output_type": "stream",
     "text": [
      "Epoch 16: 16796.902\n",
      "Epoch 16: Eval: 5581.431\n"
     ]
    },
    {
     "name": "stderr",
     "output_type": "stream",
     "text": [
      "100%|██████████| 521/521 [00:33<00:00, 15.40it/s]\n",
      "100%|██████████| 179/179 [00:11<00:00, 15.60it/s]\n"
     ]
    },
    {
     "name": "stdout",
     "output_type": "stream",
     "text": [
      "Epoch 17: 16667.599\n",
      "Epoch 17: Eval: 5562.878\n"
     ]
    },
    {
     "name": "stderr",
     "output_type": "stream",
     "text": [
      "100%|██████████| 521/521 [00:36<00:00, 14.18it/s]\n",
      "100%|██████████| 179/179 [00:12<00:00, 14.63it/s]\n"
     ]
    },
    {
     "name": "stdout",
     "output_type": "stream",
     "text": [
      "Epoch 18: 16578.726\n",
      "Epoch 18: Eval: 5528.892\n"
     ]
    },
    {
     "name": "stderr",
     "output_type": "stream",
     "text": [
      "100%|██████████| 521/521 [00:36<00:00, 14.32it/s]\n",
      "100%|██████████| 179/179 [00:12<00:00, 13.85it/s]\n"
     ]
    },
    {
     "name": "stdout",
     "output_type": "stream",
     "text": [
      "Epoch 19: 16506.918\n",
      "Epoch 19: Eval: 5505.629\n"
     ]
    },
    {
     "name": "stderr",
     "output_type": "stream",
     "text": [
      "100%|██████████| 521/521 [00:35<00:00, 14.63it/s]\n",
      "100%|██████████| 179/179 [00:12<00:00, 14.87it/s]\n"
     ]
    },
    {
     "name": "stdout",
     "output_type": "stream",
     "text": [
      "Epoch 20: 16438.109\n",
      "Epoch 20: Eval: 5489.253\n"
     ]
    },
    {
     "name": "stderr",
     "output_type": "stream",
     "text": [
      "100%|██████████| 521/521 [00:36<00:00, 14.15it/s]\n",
      "100%|██████████| 179/179 [00:13<00:00, 13.00it/s]\n"
     ]
    },
    {
     "name": "stdout",
     "output_type": "stream",
     "text": [
      "Epoch 21: 16398.285\n",
      "Epoch 21: Eval: 5473.627\n"
     ]
    },
    {
     "name": "stderr",
     "output_type": "stream",
     "text": [
      "100%|██████████| 521/521 [00:39<00:00, 13.06it/s]\n",
      "100%|██████████| 179/179 [00:11<00:00, 16.13it/s]\n"
     ]
    },
    {
     "name": "stdout",
     "output_type": "stream",
     "text": [
      "Epoch 22: 16366.799\n",
      "Epoch 22: Eval: 5474.234\n"
     ]
    },
    {
     "name": "stderr",
     "output_type": "stream",
     "text": [
      "100%|██████████| 521/521 [00:33<00:00, 15.78it/s]\n",
      "100%|██████████| 179/179 [00:10<00:00, 16.50it/s]\n"
     ]
    },
    {
     "name": "stdout",
     "output_type": "stream",
     "text": [
      "Epoch 23: 16343.297\n",
      "Epoch 23: Eval: 5458.933\n"
     ]
    },
    {
     "name": "stderr",
     "output_type": "stream",
     "text": [
      "100%|██████████| 521/521 [00:38<00:00, 13.57it/s]\n",
      "100%|██████████| 179/179 [00:12<00:00, 14.49it/s]\n"
     ]
    },
    {
     "name": "stdout",
     "output_type": "stream",
     "text": [
      "Epoch 24: 16321.000\n",
      "Epoch 24: Eval: 5454.762\n"
     ]
    },
    {
     "name": "stderr",
     "output_type": "stream",
     "text": [
      "100%|██████████| 521/521 [00:34<00:00, 14.99it/s]\n",
      "100%|██████████| 179/179 [00:32<00:00,  5.54it/s]\n"
     ]
    },
    {
     "name": "stdout",
     "output_type": "stream",
     "text": [
      "Epoch 25: 16306.552\n",
      "Epoch 25: Eval: 5452.688\n"
     ]
    },
    {
     "name": "stderr",
     "output_type": "stream",
     "text": [
      "100%|██████████| 521/521 [01:45<00:00,  4.92it/s]\n",
      "100%|██████████| 179/179 [00:39<00:00,  4.58it/s]\n"
     ]
    },
    {
     "name": "stdout",
     "output_type": "stream",
     "text": [
      "Epoch 26: 16297.938\n",
      "Epoch 26: Eval: 5449.164\n"
     ]
    },
    {
     "name": "stderr",
     "output_type": "stream",
     "text": [
      "100%|██████████| 521/521 [02:18<00:00,  3.77it/s]\n",
      "100%|██████████| 179/179 [00:29<00:00,  6.08it/s]\n"
     ]
    },
    {
     "name": "stdout",
     "output_type": "stream",
     "text": [
      "Epoch 27: 16289.799\n",
      "Epoch 27: Eval: 5443.886\n"
     ]
    },
    {
     "name": "stderr",
     "output_type": "stream",
     "text": [
      "100%|██████████| 521/521 [01:48<00:00,  4.82it/s]\n",
      "100%|██████████| 179/179 [00:32<00:00,  5.57it/s]\n"
     ]
    },
    {
     "name": "stdout",
     "output_type": "stream",
     "text": [
      "Epoch 28: 16286.235\n",
      "Epoch 28: Eval: 5444.094\n"
     ]
    },
    {
     "name": "stderr",
     "output_type": "stream",
     "text": [
      "100%|██████████| 521/521 [03:03<00:00,  2.84it/s]\n",
      "100%|██████████| 179/179 [00:41<00:00,  4.31it/s]\n"
     ]
    },
    {
     "name": "stdout",
     "output_type": "stream",
     "text": [
      "Epoch 29: 16282.168\n",
      "Epoch 29: Eval: 5443.586\n"
     ]
    },
    {
     "name": "stderr",
     "output_type": "stream",
     "text": [
      "100%|██████████| 521/521 [01:40<00:00,  5.20it/s]\n",
      "100%|██████████| 179/179 [00:29<00:00,  5.97it/s]\n"
     ]
    },
    {
     "name": "stdout",
     "output_type": "stream",
     "text": [
      "Epoch 30: 16278.648\n",
      "Epoch 30: Eval: 5444.456\n"
     ]
    },
    {
     "name": "stderr",
     "output_type": "stream",
     "text": [
      "100%|██████████| 521/521 [02:12<00:00,  3.94it/s]\n",
      "100%|██████████| 179/179 [00:37<00:00,  4.78it/s]\n"
     ]
    },
    {
     "name": "stdout",
     "output_type": "stream",
     "text": [
      "Epoch 31: 16279.935\n",
      "Epoch 31: Eval: 5444.533\n"
     ]
    },
    {
     "name": "stderr",
     "output_type": "stream",
     "text": [
      "100%|██████████| 521/521 [01:54<00:00,  4.55it/s]\n",
      "100%|██████████| 179/179 [00:32<00:00,  5.57it/s]\n"
     ]
    },
    {
     "name": "stdout",
     "output_type": "stream",
     "text": [
      "Epoch 32: 16279.418\n",
      "Epoch 32: Eval: 5443.090\n"
     ]
    },
    {
     "name": "stderr",
     "output_type": "stream",
     "text": [
      "100%|██████████| 521/521 [02:17<00:00,  3.80it/s]\n",
      "100%|██████████| 179/179 [01:04<00:00,  2.76it/s]\n"
     ]
    },
    {
     "name": "stdout",
     "output_type": "stream",
     "text": [
      "Epoch 33: 16278.235\n",
      "Epoch 33: Eval: 5443.817\n"
     ]
    },
    {
     "name": "stderr",
     "output_type": "stream",
     "text": [
      "100%|██████████| 521/521 [02:03<00:00,  4.22it/s]\n",
      "100%|██████████| 179/179 [00:29<00:00,  5.97it/s]\n"
     ]
    },
    {
     "name": "stdout",
     "output_type": "stream",
     "text": [
      "Epoch 34: 16276.408\n",
      "Epoch 34: Eval: 5443.307\n"
     ]
    },
    {
     "name": "stderr",
     "output_type": "stream",
     "text": [
      "100%|██████████| 521/521 [00:43<00:00, 12.02it/s]\n",
      "100%|██████████| 179/179 [00:11<00:00, 15.21it/s]\n"
     ]
    },
    {
     "name": "stdout",
     "output_type": "stream",
     "text": [
      "Epoch 35: 16277.287\n",
      "Epoch 35: Eval: 5444.209\n"
     ]
    },
    {
     "name": "stderr",
     "output_type": "stream",
     "text": [
      "100%|██████████| 521/521 [00:34<00:00, 15.29it/s]\n",
      "100%|██████████| 179/179 [00:11<00:00, 15.51it/s]\n"
     ]
    },
    {
     "name": "stdout",
     "output_type": "stream",
     "text": [
      "Epoch 36: 16275.490\n",
      "Epoch 36: Eval: 5442.510\n"
     ]
    },
    {
     "name": "stderr",
     "output_type": "stream",
     "text": [
      "100%|██████████| 521/521 [00:33<00:00, 15.35it/s]\n",
      "100%|██████████| 179/179 [00:11<00:00, 16.00it/s]\n"
     ]
    },
    {
     "name": "stdout",
     "output_type": "stream",
     "text": [
      "Epoch 37: 16275.297\n",
      "Epoch 37: Eval: 5441.645\n"
     ]
    },
    {
     "name": "stderr",
     "output_type": "stream",
     "text": [
      "100%|██████████| 521/521 [00:34<00:00, 15.24it/s]\n",
      "100%|██████████| 179/179 [00:11<00:00, 15.24it/s]\n"
     ]
    },
    {
     "name": "stdout",
     "output_type": "stream",
     "text": [
      "Epoch 38: 16274.825\n",
      "Epoch 38: Eval: 5441.549\n"
     ]
    },
    {
     "name": "stderr",
     "output_type": "stream",
     "text": [
      "100%|██████████| 521/521 [00:34<00:00, 15.26it/s]\n",
      "100%|██████████| 179/179 [00:11<00:00, 15.51it/s]\n"
     ]
    },
    {
     "name": "stdout",
     "output_type": "stream",
     "text": [
      "Epoch 39: 16273.300\n",
      "Epoch 39: Eval: 5440.169\n"
     ]
    },
    {
     "name": "stderr",
     "output_type": "stream",
     "text": [
      "100%|██████████| 521/521 [00:35<00:00, 14.79it/s]\n",
      "100%|██████████| 179/179 [00:12<00:00, 14.29it/s]\n"
     ]
    },
    {
     "name": "stdout",
     "output_type": "stream",
     "text": [
      "Epoch 40: 16273.595\n",
      "Epoch 40: Eval: 5442.306\n"
     ]
    },
    {
     "name": "stderr",
     "output_type": "stream",
     "text": [
      "100%|██████████| 521/521 [00:36<00:00, 14.18it/s]\n",
      "100%|██████████| 179/179 [00:12<00:00, 13.78it/s]\n"
     ]
    },
    {
     "name": "stdout",
     "output_type": "stream",
     "text": [
      "Epoch 41: 16274.655\n",
      "Epoch 41: Eval: 5440.602\n"
     ]
    },
    {
     "name": "stderr",
     "output_type": "stream",
     "text": [
      "100%|██████████| 521/521 [00:35<00:00, 14.87it/s]\n",
      "100%|██████████| 179/179 [00:11<00:00, 15.15it/s]\n"
     ]
    },
    {
     "name": "stdout",
     "output_type": "stream",
     "text": [
      "Epoch 42: 16273.662\n",
      "Epoch 42: Eval: 5440.521\n"
     ]
    },
    {
     "name": "stderr",
     "output_type": "stream",
     "text": [
      "100%|██████████| 521/521 [00:36<00:00, 14.09it/s]\n",
      "100%|██████████| 179/179 [00:13<00:00, 13.61it/s]\n"
     ]
    },
    {
     "name": "stdout",
     "output_type": "stream",
     "text": [
      "Epoch 43: 16271.106\n",
      "Epoch 43: Eval: 5441.959\n"
     ]
    },
    {
     "name": "stderr",
     "output_type": "stream",
     "text": [
      "100%|██████████| 521/521 [00:41<00:00, 12.70it/s]\n",
      "100%|██████████| 179/179 [00:10<00:00, 17.51it/s]\n"
     ]
    },
    {
     "name": "stdout",
     "output_type": "stream",
     "text": [
      "Epoch 44: 16273.035\n",
      "Epoch 44: Eval: 5441.670\n"
     ]
    },
    {
     "name": "stderr",
     "output_type": "stream",
     "text": [
      "100%|██████████| 521/521 [00:38<00:00, 13.36it/s]\n",
      "100%|██████████| 179/179 [00:13<00:00, 13.57it/s]\n"
     ]
    },
    {
     "name": "stdout",
     "output_type": "stream",
     "text": [
      "Epoch 45: 16270.617\n",
      "Epoch 45: Eval: 5440.828\n"
     ]
    },
    {
     "name": "stderr",
     "output_type": "stream",
     "text": [
      "100%|██████████| 521/521 [00:38<00:00, 13.40it/s]\n",
      "100%|██████████| 179/179 [00:12<00:00, 14.40it/s]\n"
     ]
    },
    {
     "name": "stdout",
     "output_type": "stream",
     "text": [
      "Epoch 46: 16271.109\n",
      "Epoch 46: Eval: 5440.434\n"
     ]
    },
    {
     "name": "stderr",
     "output_type": "stream",
     "text": [
      "100%|██████████| 521/521 [00:34<00:00, 15.01it/s]\n",
      "100%|██████████| 179/179 [00:12<00:00, 14.78it/s]\n"
     ]
    },
    {
     "name": "stdout",
     "output_type": "stream",
     "text": [
      "Epoch 47: 16271.466\n",
      "Epoch 47: Eval: 5439.123\n"
     ]
    },
    {
     "name": "stderr",
     "output_type": "stream",
     "text": [
      "100%|██████████| 521/521 [00:34<00:00, 15.16it/s]\n",
      "100%|██████████| 179/179 [00:11<00:00, 15.23it/s]\n"
     ]
    },
    {
     "name": "stdout",
     "output_type": "stream",
     "text": [
      "Epoch 48: 16269.560\n",
      "Epoch 48: Eval: 5440.630\n"
     ]
    },
    {
     "name": "stderr",
     "output_type": "stream",
     "text": [
      "100%|██████████| 521/521 [00:34<00:00, 15.02it/s]\n",
      "100%|██████████| 179/179 [00:11<00:00, 15.84it/s]"
     ]
    },
    {
     "name": "stdout",
     "output_type": "stream",
     "text": [
      "Epoch 49: 16270.258\n",
      "Epoch 49: Eval: 5437.915\n"
     ]
    },
    {
     "name": "stderr",
     "output_type": "stream",
     "text": [
      "\n"
     ]
    }
   ],
   "source": [
    "train_elbo = []\n",
    "val_elbo = []\n",
    "\n",
    "print(\"---TRAINING---\")\n",
    "for epoch in range(NUM_EPOCHS):\n",
    "    \n",
    "    epoch_elbo = 0.\n",
    "    prod_slda.train()\n",
    "    for batch in tqdm(dl):\n",
    "        \n",
    "        batch = batch_to_device(batch, DEVICE)\n",
    "        \n",
    "        bow = batch['bow']\n",
    "        meta = batch['meta']\n",
    "        \n",
    "        epoch_elbo += svi.step(bow, meta)\n",
    "\n",
    "    eval_elbo = 0\n",
    "    prod_slda.eval()\n",
    "    with torch.no_grad():\n",
    "        for batch in tqdm(eval_dl):\n",
    "            \n",
    "            batch = batch_to_device(batch)\n",
    "            \n",
    "            bow = batch['bow']\n",
    "            meta = batch['meta']\n",
    "    \n",
    "            eval_elbo += svi.evaluate_loss(bow, meta)\n",
    "    \n",
    "        \n",
    "    print(f'Epoch {epoch}: {epoch_elbo:.3f}')\n",
    "    print(f'Epoch {epoch}: Eval: {eval_elbo:.3f}')\n",
    "    \n",
    "    train_elbo.append(epoch_elbo)\n",
    "    val_elbo.append(eval_elbo)\n",
    "    total_epochs +=1"
   ]
  },
  {
   "cell_type": "code",
   "execution_count": 25,
   "id": "310e69d2-833d-41c4-a81c-e1b92c3f8e19",
   "metadata": {},
   "outputs": [
    {
     "data": {
      "image/png": "[encoded data removed]",
      "text/plain": [
       "<Figure size 640x480 with 1 Axes>"
      ]
     },
     "metadata": {},
     "output_type": "display_data"
    }
   ],
   "source": [
    "plt.plot(range(len(train_elbo)), [e/len(dl.dataset) for e in train_elbo], label = 'In-Sample')\n",
    "plt.plot(range(len(val_elbo)), [e/len(eval_dl.dataset) for e in val_elbo], label = 'Out-Sample')\n",
    "\n",
    "plt.legend()\n",
    "plt.xlabel('# Iterations')\n",
    "plt.ylabel('ELBO')\n",
    "\n",
    "plt.savefig('loss_plot_indep.png', dpi = 600, facecolor = None)\n"
   ]
  },
  {
   "cell_type": "markdown",
   "id": "bedb88f5-5208-44eb-a101-bc489ddcc988",
   "metadata": {},
   "source": [
    "# Examine Topics "
   ]
  },
  {
   "cell_type": "code",
   "execution_count": 49,
   "id": "58cf7aa1-d1d4-4436-92c2-cf204af3288c",
   "metadata": {},
   "outputs": [],
   "source": [
    "tbeta = prod_slda.beta_meta()['formality']"
   ]
  },
  {
   "cell_type": "code",
   "execution_count": 50,
   "id": "9ca5e99a-a589-40bf-abd0-5016f747de15",
   "metadata": {},
   "outputs": [],
   "source": [
    "top_terms = (-tbeta).sort().indices[:,:10].numpy()\n",
    "top_weights = -(-tbeta).sort().values[:,:10]"
   ]
  },
  {
   "cell_type": "code",
   "execution_count": 51,
   "id": "e6eb32bf-3c05-435b-a150-be741f02c1dc",
   "metadata": {},
   "outputs": [
    {
     "data": {
      "text/plain": [
       "tensor([[ -11084.0586,  -20374.3613],\n",
       "        [  37257.0391,   26151.0312],\n",
       "        [-142690.5625, -149046.4219],\n",
       "        [ -82477.7109,  -82660.1016],\n",
       "        [ -16607.1289,  -30520.9824],\n",
       "        [   5274.2495,  -10392.5977],\n",
       "        [ 117328.8281,  116500.9297],\n",
       "        [ 180576.1875,  166553.7344],\n",
       "        [  -1815.5582,   -5198.7021],\n",
       "        [  20806.4004,    6787.3848]])"
      ]
     },
     "execution_count": 51,
     "metadata": {},
     "output_type": "execute_result"
    }
   ],
   "source": [
    "top_weights"
   ]
  },
  {
   "cell_type": "code",
   "execution_count": 52,
   "id": "d5899b92-6851-4150-8bbd-0a53b54975ac",
   "metadata": {},
   "outputs": [],
   "source": [
    "top_words = defaultdict(list)\n",
    "for i, term_l in enumerate(top_terms):\n",
    "    top_words['topic ' + str(i)] = [IDX_TO_TERM[term_id] for term_id in term_l]"
   ]
  },
  {
   "cell_type": "code",
   "execution_count": 53,
   "id": "055abe1b-2295-4e1e-a097-8fad192d7fdf",
   "metadata": {},
   "outputs": [
    {
     "data": {
      "text/html": [
       "<div>\n",
       "<style scoped>\n",
       "    .dataframe tbody tr th:only-of-type {\n",
       "        vertical-align: middle;\n",
       "    }\n",
       "\n",
       "    .dataframe tbody tr th {\n",
       "        vertical-align: top;\n",
       "    }\n",
       "\n",
       "    .dataframe thead th {\n",
       "        text-align: right;\n",
       "    }\n",
       "</style>\n",
       "<table border=\"1\" class=\"dataframe\">\n",
       "  <thead>\n",
       "    <tr style=\"text-align: right;\">\n",
       "      <th></th>\n",
       "      <th>0</th>\n",
       "      <th>1</th>\n",
       "    </tr>\n",
       "  </thead>\n",
       "  <tbody>\n",
       "    <tr>\n",
       "      <th>topic 0</th>\n",
       "      <td>000</td>\n",
       "      <td>00</td>\n",
       "    </tr>\n",
       "    <tr>\n",
       "      <th>topic 1</th>\n",
       "      <td>000</td>\n",
       "      <td>00</td>\n",
       "    </tr>\n",
       "    <tr>\n",
       "      <th>topic 2</th>\n",
       "      <td>000</td>\n",
       "      <td>00</td>\n",
       "    </tr>\n",
       "    <tr>\n",
       "      <th>topic 3</th>\n",
       "      <td>000</td>\n",
       "      <td>00</td>\n",
       "    </tr>\n",
       "    <tr>\n",
       "      <th>topic 4</th>\n",
       "      <td>000</td>\n",
       "      <td>00</td>\n",
       "    </tr>\n",
       "    <tr>\n",
       "      <th>topic 5</th>\n",
       "      <td>000</td>\n",
       "      <td>00</td>\n",
       "    </tr>\n",
       "    <tr>\n",
       "      <th>topic 6</th>\n",
       "      <td>000</td>\n",
       "      <td>00</td>\n",
       "    </tr>\n",
       "    <tr>\n",
       "      <th>topic 7</th>\n",
       "      <td>000</td>\n",
       "      <td>00</td>\n",
       "    </tr>\n",
       "    <tr>\n",
       "      <th>topic 8</th>\n",
       "      <td>000</td>\n",
       "      <td>00</td>\n",
       "    </tr>\n",
       "    <tr>\n",
       "      <th>topic 9</th>\n",
       "      <td>000</td>\n",
       "      <td>00</td>\n",
       "    </tr>\n",
       "  </tbody>\n",
       "</table>\n",
       "</div>"
      ],
      "text/plain": [
       "           0   1\n",
       "topic 0  000  00\n",
       "topic 1  000  00\n",
       "topic 2  000  00\n",
       "topic 3  000  00\n",
       "topic 4  000  00\n",
       "topic 5  000  00\n",
       "topic 6  000  00\n",
       "topic 7  000  00\n",
       "topic 8  000  00\n",
       "topic 9  000  00"
      ]
     },
     "execution_count": 53,
     "metadata": {},
     "output_type": "execute_result"
    }
   ],
   "source": [
    "pd.DataFrame(top_words).T"
   ]
  },
  {
   "cell_type": "code",
   "execution_count": 582,
   "id": "007ec718-0f90-4f92-9296-79d1b24ffff5",
   "metadata": {},
   "outputs": [],
   "source": [
    "idx_1 = vectorizer.vocabulary_['paper']\n",
    "idx_2 = vectorizer.vocabulary_['regards']"
   ]
  },
  {
   "cell_type": "code",
   "execution_count": 550,
   "id": "7708b331-51fc-488f-8949-73cc489170dd",
   "metadata": {},
   "outputs": [
    {
     "data": {
      "text/plain": [
       "(113, 1079)"
      ]
     },
     "execution_count": 550,
     "metadata": {},
     "output_type": "execute_result"
    }
   ],
   "source": [
    "(bows['training'][:, idx_1] >= 1).sum(), (bows['training'][:, idx_2] >= 1).sum()"
   ]
  },
  {
   "cell_type": "code",
   "execution_count": 551,
   "id": "8e26b28d-33c0-4cb8-a229-2828643d4167",
   "metadata": {},
   "outputs": [
    {
     "data": {
      "text/plain": [
       "9"
      ]
     },
     "execution_count": 551,
     "metadata": {},
     "output_type": "execute_result"
    }
   ],
   "source": [
    "((bows['training'][:, idx_1] + bows['training'][:, idx_2]).toarray().squeeze() >= 2).sum()"
   ]
  },
  {
   "cell_type": "code",
   "execution_count": 54,
   "id": "f0e767b9-c933-448b-8dde-10d957c2d8c4",
   "metadata": {},
   "outputs": [],
   "source": [
    "def top_beta_document(model, vectorizer, top_k=20):\n",
    "    betas_document = model.beta_document()\n",
    "    features_to_betas = {}\n",
    "    idx_to_name = {v:k for k,v in vectorizer.vocabulary_.items()}\n",
    "    for feature, logits in betas_document.items():\n",
    "        features_to_betas[feature] = []\n",
    "        num_features = logits.shape[0]\n",
    "        top_results = torch.topk(logits, top_k, dim=-1)\n",
    "        \n",
    "        ids = top_results.indices.cpu().numpy()\n",
    "        values = top_results.values.cpu().numpy()\n",
    "        \n",
    "        for i in tqdm(range(num_features)):\n",
    "            features_to_betas[feature].append({'values':values[i], 'top':[idx_to_name[idx] for idx in ids[i]]})\n",
    "                \n",
    "    return features_to_betas\n",
    "\n",
    "def top_beta_meta(model, meta_feature_to_names, top_k=20):\n",
    "    betas_metas = model.beta_meta()\n",
    "    features_to_betas = {}\n",
    "    for feature, logits in betas_metas.items():\n",
    "        idx_to_name = {i:k for i,k in enumerate(meta_feature_to_names[feature])}\n",
    "        features_to_betas[feature] = []\n",
    "        num_features = logits.shape[0]\n",
    "        top_results = torch.topk(logits, top_k, dim=-1)\n",
    "        ids = top_results.indices.cpu().numpy()\n",
    "        values = top_results.values.cpu().numpy()\n",
    "        for i in tqdm(range(num_features)):\n",
    "            features_to_betas[feature].append({'values':values[i], 'top':[idx_to_name[idx] for idx in ids[i]]})\n",
    "        \n",
    "    return features_to_betas "
   ]
  },
  {
   "cell_type": "code",
   "execution_count": 55,
   "id": "a72b1e4b-b50d-476e-a0d9-71f2a14e3489",
   "metadata": {},
   "outputs": [
    {
     "name": "stderr",
     "output_type": "stream",
     "text": [
      "100%|██████████| 10/10 [00:00<00:00, 28767.52it/s]\n"
     ]
    },
    {
     "ename": "NameError",
     "evalue": "name 'meta_feature_to_names' is not defined",
     "output_type": "error",
     "traceback": [
      "\u001b[0;31m---------------------------------------------------------------------------\u001b[0m",
      "\u001b[0;31mNameError\u001b[0m                                 Traceback (most recent call last)",
      "Cell \u001b[0;32mIn [55], line 2\u001b[0m\n\u001b[1;32m      1\u001b[0m top_words_per_latent \u001b[38;5;241m=\u001b[39m top_beta_document(prod_slda, vectorizer,  top_k\u001b[38;5;241m=\u001b[39m\u001b[38;5;241m20\u001b[39m)\n\u001b[0;32m----> 2\u001b[0m top_meta_per_latent \u001b[38;5;241m=\u001b[39m top_beta_meta(prod_slda, \u001b[43mmeta_feature_to_names\u001b[49m, top_k\u001b[38;5;241m=\u001b[39m\u001b[38;5;241m20\u001b[39m)\n\u001b[1;32m      4\u001b[0m \u001b[38;5;28mprint\u001b[39m(\u001b[38;5;124m'\u001b[39m\u001b[38;5;124mDocument Term Info\u001b[39m\u001b[38;5;124m'\u001b[39m)\n\u001b[1;32m      5\u001b[0m \u001b[38;5;28;01mfor\u001b[39;00m latent, top \u001b[38;5;129;01min\u001b[39;00m top_words_per_latent\u001b[38;5;241m.\u001b[39mitems():\n",
      "\u001b[0;31mNameError\u001b[0m: name 'meta_feature_to_names' is not defined"
     ]
    }
   ],
   "source": [
    "top_words_per_latent = top_beta_document(prod_slda, vectorizer,  top_k=20)\n",
    "top_meta_per_latent = top_beta_meta(prod_slda, meta_feature_to_names, top_k=20)\n",
    "\n",
    "print('Document Term Info')\n",
    "for latent, top in top_words_per_latent.items():\n",
    "    print(f'\\t{latent} ({len(top)}):')\n",
    "    for i, results in enumerate(top):\n",
    "        print(f'\\t\\t {latent} ({i}):\\n{results[\"top\"]}')\n",
    "        print()\n",
    "\n",
    "print('Meta Var Info')\n",
    "for latent, top in top_meta_per_latent.items():\n",
    "\n",
    "    print(f'\\t{latent} ({len(top)}):')\n",
    "    for i, results in enumerate(top):\n",
    "        print(f'\\t\\t {latent} ({i}):\\n{results[\"top\"]}')\n",
    "        print()"
   ]
  },
  {
   "cell_type": "code",
   "execution_count": null,
   "id": "5480600f-6e2f-4838-8c5a-8363c334bce4",
   "metadata": {},
   "outputs": [],
   "source": []
  },
  {
   "cell_type": "code",
   "execution_count": null,
   "id": "3caa278c-6a39-48a7-a8fc-8e8760ea68ee",
   "metadata": {},
   "outputs": [],
   "source": []
  },
  {
   "cell_type": "code",
   "execution_count": null,
   "id": "533b23fb-ab53-4dff-a3db-fcdac8b23a64",
   "metadata": {},
   "outputs": [],
   "source": []
  },
  {
   "cell_type": "code",
   "execution_count": 27,
   "id": "fcfcab56-571b-406f-9609-23bdf0593b3b",
   "metadata": {},
   "outputs": [
    {
     "name": "stdout",
     "output_type": "stream",
     "text": [
      "pos_bigrams tensor([[0.0031, 0.0031, 0.0028,  ..., 0.0043, 0.0032, 0.0028],\n",
      "        [0.0031, 0.0037, 0.0031,  ..., 0.0047, 0.0034, 0.0025],\n",
      "        [0.0031, 0.0039, 0.0028,  ..., 0.0042, 0.0032, 0.0029],\n",
      "        [0.0029, 0.0031, 0.0022,  ..., 0.0027, 0.0023, 0.0033],\n",
      "        [0.0025, 0.0027, 0.0018,  ..., 0.0022, 0.0019, 0.0033]])\n"
     ]
    }
   ],
   "source": [
    "for key, value in prod_slda.beta_meta().items():\n",
    "    print(key, F.softmax(value,-1))"
   ]
  },
  {
   "cell_type": "code",
   "execution_count": 56,
   "id": "7b77b68e-c765-440f-aed3-62cdb37d5f6f",
   "metadata": {},
   "outputs": [
    {
     "name": "stdout",
     "output_type": "stream",
     "text": [
      "Saved to /mnt/swordfish-pool2/ndeas/prob_models/results2/pos_bigrams_formality_emoji_task_casing_punc_tags_sentiment_task/2023-12-15_00_23_06/model_epoch50_5437.914863586426.pt\n"
     ]
    }
   ],
   "source": [
    "path = os.path.join(PATH, f'model_epoch{total_epochs}_{val_elbo[-1]}.pt')\n",
    "prod_slda.eval()\n",
    "torch.save(prod_slda, path)\n",
    "# pyro.clear_param_store()\n",
    "# prod_slda = torch.load(path)\n",
    "print(f'Saved to {path}')"
   ]
  },
  {
   "cell_type": "code",
   "execution_count": 109,
   "id": "0251941f-a584-430a-8b9c-c424b49a0333",
   "metadata": {},
   "outputs": [
    {
     "data": {
      "text/plain": [
       "{'pos_bigrams': tensor([[-1.8304e+00, -1.8904e+00, -2.0618e+00,  ..., -1.5975e+00,\n",
       "          -2.6415e+00, -1.9489e+00],\n",
       "         [ 7.8684e-01,  1.0342e+00,  1.1435e+00,  ...,  1.0513e+00,\n",
       "           1.1998e+00,  1.0992e+00],\n",
       "         [ 8.8633e-01,  1.1214e+00,  1.3023e+00,  ...,  1.2147e+00,\n",
       "           1.2440e+00,  1.1934e+00],\n",
       "         [-4.2701e-01, -2.5076e-01, -3.2173e-01,  ..., -1.0346e-01,\n",
       "          -5.0079e-01, -2.3791e-01],\n",
       "         [-2.4423e-03,  1.2616e-01,  1.4202e-01,  ...,  2.4994e-01,\n",
       "           1.5193e-02,  2.2705e-01]])}"
      ]
     },
     "execution_count": 109,
     "metadata": {},
     "output_type": "execute_result"
    }
   ],
   "source": [
    "prod_slda.beta_meta()"
   ]
  },
  {
   "cell_type": "code",
   "execution_count": null,
   "id": "1c9f2250-4d98-446b-b710-7e503080e1f4",
   "metadata": {},
   "outputs": [],
   "source": []
  }
 ],
 "metadata": {
  "kernelspec": {
   "display_name": "Python 3",
   "language": "python",
   "name": "python3"
  },
  "language_info": {
   "codemirror_mode": {
    "name": "ipython",
    "version": 3
   },
   "file_extension": ".py",
   "mimetype": "text/x-python",
   "name": "python",
   "nbconvert_exporter": "python",
   "pygments_lexer": "ipython3",
   "version": "3.8.10"
  }
 },
 "nbformat": 4,
 "nbformat_minor": 5
}
