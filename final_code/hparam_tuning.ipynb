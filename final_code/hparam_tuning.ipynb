{
 "cells": [
  {
   "cell_type": "code",
   "execution_count": 1,
   "id": "e2f8012e-f322-4234-aa7f-212c6c1620de",
   "metadata": {},
   "outputs": [],
   "source": [
    "import numpy as np\n",
    "import pandas as pd\n",
    "from scipy import sparse\n",
    "\n",
    "from tqdm import tqdm\n",
    "tqdm.pandas()\n",
    "import matplotlib.pyplot as plt\n",
    "\n",
    "from sklearn.model_selection import train_test_split\n",
    "\n",
    "from nltk.tag import pos_tag\n",
    "from nltk.tokenize import word_tokenize\n",
    "\n",
    "import torch\n",
    "import torch.nn as nn\n",
    "import torch.nn.functional as F\n",
    "from torch.utils.data import Dataset, DataLoader\n",
    "\n",
    "import pyro\n",
    "import pyro.distributions as dist\n",
    "from pyro.infer import SVI, Trace_ELBO, TraceMeanField_ELBO\n",
    "from pyro.optim import Adam, ClippedAdam\n",
    "\n",
    "from datetime import datetime\n",
    "import json\n",
    "from collections import defaultdict\n",
    "import itertools\n",
    "\n",
    "import os\n",
    "\n",
    "from prod_slda.model import ProdSLDA\n",
    "from prod_slda.data_utils import *"
   ]
  },
  {
   "cell_type": "code",
   "execution_count": 2,
   "id": "06b4db78-193f-4d0c-9038-885fe2bd413a",
   "metadata": {},
   "outputs": [],
   "source": [
    "def set_seeds(seed):\n",
    "    np.random.seed(seed)\n",
    "    torch.manual_seed(seed)\n",
    "    torch.cuda.manual_seed(seed)"
   ]
  },
  {
   "cell_type": "code",
   "execution_count": 3,
   "id": "073131aa-9d82-4037-91e6-8a5d750a0605",
   "metadata": {},
   "outputs": [],
   "source": [
    "# ----- EXPERIMENT HPARAMS -----\n",
    "META_FEATURES   = ['pos_bigrams','formality','emoji_task', 'casing','punc_tags', 'sentiment_task']\n",
    "EXPERIMENT_NAME = '_'.join(META_FEATURES)\n",
    "\n",
    "# ----- DATA HPARAMS -----\n",
    "OUT_DIR       = '/mnt/swordfish-pool2/ndeas/prob_models/results2/' #'/burg/nlp/users/zfh2000/style_results'\n",
    "\n",
    "DATA_SRC      = '/mnt/swordfish-pool2/ndeas/prob_models/data/enron_processed.json' #'/burg/nlp/users/zfh2000/enron_processed.json'\n",
    "SPLITS_PATH   = '/mnt/swordfish-pool2/ndeas/prob_models/data/authors_splits.json' #'/burg/home/zfh2000/styletopicmodeling/scripts/authors_splits.json'\n",
    "SYNTHETIC_SRC = '/mnt/swordfish-pool2/ndeas/prob_models/data/gpt_4_enron_processed.json' #'/burg/nlp/users/zfh2000/gpt_4_enron_processed.json'\n",
    "\n",
    "BATCH_SIZE  = 128\n",
    "NUM_WORKERS = 2\n",
    "\n",
    "MAX_DF = 0.8\n",
    "MIN_DF = 20\n",
    "\n",
    "NUM_EPOCHS = 30\n",
    "\n",
    "DEVICE = torch.device('cuda:0')\n",
    "\n",
    "DATA_DIR_PATH = os.path.join(OUT_DIR,EXPERIMENT_NAME, f'maxdf{MAX_DF}_mindf{MIN_DF}_DATA')"
   ]
  },
  {
   "cell_type": "markdown",
   "id": "293b5753-b006-44c8-885f-32f70635d4ca",
   "metadata": {},
   "source": [
    "# Data Setup "
   ]
  },
  {
   "cell_type": "markdown",
   "id": "6e5f1c90-decd-41a0-a23e-beec5a4692dd",
   "metadata": {
    "tags": []
   },
   "source": [
    "## Data Preprocessing/Loading"
   ]
  },
  {
   "cell_type": "code",
   "execution_count": 4,
   "id": "4f79754a-9fa0-4fdd-a647-0084e702f05f",
   "metadata": {
    "scrolled": true,
    "tags": []
   },
   "outputs": [
    {
     "name": "stdout",
     "output_type": "stream",
     "text": [
      "LOADING FROM /mnt/swordfish-pool2/ndeas/prob_models/results2/pos_bigrams_formality_emoji_task_casing_punc_tags_sentiment_task/maxdf0.8_mindf20_DATA\n"
     ]
    }
   ],
   "source": [
    "if not os.path.exists(DATA_DIR_PATH):\n",
    "    bows, meta_vectorized, vectorizer, raw_text, authors_json, meta_features_to_names = prepare_data(DATA_SRC,\n",
    "                 SYNTHETIC_SRC,\n",
    "                 SPLITS_PATH,\n",
    "                 META_FEATURES,\n",
    "                 DATA_DIR_PATH,\n",
    "                 max_df = MAX_DF,\n",
    "                 min_df = MIN_DF)\n",
    "else:\n",
    "    print(f\"LOADING FROM {DATA_DIR_PATH}\")\n",
    "    \n",
    "    bows, meta_vectorized, vectorizer, raw_text, authors_json, meta_features_to_names = load_data(DATA_DIR_PATH)   "
   ]
  },
  {
   "cell_type": "code",
   "execution_count": 5,
   "id": "fa09ece7-3827-47a7-b7fc-a441a589298c",
   "metadata": {},
   "outputs": [],
   "source": [
    "NUM_DOCS   = bows['training'].shape[0]\n",
    "VOCAB_SIZE = bows['training'].shape[1]\n",
    "META_SIZE  = {k:v.shape[1] for k,v in meta_vectorized['training'].items()}\n",
    "IDX_TO_TERM = {v:k for k,v in vectorizer.vocabulary_.items()}"
   ]
  },
  {
   "cell_type": "code",
   "execution_count": 6,
   "id": "14566e36-f4aa-4812-8633-d6e6c638f2e9",
   "metadata": {},
   "outputs": [
    {
     "name": "stdout",
     "output_type": "stream",
     "text": [
      "BOW Dims: (66668, 3098)\n",
      "META Dims: {'casing': 3, 'emoji_task': 20, 'formality': 2, 'pos_bigrams': 324, 'punc_tags': 20, 'sentiment_task': 3}\n"
     ]
    }
   ],
   "source": [
    "print(f'BOW Dims: {bows[\"training\"].shape}')\n",
    "print(f'META Dims: {META_SIZE}')"
   ]
  },
  {
   "cell_type": "markdown",
   "id": "cb6e3a9e-420d-4b50-887a-6e00b5ec98f7",
   "metadata": {},
   "source": [
    "## Dataset"
   ]
  },
  {
   "cell_type": "code",
   "execution_count": 7,
   "id": "e16dec22-8379-430b-8f25-5675e8ef8af3",
   "metadata": {},
   "outputs": [],
   "source": [
    "dataset = DocMetaData(bows['training'], meta_vectorized['training'])\n",
    "eval_dataset = DocMetaData(bows['holdout'], meta_vectorized['holdout'], split_halves = True)"
   ]
  },
  {
   "cell_type": "code",
   "execution_count": 8,
   "id": "e231698c-1fd3-48de-98ee-43843613b690",
   "metadata": {},
   "outputs": [],
   "source": [
    "dl = DataLoader(dataset, batch_size = BATCH_SIZE, num_workers = NUM_WORKERS, shuffle=True)\n",
    "eval_dl = DataLoader(eval_dataset, batch_size = BATCH_SIZE, num_workers = NUM_WORKERS, shuffle=True)"
   ]
  },
  {
   "cell_type": "code",
   "execution_count": 9,
   "id": "eb31ab8a-2164-4454-93be-ea3fb6899331",
   "metadata": {},
   "outputs": [
    {
     "name": "stdout",
     "output_type": "stream",
     "text": [
      "bow            \n",
      "\t               : torch.Size([128, 3098])\n",
      "meta\n",
      "\tcasing         : torch.Size([128, 3])\n",
      "\temoji_task     : torch.Size([128, 20])\n",
      "\tformality      : torch.Size([128, 2])\n",
      "\tpos_bigrams    : torch.Size([128, 324])\n",
      "\tpunc_tags      : torch.Size([128, 20])\n",
      "\tsentiment_task : torch.Size([128, 3])\n"
     ]
    }
   ],
   "source": [
    "train_test_batch = next(iter(dl))\n",
    "for k, v in train_test_batch.items():\n",
    "    if isinstance(v, dict):\n",
    "        print(k)\n",
    "        for k1, v1 in v.items():\n",
    "             print(f'\\t{k1:15s}: {str(v1.shape)}')\n",
    "    else:\n",
    "        print(f'{k:15s}\\n\\t{\"\":15s}: {v.shape}')"
   ]
  },
  {
   "cell_type": "code",
   "execution_count": 10,
   "id": "7cc84357-253d-49b2-9785-db722daceaae",
   "metadata": {},
   "outputs": [
    {
     "name": "stdout",
     "output_type": "stream",
     "text": [
      "bow            \n",
      "\t               : torch.Size([128, 3098])\n",
      "meta\n",
      "\tcasing         : torch.Size([128, 3])\n",
      "\temoji_task     : torch.Size([128, 20])\n",
      "\tformality      : torch.Size([128, 2])\n",
      "\tpos_bigrams    : torch.Size([128, 324])\n",
      "\tpunc_tags      : torch.Size([128, 20])\n",
      "\tsentiment_task : torch.Size([128, 3])\n",
      "bow_h1         \n",
      "\t               : torch.Size([128, 3098])\n",
      "bow_h2         \n",
      "\t               : torch.Size([128, 3098])\n"
     ]
    }
   ],
   "source": [
    "eval_test_batch = next(iter(eval_dl))\n",
    "for k, v in eval_test_batch.items():\n",
    "    if isinstance(v, dict):\n",
    "        print(k)\n",
    "        for k1, v1 in v.items():\n",
    "             print(f'\\t{k1:15s}: {str(v1.shape)}')\n",
    "    else:\n",
    "        print(f'{k:15s}\\n\\t{\"\":15s}: {v.shape}')"
   ]
  },
  {
   "cell_type": "markdown",
   "id": "6d1b0ce8-9814-431f-8ecb-f557327c933d",
   "metadata": {},
   "source": [
    "# Training"
   ]
  },
  {
   "cell_type": "code",
   "execution_count": 21,
   "id": "57264967-90be-4d1f-9d82-d483a002cd15",
   "metadata": {},
   "outputs": [],
   "source": [
    "# ----- TRAINING HPARAMS -----\n",
    "\n",
    "LRS = [1e3, 1e2, 1e1]\n",
    "BETAS = (0.99, 0.999)\n",
    "EPS   = 1e-8\n",
    "CLIP_NORM = 10.\n",
    "# ADAM_ARGS = {'lr': LR, 'betas': BETAS, 'eps': EPS, 'clip_norm': CLIP_NORM}\n",
    "\n",
    "# ----- MODEL HPARAMS -----\n",
    "\n",
    "NUM_TOPICS = 10\n",
    "NUM_STYLES = 10\n",
    "HIDDEN_DIM = 128\n",
    "DROPOUT    = 0\n",
    "\n",
    "THETA_PRIOR_DIST = 'gaussian'\n",
    "THETA_PRIOR_LOC = 0.\n",
    "THETA_PRIOR_SCALES = [1., 3., 5.]\n",
    "\n",
    "KAPPA_PRIOR_DISTS = ['gaussian']\n",
    "KAPPA_PRIOR_LOC = 0.\n",
    "KAPPA_PRIOR_SCALES = [1., 3., 5.]\n",
    "\n",
    "STYLE_TOPIC_LINK = 'kappa_doc'\n",
    "\n",
    "HPARAM_QUART = 0"
   ]
  },
  {
   "cell_type": "code",
   "execution_count": 22,
   "id": "e1b9adae-e554-4e7f-be48-b10be8b367dc",
   "metadata": {},
   "outputs": [],
   "source": [
    "hparam_combos = itertools.product(LRS, THETA_PRIOR_SCALES, KAPPA_PRIOR_DISTS, KAPPA_PRIOR_SCALES)\n",
    "hparam_combos = [dict(zip(['lr', 'theta_prior_scale', 'kappa_prior_dist', 'kappa_prior_scale'], list(hparam_combo))) for hparam_combo in hparam_combos]"
   ]
  },
  {
   "cell_type": "code",
   "execution_count": 23,
   "id": "1e3b5275-b5f8-44d7-b2e2-48b3b438c0ce",
   "metadata": {},
   "outputs": [],
   "source": [
    "hp_start = HPARAM_QUART * (len(hparam_combos)//4 + 1)\n",
    "hp_end   = (HPARAM_QUART + 1) * (len(hparam_combos)//4 + 1)\n",
    "hparam_combos = hparam_combos[hp_start:hp_end]"
   ]
  },
  {
   "cell_type": "markdown",
   "id": "d5ad153e-72fb-4761-83f8-247d584e4d19",
   "metadata": {},
   "source": [
    "# Tuning "
   ]
  },
  {
   "cell_type": "code",
   "execution_count": 29,
   "id": "ee301401-15ca-47ef-a4bc-c6630a6a61fb",
   "metadata": {},
   "outputs": [],
   "source": [
    "def train_epochs(prod_slda, svi, train_dl, eval_dl, num_epochs, device, last_elbos = 5):\n",
    "    total_epochs = 0\n",
    "    train_elbo = []\n",
    "    val_elbo = []\n",
    "\n",
    "    print(\"---TRAINING---\")\n",
    "    for epoch in range(num_epochs):\n",
    "\n",
    "        epoch_elbo = 0.\n",
    "        prod_slda.train()\n",
    "        for batch in tqdm(train_dl):\n",
    "\n",
    "            batch = batch_to_device(batch, device)\n",
    "\n",
    "            bow = batch['bow']\n",
    "            meta = batch['meta']\n",
    "\n",
    "            epoch_elbo += svi.step(bow, meta)\n",
    "\n",
    "\n",
    "        eval_elbo = 0\n",
    "        prod_slda.eval()\n",
    "        with torch.no_grad():\n",
    "            for batch in tqdm(eval_dl):\n",
    "\n",
    "                batch = batch_to_device(batch, device)\n",
    "\n",
    "                bow = batch['bow']\n",
    "                meta = batch['meta']\n",
    "\n",
    "                eval_elbo += svi.evaluate_loss(bow, meta)           \n",
    "\n",
    "\n",
    "        print(f'Epoch {epoch}: {epoch_elbo:.3f}')\n",
    "        print(f'Epoch {epoch}: Eval: {eval_elbo:.3f}')\n",
    "\n",
    "        train_elbo.append(epoch_elbo)\n",
    "        val_elbo.append(eval_elbo)\n",
    "        total_epochs +=1\n",
    "\n",
    "        if len(val_elbo) > last_elbos:\n",
    "            val_elbo_changes = [val_elbo[i] - val_elbo[i-1] for i in range(len(val_elbo) - last_elbos, len(val_elbo))]\n",
    "            if np.mean(val_elbo_changes) > 0:\n",
    "                print('Val ELBO diverging, stopping fitting')\n",
    "                break\n",
    "                \n",
    "    return train_elbo, val_elbo, total_epochs"
   ]
  },
  {
   "cell_type": "code",
   "execution_count": 30,
   "id": "ccc49656-7141-4d12-8822-78d91559fdfe",
   "metadata": {},
   "outputs": [],
   "source": [
    "def plot_elbos(train_elbo, val_elbo, path):\n",
    "    plt.plot(range(len(train_elbo)), [e/len(dl.dataset) for e in train_elbo], label = 'In-Sample')\n",
    "    plt.plot(range(len(val_elbo)), [e/len(eval_dl.dataset) for e in val_elbo], label = 'Out-Sample')\n",
    "\n",
    "    plt.legend()\n",
    "    plt.xlabel('# Iterations')\n",
    "    plt.ylabel('ELBO')\n",
    "\n",
    "    plt.savefig(os.path.join(path, 'loss_plot_indep.png'), dpi = 500, facecolor = None)"
   ]
  },
  {
   "cell_type": "code",
   "execution_count": 26,
   "id": "52350e34-e6bb-42b4-aab9-08bcfffc2521",
   "metadata": {},
   "outputs": [],
   "source": [
    "base_info = {\n",
    "    'experiment_name': EXPERIMENT_NAME,\n",
    "    'num_topics': NUM_TOPICS,\n",
    "    'num_styles': NUM_STYLES,\n",
    "    'hidden_dim': HIDDEN_DIM,\n",
    "    'dropout': DROPOUT,\n",
    "    'theta_prior_dist': THETA_PRIOR_DIST,\n",
    "    'theta_prior_loc': THETA_PRIOR_LOC,\n",
    "    'kappa_prior_loc': KAPPA_PRIOR_LOC,\n",
    "    'style_topic_link': STYLE_TOPIC_LINK,\n",
    "    'num_epochs': NUM_EPOCHS,\n",
    "    'betas': BETAS,\n",
    "    'eps': EPS,\n",
    "    'batch_size': BATCH_SIZE,\n",
    "    'clip_norm': CLIP_NORM,\n",
    "    'num_workers': NUM_WORKERS,\n",
    "    'device': DEVICE.type,\n",
    "    'meta_features': META_FEATURES,\n",
    "    'DATA_SRC': DATA_SRC,\n",
    "    'SPLITS_PATH': SPLITS_PATH,\n",
    "    'SYNTHETIC_SRC': SYNTHETIC_SRC,\n",
    "    'MAX_DF': MAX_DF,\n",
    "    'MIN_DF': MIN_DF,\n",
    "}\n",
    "\n",
    "LAST_ELBOS = 5"
   ]
  },
  {
   "cell_type": "code",
   "execution_count": null,
   "id": "445fe812-b6ef-44cd-ac81-07bdfea116a9",
   "metadata": {},
   "outputs": [
    {
     "name": "stdout",
     "output_type": "stream",
     "text": [
      "---TRAINING---\n"
     ]
    },
    {
     "name": "stderr",
     "output_type": "stream",
     "text": [
      "100%|██████████| 521/521 [00:30<00:00, 16.95it/s]\n",
      "100%|██████████| 179/179 [00:12<00:00, 13.96it/s]\n"
     ]
    },
    {
     "name": "stdout",
     "output_type": "stream",
     "text": [
      "Epoch 0: 20035.862\n",
      "Epoch 0: Eval: 6138.221\n"
     ]
    },
    {
     "name": "stderr",
     "output_type": "stream",
     "text": [
      "100%|██████████| 521/521 [00:29<00:00, 17.39it/s]\n",
      "100%|██████████| 179/179 [00:12<00:00, 14.55it/s]\n"
     ]
    },
    {
     "name": "stdout",
     "output_type": "stream",
     "text": [
      "Epoch 1: 19454.277\n",
      "Epoch 1: Eval: 6195.405\n"
     ]
    },
    {
     "name": "stderr",
     "output_type": "stream",
     "text": [
      "100%|██████████| 521/521 [00:29<00:00, 17.88it/s]\n",
      "100%|██████████| 179/179 [00:12<00:00, 14.66it/s]\n"
     ]
    },
    {
     "name": "stdout",
     "output_type": "stream",
     "text": [
      "Epoch 2: 18643.537\n",
      "Epoch 2: Eval: 5947.696\n"
     ]
    },
    {
     "name": "stderr",
     "output_type": "stream",
     "text": [
      "100%|██████████| 521/521 [00:30<00:00, 17.32it/s]\n",
      "100%|██████████| 179/179 [00:12<00:00, 14.57it/s]\n"
     ]
    },
    {
     "name": "stdout",
     "output_type": "stream",
     "text": [
      "Epoch 3: 18198.238\n",
      "Epoch 3: Eval: 5950.411\n"
     ]
    },
    {
     "name": "stderr",
     "output_type": "stream",
     "text": [
      "100%|██████████| 521/521 [00:30<00:00, 17.14it/s]\n",
      "100%|██████████| 179/179 [00:12<00:00, 14.43it/s]\n"
     ]
    },
    {
     "name": "stdout",
     "output_type": "stream",
     "text": [
      "Epoch 4: 17831.517\n",
      "Epoch 4: Eval: 5846.821\n"
     ]
    },
    {
     "name": "stderr",
     "output_type": "stream",
     "text": [
      "100%|██████████| 521/521 [00:30<00:00, 17.24it/s]\n",
      "100%|██████████| 179/179 [00:12<00:00, 14.32it/s]\n"
     ]
    },
    {
     "name": "stdout",
     "output_type": "stream",
     "text": [
      "Epoch 5: 17587.281\n",
      "Epoch 5: Eval: 5845.798\n"
     ]
    },
    {
     "name": "stderr",
     "output_type": "stream",
     "text": [
      "100%|██████████| 521/521 [00:30<00:00, 17.18it/s]\n",
      "100%|██████████| 179/179 [00:12<00:00, 14.52it/s]\n"
     ]
    },
    {
     "name": "stdout",
     "output_type": "stream",
     "text": [
      "Epoch 6: 17355.029\n",
      "Epoch 6: Eval: 5731.768\n"
     ]
    },
    {
     "name": "stderr",
     "output_type": "stream",
     "text": [
      "100%|██████████| 521/521 [00:29<00:00, 17.88it/s]\n",
      "100%|██████████| 179/179 [00:11<00:00, 15.06it/s]\n"
     ]
    },
    {
     "name": "stdout",
     "output_type": "stream",
     "text": [
      "Epoch 7: 17161.307\n",
      "Epoch 7: Eval: 5630.562\n"
     ]
    },
    {
     "name": "stderr",
     "output_type": "stream",
     "text": [
      "100%|██████████| 521/521 [00:28<00:00, 18.15it/s]\n",
      "100%|██████████| 179/179 [00:12<00:00, 14.83it/s]\n"
     ]
    },
    {
     "name": "stdout",
     "output_type": "stream",
     "text": [
      "Epoch 8: 16990.427\n",
      "Epoch 8: Eval: 5616.791\n"
     ]
    },
    {
     "name": "stderr",
     "output_type": "stream",
     "text": [
      "100%|██████████| 521/521 [00:30<00:00, 17.26it/s]\n",
      "100%|██████████| 179/179 [00:12<00:00, 14.38it/s]\n"
     ]
    },
    {
     "name": "stdout",
     "output_type": "stream",
     "text": [
      "Epoch 9: 16818.769\n",
      "Epoch 9: Eval: 5547.006\n"
     ]
    },
    {
     "name": "stderr",
     "output_type": "stream",
     "text": [
      "100%|██████████| 521/521 [00:28<00:00, 18.04it/s]\n",
      "100%|██████████| 179/179 [00:12<00:00, 14.76it/s]\n"
     ]
    },
    {
     "name": "stdout",
     "output_type": "stream",
     "text": [
      "Epoch 10: 16637.752\n",
      "Epoch 10: Eval: 5511.216\n"
     ]
    },
    {
     "name": "stderr",
     "output_type": "stream",
     "text": [
      "100%|██████████| 521/521 [00:29<00:00, 17.92it/s]\n",
      "100%|██████████| 179/179 [00:12<00:00, 14.71it/s]\n"
     ]
    },
    {
     "name": "stdout",
     "output_type": "stream",
     "text": [
      "Epoch 11: 16518.299\n",
      "Epoch 11: Eval: 5528.705\n"
     ]
    },
    {
     "name": "stderr",
     "output_type": "stream",
     "text": [
      "100%|██████████| 521/521 [00:29<00:00, 17.54it/s]\n",
      "100%|██████████| 179/179 [00:11<00:00, 14.99it/s]\n"
     ]
    },
    {
     "name": "stdout",
     "output_type": "stream",
     "text": [
      "Epoch 12: 16422.514\n",
      "Epoch 12: Eval: 5547.645\n"
     ]
    },
    {
     "name": "stderr",
     "output_type": "stream",
     "text": [
      "100%|██████████| 521/521 [00:29<00:00, 17.58it/s]\n",
      "100%|██████████| 179/179 [00:12<00:00, 14.43it/s]\n"
     ]
    },
    {
     "name": "stdout",
     "output_type": "stream",
     "text": [
      "Epoch 13: 16277.072\n",
      "Epoch 13: Eval: 5529.783\n"
     ]
    },
    {
     "name": "stderr",
     "output_type": "stream",
     "text": [
      "100%|██████████| 521/521 [00:29<00:00, 17.38it/s]\n",
      "100%|██████████| 179/179 [00:12<00:00, 14.09it/s]\n"
     ]
    },
    {
     "name": "stdout",
     "output_type": "stream",
     "text": [
      "Epoch 14: 16109.609\n",
      "Epoch 14: Eval: 5496.525\n"
     ]
    },
    {
     "name": "stderr",
     "output_type": "stream",
     "text": [
      "100%|██████████| 521/521 [00:30<00:00, 17.20it/s]\n",
      "100%|██████████| 179/179 [00:11<00:00, 15.03it/s]\n"
     ]
    },
    {
     "name": "stdout",
     "output_type": "stream",
     "text": [
      "Epoch 15: 15969.330\n",
      "Epoch 15: Eval: 5497.565\n"
     ]
    },
    {
     "name": "stderr",
     "output_type": "stream",
     "text": [
      "100%|██████████| 521/521 [00:29<00:00, 17.47it/s]\n",
      "100%|██████████| 179/179 [00:12<00:00, 14.83it/s]\n"
     ]
    },
    {
     "name": "stdout",
     "output_type": "stream",
     "text": [
      "Epoch 16: 15944.301\n",
      "Epoch 16: Eval: 5505.481\n"
     ]
    },
    {
     "name": "stderr",
     "output_type": "stream",
     "text": [
      "100%|██████████| 521/521 [00:30<00:00, 17.13it/s]\n",
      "100%|██████████| 179/179 [00:12<00:00, 14.44it/s]\n"
     ]
    },
    {
     "name": "stdout",
     "output_type": "stream",
     "text": [
      "Epoch 17: 15827.541\n",
      "Epoch 17: Eval: 5394.678\n"
     ]
    },
    {
     "name": "stderr",
     "output_type": "stream",
     "text": [
      "100%|██████████| 521/521 [00:30<00:00, 16.95it/s]\n",
      "100%|██████████| 179/179 [00:12<00:00, 14.40it/s]\n"
     ]
    },
    {
     "name": "stdout",
     "output_type": "stream",
     "text": [
      "Epoch 18: 15660.642\n",
      "Epoch 18: Eval: 5411.556\n"
     ]
    },
    {
     "name": "stderr",
     "output_type": "stream",
     "text": [
      "100%|██████████| 521/521 [00:29<00:00, 17.74it/s]\n",
      "100%|██████████| 179/179 [00:12<00:00, 14.37it/s]\n"
     ]
    },
    {
     "name": "stdout",
     "output_type": "stream",
     "text": [
      "Epoch 19: 15531.921\n",
      "Epoch 19: Eval: 5363.134\n"
     ]
    },
    {
     "name": "stderr",
     "output_type": "stream",
     "text": [
      "100%|██████████| 521/521 [00:29<00:00, 17.39it/s]\n",
      "100%|██████████| 179/179 [00:11<00:00, 14.93it/s]\n"
     ]
    },
    {
     "name": "stdout",
     "output_type": "stream",
     "text": [
      "Epoch 20: 15378.330\n",
      "Epoch 20: Eval: 5408.408\n"
     ]
    },
    {
     "name": "stderr",
     "output_type": "stream",
     "text": [
      "100%|██████████| 521/521 [00:29<00:00, 17.40it/s]\n",
      "100%|██████████| 179/179 [00:12<00:00, 14.42it/s]\n"
     ]
    },
    {
     "name": "stdout",
     "output_type": "stream",
     "text": [
      "Epoch 21: 15318.415\n",
      "Epoch 21: Eval: 5362.539\n"
     ]
    },
    {
     "name": "stderr",
     "output_type": "stream",
     "text": [
      "100%|██████████| 521/521 [00:29<00:00, 17.45it/s]\n",
      "100%|██████████| 179/179 [00:12<00:00, 14.44it/s]\n"
     ]
    },
    {
     "name": "stdout",
     "output_type": "stream",
     "text": [
      "Epoch 22: 15240.853\n",
      "Epoch 22: Eval: 5408.175\n",
      "Val ELBO diverging, stopping fitting\n",
      "Model saved to /mnt/swordfish-pool2/ndeas/prob_models/results2/pos_bigrams_formality_emoji_task_casing_punc_tags_sentiment_task/2023-12-20_14_33_36/model_epoch23_5408.175060272217.pt\n",
      "---TRAINING---\n"
     ]
    },
    {
     "name": "stderr",
     "output_type": "stream",
     "text": [
      "100%|██████████| 521/521 [00:30<00:00, 17.26it/s]\n",
      "100%|██████████| 179/179 [00:12<00:00, 14.45it/s]\n"
     ]
    },
    {
     "name": "stdout",
     "output_type": "stream",
     "text": [
      "Epoch 0: 19763.057\n",
      "Epoch 0: Eval: 6387.022\n"
     ]
    },
    {
     "name": "stderr",
     "output_type": "stream",
     "text": [
      "100%|██████████| 521/521 [00:30<00:00, 17.08it/s]\n",
      "100%|██████████| 179/179 [00:12<00:00, 14.40it/s]\n"
     ]
    },
    {
     "name": "stdout",
     "output_type": "stream",
     "text": [
      "Epoch 1: 19455.408\n",
      "Epoch 1: Eval: 6299.666\n"
     ]
    },
    {
     "name": "stderr",
     "output_type": "stream",
     "text": [
      "100%|██████████| 521/521 [00:30<00:00, 17.15it/s]\n",
      "100%|██████████| 179/179 [00:12<00:00, 14.38it/s]\n"
     ]
    },
    {
     "name": "stdout",
     "output_type": "stream",
     "text": [
      "Epoch 2: 18987.836\n",
      "Epoch 2: Eval: 6212.140\n"
     ]
    },
    {
     "name": "stderr",
     "output_type": "stream",
     "text": [
      "100%|██████████| 521/521 [00:29<00:00, 17.57it/s]\n",
      "100%|██████████| 179/179 [00:11<00:00, 14.95it/s]\n"
     ]
    },
    {
     "name": "stdout",
     "output_type": "stream",
     "text": [
      "Epoch 3: 18599.827\n",
      "Epoch 3: Eval: 6132.001\n"
     ]
    },
    {
     "name": "stderr",
     "output_type": "stream",
     "text": [
      "100%|██████████| 521/521 [00:29<00:00, 17.81it/s]\n",
      "100%|██████████| 179/179 [00:12<00:00, 14.63it/s]\n"
     ]
    },
    {
     "name": "stdout",
     "output_type": "stream",
     "text": [
      "Epoch 4: 18165.441\n",
      "Epoch 4: Eval: 6020.107\n"
     ]
    },
    {
     "name": "stderr",
     "output_type": "stream",
     "text": [
      "100%|██████████| 521/521 [00:30<00:00, 17.05it/s]\n",
      "100%|██████████| 179/179 [00:12<00:00, 14.50it/s]\n"
     ]
    },
    {
     "name": "stdout",
     "output_type": "stream",
     "text": [
      "Epoch 5: 17868.311\n",
      "Epoch 5: Eval: 5931.089\n"
     ]
    },
    {
     "name": "stderr",
     "output_type": "stream",
     "text": [
      "100%|██████████| 521/521 [00:29<00:00, 17.88it/s]\n",
      "100%|██████████| 179/179 [00:11<00:00, 15.45it/s]\n"
     ]
    },
    {
     "name": "stdout",
     "output_type": "stream",
     "text": [
      "Epoch 6: 17547.083\n",
      "Epoch 6: Eval: 5878.962\n"
     ]
    },
    {
     "name": "stderr",
     "output_type": "stream",
     "text": [
      "100%|██████████| 521/521 [00:30<00:00, 17.30it/s]\n",
      "100%|██████████| 179/179 [00:12<00:00, 14.36it/s]\n"
     ]
    },
    {
     "name": "stdout",
     "output_type": "stream",
     "text": [
      "Epoch 7: 17285.544\n",
      "Epoch 7: Eval: 5792.694\n"
     ]
    },
    {
     "name": "stderr",
     "output_type": "stream",
     "text": [
      "100%|██████████| 521/521 [00:29<00:00, 17.90it/s]\n",
      "100%|██████████| 179/179 [00:12<00:00, 14.51it/s]\n"
     ]
    },
    {
     "name": "stdout",
     "output_type": "stream",
     "text": [
      "Epoch 8: 17042.814\n",
      "Epoch 8: Eval: 5764.965\n"
     ]
    },
    {
     "name": "stderr",
     "output_type": "stream",
     "text": [
      "100%|██████████| 521/521 [00:30<00:00, 17.21it/s]\n",
      "100%|██████████| 179/179 [00:11<00:00, 14.99it/s]\n"
     ]
    },
    {
     "name": "stdout",
     "output_type": "stream",
     "text": [
      "Epoch 9: 16840.900\n",
      "Epoch 9: Eval: 5666.802\n"
     ]
    },
    {
     "name": "stderr",
     "output_type": "stream",
     "text": [
      "100%|██████████| 521/521 [00:29<00:00, 17.40it/s]\n",
      "100%|██████████| 179/179 [00:12<00:00, 14.72it/s]\n"
     ]
    },
    {
     "name": "stdout",
     "output_type": "stream",
     "text": [
      "Epoch 10: 16641.093\n",
      "Epoch 10: Eval: 5584.883\n"
     ]
    },
    {
     "name": "stderr",
     "output_type": "stream",
     "text": [
      "100%|██████████| 521/521 [00:30<00:00, 17.12it/s]\n",
      "100%|██████████| 179/179 [00:11<00:00, 15.09it/s]\n"
     ]
    },
    {
     "name": "stdout",
     "output_type": "stream",
     "text": [
      "Epoch 11: 16445.471\n",
      "Epoch 11: Eval: 5551.457\n"
     ]
    },
    {
     "name": "stderr",
     "output_type": "stream",
     "text": [
      "100%|██████████| 521/521 [00:30<00:00, 17.32it/s]\n",
      "100%|██████████| 179/179 [00:12<00:00, 14.42it/s]\n"
     ]
    },
    {
     "name": "stdout",
     "output_type": "stream",
     "text": [
      "Epoch 12: 16267.616\n",
      "Epoch 12: Eval: 5522.744\n"
     ]
    },
    {
     "name": "stderr",
     "output_type": "stream",
     "text": [
      "100%|██████████| 521/521 [00:30<00:00, 17.06it/s]\n",
      "100%|██████████| 179/179 [00:12<00:00, 14.80it/s]\n"
     ]
    },
    {
     "name": "stdout",
     "output_type": "stream",
     "text": [
      "Epoch 13: 16088.024\n",
      "Epoch 13: Eval: 5429.382\n"
     ]
    },
    {
     "name": "stderr",
     "output_type": "stream",
     "text": [
      "100%|██████████| 521/521 [00:29<00:00, 17.60it/s]\n",
      "100%|██████████| 179/179 [00:12<00:00, 14.12it/s]\n"
     ]
    },
    {
     "name": "stdout",
     "output_type": "stream",
     "text": [
      "Epoch 14: 15913.298\n",
      "Epoch 14: Eval: 5384.471\n"
     ]
    },
    {
     "name": "stderr",
     "output_type": "stream",
     "text": [
      "100%|██████████| 521/521 [00:30<00:00, 17.18it/s]\n",
      "100%|██████████| 179/179 [00:12<00:00, 14.63it/s]\n"
     ]
    },
    {
     "name": "stdout",
     "output_type": "stream",
     "text": [
      "Epoch 15: 15759.604\n",
      "Epoch 15: Eval: 5344.384\n"
     ]
    },
    {
     "name": "stderr",
     "output_type": "stream",
     "text": [
      "100%|██████████| 521/521 [00:30<00:00, 17.20it/s]\n",
      "100%|██████████| 179/179 [00:12<00:00, 14.57it/s]\n"
     ]
    },
    {
     "name": "stdout",
     "output_type": "stream",
     "text": [
      "Epoch 16: 15616.811\n",
      "Epoch 16: Eval: 5286.763\n"
     ]
    },
    {
     "name": "stderr",
     "output_type": "stream",
     "text": [
      "100%|██████████| 521/521 [00:30<00:00, 17.06it/s]\n",
      "100%|██████████| 179/179 [00:12<00:00, 14.83it/s]\n"
     ]
    },
    {
     "name": "stdout",
     "output_type": "stream",
     "text": [
      "Epoch 17: 15485.281\n",
      "Epoch 17: Eval: 5265.129\n"
     ]
    },
    {
     "name": "stderr",
     "output_type": "stream",
     "text": [
      "100%|██████████| 521/521 [00:30<00:00, 17.22it/s]\n",
      "100%|██████████| 179/179 [00:12<00:00, 14.47it/s]\n"
     ]
    },
    {
     "name": "stdout",
     "output_type": "stream",
     "text": [
      "Epoch 18: 15428.418\n",
      "Epoch 18: Eval: 5225.478\n"
     ]
    },
    {
     "name": "stderr",
     "output_type": "stream",
     "text": [
      "100%|██████████| 521/521 [00:29<00:00, 17.54it/s]\n",
      "100%|██████████| 179/179 [00:12<00:00, 14.19it/s]\n"
     ]
    },
    {
     "name": "stdout",
     "output_type": "stream",
     "text": [
      "Epoch 19: 15382.899\n",
      "Epoch 19: Eval: 5184.446\n"
     ]
    },
    {
     "name": "stderr",
     "output_type": "stream",
     "text": [
      "100%|██████████| 521/521 [00:29<00:00, 17.65it/s]\n",
      "100%|██████████| 179/179 [00:12<00:00, 14.50it/s]\n"
     ]
    },
    {
     "name": "stdout",
     "output_type": "stream",
     "text": [
      "Epoch 20: 15208.637\n",
      "Epoch 20: Eval: 5167.148\n"
     ]
    },
    {
     "name": "stderr",
     "output_type": "stream",
     "text": [
      "100%|██████████| 521/521 [00:29<00:00, 17.83it/s]\n",
      "100%|██████████| 179/179 [00:12<00:00, 14.76it/s]\n"
     ]
    },
    {
     "name": "stdout",
     "output_type": "stream",
     "text": [
      "Epoch 21: 15128.226\n",
      "Epoch 21: Eval: 5119.321\n"
     ]
    },
    {
     "name": "stderr",
     "output_type": "stream",
     "text": [
      " 96%|█████████▌| 499/521 [00:27<00:01, 16.72it/s]"
     ]
    }
   ],
   "source": [
    "for hparam in hparam_combos:\n",
    "    \n",
    "    # Create and save configuration info\n",
    "    date = datetime.now().strftime(\"%Y-%m-%d_%H_%M_%S\")\n",
    "\n",
    "    info = dict(hparam, **base_info)\n",
    "    info['date'] = date\n",
    "    \n",
    "    PATH = os.path.join(OUT_DIR, EXPERIMENT_NAME, date)\n",
    "    os.makedirs(PATH, exist_ok=True)\n",
    "    with open(os.path.join(PATH, 'info.json'), 'w') as f:\n",
    "        json.dump(info, f, indent=4)\n",
    "        \n",
    "    # Create Model\n",
    "    prod_slda = ProdSLDA(\n",
    "        vocab_size = VOCAB_SIZE,\n",
    "        meta_sizes  = META_SIZE,\n",
    "        num_topics = NUM_TOPICS, num_styles = NUM_STYLES, \n",
    "        hidden = HIDDEN_DIM, dropout = DROPOUT, \n",
    "        theta_prior_dist = THETA_PRIOR_DIST, \n",
    "        theta_prior_loc = THETA_PRIOR_LOC, theta_prior_scale = info['theta_prior_scale'],\n",
    "        kappa_prior_dist = info['kappa_prior_dist'], \n",
    "        kappa_prior_loc = KAPPA_PRIOR_LOC, kappa_prior_scale = info['kappa_prior_scale'],\n",
    "        style_topic_link = STYLE_TOPIC_LINK,\n",
    "    ).to(DEVICE)\n",
    "    \n",
    "    # Setup Fitting\n",
    "    pyro.clear_param_store()\n",
    "    prod_slda.train()\n",
    "    \n",
    "    adam_args = {'lr': info['lr'], 'betas': BETAS, 'eps': EPS, 'clip_norm': CLIP_NORM}\n",
    "    \n",
    "    optim = pyro.optim.ClippedAdam(adam_args)\n",
    "\n",
    "    svi = SVI(\n",
    "        pyro.poutine.scale(prod_slda.model, BATCH_SIZE/len(dl.dataset)),\n",
    "        pyro.poutine.scale(prod_slda.guide, BATCH_SIZE/len(dl.dataset)),\n",
    "        optim,\n",
    "        loss = TraceMeanField_ELBO()\n",
    "    )\n",
    "    \n",
    "    train_elbo, val_elbo, total_epochs = train_epochs(prod_slda, svi, \n",
    "                                        dl, eval_dl, \n",
    "                                        NUM_EPOCHS, DEVICE,\n",
    "                                        last_elbos = LAST_ELBOS)\n",
    "    \n",
    "    # Save recorded elbos\n",
    "    elbos = pd.DataFrame({'train_elbo': train_elbo, 'val_elbo': val_elbo})\n",
    "    elbos.to_csv(os.path.join(PATH, 'elbos.json'), index = False)\n",
    "    \n",
    "    # Save convergence plot\n",
    "    plot_elbos(train_elbo, val_elbo, PATH)\n",
    "    \n",
    "    # Save final model\n",
    "    path = os.path.join(PATH, f'model_epoch{total_epochs}_{val_elbo[-1]}.pt')\n",
    "    prod_slda.eval()\n",
    "    torch.save(prod_slda, path)\n",
    "    print(f'Model saved to {path}')\n",
    "    \n",
    "    "
   ]
  },
  {
   "cell_type": "markdown",
   "id": "9ed443b9-6ebe-4351-aeb7-5c85caff576b",
   "metadata": {
    "tags": []
   },
   "source": [
    "## Setup"
   ]
  },
  {
   "cell_type": "code",
   "execution_count": 139,
   "id": "5cb86678-f33a-49a1-971c-1641b2da6e66",
   "metadata": {
    "scrolled": true,
    "tags": []
   },
   "outputs": [
    {
     "name": "stdout",
     "output_type": "stream",
     "text": [
      "{'beta_topic': tensor([[-0.1861, -0.2402, -0.0274,  ...,  0.2100, -0.2068,  0.1123],\n",
      "        [ 0.2663, -0.2054, -0.0130,  ..., -0.0374,  0.1646,  0.0540],\n",
      "        [-0.3140,  0.2888,  0.1739,  ..., -0.2029, -0.1254,  0.2051],\n",
      "        ...,\n",
      "        [-0.0689, -0.0193,  0.0797,  ...,  0.3000,  0.0952,  0.1868],\n",
      "        [-0.0405,  0.2724, -0.2607,  ..., -0.1828, -0.2136, -0.0969],\n",
      "        [ 0.0648, -0.0951, -0.0693,  ..., -0.0947,  0.2504,  0.1516]]), 'beta_style': tensor([[-0.1226,  0.0980,  0.0822,  ...,  0.2889,  0.2423,  0.2072],\n",
      "        [-0.1276,  0.0839,  0.0380,  ..., -0.1525,  0.1558, -0.0565],\n",
      "        [-0.2923, -0.2537,  0.1500,  ...,  0.2557, -0.1137, -0.1439],\n",
      "        ...,\n",
      "        [-0.2687,  0.2041,  0.0681,  ...,  0.1140, -0.2495,  0.2273],\n",
      "        [ 0.2871,  0.1236,  0.2097,  ...,  0.2350, -0.0243,  0.0878],\n",
      "        [-0.1396, -0.0803, -0.0072,  ...,  0.0168, -0.3042, -0.1147]])}\n",
      "{'casing': tensor([[-0.1345,  0.0874,  0.2322],\n",
      "        [ 0.2797,  0.0799,  0.0315],\n",
      "        [ 0.3098,  0.1985, -0.2481],\n",
      "        [ 0.2343, -0.1615, -0.0541],\n",
      "        [ 0.0150,  0.2295,  0.1315],\n",
      "        [ 0.0904,  0.1892,  0.1295],\n",
      "        [-0.0523, -0.2028, -0.0676],\n",
      "        [ 0.1626,  0.0303, -0.1758],\n",
      "        [-0.2854,  0.0627, -0.0097],\n",
      "        [-0.1309, -0.0114, -0.1656]]), 'emoji_task': tensor([[ 0.0365,  0.1771, -0.0429,  0.1017,  0.2663, -0.1700, -0.0342,  0.0727,\n",
      "          0.0349, -0.2540,  0.1952, -0.3019, -0.2644, -0.0837,  0.2280,  0.0935,\n",
      "          0.2405, -0.2858, -0.0645, -0.2768],\n",
      "        [ 0.2863, -0.0863,  0.1953,  0.2054,  0.0302,  0.0406, -0.2675,  0.2623,\n",
      "          0.1474, -0.1222, -0.2826,  0.0731, -0.0247, -0.2810,  0.0545, -0.1354,\n",
      "          0.1752, -0.0934, -0.1865, -0.2664],\n",
      "        [ 0.1287,  0.0166,  0.1015,  0.1347,  0.1186, -0.0174,  0.3061, -0.2751,\n",
      "          0.1434,  0.1182,  0.1923,  0.0660, -0.1598, -0.0739, -0.1824, -0.2744,\n",
      "         -0.1838, -0.3082,  0.1869, -0.0988],\n",
      "        [ 0.2928,  0.0365, -0.2964, -0.2454,  0.0375,  0.2840, -0.0596,  0.1879,\n",
      "          0.2896,  0.2214,  0.2601,  0.0563, -0.2546, -0.1828, -0.0840,  0.3083,\n",
      "         -0.0313,  0.1459,  0.2498,  0.0407],\n",
      "        [-0.0752,  0.2466, -0.0350, -0.2921, -0.2687,  0.0257,  0.2248, -0.1263,\n",
      "          0.2085, -0.1502,  0.0156,  0.1198, -0.0451,  0.1131,  0.0333, -0.2250,\n",
      "          0.2687, -0.1523,  0.1374, -0.1571],\n",
      "        [-0.0220, -0.0454,  0.0552,  0.0622,  0.2834, -0.0729, -0.0733, -0.1040,\n",
      "         -0.1953, -0.1402, -0.2839, -0.1328, -0.2963, -0.3158, -0.0170, -0.0616,\n",
      "         -0.0716, -0.1971,  0.3083, -0.2847],\n",
      "        [-0.2827,  0.0141,  0.2801, -0.1623, -0.1425, -0.2447,  0.2254, -0.2649,\n",
      "          0.0004, -0.1058,  0.0284, -0.0489,  0.2470,  0.0376,  0.0224, -0.1947,\n",
      "          0.2108, -0.0248, -0.1920, -0.2099],\n",
      "        [ 0.1236,  0.2627, -0.1357,  0.2209, -0.1135,  0.0210, -0.2786, -0.0618,\n",
      "         -0.1431,  0.2153, -0.0698,  0.2713, -0.1426,  0.1134,  0.1721,  0.2806,\n",
      "          0.1948,  0.3055,  0.2021,  0.1829],\n",
      "        [ 0.2961, -0.3118, -0.1568,  0.1198,  0.2929, -0.0234,  0.0079, -0.0845,\n",
      "         -0.2467, -0.1282,  0.0109,  0.2833, -0.2868,  0.1848, -0.1591,  0.2452,\n",
      "          0.2173,  0.0393,  0.2840, -0.0602],\n",
      "        [ 0.1927,  0.0145,  0.1443, -0.2282, -0.2822,  0.2550, -0.1878, -0.1155,\n",
      "         -0.1699,  0.2652, -0.0775,  0.0055, -0.2186, -0.0717, -0.2363, -0.2988,\n",
      "         -0.1656, -0.3059,  0.1189,  0.0634]]), 'formality': tensor([[ 0.1199,  0.2330],\n",
      "        [-0.1253,  0.0532],\n",
      "        [ 0.2039,  0.1933],\n",
      "        [ 0.1025,  0.2567],\n",
      "        [-0.1089,  0.2620],\n",
      "        [-0.2474, -0.2106],\n",
      "        [-0.2513,  0.2761],\n",
      "        [ 0.2153,  0.0040],\n",
      "        [-0.2990,  0.0897],\n",
      "        [ 0.0916, -0.0797]]), 'pos_bigrams': tensor([[-0.0375,  0.0481,  0.2540,  ...,  0.0879, -0.0559, -0.1421],\n",
      "        [-0.1340, -0.3084, -0.0666,  ..., -0.2180, -0.1174, -0.2296],\n",
      "        [-0.1105, -0.1886, -0.0824,  ...,  0.2850, -0.2418,  0.0674],\n",
      "        ...,\n",
      "        [-0.1356, -0.1622, -0.1559,  ...,  0.2130, -0.0417, -0.1197],\n",
      "        [-0.0233, -0.0499,  0.0216,  ..., -0.2460,  0.3034,  0.0966],\n",
      "        [-0.1578,  0.0092, -0.2328,  ..., -0.1188, -0.2610, -0.2347]]), 'punc_tags': tensor([[ 0.2119, -0.3030, -0.0696,  0.1864, -0.0968,  0.0713, -0.1241, -0.1844,\n",
      "          0.1722,  0.0851,  0.1324, -0.0945,  0.1024,  0.1688, -0.2436,  0.0494,\n",
      "          0.2023, -0.1388,  0.0051,  0.1911],\n",
      "        [-0.2091,  0.2723, -0.1380, -0.0146, -0.0084,  0.1842, -0.0196, -0.3129,\n",
      "          0.1004, -0.0551,  0.2517,  0.2216,  0.1857,  0.0787,  0.0831, -0.0504,\n",
      "          0.2630, -0.0444, -0.2505, -0.0011],\n",
      "        [-0.2969,  0.0131, -0.1313, -0.2704,  0.0727,  0.0628,  0.2130,  0.0153,\n",
      "          0.0368, -0.1292, -0.2531, -0.0316,  0.1513,  0.2416,  0.2134,  0.0010,\n",
      "          0.0210, -0.1031, -0.0595, -0.0709],\n",
      "        [ 0.1735, -0.2568,  0.0504,  0.1954, -0.0961,  0.0955, -0.0386,  0.2699,\n",
      "         -0.2098, -0.0640, -0.1117, -0.2699, -0.1602, -0.3074, -0.2137, -0.2116,\n",
      "          0.1782,  0.0864, -0.2093,  0.2336],\n",
      "        [ 0.0372, -0.0095,  0.2952,  0.2867,  0.0792,  0.2956,  0.2072,  0.2156,\n",
      "         -0.2223, -0.2350,  0.0907, -0.0903,  0.0907,  0.0067, -0.2847, -0.2493,\n",
      "         -0.3042,  0.1139,  0.0866,  0.0913],\n",
      "        [ 0.1046,  0.1898, -0.0082,  0.2709, -0.0158, -0.2441, -0.0907, -0.0203,\n",
      "         -0.0165, -0.0577, -0.2972,  0.0548,  0.0616,  0.0076, -0.0539,  0.0587,\n",
      "          0.2090,  0.3012,  0.2403, -0.2458],\n",
      "        [ 0.1093,  0.1772,  0.2586, -0.1501, -0.0007, -0.3072, -0.2627, -0.2719,\n",
      "         -0.2727,  0.1417, -0.1580, -0.2387, -0.0784,  0.1176, -0.0544,  0.1318,\n",
      "         -0.2021,  0.3087, -0.2179, -0.0143],\n",
      "        [-0.1308,  0.0228, -0.1472,  0.2042,  0.0106,  0.2447,  0.0193, -0.0436,\n",
      "          0.0234,  0.1153, -0.2797,  0.2030, -0.0775,  0.1341,  0.2008,  0.0680,\n",
      "         -0.0566,  0.0843,  0.2431, -0.2449],\n",
      "        [ 0.2223, -0.0979,  0.2020, -0.1945, -0.2295, -0.1925, -0.1981,  0.2129,\n",
      "         -0.2474, -0.2057, -0.0382, -0.0309, -0.1192, -0.0651,  0.0127, -0.0682,\n",
      "          0.1100,  0.0489, -0.1531,  0.1215],\n",
      "        [-0.0436,  0.1918, -0.2242,  0.2364,  0.0832,  0.3079, -0.0694, -0.1195,\n",
      "         -0.0209, -0.0391,  0.0600,  0.2719, -0.0574, -0.0329,  0.0988,  0.0497,\n",
      "         -0.2118, -0.2632,  0.2990, -0.0312]]), 'sentiment_task': tensor([[ 0.2188, -0.0376,  0.1964],\n",
      "        [ 0.1782,  0.2981,  0.2771],\n",
      "        [ 0.2764, -0.0152, -0.0074],\n",
      "        [-0.1472, -0.0354,  0.1148],\n",
      "        [-0.2602,  0.1224, -0.2950],\n",
      "        [-0.2202,  0.2480,  0.3141],\n",
      "        [-0.0369, -0.0699,  0.2992],\n",
      "        [ 0.2236,  0.1480, -0.2997],\n",
      "        [-0.2906, -0.2290,  0.2382],\n",
      "        [-0.0252,  0.2004,  0.0472]])}\n"
     ]
    }
   ],
   "source": [
    "prod_slda = ProdSLDA(\n",
    "    vocab_size = VOCAB_SIZE,\n",
    "    meta_sizes  = META_SIZE,\n",
    "    num_topics = NUM_TOPICS, num_styles = NUM_STYLES, \n",
    "    hidden = HIDDEN_DIM, dropout = DROPOUT, \n",
    "    theta_prior_dist = THETA_PRIOR_DIST, \n",
    "    theta_prior_loc = THETA_PRIOR_LOC, theta_prior_scale = THETA_PRIOR_SCALE,\n",
    "    kappa_prior_dist = KAPPA_PRIOR_DIST, \n",
    "    kappa_prior_loc = KAPPA_PRIOR_LOC, kappa_prior_scale = KAPPA_PRIOR_SCALE,\n",
    "    style_topic_link = STYLE_TOPIC_LINK,\n",
    ").to(DEVICE)\n",
    "\n",
    "print(prod_slda.beta_document())\n",
    "print(prod_slda.beta_meta())\n"
   ]
  },
  {
   "cell_type": "markdown",
   "id": "bf790d2c-25ba-4769-8703-5b9e672a735f",
   "metadata": {
    "tags": []
   },
   "source": [
    "## Training "
   ]
  },
  {
   "cell_type": "code",
   "execution_count": 140,
   "id": "4487f140-7c91-4b84-9404-af5d21b233d8",
   "metadata": {
    "scrolled": true,
    "tags": []
   },
   "outputs": [],
   "source": [
    "%%capture cap --no-stderr\n",
    "pyro.clear_param_store()\n",
    "prod_slda.train()"
   ]
  },
  {
   "cell_type": "code",
   "execution_count": 141,
   "id": "2cc93883-15f9-411c-98b0-851ee1f1390a",
   "metadata": {},
   "outputs": [],
   "source": [
    "optim = pyro.optim.ClippedAdam(ADAM_ARGS)\n",
    "\n",
    "svi = SVI(\n",
    "    pyro.poutine.scale(prod_slda.model, BATCH_SIZE/len(dl.dataset)),\n",
    "    pyro.poutine.scale(prod_slda.guide, BATCH_SIZE/len(dl.dataset)),\n",
    "    optim,\n",
    "    loss = TraceMeanField_ELBO()\n",
    ")"
   ]
  },
  {
   "cell_type": "code",
   "execution_count": 142,
   "id": "7323f1de-8558-482e-91f2-4e05b4c822d4",
   "metadata": {},
   "outputs": [],
   "source": [
    "total_epochs = 0"
   ]
  },
  {
   "cell_type": "code",
   "execution_count": 143,
   "id": "e61c37b2-22a8-463a-9c4c-2aaec9f4e538",
   "metadata": {
    "scrolled": true,
    "tags": []
   },
   "outputs": [
    {
     "name": "stdout",
     "output_type": "stream",
     "text": [
      "---TRAINING---\n"
     ]
    },
    {
     "name": "stderr",
     "output_type": "stream",
     "text": [
      "  0%|          | 0/521 [00:00<?, ?it/s]/home/ndeas/envs/test_env/lib/python3.8/site-packages/pyro/util.py:303: UserWarning: Found vars in model but not guide: {'logtheta_s'}\n",
      "  warnings.warn(f\"Found vars in model but not guide: {bad_sites}\")\n",
      "  0%|          | 0/521 [00:00<?, ?it/s]\n"
     ]
    },
    {
     "ename": "KeyError",
     "evalue": "'logtheta_s'",
     "output_type": "error",
     "traceback": [
      "\u001b[0;31m---------------------------------------------------------------------------\u001b[0m",
      "\u001b[0;31mKeyError\u001b[0m                                  Traceback (most recent call last)",
      "Cell \u001b[0;32mIn [143], line 16\u001b[0m\n\u001b[1;32m     13\u001b[0m     bow \u001b[38;5;241m=\u001b[39m batch[\u001b[38;5;124m'\u001b[39m\u001b[38;5;124mbow\u001b[39m\u001b[38;5;124m'\u001b[39m]\n\u001b[1;32m     14\u001b[0m     meta \u001b[38;5;241m=\u001b[39m batch[\u001b[38;5;124m'\u001b[39m\u001b[38;5;124mmeta\u001b[39m\u001b[38;5;124m'\u001b[39m]\n\u001b[0;32m---> 16\u001b[0m     epoch_elbo \u001b[38;5;241m+\u001b[39m\u001b[38;5;241m=\u001b[39m \u001b[43msvi\u001b[49m\u001b[38;5;241;43m.\u001b[39;49m\u001b[43mstep\u001b[49m\u001b[43m(\u001b[49m\u001b[43mbow\u001b[49m\u001b[43m,\u001b[49m\u001b[43m \u001b[49m\u001b[43mmeta\u001b[49m\u001b[43m)\u001b[49m\n\u001b[1;32m     18\u001b[0m eval_elbo \u001b[38;5;241m=\u001b[39m \u001b[38;5;241m0\u001b[39m\n\u001b[1;32m     19\u001b[0m prod_slda\u001b[38;5;241m.\u001b[39meval()\n",
      "File \u001b[0;32m~/envs/test_env/lib/python3.8/site-packages/pyro/infer/svi.py:145\u001b[0m, in \u001b[0;36mSVI.step\u001b[0;34m(self, *args, **kwargs)\u001b[0m\n\u001b[1;32m    143\u001b[0m \u001b[38;5;66;03m# get loss and compute gradients\u001b[39;00m\n\u001b[1;32m    144\u001b[0m \u001b[38;5;28;01mwith\u001b[39;00m poutine\u001b[38;5;241m.\u001b[39mtrace(param_only\u001b[38;5;241m=\u001b[39m\u001b[38;5;28;01mTrue\u001b[39;00m) \u001b[38;5;28;01mas\u001b[39;00m param_capture:\n\u001b[0;32m--> 145\u001b[0m     loss \u001b[38;5;241m=\u001b[39m \u001b[38;5;28;43mself\u001b[39;49m\u001b[38;5;241;43m.\u001b[39;49m\u001b[43mloss_and_grads\u001b[49m\u001b[43m(\u001b[49m\u001b[38;5;28;43mself\u001b[39;49m\u001b[38;5;241;43m.\u001b[39;49m\u001b[43mmodel\u001b[49m\u001b[43m,\u001b[49m\u001b[43m \u001b[49m\u001b[38;5;28;43mself\u001b[39;49m\u001b[38;5;241;43m.\u001b[39;49m\u001b[43mguide\u001b[49m\u001b[43m,\u001b[49m\u001b[43m \u001b[49m\u001b[38;5;241;43m*\u001b[39;49m\u001b[43margs\u001b[49m\u001b[43m,\u001b[49m\u001b[43m \u001b[49m\u001b[38;5;241;43m*\u001b[39;49m\u001b[38;5;241;43m*\u001b[39;49m\u001b[43mkwargs\u001b[49m\u001b[43m)\u001b[49m\n\u001b[1;32m    147\u001b[0m params \u001b[38;5;241m=\u001b[39m \u001b[38;5;28mset\u001b[39m(\n\u001b[1;32m    148\u001b[0m     site[\u001b[38;5;124m\"\u001b[39m\u001b[38;5;124mvalue\u001b[39m\u001b[38;5;124m\"\u001b[39m]\u001b[38;5;241m.\u001b[39munconstrained() \u001b[38;5;28;01mfor\u001b[39;00m site \u001b[38;5;129;01min\u001b[39;00m param_capture\u001b[38;5;241m.\u001b[39mtrace\u001b[38;5;241m.\u001b[39mnodes\u001b[38;5;241m.\u001b[39mvalues()\n\u001b[1;32m    149\u001b[0m )\n\u001b[1;32m    151\u001b[0m \u001b[38;5;66;03m# actually perform gradient steps\u001b[39;00m\n\u001b[1;32m    152\u001b[0m \u001b[38;5;66;03m# torch.optim objects gets instantiated for any params that haven't been seen yet\u001b[39;00m\n",
      "File \u001b[0;32m~/envs/test_env/lib/python3.8/site-packages/pyro/infer/trace_elbo.py:141\u001b[0m, in \u001b[0;36mTrace_ELBO.loss_and_grads\u001b[0;34m(self, model, guide, *args, **kwargs)\u001b[0m\n\u001b[1;32m    139\u001b[0m \u001b[38;5;66;03m# grab a trace from the generator\u001b[39;00m\n\u001b[1;32m    140\u001b[0m \u001b[38;5;28;01mfor\u001b[39;00m model_trace, guide_trace \u001b[38;5;129;01min\u001b[39;00m \u001b[38;5;28mself\u001b[39m\u001b[38;5;241m.\u001b[39m_get_traces(model, guide, args, kwargs):\n\u001b[0;32m--> 141\u001b[0m     loss_particle, surrogate_loss_particle \u001b[38;5;241m=\u001b[39m \u001b[38;5;28;43mself\u001b[39;49m\u001b[38;5;241;43m.\u001b[39;49m\u001b[43m_differentiable_loss_particle\u001b[49m\u001b[43m(\u001b[49m\n\u001b[1;32m    142\u001b[0m \u001b[43m        \u001b[49m\u001b[43mmodel_trace\u001b[49m\u001b[43m,\u001b[49m\u001b[43m \u001b[49m\u001b[43mguide_trace\u001b[49m\n\u001b[1;32m    143\u001b[0m \u001b[43m    \u001b[49m\u001b[43m)\u001b[49m\n\u001b[1;32m    144\u001b[0m     loss \u001b[38;5;241m+\u001b[39m\u001b[38;5;241m=\u001b[39m loss_particle \u001b[38;5;241m/\u001b[39m \u001b[38;5;28mself\u001b[39m\u001b[38;5;241m.\u001b[39mnum_particles\n\u001b[1;32m    146\u001b[0m     \u001b[38;5;66;03m# collect parameters to train from model and guide\u001b[39;00m\n",
      "File \u001b[0;32m~/envs/test_env/lib/python3.8/site-packages/pyro/infer/trace_mean_field_elbo.py:112\u001b[0m, in \u001b[0;36mTraceMeanField_ELBO._differentiable_loss_particle\u001b[0;34m(self, model_trace, guide_trace)\u001b[0m\n\u001b[1;32m    110\u001b[0m     elbo_particle \u001b[38;5;241m=\u001b[39m elbo_particle \u001b[38;5;241m+\u001b[39m model_site[\u001b[38;5;124m\"\u001b[39m\u001b[38;5;124mlog_prob_sum\u001b[39m\u001b[38;5;124m\"\u001b[39m]\n\u001b[1;32m    111\u001b[0m \u001b[38;5;28;01melse\u001b[39;00m:\n\u001b[0;32m--> 112\u001b[0m     guide_site \u001b[38;5;241m=\u001b[39m \u001b[43mguide_trace\u001b[49m\u001b[38;5;241;43m.\u001b[39;49m\u001b[43mnodes\u001b[49m\u001b[43m[\u001b[49m\u001b[43mname\u001b[49m\u001b[43m]\u001b[49m\n\u001b[1;32m    113\u001b[0m     \u001b[38;5;28;01mif\u001b[39;00m is_validation_enabled():\n\u001b[1;32m    114\u001b[0m         check_fully_reparametrized(guide_site)\n",
      "\u001b[0;31mKeyError\u001b[0m: 'logtheta_s'"
     ]
    }
   ],
   "source": [
    "train_elbo = []\n",
    "val_elbo = []\n",
    "\n",
    "print(\"---TRAINING---\")\n",
    "for epoch in range(NUM_EPOCHS):\n",
    "    \n",
    "    epoch_elbo = 0.\n",
    "    prod_slda.train()\n",
    "    for batch in tqdm(dl):\n",
    "        \n",
    "        batch = batch_to_device(batch, DEVICE)\n",
    "        \n",
    "        bow = batch['bow']\n",
    "        meta = batch['meta']\n",
    "        \n",
    "        epoch_elbo += svi.step(bow, meta)\n",
    "\n",
    "    eval_elbo = 0\n",
    "    prod_slda.eval()\n",
    "    with torch.no_grad():\n",
    "        for batch in tqdm(eval_dl):\n",
    "            \n",
    "            batch = batch_to_device(batch, DEVICE)\n",
    "            \n",
    "            bow = batch['bow']\n",
    "            meta = batch['meta']\n",
    "    \n",
    "            eval_elbo += svi.evaluate_loss(bow, meta)\n",
    "    \n",
    "        \n",
    "    print(f'Epoch {epoch}: {epoch_elbo:.3f}')\n",
    "    print(f'Epoch {epoch}: Eval: {eval_elbo:.3f}')\n",
    "    \n",
    "    train_elbo.append(epoch_elbo)\n",
    "    val_elbo.append(eval_elbo)\n",
    "    total_epochs +=1"
   ]
  },
  {
   "cell_type": "code",
   "execution_count": 18,
   "id": "b26d2c55-5c5a-48ee-80c6-1331ac4ef92a",
   "metadata": {},
   "outputs": [
    {
     "name": "stdout",
     "output_type": "stream",
     "text": [
      "Saved to /mnt/swordfish-pool2/ndeas/prob_models/results2/pos_bigrams_formality_emoji_task_casing_punc_tags_sentiment_task/2023-12-20_10_20_44/model_epoch2_5944.042022705078.pt\n"
     ]
    }
   ],
   "source": [
    "path = os.path.join(PATH, f'model_epoch{total_epochs}_{val_elbo[-1]}.pt')\n",
    "prod_slda.eval()\n",
    "torch.save(prod_slda, path)\n",
    "print(f'Saved to {path}')"
   ]
  },
  {
   "cell_type": "code",
   "execution_count": 19,
   "id": "310e69d2-833d-41c4-a81c-e1b92c3f8e19",
   "metadata": {},
   "outputs": [
    {
     "data": {
      "image/png": "[encoded data removed]",
      "text/plain": [
       "<Figure size 640x480 with 1 Axes>"
      ]
     },
     "metadata": {},
     "output_type": "display_data"
    }
   ],
   "source": [
    "plt.plot(range(len(train_elbo)), [e/len(dl.dataset) for e in train_elbo], label = 'In-Sample')\n",
    "plt.plot(range(len(val_elbo)), [e/len(eval_dl.dataset) for e in val_elbo], label = 'Out-Sample')\n",
    "\n",
    "plt.legend()\n",
    "plt.xlabel('# Iterations')\n",
    "plt.ylabel('ELBO')\n",
    "\n",
    "plt.savefig(os.path.join(PATH, 'loss_plot_indep.png'), dpi = 600, facecolor = None)\n"
   ]
  },
  {
   "cell_type": "code",
   "execution_count": 20,
   "id": "aa70f4f4-985b-4771-b6c3-ae543d182684",
   "metadata": {},
   "outputs": [
    {
     "name": "stdout",
     "output_type": "stream",
     "text": [
      "Saved to /mnt/swordfish-pool2/ndeas/prob_models/results2/pos_bigrams_formality_emoji_task_casing_punc_tags_sentiment_task/2023-12-20_10_20_44/model_epoch2_5944.042022705078.pt\n"
     ]
    }
   ],
   "source": [
    "path = os.path.join(PATH, f'model_epoch{total_epochs}_{val_elbo[-1]}.pt')\n",
    "prod_slda.eval()\n",
    "torch.save(prod_slda, path)\n",
    "print(f'Saved to {path}')"
   ]
  },
  {
   "cell_type": "markdown",
   "id": "4ad580dc-c791-4f02-8b00-6095f1c945fc",
   "metadata": {},
   "source": [
    "# Eval "
   ]
  },
  {
   "cell_type": "markdown",
   "id": "06849b0f-0c3d-48b4-bd08-e13035b402b6",
   "metadata": {},
   "source": [
    "## Reconstruct Perplexity "
   ]
  },
  {
   "cell_type": "code",
   "execution_count": 39,
   "id": "15cf2d57-30e1-4420-a8e0-c3c880c4e0cd",
   "metadata": {},
   "outputs": [],
   "source": [
    "def calc_doc_perp(prod_slda, eval_dl, device, use_style = True):\n",
    "    total_ce, total_count = 0., 0.\n",
    "    for batch in tqdm(eval_dl):\n",
    "        for key in batch.keys():\n",
    "            if isinstance(batch[key], dict):\n",
    "                for key2 in batch[key].keys():\n",
    "                    batch[key][key2] = batch[key][key2].to(device)\n",
    "            else:\n",
    "                batch[key] = batch[key].to(device)\n",
    "\n",
    "        ce, count = prod_slda.doc_reconstruct_ce(batch, use_style = use_style)\n",
    "        total_ce += ce\n",
    "        total_count += count\n",
    "    return torch.exp(total_ce/total_count).item()\n",
    "\n",
    "def calc_style_perp(prod_slda, eval_dl, device):\n",
    "    total_ce, total_count = 0., 0.\n",
    "    for batch in tqdm(eval_dl):\n",
    "        for key in batch.keys():\n",
    "            if isinstance(batch[key], dict):\n",
    "                for key2 in batch[key].keys():\n",
    "                    batch[key][key2] = batch[key][key2].to(device)\n",
    "            else:\n",
    "                batch[key] = batch[key].to(device)\n",
    "\n",
    "        ce, count = prod_slda.style_reconstruct_ce(batch)\n",
    "        total_ce += ce\n",
    "        total_count += count\n",
    "    return torch.exp(total_ce/total_count).item()"
   ]
  },
  {
   "cell_type": "code",
   "execution_count": 36,
   "id": "212124e2-2f4e-4140-9330-5d88e1cdc677",
   "metadata": {},
   "outputs": [],
   "source": [
    "prod_slda = torch.load(path).to(DEVICE)"
   ]
  },
  {
   "cell_type": "code",
   "execution_count": 40,
   "id": "5f2ce986-17f1-4e36-afa4-23b8c3330c15",
   "metadata": {},
   "outputs": [
    {
     "name": "stderr",
     "output_type": "stream",
     "text": [
      "100%|██████████| 179/179 [00:12<00:00, 14.10it/s]\n"
     ]
    }
   ],
   "source": [
    "doc_perp      = calc_doc_perp(prod_slda, eval_dl)\n",
    "doc_only_perp = calc_doc_perp(prod_slda, eval_dl, use_style = False)\n",
    "style_perp    = calc_style_perp(prod_slda, eval_dl)"
   ]
  },
  {
   "cell_type": "code",
   "execution_count": 41,
   "id": "a4bfb47a-4b9c-4b36-a1cc-089037eabf34",
   "metadata": {},
   "outputs": [
    {
     "name": "stdout",
     "output_type": "stream",
     "text": [
      "Perp           : 3199.2117\n",
      "Perp (No Style): 3485.7412\n",
      "Style Perp     : 56.1780\n"
     ]
    }
   ],
   "source": [
    "print(f'Perp           : {doc_perp:.4f}')\n",
    "print(f'Perp (No Style): {doc_only_perp:.4f}')\n",
    "print(f'Style Perp     : {style_perp:.4f}')"
   ]
  },
  {
   "cell_type": "markdown",
   "id": "bedb88f5-5208-44eb-a101-bc489ddcc988",
   "metadata": {},
   "source": [
    "# Examine Topics "
   ]
  },
  {
   "cell_type": "code",
   "execution_count": 52,
   "id": "f0e767b9-c933-448b-8dde-10d957c2d8c4",
   "metadata": {},
   "outputs": [],
   "source": [
    "def top_beta_document(model, vectorizer, top_k=20):\n",
    "    betas_document = model.beta_document()\n",
    "    features_to_betas = {}\n",
    "    idx_to_name = {v:k for k,v in vectorizer.vocabulary_.items()}\n",
    "    for feature, logits in betas_document.items():\n",
    "        features_to_betas[feature] = []\n",
    "        num_features = logits.shape[0]\n",
    "        top_results = torch.topk(logits, top_k, dim=-1)\n",
    "        \n",
    "        ids = top_results.indices.cpu().numpy()\n",
    "        values = top_results.values.cpu().numpy()\n",
    "        \n",
    "        for i in tqdm(range(num_features)):\n",
    "            features_to_betas[feature].append({'values':values[i], 'top':[idx_to_name[idx] for idx in ids[i]]})\n",
    "                \n",
    "    return features_to_betas\n",
    "\n",
    "def top_beta_meta(model, meta_feature_to_names, top_k=20):\n",
    "    betas_metas = model.beta_meta()\n",
    "    features_to_betas = {}\n",
    "    for feature, logits in betas_metas.items():\n",
    "        idx_to_name = {i:k for i,k in enumerate(meta_feature_to_names[feature])}\n",
    "        features_to_betas[feature] = []\n",
    "        num_features = logits.shape[0]\n",
    "        top_results = torch.topk(logits, min(top_k, logits.shape[1]), dim=-1)\n",
    "        ids = top_results.indices.cpu().numpy()\n",
    "        values = top_results.values.cpu().numpy()\n",
    "        for i in tqdm(range(num_features)):\n",
    "            features_to_betas[feature].append({'values':values[i], 'top':[idx_to_name[idx] for idx in ids[i]]})\n",
    "        \n",
    "    return features_to_betas "
   ]
  },
  {
   "cell_type": "code",
   "execution_count": 53,
   "id": "a72b1e4b-b50d-476e-a0d9-71f2a14e3489",
   "metadata": {},
   "outputs": [
    {
     "name": "stderr",
     "output_type": "stream",
     "text": [
      "100%|██████████| 10/10 [00:00<00:00, 76959.71it/s]\n",
      "100%|██████████| 10/10 [00:00<00:00, 85773.09it/s]\n",
      "100%|██████████| 10/10 [00:00<00:00, 111550.64it/s]\n",
      "100%|██████████| 10/10 [00:00<00:00, 112447.83it/s]\n",
      "100%|██████████| 10/10 [00:00<00:00, 134865.08it/s]\n",
      "100%|██████████| 10/10 [00:00<00:00, 113975.65it/s]\n",
      "100%|██████████| 10/10 [00:00<00:00, 116832.98it/s]\n",
      "100%|██████████| 10/10 [00:00<00:00, 118483.16it/s]"
     ]
    },
    {
     "name": "stdout",
     "output_type": "stream",
     "text": [
      "Document Term Info\n",
      "\tbeta_topic (10):\n",
      "\t\t beta_topic (0):\n",
      "['wants', 'termination', 'general', 'caiso', 'q2', 'dial', 'ees', 'process', 'paso', 'results']\n",
      "\n",
      "\t\t beta_topic (1):\n",
      "['supervisor', 'contribute', 'thanx', 'addition', 'pulling', 'documents', 'years', 'brief', 'imbalance', 'gh']\n",
      "\n",
      "\t\t beta_topic (2):\n",
      "['mr', 'effective', 'yahoo', 'agreements', 'team', 'larry', '08', 'set', '20', 'pm']\n",
      "\n",
      "\t\t beta_topic (3):\n",
      "['mike', 'added', 'weekly', 'security', 'll', 'elizabeth', 'business', 'lets', 'kay', 'positions']\n",
      "\n",
      "\t\t beta_topic (4):\n",
      "['713', 'msn', 'delainey', 'look', 'fyi', 'robert', 'number', 'sure', 'think', 'letter']\n",
      "\n",
      "\t\t beta_topic (5):\n",
      "['reminder', 'jackie', 'soon', 'peak', 'theresa', 'cc', 'vacation', 'believe', 'est', 'language']\n",
      "\n",
      "\t\t beta_topic (6):\n",
      "['getting', 'christie', 'official', 'reports', 'pm', 'litigation', 'horton', 'unit', 'outlook', '646']\n",
      "\n",
      "\t\t beta_topic (7):\n",
      "['msn', '853', 'sara', 'analysis', 'fuel', 'car', 'assistance', 'latest', 'explorer', 'monday']\n",
      "\n",
      "\t\t beta_topic (8):\n",
      "['free', 'year', 'open', 'kill', 'leslie', 'meeting', 'weekend', 'way', 'took', 'good']\n",
      "\n",
      "\t\t beta_topic (9):\n",
      "['kitchen', 'louise', 'cc', 'htm', 'risk', 'contact', 'positions', 'idea', 'global', '2001']\n",
      "\n",
      "\tbeta_style (10):\n",
      "\t\t beta_style (0):\n",
      "['questions', 'attached', 'team', 'nat', 'gas', 'wish', '03', 'fischer', '2000', 'id']\n",
      "\n",
      "\t\t beta_style (1):\n",
      "['edmund', '58', 'beck', 'elizabeth', 'cover', 'concert', 'whats', 'saturday', 'receipt', 'lou']\n",
      "\n",
      "\t\t beta_style (2):\n",
      "['task', 'prior', 'days', 'kind', '58', 'leslie', 'approved', 'date', 'eott', 'weekend']\n",
      "\n",
      "\t\t beta_style (3):\n",
      "['need', 'changed', 'flight', 'dg', 'americas', 'region', 'awesome', 'open', 'view', 'brown']\n",
      "\n",
      "\t\t beta_style (4):\n",
      "['wife', 'long', 'instructions', '51', 'paul', 'possible', 'site', 'ees', 'html', 'victor']\n",
      "\n",
      "\t\t beta_style (5):\n",
      "['related', 'opening', 'looking', 'agreements', 'bruce', 'contract', '464', 'sense', 'sounds', 'julie']\n",
      "\n",
      "\t\t beta_style (6):\n",
      "['traded', 'eei', 'original', '646', 'mike', 'gave', 'stephanie', 'perfect', 'um', 'dasovich']\n",
      "\n",
      "\t\t beta_style (7):\n",
      "['heard', 'kitchen', '646', 'deals', 'lc', 'hard', 'taken', 'notice', 'cc', 'discuss']\n",
      "\n",
      "\t\t beta_style (8):\n",
      "['summary', 'black', 'heard', 'mentioned', 'ha', 'purchase', 'shelley', '29', 'intervention', 'discussions']\n",
      "\n",
      "\t\t beta_style (9):\n",
      "['used', 'robert', 'task', 'template', 'commercial', 'forwarded', 'company', 'remember', 'holiday', 'htm']\n",
      "\n",
      "Meta Var Info\n",
      "\tcasing (10):\n",
      "\t\t casing (0):\n",
      "['mixed', 'upper', 'lower']\n",
      "\n",
      "\t\t casing (1):\n",
      "['mixed', 'lower', 'upper']\n",
      "\n",
      "\t\t casing (2):\n",
      "['lower', 'mixed', 'upper']\n",
      "\n",
      "\t\t casing (3):\n",
      "['lower', 'upper', 'mixed']\n",
      "\n",
      "\t\t casing (4):\n",
      "['lower', 'upper', 'mixed']\n",
      "\n",
      "\t\t casing (5):\n",
      "['mixed', 'lower', 'upper']\n",
      "\n",
      "\t\t casing (6):\n",
      "['mixed', 'upper', 'lower']\n",
      "\n",
      "\t\t casing (7):\n",
      "['mixed', 'lower', 'upper']\n",
      "\n",
      "\t\t casing (8):\n",
      "['mixed', 'lower', 'upper']\n",
      "\n",
      "\t\t casing (9):\n",
      "['upper', 'lower', 'mixed']\n",
      "\n",
      "\temoji_task (10):\n",
      "\t\t emoji_task (0):\n",
      "['😊', '❤', '😘', '📷', '😍', '☀', '😜', '😎', '💙', '💜']\n",
      "\n",
      "\t\t emoji_task (1):\n",
      "['📷', '😂', '😍', '❤', '💕', '💯', '💙', '💜', '😜', '🇺🇸']\n",
      "\n",
      "\t\t emoji_task (2):\n",
      "['💜', '💕', '😂', '😉', '🇺🇸', '📸', '☀', '💙', '😁', '😘']\n",
      "\n",
      "\t\t emoji_task (3):\n",
      "['🎄', '🔥', '✨', '📷', '💯', '☀', '😁', '💙', '📸', '😜']\n",
      "\n",
      "\t\t emoji_task (4):\n",
      "['☀', '😘', '🔥', '❤', '📸', '💜', '😉', '😊', '🇺🇸', '💯']\n",
      "\n",
      "\t\t emoji_task (5):\n",
      "['😜', '💕', '☀', '😘', '📸', '🎄', '😍', '💜', '💙', '📷']\n",
      "\n",
      "\t\t emoji_task (6):\n",
      "['✨', '😉', '🎄', '💕', '🔥', '😁', '😂', '😜', '💯', '😍']\n",
      "\n",
      "\t\t emoji_task (7):\n",
      "['😂', '😍', '🎄', '💯', '💜', '😉', '💙', '😜', '🇺🇸', '😘']\n",
      "\n",
      "\t\t emoji_task (8):\n",
      "['😊', '🎄', '🇺🇸', '🔥', '📸', '😎', '☀', '😜', '😘', '📷']\n",
      "\n",
      "\t\t emoji_task (9):\n",
      "['✨', '💜', '😁', '💙', '💕', '😉', '😂', '😘', '💯', '🇺🇸']\n",
      "\n",
      "\tformality (10):\n",
      "\t\t formality (0):\n",
      "['Informal', 'Formal']\n",
      "\n",
      "\t\t formality (1):\n",
      "['Formal', 'Informal']\n",
      "\n",
      "\t\t formality (2):\n",
      "['Informal', 'Formal']\n",
      "\n",
      "\t\t formality (3):\n",
      "['Formal', 'Informal']\n",
      "\n",
      "\t\t formality (4):\n",
      "['Informal', 'Formal']\n",
      "\n",
      "\t\t formality (5):\n",
      "['Formal', 'Informal']\n",
      "\n",
      "\t\t formality (6):\n",
      "['Informal', 'Formal']\n",
      "\n",
      "\t\t formality (7):\n",
      "['Informal', 'Formal']\n",
      "\n",
      "\t\t formality (8):\n",
      "['Informal', 'Formal']\n",
      "\n",
      "\t\t formality (9):\n",
      "['Informal', 'Formal']\n",
      "\n",
      "\tpos_bigrams (10):\n",
      "\t\t pos_bigrams (0):\n",
      "['pos_bigrams:NUM SYM', 'pos_bigrams:ADP DET', 'pos_bigrams:SYM NUM', 'pos_bigrams:ADP PROPN', 'pos_bigrams:NOUN ADP', 'pos_bigrams:PROPN PROPN', 'pos_bigrams:AUX VERB', 'pos_bigrams:VERB NOUN', 'pos_bigrams:PUNCT NUM', 'pos_bigrams:PART VERB']\n",
      "\n",
      "\t\t pos_bigrams (1):\n",
      "['pos_bigrams:PUNCT VERB', 'pos_bigrams:NUM PRON', 'pos_bigrams:CCONJ DET', 'pos_bigrams:PROPN PART', 'pos_bigrams:DET ADP', 'pos_bigrams:ADJ X', 'pos_bigrams:VERB PROPN', 'pos_bigrams:NOUN INTJ', 'pos_bigrams:PROPN ADJ', 'pos_bigrams:NOUN ADP']\n",
      "\n",
      "\t\t pos_bigrams (2):\n",
      "['pos_bigrams:ADJ ADV', 'pos_bigrams:VERB PUNCT', 'pos_bigrams:ADJ NUM', 'pos_bigrams:DET NOUN', 'pos_bigrams:CCONJ AUX', 'pos_bigrams:PRON AUX', 'pos_bigrams:PART NOUN', 'pos_bigrams:X AUX', 'pos_bigrams:SYM VERB', 'pos_bigrams:NUM PROPN']\n",
      "\n",
      "\t\t pos_bigrams (3):\n",
      "['pos_bigrams:ADP SCONJ', 'pos_bigrams:PART DET', 'pos_bigrams:ADJ PUNCT', 'pos_bigrams:NUM VERB', 'pos_bigrams:AUX NUM', 'pos_bigrams:CCONJ SYM', 'pos_bigrams:PRON ADJ', 'pos_bigrams:ADP INTJ', 'pos_bigrams:SCONJ ADJ', 'pos_bigrams:NOUN PROPN']\n",
      "\n",
      "\t\t pos_bigrams (4):\n",
      "['pos_bigrams:SPACE ADJ', 'pos_bigrams:DET NUM', 'pos_bigrams:NUM X', 'pos_bigrams:DET INTJ', 'pos_bigrams:NUM ADP', 'pos_bigrams:NOUN X', 'pos_bigrams:VERB PROPN', 'pos_bigrams:PART PUNCT', 'pos_bigrams:CCONJ AUX', 'pos_bigrams:PART SPACE']\n",
      "\n",
      "\t\t pos_bigrams (5):\n",
      "['pos_bigrams:NUM PART', 'pos_bigrams:ADV ADP', 'pos_bigrams:NUM DET', 'pos_bigrams:INTJ SPACE', 'pos_bigrams:INTJ SYM', 'pos_bigrams:CCONJ DET', 'pos_bigrams:CCONJ SCONJ', 'pos_bigrams:SCONJ SPACE', 'pos_bigrams:DET INTJ', 'pos_bigrams:ADV NUM']\n",
      "\n",
      "\t\t pos_bigrams (6):\n",
      "['pos_bigrams:PROPN SYM', 'pos_bigrams:INTJ SPACE', 'pos_bigrams:PRON SCONJ', 'pos_bigrams:ADJ SYM', 'pos_bigrams:INTJ ADP', 'pos_bigrams:CCONJ PUNCT', 'pos_bigrams:ADV PROPN', 'pos_bigrams:SPACE NOUN', 'pos_bigrams:NUM PART', 'pos_bigrams:DET CCONJ']\n",
      "\n",
      "\t\t pos_bigrams (7):\n",
      "['pos_bigrams:PROPN ADV', 'pos_bigrams:PUNCT PROPN', 'pos_bigrams:NUM SYM', 'pos_bigrams:PROPN PROPN', 'pos_bigrams:PART VERB', 'pos_bigrams:VERB NOUN', 'pos_bigrams:AUX ADJ', 'pos_bigrams:VERB PART', 'pos_bigrams:SPACE ADJ', 'pos_bigrams:AUX VERB']\n",
      "\n",
      "\t\t pos_bigrams (8):\n",
      "['pos_bigrams:ADP PROPN', 'pos_bigrams:AUX VERB', 'pos_bigrams:NUM NUM', 'pos_bigrams:PROPN PROPN', 'pos_bigrams:PUNCT NUM', 'pos_bigrams:VERB PART', 'pos_bigrams:ADP PRON', 'pos_bigrams:NOUN VERB', 'pos_bigrams:PROPN ADP', 'pos_bigrams:NOUN AUX']\n",
      "\n",
      "\t\t pos_bigrams (9):\n",
      "['pos_bigrams:DET VERB', 'pos_bigrams:PUNCT SCONJ', 'pos_bigrams:VERB DET', 'pos_bigrams:ADP DET', 'pos_bigrams:VERB NOUN', 'pos_bigrams:VERB PUNCT', 'pos_bigrams:PRON VERB', 'pos_bigrams:ADV PRON', 'pos_bigrams:DET NOUN', 'pos_bigrams:PROPN NOUN']\n",
      "\n",
      "\tpunc_tags (10):\n",
      "\t\t punc_tags (0):\n",
      "['punctuation:(', 'punctuation:,', 'punctuation:`', 'punctuation:.', 'punctuation:–', 'punctuation:-', \"punctuation:'\", 'punctuation:?', 'punctuation:!', 'punctuation:*']\n",
      "\n",
      "\t\t punc_tags (1):\n",
      "['punctuation:,', 'punctuation:&', 'punctuation:(', 'punctuation:?', 'punctuation:;', \"punctuation:'\", 'punctuation:\"', 'punctuation:!', 'punctuation::', 'punctuation:‘']\n",
      "\n",
      "\t\t punc_tags (2):\n",
      "['punctuation:;', 'punctuation:\"', 'punctuation:-', 'punctuation::', 'punctuation:`', 'punctuation:–', 'punctuation:%', 'punctuation:‘', 'punctuation:_', 'none']\n",
      "\n",
      "\t\t punc_tags (3):\n",
      "['punctuation:,', 'punctuation::', 'punctuation:\"', 'punctuation:‘', 'punctuation:_', 'punctuation:`', 'punctuation:&', 'punctuation:%', 'none', 'punctuation:-']\n",
      "\n",
      "\t\t punc_tags (4):\n",
      "['punctuation:;', 'punctuation:)', 'punctuation:–', 'punctuation:!', 'punctuation:%', 'punctuation:‘', 'punctuation:.', 'punctuation::', 'none', 'punctuation:?']\n",
      "\n",
      "\t\t punc_tags (5):\n",
      "['punctuation:?', 'punctuation::', 'punctuation:`', 'punctuation:(', 'punctuation:–', 'punctuation:&', 'punctuation:*', 'punctuation:!', 'punctuation:_', 'punctuation:\"']\n",
      "\n",
      "\t\t punc_tags (6):\n",
      "['punctuation:,', 'punctuation:.', 'punctuation:‘', 'punctuation:(', 'punctuation:`', 'none', 'punctuation:–', 'punctuation:’', 'punctuation:%', 'punctuation:*']\n",
      "\n",
      "\t\t punc_tags (7):\n",
      "['punctuation:&', 'punctuation::', 'punctuation:,', 'punctuation:?', 'punctuation:)', 'punctuation:–', 'punctuation:\"', 'punctuation:.', 'punctuation:‘', \"punctuation:'\"]\n",
      "\n",
      "\t\t punc_tags (8):\n",
      "[\"punctuation:'\", 'punctuation:_', 'punctuation:)', 'none', 'punctuation:\"', 'punctuation:?', 'punctuation:.', 'punctuation:’', 'punctuation:`', 'punctuation:%']\n",
      "\n",
      "\t\t punc_tags (9):\n",
      "['punctuation:-', 'punctuation:.', 'punctuation:;', 'punctuation:)', 'punctuation:‘', 'punctuation:,', 'punctuation:\"', \"punctuation:'\", 'punctuation:(', 'punctuation:`']\n",
      "\n",
      "\tsentiment_task (10):\n",
      "\t\t sentiment_task (0):\n",
      "['neutral', 'positive', 'negative']\n",
      "\n",
      "\t\t sentiment_task (1):\n",
      "['positive', 'negative', 'neutral']\n",
      "\n",
      "\t\t sentiment_task (2):\n",
      "['neutral', 'negative', 'positive']\n",
      "\n",
      "\t\t sentiment_task (3):\n",
      "['positive', 'neutral', 'negative']\n",
      "\n",
      "\t\t sentiment_task (4):\n",
      "['neutral', 'negative', 'positive']\n",
      "\n",
      "\t\t sentiment_task (5):\n",
      "['positive', 'neutral', 'negative']\n",
      "\n",
      "\t\t sentiment_task (6):\n",
      "['positive', 'neutral', 'negative']\n",
      "\n",
      "\t\t sentiment_task (7):\n",
      "['neutral', 'positive', 'negative']\n",
      "\n",
      "\t\t sentiment_task (8):\n",
      "['positive', 'negative', 'neutral']\n",
      "\n",
      "\t\t sentiment_task (9):\n",
      "['neutral', 'negative', 'positive']\n",
      "\n"
     ]
    },
    {
     "name": "stderr",
     "output_type": "stream",
     "text": [
      "\n"
     ]
    }
   ],
   "source": [
    "top_words_per_latent = top_beta_document(prod_slda, vectorizer,  top_k=10)\n",
    "top_meta_per_latent = top_beta_meta(prod_slda, meta_features_to_names, top_k=10)\n",
    "\n",
    "print('Document Term Info')\n",
    "for latent, top in top_words_per_latent.items():\n",
    "    print(f'\\t{latent} ({len(top)}):')\n",
    "    for i, results in enumerate(top):\n",
    "        print(f'\\t\\t {latent} ({i}):\\n{results[\"top\"]}')\n",
    "        print()\n",
    "\n",
    "print('Meta Var Info')\n",
    "for latent, top in top_meta_per_latent.items():\n",
    "\n",
    "    print(f'\\t{latent} ({len(top)}):')\n",
    "    for i, results in enumerate(top):\n",
    "        print(f'\\t\\t {latent} ({i}):\\n{results[\"top\"]}')\n",
    "        print()"
   ]
  },
  {
   "cell_type": "code",
   "execution_count": null,
   "id": "540e74e6-7906-425e-83cc-5c3e80547760",
   "metadata": {},
   "outputs": [],
   "source": []
  }
 ],
 "metadata": {
  "kernelspec": {
   "display_name": "Python 3",
   "language": "python",
   "name": "python3"
  },
  "language_info": {
   "codemirror_mode": {
    "name": "ipython",
    "version": 3
   },
   "file_extension": ".py",
   "mimetype": "text/x-python",
   "name": "python",
   "nbconvert_exporter": "python",
   "pygments_lexer": "ipython3",
   "version": "3.8.10"
  }
 },
 "nbformat": 4,
 "nbformat_minor": 5
}
