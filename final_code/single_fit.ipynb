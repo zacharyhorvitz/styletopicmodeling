{
 "cells": [
  {
   "cell_type": "code",
   "execution_count": 1,
   "id": "e2f8012e-f322-4234-aa7f-212c6c1620de",
   "metadata": {},
   "outputs": [],
   "source": [
    "import numpy as np\n",
    "import pandas as pd\n",
    "from scipy import sparse\n",
    "\n",
    "from tqdm import tqdm\n",
    "tqdm.pandas()\n",
    "import matplotlib.pyplot as plt\n",
    "\n",
    "from sklearn.model_selection import train_test_split\n",
    "\n",
    "from nltk.tag import pos_tag\n",
    "from nltk.tokenize import word_tokenize\n",
    "\n",
    "import torch\n",
    "import torch.nn as nn\n",
    "import torch.nn.functional as F\n",
    "from torch.utils.data import Dataset, DataLoader\n",
    "\n",
    "import pyro\n",
    "import pyro.distributions as dist\n",
    "from pyro.infer import SVI, Trace_ELBO, TraceMeanField_ELBO\n",
    "from pyro.optim import Adam, ClippedAdam\n",
    "\n",
    "from datetime import datetime\n",
    "import json\n",
    "from collections import defaultdict\n",
    "\n",
    "import os\n",
    "\n",
    "from prod_slda.model import ProdSLDA\n",
    "from prod_slda.data_utils import *"
   ]
  },
  {
   "cell_type": "code",
   "execution_count": 2,
   "id": "06b4db78-193f-4d0c-9038-885fe2bd413a",
   "metadata": {},
   "outputs": [],
   "source": [
    "def set_seeds(seed):\n",
    "    np.random.seed(seed)\n",
    "    torch.manual_seed(seed)\n",
    "    torch.cuda.manual_seed(seed)"
   ]
  },
  {
   "cell_type": "code",
   "execution_count": 3,
   "id": "073131aa-9d82-4037-91e6-8a5d750a0605",
   "metadata": {},
   "outputs": [],
   "source": [
    "# ----- EXPERIMENT HPARAMS -----\n",
    "META_FEATURES   = ['pos_bigrams','formality','emoji_task', 'casing','punc_tags', 'sentiment_task']\n",
    "EXPERIMENT_NAME = '_'.join(META_FEATURES)\n",
    "\n",
    "# ----- DATA HPARAMS -----\n",
    "OUT_DIR       = '/mnt/swordfish-pool2/ndeas/prob_models/results2/' #'/burg/nlp/users/zfh2000/style_results'\n",
    "\n",
    "DATA_SRC      = '/mnt/swordfish-pool2/ndeas/prob_models/data/enron_processed.json' #'/burg/nlp/users/zfh2000/enron_processed.json'\n",
    "SPLITS_PATH   = '/mnt/swordfish-pool2/ndeas/prob_models/data/authors_splits.json' #'/burg/home/zfh2000/styletopicmodeling/scripts/authors_splits.json'\n",
    "SYNTHETIC_SRC = '/mnt/swordfish-pool2/ndeas/prob_models/data/gpt_4_enron_processed.json' #'/burg/nlp/users/zfh2000/gpt_4_enron_processed.json'\n",
    "\n",
    "BATCH_SIZE  = 128\n",
    "NUM_WORKERS = 2\n",
    "\n",
    "MAX_DF = 0.8\n",
    "MIN_DF = 20\n",
    "\n",
    "DATA_DIR_PATH = os.path.join(OUT_DIR,EXPERIMENT_NAME, f'maxdf{MAX_DF}_mindf{MIN_DF}_DATA')\n",
    "\n",
    "# NICK: files have been uploaded here: https://drive.google.com/drive/folders/1uF9GWEGe4aqSeo2MlachAWR9bTHsJq1q?usp=sharing\n",
    "# ['formality','irony', 'sentences', 'punc_tags', 'pos_bigrams', 'morph_tags', 'pos', 'casing', 'question',  'passive', 'emotion_task', 'sentiment_task', 'emoji_task']\n",
    "# NICK: Unsure which of of these features we should include!\n",
    "\n",
    "# ----- TRAINING HPARAMS -----\n",
    "\n",
    "LR = 1e3\n",
    "BETAS = (0.99, 0.999)\n",
    "EPS   = 1e-8\n",
    "CLIP_NORM = 10.\n",
    "ADAM_ARGS = {'lr': LR, 'betas': BETAS, 'eps': EPS, 'clip_norm': CLIP_NORM}\n",
    "\n",
    "# ----- MODEL HPARAMS -----\n",
    "\n",
    "NUM_TOPICS = 10\n",
    "NUM_STYLES = 10\n",
    "HIDDEN_DIM = 128\n",
    "DROPOUT    = 0\n",
    "\n",
    "THETA_PRIOR_DIST = 'gaussian'\n",
    "THETA_PRIOR_LOC = 0.\n",
    "THETA_PRIOR_SCALE = 1.\n",
    "\n",
    "KAPPA_PRIOR_DIST = 'gaussian'\n",
    "KAPPA_PRIOR_LOC = 0.\n",
    "KAPPA_PRIOR_SCALE = 5.\n",
    "\n",
    "STYLE_TOPIC_LINK = 'kappa_doc'\n",
    "\n",
    "NUM_EPOCHS = 30\n",
    "\n",
    "DEVICE = torch.device('cuda:0')\n",
    "\n",
    "# ----- CONFIG/SAVING -----\n",
    "date = datetime.now().strftime(\"%Y-%m-%d_%H_%M_%S\")\n",
    "\n",
    "info = {\n",
    "    'experiment_name': EXPERIMENT_NAME,\n",
    "    'num_topics': NUM_TOPICS,\n",
    "    'num_styles': NUM_STYLES,\n",
    "    'hidden_dim': HIDDEN_DIM,\n",
    "    'dropout': DROPOUT,\n",
    "    'theta_prior_dist': THETA_PRIOR_DIST,\n",
    "    'theta_prior_loc': THETA_PRIOR_LOC,\n",
    "    'theta_prior_scale': THETA_PRIOR_SCALE,\n",
    "    'kappa_prior_dist': KAPPA_PRIOR_DIST,\n",
    "    'kappa_prior_loc': KAPPA_PRIOR_LOC,\n",
    "    'kappa_prior_scale': KAPPA_PRIOR_SCALE,\n",
    "    'style_topic_link': STYLE_TOPIC_LINK,\n",
    "    'num_epochs': NUM_EPOCHS,\n",
    "    'date': date,\n",
    "    'lr': LR,\n",
    "    'betas': BETAS,\n",
    "    'eps': EPS,\n",
    "    'batch_size': BATCH_SIZE,\n",
    "    'clip_norm': CLIP_NORM,\n",
    "    'num_workers': NUM_WORKERS,\n",
    "    'device': DEVICE.type,\n",
    "    'meta_features': META_FEATURES,\n",
    "    'DATA_SRC': DATA_SRC,\n",
    "    'SPLITS_PATH': SPLITS_PATH,\n",
    "    'SYNTHETIC_SRC': SYNTHETIC_SRC,\n",
    "    'MAX_DF': MAX_DF,\n",
    "    'MIN_DF': MIN_DF,\n",
    "}\n",
    "\n",
    "PATH = os.path.join(OUT_DIR, EXPERIMENT_NAME, date)\n",
    "os.makedirs(PATH, exist_ok=True)\n",
    "with open(os.path.join(PATH, 'info.json'), 'w') as f:\n",
    "    json.dump(info, f, indent=4)"
   ]
  },
  {
   "cell_type": "markdown",
   "id": "293b5753-b006-44c8-885f-32f70635d4ca",
   "metadata": {},
   "source": [
    "# Data Setup "
   ]
  },
  {
   "cell_type": "markdown",
   "id": "6e5f1c90-decd-41a0-a23e-beec5a4692dd",
   "metadata": {
    "tags": []
   },
   "source": [
    "## Data Preprocessing/Loading"
   ]
  },
  {
   "cell_type": "code",
   "execution_count": 4,
   "id": "4f79754a-9fa0-4fdd-a647-0084e702f05f",
   "metadata": {
    "scrolled": true,
    "tags": []
   },
   "outputs": [
    {
     "name": "stdout",
     "output_type": "stream",
     "text": [
      "LOADING FROM /mnt/swordfish-pool2/ndeas/prob_models/results2/pos_bigrams_formality_emoji_task_casing_punc_tags_sentiment_task/maxdf0.8_mindf20_DATA\n"
     ]
    }
   ],
   "source": [
    "if not os.path.exists(DATA_DIR_PATH):\n",
    "    bows, meta_vectorized, vectorizer, raw_text, authors_json, meta_features_to_names = prepare_data(DATA_SRC,\n",
    "                 SYNTHETIC_SRC,\n",
    "                 SPLITS_PATH,\n",
    "                 META_FEATURES,\n",
    "                 DATA_DIR_PATH,\n",
    "                 max_df = MAX_DF,\n",
    "                 min_df = MIN_DF)\n",
    "else:\n",
    "    print(f\"LOADING FROM {DATA_DIR_PATH}\")\n",
    "    \n",
    "    bows, meta_vectorized, vectorizer, raw_text, authors_json, meta_features_to_names = load_data(DATA_DIR_PATH)   "
   ]
  },
  {
   "cell_type": "code",
   "execution_count": 5,
   "id": "fa09ece7-3827-47a7-b7fc-a441a589298c",
   "metadata": {},
   "outputs": [],
   "source": [
    "NUM_DOCS   = bows['training'].shape[0]\n",
    "VOCAB_SIZE = bows['training'].shape[1]\n",
    "META_SIZE  = {k:v.shape[1] for k,v in meta_vectorized['training'].items()}\n",
    "IDX_TO_TERM = {v:k for k,v in vectorizer.vocabulary_.items()}"
   ]
  },
  {
   "cell_type": "code",
   "execution_count": 6,
   "id": "14566e36-f4aa-4812-8633-d6e6c638f2e9",
   "metadata": {},
   "outputs": [
    {
     "name": "stdout",
     "output_type": "stream",
     "text": [
      "BOW Dims: (66668, 3098)\n",
      "META Dims: {'casing': 3, 'emoji_task': 20, 'formality': 2, 'pos_bigrams': 324, 'punc_tags': 20, 'sentiment_task': 3}\n"
     ]
    }
   ],
   "source": [
    "print(f'BOW Dims: {bows[\"training\"].shape}')\n",
    "print(f'META Dims: {META_SIZE}')"
   ]
  },
  {
   "cell_type": "markdown",
   "id": "cb6e3a9e-420d-4b50-887a-6e00b5ec98f7",
   "metadata": {},
   "source": [
    "## Dataset"
   ]
  },
  {
   "cell_type": "code",
   "execution_count": 7,
   "id": "e16dec22-8379-430b-8f25-5675e8ef8af3",
   "metadata": {},
   "outputs": [],
   "source": [
    "dataset = DocMetaData(bows['training'], meta_vectorized['training'])\n",
    "eval_dataset = DocMetaData(bows['holdout'], meta_vectorized['holdout'], split_halves = True)"
   ]
  },
  {
   "cell_type": "code",
   "execution_count": 8,
   "id": "e231698c-1fd3-48de-98ee-43843613b690",
   "metadata": {},
   "outputs": [],
   "source": [
    "dl = DataLoader(dataset, batch_size = BATCH_SIZE, num_workers = NUM_WORKERS, shuffle=True)\n",
    "eval_dl = DataLoader(eval_dataset, batch_size = BATCH_SIZE, num_workers = NUM_WORKERS, shuffle=True)"
   ]
  },
  {
   "cell_type": "code",
   "execution_count": 9,
   "id": "eb31ab8a-2164-4454-93be-ea3fb6899331",
   "metadata": {},
   "outputs": [
    {
     "name": "stdout",
     "output_type": "stream",
     "text": [
      "bow            \n",
      "\t               : torch.Size([128, 3098])\n",
      "meta\n",
      "\tcasing         : torch.Size([128, 3])\n",
      "\temoji_task     : torch.Size([128, 20])\n",
      "\tformality      : torch.Size([128, 2])\n",
      "\tpos_bigrams    : torch.Size([128, 324])\n",
      "\tpunc_tags      : torch.Size([128, 20])\n",
      "\tsentiment_task : torch.Size([128, 3])\n"
     ]
    }
   ],
   "source": [
    "train_test_batch = next(iter(dl))\n",
    "for k, v in train_test_batch.items():\n",
    "    if isinstance(v, dict):\n",
    "        print(k)\n",
    "        for k1, v1 in v.items():\n",
    "             print(f'\\t{k1:15s}: {str(v1.shape)}')\n",
    "    else:\n",
    "        print(f'{k:15s}\\n\\t{\"\":15s}: {v.shape}')"
   ]
  },
  {
   "cell_type": "code",
   "execution_count": 10,
   "id": "7cc84357-253d-49b2-9785-db722daceaae",
   "metadata": {},
   "outputs": [
    {
     "name": "stdout",
     "output_type": "stream",
     "text": [
      "bow            \n",
      "\t               : torch.Size([128, 3098])\n",
      "meta\n",
      "\tcasing         : torch.Size([128, 3])\n",
      "\temoji_task     : torch.Size([128, 20])\n",
      "\tformality      : torch.Size([128, 2])\n",
      "\tpos_bigrams    : torch.Size([128, 324])\n",
      "\tpunc_tags      : torch.Size([128, 20])\n",
      "\tsentiment_task : torch.Size([128, 3])\n",
      "bow_h1         \n",
      "\t               : torch.Size([128, 3098])\n",
      "bow_h2         \n",
      "\t               : torch.Size([128, 3098])\n"
     ]
    }
   ],
   "source": [
    "eval_test_batch = next(iter(eval_dl))\n",
    "for k, v in eval_test_batch.items():\n",
    "    if isinstance(v, dict):\n",
    "        print(k)\n",
    "        for k1, v1 in v.items():\n",
    "             print(f'\\t{k1:15s}: {str(v1.shape)}')\n",
    "    else:\n",
    "        print(f'{k:15s}\\n\\t{\"\":15s}: {v.shape}')"
   ]
  },
  {
   "cell_type": "markdown",
   "id": "6d1b0ce8-9814-431f-8ecb-f557327c933d",
   "metadata": {},
   "source": [
    "# Training"
   ]
  },
  {
   "cell_type": "markdown",
   "id": "9ed443b9-6ebe-4351-aeb7-5c85caff576b",
   "metadata": {
    "tags": []
   },
   "source": [
    "## Setup"
   ]
  },
  {
   "cell_type": "code",
   "execution_count": 11,
   "id": "5cb86678-f33a-49a1-971c-1641b2da6e66",
   "metadata": {
    "scrolled": true,
    "tags": []
   },
   "outputs": [
    {
     "name": "stdout",
     "output_type": "stream",
     "text": [
      "{'beta_topic': tensor([[-0.3162, -0.0141, -0.0655,  ..., -0.2998,  0.1398,  0.3037],\n",
      "        [ 0.1387,  0.0462,  0.1879,  ...,  0.0903, -0.0471, -0.2019],\n",
      "        [ 0.1306,  0.2427, -0.0186,  ..., -0.1506, -0.1263,  0.0336],\n",
      "        ...,\n",
      "        [ 0.2520,  0.2581, -0.0911,  ..., -0.2388, -0.0507, -0.2599],\n",
      "        [ 0.0116, -0.1242, -0.1730,  ..., -0.2861, -0.1885, -0.1310],\n",
      "        [ 0.1198,  0.1374,  0.1033,  ..., -0.2738,  0.2419,  0.2774]]), 'beta_style': tensor([[-0.2466,  0.1948, -0.1026,  ...,  0.0531, -0.2278, -0.2550],\n",
      "        [-0.0990, -0.0106, -0.0857,  ..., -0.0218,  0.2364,  0.2871],\n",
      "        [-0.2501,  0.1826,  0.0847,  ...,  0.1764, -0.2415,  0.2570],\n",
      "        ...,\n",
      "        [ 0.1013, -0.0648, -0.1167,  ...,  0.2904, -0.1321,  0.2530],\n",
      "        [-0.0799,  0.2325,  0.2374,  ...,  0.0578,  0.1194,  0.2908],\n",
      "        [ 0.1605,  0.2521, -0.0162,  ...,  0.2719, -0.0366, -0.0226]])}\n",
      "{'casing': tensor([[ 0.0043,  0.2769, -0.0183],\n",
      "        [-0.1474,  0.0129, -0.2563],\n",
      "        [-0.2766, -0.2391, -0.0406],\n",
      "        [-0.2241,  0.2627, -0.3061],\n",
      "        [ 0.1542, -0.1013,  0.1327],\n",
      "        [-0.1856,  0.2506, -0.0521],\n",
      "        [ 0.0522, -0.2709,  0.0773],\n",
      "        [ 0.1896,  0.1798,  0.1076],\n",
      "        [-0.2258,  0.0620,  0.1385],\n",
      "        [ 0.1412, -0.0179,  0.0883]]), 'emoji_task': tensor([[ 2.8374e-01,  1.5938e-01,  2.3220e-01,  2.7359e-01,  2.6916e-02,\n",
      "          2.7069e-01, -2.5584e-01,  1.7715e-01, -1.8122e-01,  5.9307e-02,\n",
      "          2.4426e-01,  2.8414e-02, -5.3396e-02, -2.7561e-02,  2.9404e-01,\n",
      "         -1.9560e-01,  3.0397e-01,  1.4008e-01, -1.1482e-02, -4.9784e-02],\n",
      "        [-1.1475e-01, -2.0757e-01, -2.9838e-01,  3.0600e-01,  2.2797e-01,\n",
      "         -2.4326e-01,  2.3264e-01,  1.9603e-01,  1.1729e-01,  2.7947e-01,\n",
      "         -1.6087e-01,  8.7090e-02,  2.6139e-01, -3.0393e-01,  2.3113e-01,\n",
      "         -1.5727e-01, -4.2160e-02, -1.2066e-01,  2.1342e-02,  9.5061e-02],\n",
      "        [ 2.4958e-01,  2.0508e-01,  1.1588e-01, -3.6004e-03, -2.0328e-01,\n",
      "          1.1914e-01,  1.2920e-01, -1.2036e-01,  2.4530e-01, -2.4728e-01,\n",
      "          1.8056e-01, -1.4456e-01, -2.5048e-01,  9.4156e-02,  2.4081e-01,\n",
      "          1.6024e-01,  2.8650e-01, -3.1282e-01, -3.3217e-02, -2.5471e-01],\n",
      "        [-1.2303e-01, -3.0610e-03, -8.9809e-02, -2.1814e-01, -1.4509e-01,\n",
      "         -3.4059e-02,  2.6498e-01,  2.3595e-01,  1.9376e-01, -2.4478e-01,\n",
      "          2.3242e-02, -1.5352e-01,  2.3349e-01, -2.8123e-01,  6.5759e-02,\n",
      "          9.4615e-02, -7.0738e-02,  1.5815e-02, -2.8261e-01,  2.0821e-02],\n",
      "        [ 5.7838e-02,  2.3724e-01,  1.8962e-01, -1.1025e-01,  3.7252e-02,\n",
      "          1.2606e-01, -1.3713e-01,  2.8520e-01,  6.5614e-02,  1.4755e-03,\n",
      "         -4.4727e-03, -2.8247e-01, -1.1531e-01,  1.5768e-01,  1.5220e-01,\n",
      "         -2.9775e-01,  3.1218e-01, -2.8538e-01,  1.6248e-01, -1.9927e-01],\n",
      "        [ 2.0823e-01,  8.5229e-02,  1.3271e-01,  1.0974e-01, -3.0919e-01,\n",
      "          2.8233e-01,  3.0012e-01,  2.6832e-01, -3.0355e-01, -1.5891e-01,\n",
      "         -1.5519e-01, -8.6216e-03,  2.3783e-01, -7.5258e-02, -2.5731e-01,\n",
      "          1.2554e-02, -2.9972e-01, -1.3023e-01,  1.0597e-01,  2.1319e-01],\n",
      "        [-2.2883e-01,  1.0082e-01, -1.7058e-01,  1.8680e-01,  2.8417e-01,\n",
      "         -1.0617e-01, -1.5584e-03, -3.0008e-01, -1.6722e-01,  1.4293e-01,\n",
      "         -2.7500e-01, -2.0670e-01, -1.3365e-01,  2.0013e-01,  1.0513e-01,\n",
      "          3.4709e-02,  1.9789e-02,  6.6100e-02, -8.9257e-02,  2.8664e-01],\n",
      "        [ 1.9227e-01,  1.6240e-01, -1.1601e-01, -2.3784e-01, -1.0266e-01,\n",
      "         -2.1294e-01, -3.6809e-03, -2.8152e-01, -6.1829e-02, -4.8291e-02,\n",
      "         -1.1948e-01, -6.1045e-02, -1.6129e-01,  2.7810e-01, -8.4848e-02,\n",
      "          2.1385e-01, -3.0354e-01, -1.6156e-02,  1.6796e-01,  2.0100e-01],\n",
      "        [-1.4169e-01, -2.2876e-02,  7.8865e-02,  1.9485e-01,  1.3338e-01,\n",
      "          9.4843e-02,  1.7533e-01,  1.2140e-02,  8.8362e-02,  1.8943e-01,\n",
      "         -2.4551e-01, -2.4651e-01,  1.2560e-02, -2.3630e-01,  1.5785e-01,\n",
      "          2.1159e-01, -1.5316e-01, -1.3383e-01, -9.2285e-02,  3.0377e-01],\n",
      "        [-1.8938e-01, -1.5975e-01, -2.2594e-02, -1.6681e-01, -1.3573e-01,\n",
      "         -2.4714e-01,  9.5416e-02,  9.6209e-03,  9.7287e-02,  2.2943e-01,\n",
      "          2.3030e-01,  2.9820e-01, -2.4070e-01, -1.5160e-01, -8.8381e-02,\n",
      "          7.2718e-05,  2.1520e-01, -1.2657e-01, -2.2752e-01,  2.9791e-01]]), 'formality': tensor([[ 0.2659,  0.2747],\n",
      "        [-0.2285,  0.2958],\n",
      "        [ 0.1407, -0.0527],\n",
      "        [ 0.1937,  0.0021],\n",
      "        [-0.2224,  0.2660],\n",
      "        [-0.2711, -0.1910],\n",
      "        [ 0.2623, -0.1417],\n",
      "        [-0.1044,  0.1101],\n",
      "        [ 0.2108,  0.1678],\n",
      "        [-0.0195, -0.1527]]), 'pos_bigrams': tensor([[ 0.1371,  0.0580, -0.0203,  ...,  0.1338, -0.2014,  0.2521],\n",
      "        [-0.2911,  0.2585,  0.2100,  ...,  0.2229, -0.1685, -0.2571],\n",
      "        [ 0.2761,  0.1495,  0.0489,  ...,  0.2809, -0.2220, -0.3068],\n",
      "        ...,\n",
      "        [-0.0407,  0.2357,  0.2389,  ..., -0.2085,  0.1439,  0.0721],\n",
      "        [-0.2114, -0.1252,  0.0453,  ..., -0.0978,  0.2901, -0.0064],\n",
      "        [ 0.1351,  0.1581,  0.1584,  ...,  0.2027, -0.0639, -0.1020]]), 'punc_tags': tensor([[ 0.3097, -0.0775, -0.2431, -0.0118,  0.0666,  0.1723,  0.1937,  0.1844,\n",
      "         -0.1076, -0.0047,  0.1456, -0.0474, -0.1755, -0.3123, -0.1741,  0.1357,\n",
      "         -0.2016, -0.2705, -0.1420, -0.0075],\n",
      "        [-0.0797, -0.1964,  0.2847,  0.1886, -0.2310, -0.1630, -0.0354, -0.2378,\n",
      "         -0.0045,  0.1136, -0.2855, -0.0755, -0.2187,  0.1203,  0.0564,  0.2488,\n",
      "          0.1079,  0.1769,  0.0026, -0.2570],\n",
      "        [ 0.1629, -0.0590,  0.2788, -0.0990,  0.0079,  0.2161,  0.1411, -0.2313,\n",
      "         -0.1924, -0.1567, -0.1574, -0.0216,  0.0425,  0.3147,  0.3111,  0.2428,\n",
      "         -0.0535,  0.0339,  0.1100, -0.0642],\n",
      "        [ 0.3004,  0.2782, -0.1411,  0.0193, -0.0401,  0.2056, -0.1115,  0.0796,\n",
      "         -0.2065, -0.1600, -0.1461,  0.0487,  0.2479, -0.1250,  0.2483,  0.2726,\n",
      "          0.0878, -0.2989,  0.0926, -0.2604],\n",
      "        [-0.2071, -0.1710,  0.1769,  0.0423, -0.0294,  0.2012,  0.3009,  0.0889,\n",
      "          0.0012,  0.2936,  0.1716,  0.0895,  0.0211,  0.1500,  0.0675, -0.2917,\n",
      "          0.1470,  0.2158, -0.1567, -0.2029],\n",
      "        [ 0.2797,  0.0532,  0.0240, -0.0081, -0.0276,  0.2720,  0.1691,  0.1016,\n",
      "         -0.2650,  0.0395,  0.1222,  0.0768, -0.1649,  0.2992, -0.1111, -0.2020,\n",
      "         -0.1830,  0.0475, -0.0381,  0.1409],\n",
      "        [ 0.0514,  0.1856, -0.0607,  0.2582, -0.0281,  0.2102, -0.2439, -0.2378,\n",
      "         -0.0405,  0.1386, -0.1580,  0.0317,  0.0265,  0.1180, -0.0048,  0.1456,\n",
      "         -0.0636,  0.2786,  0.0258, -0.0161],\n",
      "        [ 0.1498, -0.2607,  0.2149, -0.1112,  0.2139, -0.1913, -0.1306,  0.2398,\n",
      "         -0.0764,  0.0341, -0.3074,  0.0222, -0.0758,  0.2357, -0.0234,  0.0386,\n",
      "         -0.0268,  0.2366, -0.2920, -0.2057],\n",
      "        [-0.0834,  0.0135, -0.2876, -0.0121, -0.1261, -0.0556,  0.2893,  0.0664,\n",
      "          0.1253, -0.1115,  0.3017, -0.2438,  0.3107, -0.1830,  0.1210, -0.2900,\n",
      "          0.1082, -0.2186, -0.1592,  0.3111],\n",
      "        [-0.0230,  0.0864, -0.0315, -0.1640, -0.1469,  0.1992, -0.2679, -0.1204,\n",
      "          0.2782, -0.1351,  0.2441, -0.3029, -0.2833,  0.2620,  0.2661,  0.1775,\n",
      "          0.0128, -0.1934,  0.3046,  0.1305]]), 'sentiment_task': tensor([[-0.3055,  0.0676, -0.0097],\n",
      "        [-0.0507,  0.3089, -0.2189],\n",
      "        [ 0.2290, -0.0544,  0.1566],\n",
      "        [-0.2491,  0.1449,  0.1884],\n",
      "        [-0.2293, -0.2005,  0.0217],\n",
      "        [-0.1173,  0.0458,  0.1137],\n",
      "        [ 0.1878,  0.0098,  0.1829],\n",
      "        [-0.1861,  0.2753,  0.1649],\n",
      "        [-0.2404,  0.0674, -0.0075],\n",
      "        [ 0.3003,  0.0703, -0.2689]])}\n"
     ]
    }
   ],
   "source": [
    "prod_slda = ProdSLDA(\n",
    "    vocab_size = VOCAB_SIZE,\n",
    "    meta_sizes  = META_SIZE,\n",
    "    num_topics = NUM_TOPICS, num_styles = NUM_STYLES, \n",
    "    hidden = HIDDEN_DIM, dropout = DROPOUT, \n",
    "    theta_prior_dist = THETA_PRIOR_DIST, \n",
    "    theta_prior_loc = THETA_PRIOR_LOC, theta_prior_scale = THETA_PRIOR_SCALE,\n",
    "    kappa_prior_dist = KAPPA_PRIOR_DIST, \n",
    "    kappa_prior_loc = KAPPA_PRIOR_LOC, kappa_prior_scale = KAPPA_PRIOR_SCALE,\n",
    "    style_topic_link = STYLE_TOPIC_LINK,\n",
    ").to(DEVICE)\n",
    "\n",
    "print(prod_slda.beta_document())\n",
    "print(prod_slda.beta_meta())\n"
   ]
  },
  {
   "cell_type": "markdown",
   "id": "bf790d2c-25ba-4769-8703-5b9e672a735f",
   "metadata": {
    "tags": []
   },
   "source": [
    "## Training "
   ]
  },
  {
   "cell_type": "code",
   "execution_count": 12,
   "id": "4487f140-7c91-4b84-9404-af5d21b233d8",
   "metadata": {
    "scrolled": true,
    "tags": []
   },
   "outputs": [],
   "source": [
    "%%capture cap --no-stderr\n",
    "pyro.clear_param_store()\n",
    "prod_slda.train()"
   ]
  },
  {
   "cell_type": "code",
   "execution_count": 15,
   "id": "2cc93883-15f9-411c-98b0-851ee1f1390a",
   "metadata": {},
   "outputs": [],
   "source": [
    "optim = pyro.optim.ClippedAdam(ADAM_ARGS)\n",
    "\n",
    "svi = SVI(\n",
    "    pyro.poutine.scale(prod_slda.model, BATCH_SIZE/len(dl.dataset)),\n",
    "    pyro.poutine.scale(prod_slda.guide, BATCH_SIZE/len(dl.dataset)),\n",
    "    optim,\n",
    "    loss = TraceMeanField_ELBO()\n",
    ")"
   ]
  },
  {
   "cell_type": "code",
   "execution_count": 33,
   "id": "7323f1de-8558-482e-91f2-4e05b4c822d4",
   "metadata": {},
   "outputs": [],
   "source": [
    "LAST_ELBOS = 5"
   ]
  },
  {
   "cell_type": "code",
   "execution_count": null,
   "id": "fd277255-7d8c-46ad-b9df-717d027487d0",
   "metadata": {},
   "outputs": [],
   "source": [
    "def train_epochs(prod_slda, svi, train_dl, eval_dl, num_epochs, device, last_elbos = 5):\n",
    "    total_epochs = 0\n",
    "    train_elbo = []\n",
    "    val_elbo = []\n",
    "\n",
    "    print(\"---TRAINING---\")\n",
    "    for epoch in range(num_epochs):\n",
    "\n",
    "        epoch_elbo = 0.\n",
    "        prod_slda.train()\n",
    "        for batch in tqdm(train_dl):\n",
    "\n",
    "            batch = batch_to_device(batch, device)\n",
    "\n",
    "            bow = batch['bow']\n",
    "            meta = batch['meta']\n",
    "\n",
    "            epoch_elbo += svi.step(bow, meta)\n",
    "\n",
    "\n",
    "        eval_elbo = 0\n",
    "        prod_slda.eval()\n",
    "        with torch.no_grad():\n",
    "            for batch in tqdm(eval_dl):\n",
    "\n",
    "                batch = batch_to_device(batch, device)\n",
    "\n",
    "                bow = batch['bow']\n",
    "                meta = batch['meta']\n",
    "\n",
    "                eval_elbo += svi.evaluate_loss(bow, meta)           \n",
    "\n",
    "\n",
    "        print(f'Epoch {epoch}: {epoch_elbo:.3f}')\n",
    "        print(f'Epoch {epoch}: Eval: {eval_elbo:.3f}')\n",
    "\n",
    "        train_elbo.append(epoch_elbo)\n",
    "        val_elbo.append(eval_elbo)\n",
    "        total_epochs +=1\n",
    "\n",
    "        if len(val_elbo) > last_elbos:\n",
    "            val_elbo_changes = [val_elbo[i-1] - val_elbo[i] for i in range(len(val_elbo) - last_elbos, len(val_elbo))]\n",
    "            if np.mean(val_elbo_changes) > 0:\n",
    "                print('Val ELBO diverging, stopping fitting')\n",
    "                break \n",
    "                \n",
    "    return train_elbo, val_elbo"
   ]
  },
  {
   "cell_type": "code",
   "execution_count": 36,
   "id": "d39b49e5-b939-4d06-ab3b-bd3137e4d886",
   "metadata": {},
   "outputs": [
    {
     "name": "stdout",
     "output_type": "stream",
     "text": [
      "---TRAINING---\n"
     ]
    },
    {
     "name": "stderr",
     "output_type": "stream",
     "text": [
      "100%|██████████| 521/521 [00:30<00:00, 17.23it/s]\n",
      "100%|██████████| 179/179 [00:12<00:00, 13.81it/s]\n"
     ]
    },
    {
     "name": "stdout",
     "output_type": "stream",
     "text": [
      "Epoch 0: 13417.151\n",
      "Epoch 0: Eval: 4369.970\n"
     ]
    },
    {
     "name": "stderr",
     "output_type": "stream",
     "text": [
      "100%|██████████| 521/521 [00:29<00:00, 17.50it/s]\n",
      "100%|██████████| 179/179 [00:13<00:00, 13.65it/s]\n"
     ]
    },
    {
     "name": "stdout",
     "output_type": "stream",
     "text": [
      "Epoch 1: 13046.787\n",
      "Epoch 1: Eval: 4356.735\n"
     ]
    },
    {
     "name": "stderr",
     "output_type": "stream",
     "text": [
      "100%|██████████| 521/521 [00:29<00:00, 17.68it/s]\n",
      "100%|██████████| 179/179 [00:12<00:00, 14.75it/s]\n"
     ]
    },
    {
     "name": "stdout",
     "output_type": "stream",
     "text": [
      "Epoch 2: 13059.312\n",
      "Epoch 2: Eval: 4351.744\n"
     ]
    },
    {
     "name": "stderr",
     "output_type": "stream",
     "text": [
      "100%|██████████| 521/521 [00:30<00:00, 17.28it/s]\n",
      "100%|██████████| 179/179 [00:12<00:00, 13.82it/s]\n"
     ]
    },
    {
     "name": "stdout",
     "output_type": "stream",
     "text": [
      "Epoch 3: 12996.258\n",
      "Epoch 3: Eval: 4347.538\n"
     ]
    },
    {
     "name": "stderr",
     "output_type": "stream",
     "text": [
      "100%|██████████| 521/521 [00:30<00:00, 16.89it/s]\n",
      "100%|██████████| 179/179 [00:12<00:00, 14.09it/s]\n"
     ]
    },
    {
     "name": "stdout",
     "output_type": "stream",
     "text": [
      "Epoch 4: 12981.617\n",
      "Epoch 4: Eval: 4347.076\n"
     ]
    },
    {
     "name": "stderr",
     "output_type": "stream",
     "text": [
      "100%|██████████| 521/521 [00:30<00:00, 17.37it/s]\n",
      "100%|██████████| 179/179 [00:12<00:00, 14.28it/s]\n"
     ]
    },
    {
     "name": "stdout",
     "output_type": "stream",
     "text": [
      "Epoch 5: 12970.875\n",
      "Epoch 5: Eval: 4347.399\n",
      "Val ELBO diverging, stopping fitting\n"
     ]
    },
    {
     "name": "stderr",
     "output_type": "stream",
     "text": [
      "100%|██████████| 521/521 [00:29<00:00, 17.59it/s]\n",
      "100%|██████████| 179/179 [00:12<00:00, 14.76it/s]\n"
     ]
    },
    {
     "name": "stdout",
     "output_type": "stream",
     "text": [
      "Epoch 6: 12974.009\n",
      "Epoch 6: Eval: 4344.088\n",
      "Val ELBO diverging, stopping fitting\n"
     ]
    },
    {
     "name": "stderr",
     "output_type": "stream",
     "text": [
      "100%|██████████| 521/521 [00:29<00:00, 17.50it/s]\n",
      "100%|██████████| 179/179 [00:11<00:00, 15.44it/s]\n"
     ]
    },
    {
     "name": "stdout",
     "output_type": "stream",
     "text": [
      "Epoch 7: 12955.726\n",
      "Epoch 7: Eval: 4341.986\n",
      "Val ELBO diverging, stopping fitting\n"
     ]
    },
    {
     "name": "stderr",
     "output_type": "stream",
     "text": [
      "100%|██████████| 521/521 [00:29<00:00, 17.76it/s]\n",
      "100%|██████████| 179/179 [00:12<00:00, 14.29it/s]\n"
     ]
    },
    {
     "name": "stdout",
     "output_type": "stream",
     "text": [
      "Epoch 8: 12952.349\n",
      "Epoch 8: Eval: 4341.921\n",
      "Val ELBO diverging, stopping fitting\n"
     ]
    },
    {
     "name": "stderr",
     "output_type": "stream",
     "text": [
      "100%|██████████| 521/521 [00:30<00:00, 16.97it/s]\n",
      " 48%|████▊     | 86/179 [00:05<00:06, 14.47it/s]\n"
     ]
    },
    {
     "ename": "KeyboardInterrupt",
     "evalue": "",
     "output_type": "error",
     "traceback": [
      "\u001b[0;31m---------------------------------------------------------------------------\u001b[0m",
      "\u001b[0;31mKeyboardInterrupt\u001b[0m                         Traceback (most recent call last)",
      "Cell \u001b[0;32mIn [36], line 1\u001b[0m\n\u001b[0;32m----> 1\u001b[0m train_elbo, val_elbo \u001b[38;5;241m=\u001b[39m \u001b[43mtrain_epochs\u001b[49m\u001b[43m(\u001b[49m\u001b[43mprod_slda\u001b[49m\u001b[43m,\u001b[49m\u001b[43m \u001b[49m\u001b[43mdl\u001b[49m\u001b[43m,\u001b[49m\u001b[43m \u001b[49m\u001b[43meval_dl\u001b[49m\u001b[43m,\u001b[49m\u001b[43m \u001b[49m\u001b[43mNUM_EPOCHS\u001b[49m\u001b[43m,\u001b[49m\u001b[43m \u001b[49m\u001b[43mDEVICE\u001b[49m\u001b[43m,\u001b[49m\u001b[43m \u001b[49m\u001b[43mlast_elbos\u001b[49m\u001b[43m \u001b[49m\u001b[38;5;241;43m=\u001b[39;49m\u001b[43m \u001b[49m\u001b[43mLAST_ELBOS\u001b[49m\u001b[43m)\u001b[49m \n",
      "Cell \u001b[0;32mIn [35], line 24\u001b[0m, in \u001b[0;36mtrain_epochs\u001b[0;34m(prod_slda, train_dl, eval_dl, num_epochs, device, last_elbos)\u001b[0m\n\u001b[1;32m     22\u001b[0m prod_slda\u001b[38;5;241m.\u001b[39meval()\n\u001b[1;32m     23\u001b[0m \u001b[38;5;28;01mwith\u001b[39;00m torch\u001b[38;5;241m.\u001b[39mno_grad():\n\u001b[0;32m---> 24\u001b[0m     \u001b[38;5;28;01mfor\u001b[39;00m batch \u001b[38;5;129;01min\u001b[39;00m tqdm(eval_dl):\n\u001b[1;32m     26\u001b[0m         batch \u001b[38;5;241m=\u001b[39m batch_to_device(batch, device)\n\u001b[1;32m     28\u001b[0m         bow \u001b[38;5;241m=\u001b[39m batch[\u001b[38;5;124m'\u001b[39m\u001b[38;5;124mbow\u001b[39m\u001b[38;5;124m'\u001b[39m]\n",
      "File \u001b[0;32m~/envs/test_env/lib/python3.8/site-packages/tqdm/std.py:1180\u001b[0m, in \u001b[0;36mtqdm.__iter__\u001b[0;34m(self)\u001b[0m\n\u001b[1;32m   1177\u001b[0m time \u001b[38;5;241m=\u001b[39m \u001b[38;5;28mself\u001b[39m\u001b[38;5;241m.\u001b[39m_time\n\u001b[1;32m   1179\u001b[0m \u001b[38;5;28;01mtry\u001b[39;00m:\n\u001b[0;32m-> 1180\u001b[0m     \u001b[38;5;28;01mfor\u001b[39;00m obj \u001b[38;5;129;01min\u001b[39;00m iterable:\n\u001b[1;32m   1181\u001b[0m         \u001b[38;5;28;01myield\u001b[39;00m obj\n\u001b[1;32m   1182\u001b[0m         \u001b[38;5;66;03m# Update and possibly print the progressbar.\u001b[39;00m\n\u001b[1;32m   1183\u001b[0m         \u001b[38;5;66;03m# Note: does not call self.update(1) for speed optimisation.\u001b[39;00m\n",
      "File \u001b[0;32m~/envs/test_env/lib/python3.8/site-packages/torch/utils/data/dataloader.py:681\u001b[0m, in \u001b[0;36m_BaseDataLoaderIter.__next__\u001b[0;34m(self)\u001b[0m\n\u001b[1;32m    678\u001b[0m \u001b[38;5;28;01mif\u001b[39;00m \u001b[38;5;28mself\u001b[39m\u001b[38;5;241m.\u001b[39m_sampler_iter \u001b[38;5;129;01mis\u001b[39;00m \u001b[38;5;28;01mNone\u001b[39;00m:\n\u001b[1;32m    679\u001b[0m     \u001b[38;5;66;03m# TODO(https://github.com/pytorch/pytorch/issues/76750)\u001b[39;00m\n\u001b[1;32m    680\u001b[0m     \u001b[38;5;28mself\u001b[39m\u001b[38;5;241m.\u001b[39m_reset()  \u001b[38;5;66;03m# type: ignore[call-arg]\u001b[39;00m\n\u001b[0;32m--> 681\u001b[0m data \u001b[38;5;241m=\u001b[39m \u001b[38;5;28;43mself\u001b[39;49m\u001b[38;5;241;43m.\u001b[39;49m\u001b[43m_next_data\u001b[49m\u001b[43m(\u001b[49m\u001b[43m)\u001b[49m\n\u001b[1;32m    682\u001b[0m \u001b[38;5;28mself\u001b[39m\u001b[38;5;241m.\u001b[39m_num_yielded \u001b[38;5;241m+\u001b[39m\u001b[38;5;241m=\u001b[39m \u001b[38;5;241m1\u001b[39m\n\u001b[1;32m    683\u001b[0m \u001b[38;5;28;01mif\u001b[39;00m \u001b[38;5;28mself\u001b[39m\u001b[38;5;241m.\u001b[39m_dataset_kind \u001b[38;5;241m==\u001b[39m _DatasetKind\u001b[38;5;241m.\u001b[39mIterable \u001b[38;5;129;01mand\u001b[39;00m \\\n\u001b[1;32m    684\u001b[0m         \u001b[38;5;28mself\u001b[39m\u001b[38;5;241m.\u001b[39m_IterableDataset_len_called \u001b[38;5;129;01mis\u001b[39;00m \u001b[38;5;129;01mnot\u001b[39;00m \u001b[38;5;28;01mNone\u001b[39;00m \u001b[38;5;129;01mand\u001b[39;00m \\\n\u001b[1;32m    685\u001b[0m         \u001b[38;5;28mself\u001b[39m\u001b[38;5;241m.\u001b[39m_num_yielded \u001b[38;5;241m>\u001b[39m \u001b[38;5;28mself\u001b[39m\u001b[38;5;241m.\u001b[39m_IterableDataset_len_called:\n",
      "File \u001b[0;32m~/envs/test_env/lib/python3.8/site-packages/torch/utils/data/dataloader.py:1359\u001b[0m, in \u001b[0;36m_MultiProcessingDataLoaderIter._next_data\u001b[0;34m(self)\u001b[0m\n\u001b[1;32m   1356\u001b[0m     \u001b[38;5;28;01mreturn\u001b[39;00m \u001b[38;5;28mself\u001b[39m\u001b[38;5;241m.\u001b[39m_process_data(data)\n\u001b[1;32m   1358\u001b[0m \u001b[38;5;28;01massert\u001b[39;00m \u001b[38;5;129;01mnot\u001b[39;00m \u001b[38;5;28mself\u001b[39m\u001b[38;5;241m.\u001b[39m_shutdown \u001b[38;5;129;01mand\u001b[39;00m \u001b[38;5;28mself\u001b[39m\u001b[38;5;241m.\u001b[39m_tasks_outstanding \u001b[38;5;241m>\u001b[39m \u001b[38;5;241m0\u001b[39m\n\u001b[0;32m-> 1359\u001b[0m idx, data \u001b[38;5;241m=\u001b[39m \u001b[38;5;28;43mself\u001b[39;49m\u001b[38;5;241;43m.\u001b[39;49m\u001b[43m_get_data\u001b[49m\u001b[43m(\u001b[49m\u001b[43m)\u001b[49m\n\u001b[1;32m   1360\u001b[0m \u001b[38;5;28mself\u001b[39m\u001b[38;5;241m.\u001b[39m_tasks_outstanding \u001b[38;5;241m-\u001b[39m\u001b[38;5;241m=\u001b[39m \u001b[38;5;241m1\u001b[39m\n\u001b[1;32m   1361\u001b[0m \u001b[38;5;28;01mif\u001b[39;00m \u001b[38;5;28mself\u001b[39m\u001b[38;5;241m.\u001b[39m_dataset_kind \u001b[38;5;241m==\u001b[39m _DatasetKind\u001b[38;5;241m.\u001b[39mIterable:\n\u001b[1;32m   1362\u001b[0m     \u001b[38;5;66;03m# Check for _IterableDatasetStopIteration\u001b[39;00m\n",
      "File \u001b[0;32m~/envs/test_env/lib/python3.8/site-packages/torch/utils/data/dataloader.py:1325\u001b[0m, in \u001b[0;36m_MultiProcessingDataLoaderIter._get_data\u001b[0;34m(self)\u001b[0m\n\u001b[1;32m   1321\u001b[0m     \u001b[38;5;66;03m# In this case, `self._data_queue` is a `queue.Queue`,. But we don't\u001b[39;00m\n\u001b[1;32m   1322\u001b[0m     \u001b[38;5;66;03m# need to call `.task_done()` because we don't use `.join()`.\u001b[39;00m\n\u001b[1;32m   1323\u001b[0m \u001b[38;5;28;01melse\u001b[39;00m:\n\u001b[1;32m   1324\u001b[0m     \u001b[38;5;28;01mwhile\u001b[39;00m \u001b[38;5;28;01mTrue\u001b[39;00m:\n\u001b[0;32m-> 1325\u001b[0m         success, data \u001b[38;5;241m=\u001b[39m \u001b[38;5;28;43mself\u001b[39;49m\u001b[38;5;241;43m.\u001b[39;49m\u001b[43m_try_get_data\u001b[49m\u001b[43m(\u001b[49m\u001b[43m)\u001b[49m\n\u001b[1;32m   1326\u001b[0m         \u001b[38;5;28;01mif\u001b[39;00m success:\n\u001b[1;32m   1327\u001b[0m             \u001b[38;5;28;01mreturn\u001b[39;00m data\n",
      "File \u001b[0;32m~/envs/test_env/lib/python3.8/site-packages/torch/utils/data/dataloader.py:1163\u001b[0m, in \u001b[0;36m_MultiProcessingDataLoaderIter._try_get_data\u001b[0;34m(self, timeout)\u001b[0m\n\u001b[1;32m   1150\u001b[0m \u001b[38;5;28;01mdef\u001b[39;00m \u001b[38;5;21m_try_get_data\u001b[39m(\u001b[38;5;28mself\u001b[39m, timeout\u001b[38;5;241m=\u001b[39m_utils\u001b[38;5;241m.\u001b[39mMP_STATUS_CHECK_INTERVAL):\n\u001b[1;32m   1151\u001b[0m     \u001b[38;5;66;03m# Tries to fetch data from `self._data_queue` once for a given timeout.\u001b[39;00m\n\u001b[1;32m   1152\u001b[0m     \u001b[38;5;66;03m# This can also be used as inner loop of fetching without timeout, with\u001b[39;00m\n\u001b[0;32m   (...)\u001b[0m\n\u001b[1;32m   1160\u001b[0m     \u001b[38;5;66;03m# Returns a 2-tuple:\u001b[39;00m\n\u001b[1;32m   1161\u001b[0m     \u001b[38;5;66;03m#   (bool: whether successfully get data, any: data if successful else None)\u001b[39;00m\n\u001b[1;32m   1162\u001b[0m     \u001b[38;5;28;01mtry\u001b[39;00m:\n\u001b[0;32m-> 1163\u001b[0m         data \u001b[38;5;241m=\u001b[39m \u001b[38;5;28;43mself\u001b[39;49m\u001b[38;5;241;43m.\u001b[39;49m\u001b[43m_data_queue\u001b[49m\u001b[38;5;241;43m.\u001b[39;49m\u001b[43mget\u001b[49m\u001b[43m(\u001b[49m\u001b[43mtimeout\u001b[49m\u001b[38;5;241;43m=\u001b[39;49m\u001b[43mtimeout\u001b[49m\u001b[43m)\u001b[49m\n\u001b[1;32m   1164\u001b[0m         \u001b[38;5;28;01mreturn\u001b[39;00m (\u001b[38;5;28;01mTrue\u001b[39;00m, data)\n\u001b[1;32m   1165\u001b[0m     \u001b[38;5;28;01mexcept\u001b[39;00m \u001b[38;5;167;01mException\u001b[39;00m \u001b[38;5;28;01mas\u001b[39;00m e:\n\u001b[1;32m   1166\u001b[0m         \u001b[38;5;66;03m# At timeout and error, we manually check whether any worker has\u001b[39;00m\n\u001b[1;32m   1167\u001b[0m         \u001b[38;5;66;03m# failed. Note that this is the only mechanism for Windows to detect\u001b[39;00m\n\u001b[1;32m   1168\u001b[0m         \u001b[38;5;66;03m# worker failures.\u001b[39;00m\n",
      "File \u001b[0;32m/usr/lib/python3.8/multiprocessing/queues.py:116\u001b[0m, in \u001b[0;36mQueue.get\u001b[0;34m(self, block, timeout)\u001b[0m\n\u001b[1;32m    114\u001b[0m         \u001b[38;5;28mself\u001b[39m\u001b[38;5;241m.\u001b[39m_rlock\u001b[38;5;241m.\u001b[39mrelease()\n\u001b[1;32m    115\u001b[0m \u001b[38;5;66;03m# unserialize the data after having released the lock\u001b[39;00m\n\u001b[0;32m--> 116\u001b[0m \u001b[38;5;28;01mreturn\u001b[39;00m \u001b[43m_ForkingPickler\u001b[49m\u001b[38;5;241;43m.\u001b[39;49m\u001b[43mloads\u001b[49m\u001b[43m(\u001b[49m\u001b[43mres\u001b[49m\u001b[43m)\u001b[49m\n",
      "File \u001b[0;32m~/envs/test_env/lib/python3.8/site-packages/torch/multiprocessing/reductions.py:297\u001b[0m, in \u001b[0;36mrebuild_storage_fd\u001b[0;34m(cls, df, size)\u001b[0m\n\u001b[1;32m    296\u001b[0m \u001b[38;5;28;01mdef\u001b[39;00m \u001b[38;5;21mrebuild_storage_fd\u001b[39m(\u001b[38;5;28mcls\u001b[39m, df, size):\n\u001b[0;32m--> 297\u001b[0m     fd \u001b[38;5;241m=\u001b[39m \u001b[43mdf\u001b[49m\u001b[38;5;241;43m.\u001b[39;49m\u001b[43mdetach\u001b[49m\u001b[43m(\u001b[49m\u001b[43m)\u001b[49m\n\u001b[1;32m    298\u001b[0m     \u001b[38;5;28;01mtry\u001b[39;00m:\n\u001b[1;32m    299\u001b[0m         storage \u001b[38;5;241m=\u001b[39m storage_from_cache(\u001b[38;5;28mcls\u001b[39m, fd_id(fd))\n",
      "File \u001b[0;32m/usr/lib/python3.8/multiprocessing/resource_sharer.py:57\u001b[0m, in \u001b[0;36mDupFd.detach\u001b[0;34m(self)\u001b[0m\n\u001b[1;32m     55\u001b[0m \u001b[38;5;28;01mdef\u001b[39;00m \u001b[38;5;21mdetach\u001b[39m(\u001b[38;5;28mself\u001b[39m):\n\u001b[1;32m     56\u001b[0m     \u001b[38;5;124;03m'''Get the fd.  This should only be called once.'''\u001b[39;00m\n\u001b[0;32m---> 57\u001b[0m     \u001b[38;5;28;01mwith\u001b[39;00m \u001b[43m_resource_sharer\u001b[49m\u001b[38;5;241;43m.\u001b[39;49m\u001b[43mget_connection\u001b[49m\u001b[43m(\u001b[49m\u001b[38;5;28;43mself\u001b[39;49m\u001b[38;5;241;43m.\u001b[39;49m\u001b[43m_id\u001b[49m\u001b[43m)\u001b[49m \u001b[38;5;28;01mas\u001b[39;00m conn:\n\u001b[1;32m     58\u001b[0m         \u001b[38;5;28;01mreturn\u001b[39;00m reduction\u001b[38;5;241m.\u001b[39mrecv_handle(conn)\n",
      "File \u001b[0;32m/usr/lib/python3.8/multiprocessing/resource_sharer.py:88\u001b[0m, in \u001b[0;36m_ResourceSharer.get_connection\u001b[0;34m(ident)\u001b[0m\n\u001b[1;32m     86\u001b[0m address, key \u001b[38;5;241m=\u001b[39m ident\n\u001b[1;32m     87\u001b[0m c \u001b[38;5;241m=\u001b[39m Client(address, authkey\u001b[38;5;241m=\u001b[39mprocess\u001b[38;5;241m.\u001b[39mcurrent_process()\u001b[38;5;241m.\u001b[39mauthkey)\n\u001b[0;32m---> 88\u001b[0m \u001b[43mc\u001b[49m\u001b[38;5;241;43m.\u001b[39;49m\u001b[43msend\u001b[49m\u001b[43m(\u001b[49m\u001b[43m(\u001b[49m\u001b[43mkey\u001b[49m\u001b[43m,\u001b[49m\u001b[43m \u001b[49m\u001b[43mos\u001b[49m\u001b[38;5;241;43m.\u001b[39;49m\u001b[43mgetpid\u001b[49m\u001b[43m(\u001b[49m\u001b[43m)\u001b[49m\u001b[43m)\u001b[49m\u001b[43m)\u001b[49m\n\u001b[1;32m     89\u001b[0m \u001b[38;5;28;01mreturn\u001b[39;00m c\n",
      "File \u001b[0;32m/usr/lib/python3.8/multiprocessing/connection.py:206\u001b[0m, in \u001b[0;36m_ConnectionBase.send\u001b[0;34m(self, obj)\u001b[0m\n\u001b[1;32m    204\u001b[0m \u001b[38;5;28mself\u001b[39m\u001b[38;5;241m.\u001b[39m_check_closed()\n\u001b[1;32m    205\u001b[0m \u001b[38;5;28mself\u001b[39m\u001b[38;5;241m.\u001b[39m_check_writable()\n\u001b[0;32m--> 206\u001b[0m \u001b[38;5;28;43mself\u001b[39;49m\u001b[38;5;241;43m.\u001b[39;49m\u001b[43m_send_bytes\u001b[49m\u001b[43m(\u001b[49m\u001b[43m_ForkingPickler\u001b[49m\u001b[38;5;241;43m.\u001b[39;49m\u001b[43mdumps\u001b[49m\u001b[43m(\u001b[49m\u001b[43mobj\u001b[49m\u001b[43m)\u001b[49m\u001b[43m)\u001b[49m\n",
      "\u001b[0;31mKeyboardInterrupt\u001b[0m: "
     ]
    }
   ],
   "source": [
    "train_elbo, val_elbo = train_epochs(prod_slda, dl, eval_dl, NUM_EPOCHS, DEVICE, last_elbos = LAST_ELBOS) "
   ]
  },
  {
   "cell_type": "code",
   "execution_count": 19,
   "id": "b26d2c55-5c5a-48ee-80c6-1331ac4ef92a",
   "metadata": {},
   "outputs": [
    {
     "name": "stdout",
     "output_type": "stream",
     "text": [
      "Saved to /mnt/swordfish-pool2/ndeas/prob_models/results2/pos_bigrams_formality_emoji_task_casing_punc_tags_sentiment_task/2023-12-20_11_57_18/model_epoch50_6037.828990936279.pt\n"
     ]
    }
   ],
   "source": [
    "path = os.path.join(PATH, f'model_epoch{total_epochs}_{val_elbo[-1]}.pt')\n",
    "prod_slda.eval()\n",
    "torch.save(prod_slda, path)\n",
    "print(f'Saved to {path}')"
   ]
  },
  {
   "cell_type": "code",
   "execution_count": 20,
   "id": "310e69d2-833d-41c4-a81c-e1b92c3f8e19",
   "metadata": {},
   "outputs": [
    {
     "data": {
      "image/png": "[encoded data removed]",
      "text/plain": [
       "<Figure size 640x480 with 1 Axes>"
      ]
     },
     "metadata": {},
     "output_type": "display_data"
    }
   ],
   "source": [
    "plt.plot(range(len(train_elbo)), [e/len(dl.dataset) for e in train_elbo], label = 'In-Sample')\n",
    "plt.plot(range(len(val_elbo)), [e/len(eval_dl.dataset) for e in val_elbo], label = 'Out-Sample')\n",
    "\n",
    "plt.legend()\n",
    "plt.xlabel('# Iterations')\n",
    "plt.ylabel('ELBO')\n",
    "\n",
    "plt.savefig(os.path.join(PATH, 'loss_plot_indep.png'), dpi = 600, facecolor = None)\n"
   ]
  },
  {
   "cell_type": "code",
   "execution_count": 21,
   "id": "aa70f4f4-985b-4771-b6c3-ae543d182684",
   "metadata": {},
   "outputs": [
    {
     "name": "stdout",
     "output_type": "stream",
     "text": [
      "Saved to /mnt/swordfish-pool2/ndeas/prob_models/results2/pos_bigrams_formality_emoji_task_casing_punc_tags_sentiment_task/2023-12-20_11_57_18/model_epoch50_6037.828990936279.pt\n"
     ]
    }
   ],
   "source": [
    "path = os.path.join(PATH, f'model_epoch{total_epochs}_{val_elbo[-1]}.pt')\n",
    "prod_slda.eval()\n",
    "torch.save(prod_slda, path)\n",
    "print(f'Saved to {path}')"
   ]
  },
  {
   "cell_type": "markdown",
   "id": "4ad580dc-c791-4f02-8b00-6095f1c945fc",
   "metadata": {},
   "source": [
    "# Eval "
   ]
  },
  {
   "cell_type": "markdown",
   "id": "06849b0f-0c3d-48b4-bd08-e13035b402b6",
   "metadata": {},
   "source": [
    "## Reconstruct Perplexity "
   ]
  },
  {
   "cell_type": "code",
   "execution_count": 22,
   "id": "15cf2d57-30e1-4420-a8e0-c3c880c4e0cd",
   "metadata": {},
   "outputs": [],
   "source": [
    "def calc_doc_perp(prod_slda, eval_dl, device, use_style = True):\n",
    "    total_ce, total_count = 0., 0.\n",
    "    for batch in tqdm(eval_dl):\n",
    "        for key in batch.keys():\n",
    "            if isinstance(batch[key], dict):\n",
    "                for key2 in batch[key].keys():\n",
    "                    batch[key][key2] = batch[key][key2].to(device)\n",
    "            else:\n",
    "                batch[key] = batch[key].to(device)\n",
    "\n",
    "        ce, count = prod_slda.doc_reconstruct_ce(batch, use_style = use_style)\n",
    "        total_ce += ce\n",
    "        total_count += count\n",
    "    return torch.exp(total_ce/total_count).item()\n",
    "\n",
    "def calc_style_perp(prod_slda, eval_dl, device):\n",
    "    total_ce, total_count = 0., 0.\n",
    "    for batch in tqdm(eval_dl):\n",
    "        for key in batch.keys():\n",
    "            if isinstance(batch[key], dict):\n",
    "                for key2 in batch[key].keys():\n",
    "                    batch[key][key2] = batch[key][key2].to(device)\n",
    "            else:\n",
    "                batch[key] = batch[key].to(device)\n",
    "\n",
    "        ce, count = prod_slda.style_reconstruct_ce(batch)\n",
    "        total_ce += ce\n",
    "        total_count += count\n",
    "    return torch.exp(total_ce/total_count).item()"
   ]
  },
  {
   "cell_type": "code",
   "execution_count": 23,
   "id": "212124e2-2f4e-4140-9330-5d88e1cdc677",
   "metadata": {},
   "outputs": [],
   "source": [
    "prod_slda = torch.load(path).to(DEVICE)"
   ]
  },
  {
   "cell_type": "code",
   "execution_count": 25,
   "id": "5f2ce986-17f1-4e36-afa4-23b8c3330c15",
   "metadata": {},
   "outputs": [
    {
     "name": "stderr",
     "output_type": "stream",
     "text": [
      "100%|██████████| 179/179 [00:12<00:00, 14.91it/s]\n",
      "100%|██████████| 179/179 [00:12<00:00, 14.63it/s]\n",
      "100%|██████████| 179/179 [00:12<00:00, 14.78it/s]\n"
     ]
    }
   ],
   "source": [
    "doc_perp      = calc_doc_perp(prod_slda, eval_dl, DEVICE)\n",
    "doc_only_perp = calc_doc_perp(prod_slda, eval_dl, DEVICE, use_style = False)\n",
    "style_perp    = calc_style_perp(prod_slda, eval_dl, DEVICE)"
   ]
  },
  {
   "cell_type": "code",
   "execution_count": 26,
   "id": "a4bfb47a-4b9c-4b36-a1cc-089037eabf34",
   "metadata": {},
   "outputs": [
    {
     "name": "stdout",
     "output_type": "stream",
     "text": [
      "Perp           : 2498.8491\n",
      "Perp (No Style): 2315.7844\n",
      "Style Perp     : 57.8906\n"
     ]
    }
   ],
   "source": [
    "print(f'Perp           : {doc_perp:.4f}')\n",
    "print(f'Perp (No Style): {doc_only_perp:.4f}')\n",
    "print(f'Style Perp     : {style_perp:.4f}')"
   ]
  },
  {
   "cell_type": "markdown",
   "id": "bedb88f5-5208-44eb-a101-bc489ddcc988",
   "metadata": {},
   "source": [
    "# Examine Topics "
   ]
  },
  {
   "cell_type": "code",
   "execution_count": 29,
   "id": "f0e767b9-c933-448b-8dde-10d957c2d8c4",
   "metadata": {},
   "outputs": [],
   "source": [
    "def top_beta_document(model, vectorizer, top_k=20):\n",
    "    betas_document = model.beta_document()\n",
    "    features_to_betas = {}\n",
    "    idx_to_name = {v:k for k,v in vectorizer.vocabulary_.items()}\n",
    "    for feature, logits in betas_document.items():\n",
    "        features_to_betas[feature] = []\n",
    "        num_features = logits.shape[0]\n",
    "        top_results = torch.topk(logits, top_k, dim=-1)\n",
    "        \n",
    "        ids = top_results.indices.cpu().numpy()\n",
    "        values = top_results.values.cpu().numpy()\n",
    "        \n",
    "        for i in tqdm(range(num_features)):\n",
    "            features_to_betas[feature].append({'values':values[i], 'top':[idx_to_name[idx] for idx in ids[i]]})\n",
    "                \n",
    "    return features_to_betas\n",
    "\n",
    "def top_beta_meta(model, meta_feature_to_names, top_k=20):\n",
    "    betas_metas = model.beta_meta()\n",
    "    features_to_betas = {}\n",
    "    for feature, logits in betas_metas.items():\n",
    "        idx_to_name = {i:k for i,k in enumerate(meta_feature_to_names[feature])}\n",
    "        features_to_betas[feature] = []\n",
    "        num_features = logits.shape[0]\n",
    "        top_results = torch.topk(logits, min(top_k, logits.shape[1]), dim=-1)\n",
    "        ids = top_results.indices.cpu().numpy()\n",
    "        values = top_results.values.cpu().numpy()\n",
    "        for i in tqdm(range(num_features)):\n",
    "            features_to_betas[feature].append({'values':values[i], 'top':[idx_to_name[idx] for idx in ids[i]]})\n",
    "        \n",
    "    return features_to_betas "
   ]
  },
  {
   "cell_type": "code",
   "execution_count": 30,
   "id": "a72b1e4b-b50d-476e-a0d9-71f2a14e3489",
   "metadata": {},
   "outputs": [
    {
     "name": "stderr",
     "output_type": "stream",
     "text": [
      "100%|██████████| 10/10 [00:00<00:00, 40060.21it/s]\n",
      "100%|██████████| 10/10 [00:00<00:00, 75983.77it/s]\n",
      "100%|██████████| 10/10 [00:00<00:00, 90006.52it/s]\n",
      "100%|██████████| 10/10 [00:00<00:00, 79287.41it/s]\n",
      "100%|██████████| 10/10 [00:00<00:00, 127875.12it/s]\n",
      "100%|██████████| 10/10 [00:00<00:00, 102801.57it/s]\n",
      "100%|██████████| 10/10 [00:00<00:00, 108660.73it/s]\n",
      "100%|██████████| 10/10 [00:00<00:00, 102051.19it/s]"
     ]
    },
    {
     "name": "stdout",
     "output_type": "stream",
     "text": [
      "Document Term Info\n",
      "\tbeta_topic (10):\n",
      "\t\t beta_topic (0):\n",
      "['com', 'asp', 'http', 'id', 'site', 'report', '2002', 'file', 'password', 'chris']\n",
      "\n",
      "\t\t beta_topic (1):\n",
      "['going', 'did', 'sorry', 'weekend', 'didn', 'chairperson', 'love', 'hope', 'heard', 'desk']\n",
      "\n",
      "\t\t beta_topic (2):\n",
      "['know', 'need', 'let', 'john', 'sure', 'just', 'thanks', 'help', 'don', 'make']\n",
      "\n",
      "\t\t beta_topic (3):\n",
      "['date', 'manual', 'sent', 'schedule', 'task', 'net', 'days', 'download', 'hour', 'priority']\n",
      "\n",
      "\t\t beta_topic (4):\n",
      "['vince', 'inline', 'wednesday', 'meeting', 'highlighted', 'thursday', 'works', 'follows', 'afternoon', 'attachment']\n",
      "\n",
      "\t\t beta_topic (5):\n",
      "['power', 'comments', 'received', 'counterparty', 'changes', 'tana', 'letter', 'amendment', 'draft', 'agreement']\n",
      "\n",
      "\t\t beta_topic (6):\n",
      "['2001', '04', '06', '05', '2000', '08', '15', '01', '25', '09']\n",
      "\n",
      "\t\t beta_topic (7):\n",
      "['email', '782', 'corp', 'number', '415', 'address', 'america', 'tap', 'enron', 'message']\n",
      "\n",
      "\t\t beta_topic (8):\n",
      "['fyi', 'advised', 'problem', 'attach', 'notices', 'creative', 'alma', 'responding', 'amy', 'jpg']\n",
      "\n",
      "\t\t beta_topic (9):\n",
      "['looks', 'rick', 'sounds', 'fine', 'yes', 'does', 'ok', 'good', 'like', 'resume']\n",
      "\n",
      "\tbeta_style (10):\n",
      "\t\t beta_style (0):\n",
      "['msn', 'days', 'agreement', 'executed', 'deals', 'free', 'master', 'power', 'received', 'works']\n",
      "\n",
      "\t\t beta_style (1):\n",
      "['vince', 'www', 'net', 'sent', 'jim', 'louise', 'message', 'talk', 'dave', 'rick']\n",
      "\n",
      "\t\t beta_style (2):\n",
      "['hunter', 'dg', 'handle', 'met', 'answer', 'thompson', 'robin', 'stacy', 'approve', 'ina']\n",
      "\n",
      "\t\t beta_style (3):\n",
      "['2000', '06', '2001', 'pm', '04', '05', '11', '03', '09', 'looks']\n",
      "\n",
      "\t\t beta_style (4):\n",
      "['xls', 'fyi', 'attachment', 'file', 'html', 'jpg', 'http', 'follows', 'print', 'htm']\n",
      "\n",
      "\t\t beta_style (5):\n",
      "['hourahead', 'date', 'schedule', 'market', 'hour', 'number', 'download', 'required', 'failed', 'intervention']\n",
      "\n",
      "\t\t beta_style (6):\n",
      "['don', 'just', 'going', 'having', 'think', 'home', 'tonight', 'got', 'didn', 'weekend']\n",
      "\n",
      "\t\t beta_style (7):\n",
      "['met', 'thompson', 'funny', 'im', 'fyi', 'cut', 'dont', 'wish', 'thats', 'baby']\n",
      "\n",
      "\t\t beta_style (8):\n",
      "['kitchen', '853', '713', 'task', 'enron', '782', 'description', '415', '000', 'stacey']\n",
      "\n",
      "\t\t beta_style (9):\n",
      "['questions', 'comments', 'thanks', 'review', 'information', 'let', 'list', 'thank', 'know', 'copy']\n",
      "\n",
      "Meta Var Info\n",
      "\tcasing (10):\n",
      "\t\t casing (0):\n",
      "['mixed', 'lower', 'upper']\n",
      "\n",
      "\t\t casing (1):\n",
      "['mixed', 'upper', 'lower']\n",
      "\n",
      "\t\t casing (2):\n",
      "['lower', 'upper', 'mixed']\n",
      "\n",
      "\t\t casing (3):\n",
      "['mixed', 'lower', 'upper']\n",
      "\n",
      "\t\t casing (4):\n",
      "['lower', 'upper', 'mixed']\n",
      "\n",
      "\t\t casing (5):\n",
      "['mixed', 'lower', 'upper']\n",
      "\n",
      "\t\t casing (6):\n",
      "['lower', 'mixed', 'upper']\n",
      "\n",
      "\t\t casing (7):\n",
      "['lower', 'upper', 'mixed']\n",
      "\n",
      "\t\t casing (8):\n",
      "['lower', 'mixed', 'upper']\n",
      "\n",
      "\t\t casing (9):\n",
      "['mixed', 'upper', 'lower']\n",
      "\n",
      "\temoji_task (10):\n",
      "\t\t emoji_task (0):\n",
      "['😂', '😎', '🔥', '🇺🇸', '✨', '😊', '📷', '📸', '💜', '😜']\n",
      "\n",
      "\t\t emoji_task (1):\n",
      "['😊', '❤', '😂', '😎', '😉', '🔥', '💜', '😘', '📸', '😜']\n",
      "\n",
      "\t\t emoji_task (2):\n",
      "['😂', '😉', '❤', '✨', '💕', '😍', '🇺🇸', '📸', '🎄', '😁']\n",
      "\n",
      "\t\t emoji_task (3):\n",
      "['📷', '✨', '😊', '❤', '📸', '🎄', '💜', '😜', '😂', '💕']\n",
      "\n",
      "\t\t emoji_task (4):\n",
      "['❤', '🇺🇸', '🔥', '😘', '✨', '📷', '😍', '💕', '😉', '📸']\n",
      "\n",
      "\t\t emoji_task (5):\n",
      "['😎', '😂', '😊', '✨', '🔥', '🇺🇸', '📸', '💜', '😜', '🎄']\n",
      "\n",
      "\t\t emoji_task (6):\n",
      "['😂', '😉', '😊', '✨', '😜', '💕', '📸', '💜', '🎄', '😎']\n",
      "\n",
      "\t\t emoji_task (7):\n",
      "['😂', '✨', '🇺🇸', '😍', '💕', '😘', '📸', '🎄', '😁', '😜']\n",
      "\n",
      "\t\t emoji_task (8):\n",
      "['😎', '✨', '🔥', '🇺🇸', '😍', '😘', '😉', '📷', '💕', '❤']\n",
      "\n",
      "\t\t emoji_task (9):\n",
      "['😊', '❤', '😘', '😉', '💜', '📸', '😜', '🎄', '💙', '✨']\n",
      "\n",
      "\tformality (10):\n",
      "\t\t formality (0):\n",
      "['Formal', 'Informal']\n",
      "\n",
      "\t\t formality (1):\n",
      "['Formal', 'Informal']\n",
      "\n",
      "\t\t formality (2):\n",
      "['Informal', 'Formal']\n",
      "\n",
      "\t\t formality (3):\n",
      "['Formal', 'Informal']\n",
      "\n",
      "\t\t formality (4):\n",
      "['Informal', 'Formal']\n",
      "\n",
      "\t\t formality (5):\n",
      "['Formal', 'Informal']\n",
      "\n",
      "\t\t formality (6):\n",
      "['Informal', 'Formal']\n",
      "\n",
      "\t\t formality (7):\n",
      "['Informal', 'Formal']\n",
      "\n",
      "\t\t formality (8):\n",
      "['Informal', 'Formal']\n",
      "\n",
      "\t\t formality (9):\n",
      "['Formal', 'Informal']\n",
      "\n",
      "\tpos_bigrams (10):\n",
      "\t\t pos_bigrams (0):\n",
      "['pos_bigrams:PUNCT PUNCT', 'pos_bigrams:ADP PROPN', 'pos_bigrams:NOUN ADP', 'pos_bigrams:PROPN PUNCT', 'pos_bigrams:PROPN PROPN', 'pos_bigrams:ADP DET', 'pos_bigrams:PROPN ADP', 'pos_bigrams:DET PROPN', 'pos_bigrams:DET NOUN', 'pos_bigrams:VERB DET']\n",
      "\n",
      "\t\t pos_bigrams (1):\n",
      "['pos_bigrams:ADP PROPN', 'pos_bigrams:VERB ADP', 'pos_bigrams:PROPN PUNCT', 'pos_bigrams:ADP PRON', 'pos_bigrams:PRON AUX', 'pos_bigrams:AUX VERB', 'pos_bigrams:PUNCT PRON', 'pos_bigrams:PRON NOUN', 'pos_bigrams:PROPN CCONJ', 'pos_bigrams:AUX AUX']\n",
      "\n",
      "\t\t pos_bigrams (2):\n",
      "['pos_bigrams:AUX PRON', 'pos_bigrams:PUNCT AUX', 'pos_bigrams:SCONJ AUX', 'pos_bigrams:VERB PROPN', 'pos_bigrams:PROPN PART', 'pos_bigrams:PRON ADP', 'pos_bigrams:PROPN VERB', 'pos_bigrams:ADP PUNCT', 'pos_bigrams:PRON ADJ', 'pos_bigrams:ADV AUX']\n",
      "\n",
      "\t\t pos_bigrams (3):\n",
      "['pos_bigrams:NUM NUM', 'pos_bigrams:NUM NOUN', 'pos_bigrams:PROPN NUM', 'pos_bigrams:X X', 'pos_bigrams:ADP NUM', 'pos_bigrams:ADV PUNCT', 'pos_bigrams:ADJ ADP', 'pos_bigrams:ADJ PUNCT', 'pos_bigrams:PUNCT X', 'pos_bigrams:PUNCT PRON']\n",
      "\n",
      "\t\t pos_bigrams (4):\n",
      "['pos_bigrams:PUNCT NOUN', 'pos_bigrams:PUNCT VERB', 'pos_bigrams:VERB ADJ', 'pos_bigrams:X NOUN', 'pos_bigrams:VERB VERB', 'pos_bigrams:PUNCT X', 'pos_bigrams:NOUN SCONJ', 'pos_bigrams:SCONJ DET', 'pos_bigrams:PROPN SYM', 'pos_bigrams:PUNCT ADV']\n",
      "\n",
      "\t\t pos_bigrams (5):\n",
      "['pos_bigrams:NOUN NOUN', 'pos_bigrams:PROPN NOUN', 'pos_bigrams:ADJ NOUN', 'pos_bigrams:NOUN VERB', 'pos_bigrams:VERB PUNCT', 'pos_bigrams:VERB NOUN', 'pos_bigrams:DET ADJ', 'pos_bigrams:NOUN AUX', 'pos_bigrams:ADP NOUN', 'pos_bigrams:NUM PUNCT']\n",
      "\n",
      "\t\t pos_bigrams (6):\n",
      "['pos_bigrams:PRON AUX', 'pos_bigrams:PART VERB', 'pos_bigrams:PRON VERB', 'pos_bigrams:VERB PART', 'pos_bigrams:VERB PRON', 'pos_bigrams:AUX PART', 'pos_bigrams:DET NOUN', 'pos_bigrams:VERB DET', 'pos_bigrams:SCONJ PRON', 'pos_bigrams:VERB ADP']\n",
      "\n",
      "\t\t pos_bigrams (7):\n",
      "['pos_bigrams:ADV ADJ', 'pos_bigrams:ADJ ADP', 'pos_bigrams:AUX ADV', 'pos_bigrams:AUX ADP', 'pos_bigrams:ADJ PUNCT', 'pos_bigrams:NOUN SCONJ', 'pos_bigrams:AUX ADJ', 'pos_bigrams:ADV ADP', 'pos_bigrams:NOUN PRON', 'pos_bigrams:X NOUN']\n",
      "\n",
      "\t\t pos_bigrams (8):\n",
      "['pos_bigrams:PROPN PROPN', 'pos_bigrams:PUNCT PROPN', 'pos_bigrams:PROPN PUNCT', 'pos_bigrams:NUM SYM', 'pos_bigrams:PUNCT NUM', 'pos_bigrams:SYM NUM', 'pos_bigrams:NUM PROPN', 'pos_bigrams:PROPN SYM', 'pos_bigrams:PROPN NUM', 'pos_bigrams:NUM PUNCT']\n",
      "\n",
      "\t\t pos_bigrams (9):\n",
      "['pos_bigrams:VERB DET', 'pos_bigrams:DET NOUN', 'pos_bigrams:NOUN PUNCT', 'pos_bigrams:PRON VERB', 'pos_bigrams:ADP DET', 'pos_bigrams:INTJ VERB', 'pos_bigrams:NOUN ADP', 'pos_bigrams:SCONJ PRON', 'pos_bigrams:VERB PRON', 'pos_bigrams:VERB SCONJ']\n",
      "\n",
      "\tpunc_tags (10):\n",
      "\t\t punc_tags (0):\n",
      "['punctuation:_', 'punctuation:.', 'punctuation:?', 'punctuation:!', 'punctuation:,', 'punctuation::', 'punctuation:%', 'punctuation:*', 'punctuation:`', 'punctuation:\"']\n",
      "\n",
      "\t\t punc_tags (1):\n",
      "['punctuation:-', 'punctuation:.', 'punctuation:,', \"punctuation:'\", 'punctuation:%', 'punctuation:?', 'punctuation:`', 'punctuation:)', 'punctuation:(', 'punctuation:–']\n",
      "\n",
      "\t\t punc_tags (2):\n",
      "['punctuation:?', 'punctuation:*', 'punctuation:;', 'punctuation:’', 'punctuation:!', 'punctuation:\"', 'punctuation:–', 'punctuation:%', 'punctuation:(', 'punctuation:)']\n",
      "\n",
      "\t\t punc_tags (3):\n",
      "['punctuation::', 'punctuation:.', 'punctuation:\"', 'punctuation:,', 'punctuation:!', \"punctuation:'\", 'punctuation:%', 'punctuation:?', 'punctuation:–', 'punctuation:`']\n",
      "\n",
      "\t\t punc_tags (4):\n",
      "['punctuation::', 'punctuation:_', 'punctuation:%', 'punctuation:*', 'punctuation:-', 'none', 'punctuation:’', 'punctuation:–', 'punctuation:;', 'punctuation:`']\n",
      "\n",
      "\t\t punc_tags (5):\n",
      "['punctuation::', 'punctuation:;', 'punctuation:,', 'punctuation:.', 'punctuation:%', 'punctuation:–', 'punctuation:`', 'punctuation:’', 'punctuation:\"', 'punctuation:*']\n",
      "\n",
      "\t\t punc_tags (6):\n",
      "['punctuation:.', \"punctuation:'\", 'punctuation:?', 'punctuation:,', 'punctuation:%', 'punctuation:!', 'punctuation:`', 'punctuation:–', 'punctuation:\"', 'punctuation:’']\n",
      "\n",
      "\t\t punc_tags (7):\n",
      "['punctuation:*', 'punctuation:!', 'punctuation:;', 'punctuation:’', 'punctuation:(', 'none', 'punctuation:)', 'punctuation:%', 'punctuation:–', 'punctuation:\"']\n",
      "\n",
      "\t\t punc_tags (8):\n",
      "['punctuation::', 'punctuation:-', 'punctuation:(', 'punctuation:)', 'punctuation:,', 'punctuation:%', 'punctuation:;', 'punctuation:\"', 'punctuation:–', 'punctuation:’']\n",
      "\n",
      "\t\t punc_tags (9):\n",
      "['punctuation:,', 'punctuation:.', 'punctuation:%', 'punctuation:?', 'punctuation:!', 'punctuation:`', 'punctuation:–', 'punctuation:’', 'punctuation:\"', 'punctuation:‘']\n",
      "\n",
      "\tsentiment_task (10):\n",
      "\t\t sentiment_task (0):\n",
      "['neutral', 'negative', 'positive']\n",
      "\n",
      "\t\t sentiment_task (1):\n",
      "['neutral', 'positive', 'negative']\n",
      "\n",
      "\t\t sentiment_task (2):\n",
      "['neutral', 'negative', 'positive']\n",
      "\n",
      "\t\t sentiment_task (3):\n",
      "['positive', 'neutral', 'negative']\n",
      "\n",
      "\t\t sentiment_task (4):\n",
      "['neutral', 'negative', 'positive']\n",
      "\n",
      "\t\t sentiment_task (5):\n",
      "['neutral', 'negative', 'positive']\n",
      "\n",
      "\t\t sentiment_task (6):\n",
      "['neutral', 'negative', 'positive']\n",
      "\n",
      "\t\t sentiment_task (7):\n",
      "['positive', 'negative', 'neutral']\n",
      "\n",
      "\t\t sentiment_task (8):\n",
      "['neutral', 'negative', 'positive']\n",
      "\n",
      "\t\t sentiment_task (9):\n",
      "['neutral', 'positive', 'negative']\n",
      "\n"
     ]
    },
    {
     "name": "stderr",
     "output_type": "stream",
     "text": [
      "\n"
     ]
    }
   ],
   "source": [
    "top_words_per_latent = top_beta_document(prod_slda, vectorizer,  top_k=10)\n",
    "top_meta_per_latent = top_beta_meta(prod_slda, meta_features_to_names, top_k=10)\n",
    "\n",
    "print('Document Term Info')\n",
    "for latent, top in top_words_per_latent.items():\n",
    "    print(f'\\t{latent} ({len(top)}):')\n",
    "    for i, results in enumerate(top):\n",
    "        print(f'\\t\\t {latent} ({i}):\\n{results[\"top\"]}')\n",
    "        print()\n",
    "\n",
    "print('Meta Var Info')\n",
    "for latent, top in top_meta_per_latent.items():\n",
    "\n",
    "    print(f'\\t{latent} ({len(top)}):')\n",
    "    for i, results in enumerate(top):\n",
    "        print(f'\\t\\t {latent} ({i}):\\n{results[\"top\"]}')\n",
    "        print()"
   ]
  },
  {
   "cell_type": "code",
   "execution_count": null,
   "id": "540e74e6-7906-425e-83cc-5c3e80547760",
   "metadata": {},
   "outputs": [],
   "source": []
  }
 ],
 "metadata": {
  "kernelspec": {
   "display_name": "Python 3",
   "language": "python",
   "name": "python3"
  },
  "language_info": {
   "codemirror_mode": {
    "name": "ipython",
    "version": 3
   },
   "file_extension": ".py",
   "mimetype": "text/x-python",
   "name": "python",
   "nbconvert_exporter": "python",
   "pygments_lexer": "ipython3",
   "version": "3.8.10"
  }
 },
 "nbformat": 4,
 "nbformat_minor": 5
}
