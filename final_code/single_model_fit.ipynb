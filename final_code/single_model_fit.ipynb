{
 "cells": [
  {
   "cell_type": "code",
   "execution_count": 1,
   "id": "e2f8012e-f322-4234-aa7f-212c6c1620de",
   "metadata": {},
   "outputs": [],
   "source": [
    "import numpy as np\n",
    "import pandas as pd\n",
    "from scipy import sparse\n",
    "\n",
    "from tqdm import tqdm\n",
    "tqdm.pandas()\n",
    "import matplotlib.pyplot as plt\n",
    "\n",
    "from sklearn.model_selection import train_test_split\n",
    "\n",
    "from nltk.tag import pos_tag\n",
    "from nltk.tokenize import word_tokenize\n",
    "\n",
    "import torch\n",
    "import torch.nn as nn\n",
    "import torch.nn.functional as F\n",
    "from torch.utils.data import Dataset, DataLoader\n",
    "\n",
    "import pyro\n",
    "import pyro.distributions as dist\n",
    "from pyro.infer import SVI, Trace_ELBO, TraceMeanField_ELBO\n",
    "from pyro.optim import Adam, ClippedAdam\n",
    "\n",
    "from datetime import datetime\n",
    "import json\n",
    "from collections import defaultdict\n",
    "\n",
    "import os\n",
    "\n",
    "from prod_slda.model import ProdSLDA\n",
    "from prod_slda.data_utils import *"
   ]
  },
  {
   "cell_type": "code",
   "execution_count": 2,
   "id": "06b4db78-193f-4d0c-9038-885fe2bd413a",
   "metadata": {},
   "outputs": [],
   "source": [
    "def set_seeds(seed):\n",
    "    np.random.seed(seed)\n",
    "    torch.manual_seed(seed)\n",
    "    torch.cuda.manual_seed(seed)"
   ]
  },
  {
   "cell_type": "code",
   "execution_count": 17,
   "id": "073131aa-9d82-4037-91e6-8a5d750a0605",
   "metadata": {},
   "outputs": [],
   "source": [
    "# ----- EXPERIMENT HPARAMS -----\n",
    "META_FEATURES   = ['pos_bigrams','formality','emoji_task', 'casing','punc_tags', 'sentiment_task']\n",
    "EXPERIMENT_NAME = '_'.join(META_FEATURES)\n",
    "\n",
    "# ----- DATA HPARAMS -----\n",
    "OUT_DIR       = '/mnt/swordfish-pool2/ndeas/prob_models/results2/' #'/burg/nlp/users/zfh2000/style_results'\n",
    "\n",
    "DATA_SRC      = '/mnt/swordfish-pool2/ndeas/prob_models/data/enron_processed.json' #'/burg/nlp/users/zfh2000/enron_processed.json'\n",
    "SPLITS_PATH   = '/mnt/swordfish-pool2/ndeas/prob_models/data/authors_splits.json' #'/burg/home/zfh2000/styletopicmodeling/scripts/authors_splits.json'\n",
    "SYNTHETIC_SRC = '/mnt/swordfish-pool2/ndeas/prob_models/data/gpt_4_enron_processed.json' #'/burg/nlp/users/zfh2000/gpt_4_enron_processed.json'\n",
    "\n",
    "BATCH_SIZE  = 128\n",
    "NUM_WORKERS = 2\n",
    "\n",
    "MAX_DF = 0.8\n",
    "MIN_DF = 20\n",
    "\n",
    "DATA_DIR_PATH = os.path.join(OUT_DIR,EXPERIMENT_NAME, f'maxdf{MAX_DF}_mindf{MIN_DF}_DATA')\n",
    "\n",
    "# NICK: files have been uploaded here: https://drive.google.com/drive/folders/1uF9GWEGe4aqSeo2MlachAWR9bTHsJq1q?usp=sharing\n",
    "# ['formality','irony', 'sentences', 'punc_tags', 'pos_bigrams', 'morph_tags', 'pos', 'casing', 'question',  'passive', 'emotion_task', 'sentiment_task', 'emoji_task']\n",
    "# NICK: Unsure which of of these features we should include!\n",
    "\n",
    "# ----- TRAINING HPARAMS -----\n",
    "\n",
    "LR = 1e3\n",
    "BETAS = (0.99, 0.999)\n",
    "EPS   = 1e-8\n",
    "CLIP_NORM = 10.\n",
    "ADAM_ARGS = {'lr': LR, 'betas': BETAS, 'eps': EPS, 'clip_norm': CLIP_NORM}\n",
    "\n",
    "# ----- MODEL HPARAMS -----\n",
    "\n",
    "NUM_TOPICS = 10\n",
    "NUM_STYLES = 10\n",
    "HIDDEN_DIM = 128\n",
    "DROPOUT    = 0\n",
    "\n",
    "THETA_PRIOR_DIST = 'gaussian'\n",
    "THETA_PRIOR_LOC = 0.\n",
    "THETA_PRIOR_SCALE = 1.\n",
    "\n",
    "KAPPA_PRIOR_DIST = 'gaussian'\n",
    "KAPPA_PRIOR_LOC = 0.\n",
    "KAPPA_PRIOR_SCALE = 5.\n",
    "\n",
    "STYLE_TOPIC_LINK = 'kappa_doc'\n",
    "\n",
    "NUM_EPOCHS = 50\n",
    "\n",
    "DEVICE = torch.device('cuda:0')\n",
    "\n",
    "# ----- CONFIG/SAVING -----\n",
    "date = datetime.now().strftime(\"%Y-%m-%d_%H_%M_%S\")\n",
    "\n",
    "info = {\n",
    "    'experiment_name': EXPERIMENT_NAME,\n",
    "    'num_topics': NUM_TOPICS,\n",
    "    'num_styles': NUM_STYLES,\n",
    "    'hidden_dim': HIDDEN_DIM,\n",
    "    'dropout': DROPOUT,\n",
    "    'theta_prior_dist': THETA_PRIOR_DIST,\n",
    "    'theta_prior_loc': THETA_PRIOR_LOC,\n",
    "    'theta_prior_scale': THETA_PRIOR_SCALE,\n",
    "    'kappa_prior_dist': KAPPA_PRIOR_DIST,\n",
    "    'kappa_prior_loc': KAPPA_PRIOR_LOC,\n",
    "    'kappa_prior_scale': KAPPA_PRIOR_SCALE,\n",
    "    'style_topic_link': STYLE_TOPIC_LINK,\n",
    "    'num_epochs': NUM_EPOCHS,\n",
    "    'date': date,\n",
    "    'lr': LR,\n",
    "    'betas': BETAS,\n",
    "    'eps': EPS,\n",
    "    'batch_size': BATCH_SIZE,\n",
    "    'clip_norm': CLIP_NORM,\n",
    "    'num_workers': NUM_WORKERS,\n",
    "    'device': DEVICE.type,\n",
    "    'meta_features': META_FEATURES,\n",
    "    'DATA_SRC': DATA_SRC,\n",
    "    'SPLITS_PATH': SPLITS_PATH,\n",
    "    'SYNTHETIC_SRC': SYNTHETIC_SRC,\n",
    "    'MAX_DF': MAX_DF,\n",
    "    'MIN_DF': MIN_DF,\n",
    "}\n",
    "\n",
    "PATH = os.path.join(OUT_DIR, EXPERIMENT_NAME, date)\n",
    "os.makedirs(PATH, exist_ok=True)\n",
    "with open(os.path.join(PATH, 'info.json'), 'w') as f:\n",
    "    json.dump(info, f, indent=4)"
   ]
  },
  {
   "cell_type": "markdown",
   "id": "293b5753-b006-44c8-885f-32f70635d4ca",
   "metadata": {},
   "source": [
    "# Data Setup "
   ]
  },
  {
   "cell_type": "markdown",
   "id": "6e5f1c90-decd-41a0-a23e-beec5a4692dd",
   "metadata": {
    "tags": []
   },
   "source": [
    "## Data Preprocessing/Loading"
   ]
  },
  {
   "cell_type": "code",
   "execution_count": 4,
   "id": "4f79754a-9fa0-4fdd-a647-0084e702f05f",
   "metadata": {
    "scrolled": true,
    "tags": []
   },
   "outputs": [
    {
     "name": "stdout",
     "output_type": "stream",
     "text": [
      "LOADING FROM /mnt/swordfish-pool2/ndeas/prob_models/results2/pos_bigrams_formality_emoji_task_casing_punc_tags_sentiment_task/maxdf0.8_mindf20_DATA\n"
     ]
    }
   ],
   "source": [
    "if not os.path.exists(DATA_DIR_PATH):\n",
    "    bows, meta_vectorized, vectorizer, raw_text, authors_json, meta_features_to_names = prepare_data(DATA_SRC,\n",
    "                 SYNTHETIC_SRC,\n",
    "                 SPLITS_PATH,\n",
    "                 META_FEATURES,\n",
    "                 DATA_DIR_PATH,\n",
    "                 max_df = MAX_DF,\n",
    "                 min_df = MIN_DF)\n",
    "else:\n",
    "    print(f\"LOADING FROM {DATA_DIR_PATH}\")\n",
    "    \n",
    "    bows, meta_vectorized, vectorizer, raw_text, authors_json, meta_features_to_names = load_data(DATA_DIR_PATH)   "
   ]
  },
  {
   "cell_type": "code",
   "execution_count": 5,
   "id": "fa09ece7-3827-47a7-b7fc-a441a589298c",
   "metadata": {},
   "outputs": [],
   "source": [
    "NUM_DOCS   = bows['training'].shape[0]\n",
    "VOCAB_SIZE = bows['training'].shape[1]\n",
    "META_SIZE  = {k:v.shape[1] for k,v in meta_vectorized['training'].items()}\n",
    "IDX_TO_TERM = {v:k for k,v in vectorizer.vocabulary_.items()}"
   ]
  },
  {
   "cell_type": "code",
   "execution_count": 6,
   "id": "14566e36-f4aa-4812-8633-d6e6c638f2e9",
   "metadata": {},
   "outputs": [
    {
     "name": "stdout",
     "output_type": "stream",
     "text": [
      "BOW Dims: (66668, 3098)\n",
      "META Dims: {'casing': 3, 'emoji_task': 20, 'formality': 2, 'pos_bigrams': 324, 'punc_tags': 20, 'sentiment_task': 3}\n"
     ]
    }
   ],
   "source": [
    "print(f'BOW Dims: {bows[\"training\"].shape}')\n",
    "print(f'META Dims: {META_SIZE}')"
   ]
  },
  {
   "cell_type": "markdown",
   "id": "cb6e3a9e-420d-4b50-887a-6e00b5ec98f7",
   "metadata": {},
   "source": [
    "## Dataset"
   ]
  },
  {
   "cell_type": "code",
   "execution_count": 7,
   "id": "e16dec22-8379-430b-8f25-5675e8ef8af3",
   "metadata": {},
   "outputs": [],
   "source": [
    "dataset = DocMetaData(bows['training'], meta_vectorized['training'])\n",
    "eval_dataset = DocMetaData(bows['holdout'], meta_vectorized['holdout'], split_halves = True)"
   ]
  },
  {
   "cell_type": "code",
   "execution_count": 8,
   "id": "e231698c-1fd3-48de-98ee-43843613b690",
   "metadata": {},
   "outputs": [],
   "source": [
    "dl = DataLoader(dataset, batch_size = BATCH_SIZE, num_workers = NUM_WORKERS, shuffle=True)\n",
    "eval_dl = DataLoader(eval_dataset, batch_size = BATCH_SIZE, num_workers = NUM_WORKERS, shuffle=True)"
   ]
  },
  {
   "cell_type": "code",
   "execution_count": 9,
   "id": "eb31ab8a-2164-4454-93be-ea3fb6899331",
   "metadata": {},
   "outputs": [
    {
     "name": "stdout",
     "output_type": "stream",
     "text": [
      "bow            \n",
      "\t               : torch.Size([128, 3098])\n",
      "meta\n",
      "\tcasing         : torch.Size([128, 3])\n",
      "\temoji_task     : torch.Size([128, 20])\n",
      "\tformality      : torch.Size([128, 2])\n",
      "\tpos_bigrams    : torch.Size([128, 324])\n",
      "\tpunc_tags      : torch.Size([128, 20])\n",
      "\tsentiment_task : torch.Size([128, 3])\n"
     ]
    }
   ],
   "source": [
    "train_test_batch = next(iter(dl))\n",
    "for k, v in train_test_batch.items():\n",
    "    if isinstance(v, dict):\n",
    "        print(k)\n",
    "        for k1, v1 in v.items():\n",
    "             print(f'\\t{k1:15s}: {str(v1.shape)}')\n",
    "    else:\n",
    "        print(f'{k:15s}\\n\\t{\"\":15s}: {v.shape}')"
   ]
  },
  {
   "cell_type": "code",
   "execution_count": 10,
   "id": "7cc84357-253d-49b2-9785-db722daceaae",
   "metadata": {},
   "outputs": [
    {
     "name": "stdout",
     "output_type": "stream",
     "text": [
      "bow            \n",
      "\t               : torch.Size([128, 3098])\n",
      "meta\n",
      "\tcasing         : torch.Size([128, 3])\n",
      "\temoji_task     : torch.Size([128, 20])\n",
      "\tformality      : torch.Size([128, 2])\n",
      "\tpos_bigrams    : torch.Size([128, 324])\n",
      "\tpunc_tags      : torch.Size([128, 20])\n",
      "\tsentiment_task : torch.Size([128, 3])\n",
      "bow_h1         \n",
      "\t               : torch.Size([128, 3098])\n",
      "bow_h2         \n",
      "\t               : torch.Size([128, 3098])\n"
     ]
    }
   ],
   "source": [
    "eval_test_batch = next(iter(eval_dl))\n",
    "for k, v in eval_test_batch.items():\n",
    "    if isinstance(v, dict):\n",
    "        print(k)\n",
    "        for k1, v1 in v.items():\n",
    "             print(f'\\t{k1:15s}: {str(v1.shape)}')\n",
    "    else:\n",
    "        print(f'{k:15s}\\n\\t{\"\":15s}: {v.shape}')"
   ]
  },
  {
   "cell_type": "markdown",
   "id": "6d1b0ce8-9814-431f-8ecb-f557327c933d",
   "metadata": {},
   "source": [
    "# Training"
   ]
  },
  {
   "cell_type": "markdown",
   "id": "9ed443b9-6ebe-4351-aeb7-5c85caff576b",
   "metadata": {
    "tags": []
   },
   "source": [
    "## Setup"
   ]
  },
  {
   "cell_type": "code",
   "execution_count": 11,
   "id": "5cb86678-f33a-49a1-971c-1641b2da6e66",
   "metadata": {
    "scrolled": true,
    "tags": []
   },
   "outputs": [
    {
     "name": "stdout",
     "output_type": "stream",
     "text": [
      "{'beta_topic': tensor([[-0.0071,  0.0054, -0.1810,  ..., -0.2870,  0.0449, -0.0454],\n",
      "        [-0.0067,  0.2180, -0.0308,  ...,  0.2856,  0.0195, -0.1911],\n",
      "        [-0.2374,  0.2398, -0.2613,  ..., -0.0670, -0.1635,  0.0909],\n",
      "        ...,\n",
      "        [-0.1477,  0.2849, -0.2367,  ..., -0.1104, -0.1500,  0.1754],\n",
      "        [-0.2630,  0.1940, -0.2316,  ..., -0.2347,  0.2915, -0.1126],\n",
      "        [-0.2615, -0.1675, -0.0813,  ...,  0.1615, -0.2533,  0.2457]]), 'beta_style': tensor([[ 0.2321,  0.1739,  0.1539,  ...,  0.2026, -0.3143, -0.2198],\n",
      "        [ 0.2959, -0.3009,  0.1217,  ...,  0.2117, -0.0306, -0.2556],\n",
      "        [-0.1348, -0.2429,  0.1081,  ..., -0.0356, -0.0960, -0.0337],\n",
      "        ...,\n",
      "        [ 0.1134,  0.0755,  0.3084,  ..., -0.0497, -0.0513, -0.1269],\n",
      "        [-0.1803,  0.1030,  0.0399,  ..., -0.0912,  0.2165,  0.1326],\n",
      "        [ 0.0195,  0.0225,  0.1657,  ..., -0.0778,  0.2013, -0.2114]])}\n",
      "{'casing': tensor([[ 0.2754,  0.1096, -0.0913],\n",
      "        [ 0.0261,  0.2145,  0.3134],\n",
      "        [-0.2768, -0.1363,  0.3100],\n",
      "        [-0.0247,  0.2442, -0.1563],\n",
      "        [-0.2561,  0.0724,  0.0922],\n",
      "        [-0.0154, -0.1673,  0.2582],\n",
      "        [ 0.2218, -0.1276,  0.1212],\n",
      "        [-0.2921,  0.0854,  0.0946],\n",
      "        [ 0.2615,  0.0258,  0.2628],\n",
      "        [-0.1769, -0.1983,  0.0105]]), 'emoji_task': tensor([[-0.0472, -0.1670, -0.0640, -0.1977, -0.2574, -0.2037,  0.2739,  0.3045,\n",
      "          0.2349,  0.2428, -0.3154,  0.0013, -0.0662, -0.3041,  0.0074, -0.1885,\n",
      "         -0.0733,  0.2619, -0.1228, -0.2054],\n",
      "        [-0.3021, -0.1854,  0.2490,  0.1234, -0.2040,  0.0975,  0.1483,  0.2034,\n",
      "         -0.1406,  0.2667, -0.3029,  0.2120, -0.2454,  0.0752,  0.2880,  0.2941,\n",
      "          0.1347,  0.0203, -0.1788,  0.2796],\n",
      "        [-0.0823,  0.1996,  0.2556,  0.0839,  0.1961, -0.1812, -0.0601, -0.1825,\n",
      "         -0.2158, -0.1264, -0.2465, -0.2734,  0.1228, -0.2019, -0.1282,  0.3155,\n",
      "         -0.1525,  0.0794,  0.3044,  0.0949],\n",
      "        [ 0.0233, -0.0533,  0.0527,  0.0748, -0.1342, -0.2150,  0.1635,  0.2281,\n",
      "          0.1378,  0.0543,  0.0628,  0.1769, -0.0541, -0.2780,  0.1596, -0.1873,\n",
      "         -0.2557, -0.1521,  0.1237,  0.1177],\n",
      "        [ 0.1173,  0.1423, -0.2184, -0.0442, -0.2615,  0.1891, -0.2553,  0.1677,\n",
      "          0.0402,  0.1798, -0.0949,  0.1665, -0.1115, -0.1979, -0.2439,  0.0604,\n",
      "          0.2783,  0.2551,  0.0729,  0.0348],\n",
      "        [ 0.2506,  0.0133, -0.0977,  0.0177,  0.0003,  0.2872,  0.1669,  0.1779,\n",
      "          0.1338,  0.0130,  0.1711,  0.1366,  0.0612, -0.2446, -0.2376,  0.2794,\n",
      "          0.2030,  0.3029, -0.0302, -0.2086],\n",
      "        [-0.2284,  0.0153, -0.1680, -0.0993, -0.0646,  0.1096,  0.2884,  0.2364,\n",
      "         -0.2275, -0.0629,  0.2480, -0.2579,  0.1008, -0.2837,  0.0477, -0.0667,\n",
      "          0.1427, -0.2150, -0.2965,  0.2960],\n",
      "        [ 0.2677, -0.2147,  0.2125,  0.0841,  0.0626, -0.1402, -0.1115,  0.2012,\n",
      "         -0.0398,  0.1037, -0.2887,  0.0511,  0.2723, -0.2470,  0.2815,  0.1007,\n",
      "         -0.1497,  0.0716, -0.2531,  0.3069],\n",
      "        [-0.1184, -0.1656,  0.2388, -0.1455, -0.0979,  0.2958, -0.2319, -0.2009,\n",
      "         -0.1109,  0.1540, -0.0268, -0.2269,  0.2800,  0.1151, -0.2416, -0.2354,\n",
      "         -0.1866, -0.2884,  0.2599, -0.3147],\n",
      "        [ 0.3093, -0.0071,  0.0533, -0.0417,  0.2099,  0.2904,  0.1310,  0.2905,\n",
      "          0.1310,  0.2452,  0.2747,  0.0472,  0.0347, -0.2419,  0.3125, -0.0611,\n",
      "          0.0306, -0.0620,  0.1186, -0.1252]]), 'formality': tensor([[-0.1031,  0.2124],\n",
      "        [-0.2608,  0.1487],\n",
      "        [ 0.1197, -0.1487],\n",
      "        [-0.1816,  0.1509],\n",
      "        [-0.0624, -0.0208],\n",
      "        [-0.1245,  0.0435],\n",
      "        [ 0.2796,  0.0150],\n",
      "        [ 0.0275, -0.2907],\n",
      "        [ 0.1259, -0.2485],\n",
      "        [-0.2738,  0.0150]]), 'pos_bigrams': tensor([[ 0.0113, -0.1271,  0.1887,  ...,  0.1486,  0.0497,  0.0802],\n",
      "        [-0.3070,  0.0318,  0.2404,  ..., -0.0432,  0.2720, -0.1236],\n",
      "        [-0.1462, -0.2227, -0.2407,  ...,  0.0315, -0.1019, -0.0644],\n",
      "        ...,\n",
      "        [-0.2783, -0.2808,  0.0664,  ...,  0.3153, -0.0737, -0.0026],\n",
      "        [ 0.1358, -0.1410,  0.1545,  ...,  0.0364, -0.1159,  0.1137],\n",
      "        [ 0.2768,  0.0615,  0.0880,  ...,  0.0967, -0.0934, -0.1442]]), 'punc_tags': tensor([[ 0.1742, -0.1727, -0.1905, -0.0959,  0.2447, -0.0161, -0.1467,  0.0963,\n",
      "         -0.0744,  0.2370,  0.2536,  0.0335,  0.2733,  0.0134,  0.1322, -0.2697,\n",
      "          0.0426,  0.0796, -0.3004, -0.1315],\n",
      "        [-0.2825,  0.1727, -0.2724, -0.0814,  0.1227, -0.0100, -0.0979, -0.2050,\n",
      "          0.2603,  0.0012,  0.0428, -0.1829,  0.0067, -0.0011, -0.0864,  0.2722,\n",
      "         -0.2399,  0.2900, -0.2431,  0.2536],\n",
      "        [-0.0529, -0.0377,  0.2609,  0.0166, -0.1473, -0.0539,  0.0737, -0.2869,\n",
      "         -0.0257, -0.0554,  0.0528, -0.0058, -0.0299,  0.0019, -0.2289,  0.1233,\n",
      "          0.0745,  0.2689,  0.2904, -0.2525],\n",
      "        [-0.1167,  0.2951,  0.0028, -0.0679,  0.0500,  0.2723, -0.2866,  0.0710,\n",
      "         -0.3041,  0.0768,  0.0646, -0.0420, -0.0996,  0.2169, -0.2270,  0.0631,\n",
      "         -0.0234, -0.1663,  0.0021, -0.2404],\n",
      "        [-0.2083, -0.2025, -0.3070,  0.1436,  0.1133, -0.2504, -0.2759, -0.0799,\n",
      "          0.1168, -0.2094, -0.1639,  0.0442,  0.1532,  0.0537,  0.0277,  0.2064,\n",
      "          0.2175, -0.0275, -0.1156,  0.2730],\n",
      "        [ 0.2508,  0.0153,  0.1497,  0.2721,  0.1988, -0.2957, -0.1608, -0.1606,\n",
      "          0.0429, -0.2809, -0.0939,  0.1578, -0.1376, -0.3151, -0.0569, -0.0629,\n",
      "          0.0145,  0.1210, -0.3111, -0.2630],\n",
      "        [ 0.0947, -0.2088, -0.1023, -0.0499,  0.2153, -0.2611, -0.3092,  0.2452,\n",
      "         -0.2192, -0.0610, -0.1142,  0.2637, -0.1775, -0.1981,  0.3126, -0.2871,\n",
      "          0.1123, -0.0245,  0.0388, -0.0227],\n",
      "        [-0.0289,  0.2297,  0.1196,  0.2341, -0.1253, -0.0123, -0.2901,  0.0148,\n",
      "         -0.2675,  0.2387,  0.0375, -0.0365,  0.1959,  0.2413, -0.1841, -0.2684,\n",
      "          0.3062,  0.1239, -0.0150,  0.1096],\n",
      "        [-0.2378, -0.0852,  0.3051,  0.1971,  0.2126,  0.0706, -0.0577, -0.1116,\n",
      "          0.0457,  0.1214,  0.2956,  0.2809, -0.2168,  0.0669, -0.0385, -0.2033,\n",
      "          0.1797, -0.2086,  0.1938,  0.1370],\n",
      "        [-0.1796, -0.2416,  0.2300, -0.0808, -0.0318,  0.1316, -0.0867, -0.0493,\n",
      "         -0.0619,  0.2752, -0.2670,  0.0049,  0.0960, -0.0130,  0.0083, -0.1128,\n",
      "          0.1321,  0.0396,  0.2770, -0.0731]]), 'sentiment_task': tensor([[ 0.2501,  0.0519, -0.1538],\n",
      "        [-0.1650,  0.2070,  0.0565],\n",
      "        [-0.2209,  0.1515,  0.1824],\n",
      "        [-0.0436, -0.1454, -0.0413],\n",
      "        [ 0.0935, -0.2376,  0.0755],\n",
      "        [ 0.1763, -0.1624, -0.1654],\n",
      "        [-0.2672,  0.2863, -0.2899],\n",
      "        [ 0.2542,  0.2623,  0.1191],\n",
      "        [ 0.2665,  0.0325, -0.1370],\n",
      "        [-0.0051, -0.1870, -0.0318]])}\n"
     ]
    }
   ],
   "source": [
    "prod_slda = ProdSLDA(\n",
    "    vocab_size = VOCAB_SIZE,\n",
    "    meta_sizes  = META_SIZE,\n",
    "    num_topics = NUM_TOPICS, num_styles = NUM_STYLES, \n",
    "    hidden = HIDDEN_DIM, dropout = DROPOUT, \n",
    "    theta_prior_dist = THETA_PRIOR_DIST, \n",
    "    theta_prior_loc = THETA_PRIOR_LOC, theta_prior_scale = THETA_PRIOR_SCALE,\n",
    "    kappa_prior_dist = KAPPA_PRIOR_DIST, \n",
    "    kappa_prior_loc = KAPPA_PRIOR_LOC, kappa_prior_scale = KAPPA_PRIOR_SCALE,\n",
    "    style_topic_link = STYLE_TOPIC_LINK,\n",
    ").to(DEVICE)\n",
    "\n",
    "print(prod_slda.beta_document())\n",
    "print(prod_slda.beta_meta())\n"
   ]
  },
  {
   "cell_type": "markdown",
   "id": "bf790d2c-25ba-4769-8703-5b9e672a735f",
   "metadata": {
    "tags": []
   },
   "source": [
    "## Training "
   ]
  },
  {
   "cell_type": "code",
   "execution_count": 12,
   "id": "4487f140-7c91-4b84-9404-af5d21b233d8",
   "metadata": {
    "scrolled": true,
    "tags": []
   },
   "outputs": [],
   "source": [
    "%%capture cap --no-stderr\n",
    "pyro.clear_param_store()\n",
    "prod_slda.train()"
   ]
  },
  {
   "cell_type": "code",
   "execution_count": 13,
   "id": "2cc93883-15f9-411c-98b0-851ee1f1390a",
   "metadata": {},
   "outputs": [],
   "source": [
    "optim = pyro.optim.ClippedAdam(ADAM_ARGS)\n",
    "\n",
    "svi = SVI(\n",
    "    pyro.poutine.scale(prod_slda.model, BATCH_SIZE/len(dl.dataset)),\n",
    "    pyro.poutine.scale(prod_slda.model, BATCH_SIZE/len(dl.dataset)),\n",
    "    optim,\n",
    "    loss = TraceMeanField_ELBO()\n",
    ")"
   ]
  },
  {
   "cell_type": "code",
   "execution_count": 14,
   "id": "7323f1de-8558-482e-91f2-4e05b4c822d4",
   "metadata": {},
   "outputs": [],
   "source": [
    "total_epochs = 0"
   ]
  },
  {
   "cell_type": "code",
   "execution_count": 15,
   "id": "e61c37b2-22a8-463a-9c4c-2aaec9f4e538",
   "metadata": {
    "scrolled": true,
    "tags": []
   },
   "outputs": [
    {
     "name": "stdout",
     "output_type": "stream",
     "text": [
      "---TRAINING---\n"
     ]
    },
    {
     "name": "stderr",
     "output_type": "stream",
     "text": [
      "  0%|          | 0/521 [00:00<?, ?it/s]/home/ndeas/envs/test_env/lib/python3.8/site-packages/pyro/util.py:288: UserWarning: Found non-auxiliary vars in guide but not model, consider marking these infer={'is_auxiliary': True}:\n",
      "{'obs_meta_emoji_task', 'obs_doc', 'obs_meta_sentiment_task', 'obs_meta_pos_bigrams', 'obs_meta_casing', 'obs_meta_formality', 'obs_meta_punc_tags'}\n",
      "  warnings.warn(\n",
      "100%|██████████| 521/521 [00:32<00:00, 15.79it/s]\n",
      "100%|██████████| 179/179 [00:12<00:00, 14.10it/s]\n"
     ]
    },
    {
     "name": "stdout",
     "output_type": "stream",
     "text": [
      "Epoch 0: 17819.321\n",
      "Epoch 0: Eval: 5961.097\n"
     ]
    },
    {
     "name": "stderr",
     "output_type": "stream",
     "text": [
      "100%|██████████| 521/521 [00:31<00:00, 16.78it/s]\n",
      "100%|██████████| 179/179 [00:12<00:00, 14.58it/s]\n"
     ]
    },
    {
     "name": "stdout",
     "output_type": "stream",
     "text": [
      "Epoch 1: 17806.592\n",
      "Epoch 1: Eval: 5944.042\n"
     ]
    },
    {
     "name": "stderr",
     "output_type": "stream",
     "text": [
      "  3%|▎         | 14/521 [00:01<00:47, 10.73it/s]\n"
     ]
    },
    {
     "ename": "KeyboardInterrupt",
     "evalue": "",
     "output_type": "error",
     "traceback": [
      "\u001b[0;31m---------------------------------------------------------------------------\u001b[0m",
      "\u001b[0;31mKeyboardInterrupt\u001b[0m                         Traceback (most recent call last)",
      "Cell \u001b[0;32mIn [15], line 16\u001b[0m\n\u001b[1;32m     13\u001b[0m     bow \u001b[38;5;241m=\u001b[39m batch[\u001b[38;5;124m'\u001b[39m\u001b[38;5;124mbow\u001b[39m\u001b[38;5;124m'\u001b[39m]\n\u001b[1;32m     14\u001b[0m     meta \u001b[38;5;241m=\u001b[39m batch[\u001b[38;5;124m'\u001b[39m\u001b[38;5;124mmeta\u001b[39m\u001b[38;5;124m'\u001b[39m]\n\u001b[0;32m---> 16\u001b[0m     epoch_elbo \u001b[38;5;241m+\u001b[39m\u001b[38;5;241m=\u001b[39m \u001b[43msvi\u001b[49m\u001b[38;5;241;43m.\u001b[39;49m\u001b[43mstep\u001b[49m\u001b[43m(\u001b[49m\u001b[43mbow\u001b[49m\u001b[43m,\u001b[49m\u001b[43m \u001b[49m\u001b[43mmeta\u001b[49m\u001b[43m)\u001b[49m\n\u001b[1;32m     18\u001b[0m eval_elbo \u001b[38;5;241m=\u001b[39m \u001b[38;5;241m0\u001b[39m\n\u001b[1;32m     19\u001b[0m prod_slda\u001b[38;5;241m.\u001b[39meval()\n",
      "File \u001b[0;32m~/envs/test_env/lib/python3.8/site-packages/pyro/infer/svi.py:145\u001b[0m, in \u001b[0;36mSVI.step\u001b[0;34m(self, *args, **kwargs)\u001b[0m\n\u001b[1;32m    143\u001b[0m \u001b[38;5;66;03m# get loss and compute gradients\u001b[39;00m\n\u001b[1;32m    144\u001b[0m \u001b[38;5;28;01mwith\u001b[39;00m poutine\u001b[38;5;241m.\u001b[39mtrace(param_only\u001b[38;5;241m=\u001b[39m\u001b[38;5;28;01mTrue\u001b[39;00m) \u001b[38;5;28;01mas\u001b[39;00m param_capture:\n\u001b[0;32m--> 145\u001b[0m     loss \u001b[38;5;241m=\u001b[39m \u001b[38;5;28;43mself\u001b[39;49m\u001b[38;5;241;43m.\u001b[39;49m\u001b[43mloss_and_grads\u001b[49m\u001b[43m(\u001b[49m\u001b[38;5;28;43mself\u001b[39;49m\u001b[38;5;241;43m.\u001b[39;49m\u001b[43mmodel\u001b[49m\u001b[43m,\u001b[49m\u001b[43m \u001b[49m\u001b[38;5;28;43mself\u001b[39;49m\u001b[38;5;241;43m.\u001b[39;49m\u001b[43mguide\u001b[49m\u001b[43m,\u001b[49m\u001b[43m \u001b[49m\u001b[38;5;241;43m*\u001b[39;49m\u001b[43margs\u001b[49m\u001b[43m,\u001b[49m\u001b[43m \u001b[49m\u001b[38;5;241;43m*\u001b[39;49m\u001b[38;5;241;43m*\u001b[39;49m\u001b[43mkwargs\u001b[49m\u001b[43m)\u001b[49m\n\u001b[1;32m    147\u001b[0m params \u001b[38;5;241m=\u001b[39m \u001b[38;5;28mset\u001b[39m(\n\u001b[1;32m    148\u001b[0m     site[\u001b[38;5;124m\"\u001b[39m\u001b[38;5;124mvalue\u001b[39m\u001b[38;5;124m\"\u001b[39m]\u001b[38;5;241m.\u001b[39munconstrained() \u001b[38;5;28;01mfor\u001b[39;00m site \u001b[38;5;129;01min\u001b[39;00m param_capture\u001b[38;5;241m.\u001b[39mtrace\u001b[38;5;241m.\u001b[39mnodes\u001b[38;5;241m.\u001b[39mvalues()\n\u001b[1;32m    149\u001b[0m )\n\u001b[1;32m    151\u001b[0m \u001b[38;5;66;03m# actually perform gradient steps\u001b[39;00m\n\u001b[1;32m    152\u001b[0m \u001b[38;5;66;03m# torch.optim objects gets instantiated for any params that haven't been seen yet\u001b[39;00m\n",
      "File \u001b[0;32m~/envs/test_env/lib/python3.8/site-packages/pyro/infer/trace_elbo.py:141\u001b[0m, in \u001b[0;36mTrace_ELBO.loss_and_grads\u001b[0;34m(self, model, guide, *args, **kwargs)\u001b[0m\n\u001b[1;32m    139\u001b[0m \u001b[38;5;66;03m# grab a trace from the generator\u001b[39;00m\n\u001b[1;32m    140\u001b[0m \u001b[38;5;28;01mfor\u001b[39;00m model_trace, guide_trace \u001b[38;5;129;01min\u001b[39;00m \u001b[38;5;28mself\u001b[39m\u001b[38;5;241m.\u001b[39m_get_traces(model, guide, args, kwargs):\n\u001b[0;32m--> 141\u001b[0m     loss_particle, surrogate_loss_particle \u001b[38;5;241m=\u001b[39m \u001b[38;5;28;43mself\u001b[39;49m\u001b[38;5;241;43m.\u001b[39;49m\u001b[43m_differentiable_loss_particle\u001b[49m\u001b[43m(\u001b[49m\n\u001b[1;32m    142\u001b[0m \u001b[43m        \u001b[49m\u001b[43mmodel_trace\u001b[49m\u001b[43m,\u001b[49m\u001b[43m \u001b[49m\u001b[43mguide_trace\u001b[49m\n\u001b[1;32m    143\u001b[0m \u001b[43m    \u001b[49m\u001b[43m)\u001b[49m\n\u001b[1;32m    144\u001b[0m     loss \u001b[38;5;241m+\u001b[39m\u001b[38;5;241m=\u001b[39m loss_particle \u001b[38;5;241m/\u001b[39m \u001b[38;5;28mself\u001b[39m\u001b[38;5;241m.\u001b[39mnum_particles\n\u001b[1;32m    146\u001b[0m     \u001b[38;5;66;03m# collect parameters to train from model and guide\u001b[39;00m\n",
      "File \u001b[0;32m~/envs/test_env/lib/python3.8/site-packages/pyro/infer/trace_mean_field_elbo.py:118\u001b[0m, in \u001b[0;36mTraceMeanField_ELBO._differentiable_loss_particle\u001b[0;34m(self, model_trace, guide_trace)\u001b[0m\n\u001b[1;32m    116\u001b[0m \u001b[38;5;66;03m# use kl divergence if available, else fall back on sampling\u001b[39;00m\n\u001b[1;32m    117\u001b[0m \u001b[38;5;28;01mtry\u001b[39;00m:\n\u001b[0;32m--> 118\u001b[0m     kl_qp \u001b[38;5;241m=\u001b[39m \u001b[43mkl_divergence\u001b[49m\u001b[43m(\u001b[49m\u001b[43mguide_site\u001b[49m\u001b[43m[\u001b[49m\u001b[38;5;124;43m\"\u001b[39;49m\u001b[38;5;124;43mfn\u001b[39;49m\u001b[38;5;124;43m\"\u001b[39;49m\u001b[43m]\u001b[49m\u001b[43m,\u001b[49m\u001b[43m \u001b[49m\u001b[43mmodel_site\u001b[49m\u001b[43m[\u001b[49m\u001b[38;5;124;43m\"\u001b[39;49m\u001b[38;5;124;43mfn\u001b[39;49m\u001b[38;5;124;43m\"\u001b[39;49m\u001b[43m]\u001b[49m\u001b[43m)\u001b[49m\n\u001b[1;32m    119\u001b[0m     kl_qp \u001b[38;5;241m=\u001b[39m scale_and_mask(\n\u001b[1;32m    120\u001b[0m         kl_qp, scale\u001b[38;5;241m=\u001b[39mguide_site[\u001b[38;5;124m\"\u001b[39m\u001b[38;5;124mscale\u001b[39m\u001b[38;5;124m\"\u001b[39m], mask\u001b[38;5;241m=\u001b[39mguide_site[\u001b[38;5;124m\"\u001b[39m\u001b[38;5;124mmask\u001b[39m\u001b[38;5;124m\"\u001b[39m]\n\u001b[1;32m    121\u001b[0m     )\n\u001b[1;32m    122\u001b[0m     \u001b[38;5;28;01mif\u001b[39;00m torch\u001b[38;5;241m.\u001b[39mis_tensor(kl_qp):\n",
      "File \u001b[0;32m~/envs/test_env/lib/python3.8/site-packages/torch/distributions/kl.py:171\u001b[0m, in \u001b[0;36mkl_divergence\u001b[0;34m(p, q)\u001b[0m\n\u001b[1;32m    168\u001b[0m \u001b[38;5;28;01mif\u001b[39;00m fun \u001b[38;5;129;01mis\u001b[39;00m \u001b[38;5;28mNotImplemented\u001b[39m:\n\u001b[1;32m    169\u001b[0m     \u001b[38;5;28;01mraise\u001b[39;00m \u001b[38;5;167;01mNotImplementedError\u001b[39;00m(\u001b[38;5;124m\"\u001b[39m\u001b[38;5;124mNo KL(p || q) is implemented for p type \u001b[39m\u001b[38;5;132;01m{}\u001b[39;00m\u001b[38;5;124m and q type \u001b[39m\u001b[38;5;132;01m{}\u001b[39;00m\u001b[38;5;124m\"\u001b[39m\n\u001b[1;32m    170\u001b[0m                               \u001b[38;5;241m.\u001b[39mformat(p\u001b[38;5;241m.\u001b[39m\u001b[38;5;18m__class__\u001b[39m\u001b[38;5;241m.\u001b[39m\u001b[38;5;18m__name__\u001b[39m, q\u001b[38;5;241m.\u001b[39m\u001b[38;5;18m__class__\u001b[39m\u001b[38;5;241m.\u001b[39m\u001b[38;5;18m__name__\u001b[39m))\n\u001b[0;32m--> 171\u001b[0m \u001b[38;5;28;01mreturn\u001b[39;00m \u001b[43mfun\u001b[49m\u001b[43m(\u001b[49m\u001b[43mp\u001b[49m\u001b[43m,\u001b[49m\u001b[43m \u001b[49m\u001b[43mq\u001b[49m\u001b[43m)\u001b[49m\n",
      "File \u001b[0;32m~/envs/test_env/lib/python3.8/site-packages/pyro/distributions/kl.py:31\u001b[0m, in \u001b[0;36m_kl_independent_independent\u001b[0;34m(p, q)\u001b[0m\n\u001b[1;32m     29\u001b[0m p \u001b[38;5;241m=\u001b[39m Independent(p\u001b[38;5;241m.\u001b[39mbase_dist, p_ndims) \u001b[38;5;28;01mif\u001b[39;00m p_ndims \u001b[38;5;28;01melse\u001b[39;00m p\u001b[38;5;241m.\u001b[39mbase_dist\n\u001b[1;32m     30\u001b[0m q \u001b[38;5;241m=\u001b[39m Independent(q\u001b[38;5;241m.\u001b[39mbase_dist, q_ndims) \u001b[38;5;28;01mif\u001b[39;00m q_ndims \u001b[38;5;28;01melse\u001b[39;00m q\u001b[38;5;241m.\u001b[39mbase_dist\n\u001b[0;32m---> 31\u001b[0m kl \u001b[38;5;241m=\u001b[39m \u001b[43mkl_divergence\u001b[49m\u001b[43m(\u001b[49m\u001b[43mp\u001b[49m\u001b[43m,\u001b[49m\u001b[43m \u001b[49m\u001b[43mq\u001b[49m\u001b[43m)\u001b[49m\n\u001b[1;32m     32\u001b[0m \u001b[38;5;28;01mif\u001b[39;00m shared_ndims:\n\u001b[1;32m     33\u001b[0m     kl \u001b[38;5;241m=\u001b[39m sum_rightmost(kl, shared_ndims)\n",
      "File \u001b[0;32m~/envs/test_env/lib/python3.8/site-packages/torch/distributions/kl.py:171\u001b[0m, in \u001b[0;36mkl_divergence\u001b[0;34m(p, q)\u001b[0m\n\u001b[1;32m    168\u001b[0m \u001b[38;5;28;01mif\u001b[39;00m fun \u001b[38;5;129;01mis\u001b[39;00m \u001b[38;5;28mNotImplemented\u001b[39m:\n\u001b[1;32m    169\u001b[0m     \u001b[38;5;28;01mraise\u001b[39;00m \u001b[38;5;167;01mNotImplementedError\u001b[39;00m(\u001b[38;5;124m\"\u001b[39m\u001b[38;5;124mNo KL(p || q) is implemented for p type \u001b[39m\u001b[38;5;132;01m{}\u001b[39;00m\u001b[38;5;124m and q type \u001b[39m\u001b[38;5;132;01m{}\u001b[39;00m\u001b[38;5;124m\"\u001b[39m\n\u001b[1;32m    170\u001b[0m                               \u001b[38;5;241m.\u001b[39mformat(p\u001b[38;5;241m.\u001b[39m\u001b[38;5;18m__class__\u001b[39m\u001b[38;5;241m.\u001b[39m\u001b[38;5;18m__name__\u001b[39m, q\u001b[38;5;241m.\u001b[39m\u001b[38;5;18m__class__\u001b[39m\u001b[38;5;241m.\u001b[39m\u001b[38;5;18m__name__\u001b[39m))\n\u001b[0;32m--> 171\u001b[0m \u001b[38;5;28;01mreturn\u001b[39;00m \u001b[43mfun\u001b[49m\u001b[43m(\u001b[49m\u001b[43mp\u001b[49m\u001b[43m,\u001b[49m\u001b[43m \u001b[49m\u001b[43mq\u001b[49m\u001b[43m)\u001b[49m\n",
      "File \u001b[0;32m~/envs/test_env/lib/python3.8/site-packages/torch/distributions/kl.py:410\u001b[0m, in \u001b[0;36m_kl_normal_normal\u001b[0;34m(p, q)\u001b[0m\n\u001b[1;32m    408\u001b[0m var_ratio \u001b[38;5;241m=\u001b[39m (p\u001b[38;5;241m.\u001b[39mscale \u001b[38;5;241m/\u001b[39m q\u001b[38;5;241m.\u001b[39mscale)\u001b[38;5;241m.\u001b[39mpow(\u001b[38;5;241m2\u001b[39m)\n\u001b[1;32m    409\u001b[0m t1 \u001b[38;5;241m=\u001b[39m ((p\u001b[38;5;241m.\u001b[39mloc \u001b[38;5;241m-\u001b[39m q\u001b[38;5;241m.\u001b[39mloc) \u001b[38;5;241m/\u001b[39m q\u001b[38;5;241m.\u001b[39mscale)\u001b[38;5;241m.\u001b[39mpow(\u001b[38;5;241m2\u001b[39m)\n\u001b[0;32m--> 410\u001b[0m \u001b[38;5;28;01mreturn\u001b[39;00m \u001b[38;5;241m0.5\u001b[39m \u001b[38;5;241m*\u001b[39m (\u001b[43mvar_ratio\u001b[49m\u001b[43m \u001b[49m\u001b[38;5;241;43m+\u001b[39;49m\u001b[43m \u001b[49m\u001b[43mt1\u001b[49m\u001b[43m \u001b[49m\u001b[38;5;241;43m-\u001b[39;49m\u001b[43m \u001b[49m\u001b[38;5;241;43m1\u001b[39;49m\u001b[43m \u001b[49m\u001b[38;5;241;43m-\u001b[39;49m\u001b[43m \u001b[49m\u001b[43mvar_ratio\u001b[49m\u001b[38;5;241;43m.\u001b[39;49m\u001b[43mlog\u001b[49m\u001b[43m(\u001b[49m\u001b[43m)\u001b[49m)\n",
      "\u001b[0;31mKeyboardInterrupt\u001b[0m: "
     ]
    }
   ],
   "source": [
    "train_elbo = []\n",
    "val_elbo = []\n",
    "\n",
    "print(\"---TRAINING---\")\n",
    "for epoch in range(NUM_EPOCHS):\n",
    "    \n",
    "    epoch_elbo = 0.\n",
    "    prod_slda.train()\n",
    "    for batch in tqdm(dl):\n",
    "        \n",
    "        batch = batch_to_device(batch, DEVICE)\n",
    "        \n",
    "        bow = batch['bow']\n",
    "        meta = batch['meta']\n",
    "        \n",
    "        epoch_elbo += svi.step(bow, meta)\n",
    "\n",
    "    eval_elbo = 0\n",
    "    prod_slda.eval()\n",
    "    with torch.no_grad():\n",
    "        for batch in tqdm(eval_dl):\n",
    "            \n",
    "            batch = batch_to_device(batch, DEVICE)\n",
    "            \n",
    "            bow = batch['bow']\n",
    "            meta = batch['meta']\n",
    "    \n",
    "            eval_elbo += svi.evaluate_loss(bow, meta)\n",
    "    \n",
    "        \n",
    "    print(f'Epoch {epoch}: {epoch_elbo:.3f}')\n",
    "    print(f'Epoch {epoch}: Eval: {eval_elbo:.3f}')\n",
    "    \n",
    "    train_elbo.append(epoch_elbo)\n",
    "    val_elbo.append(eval_elbo)\n",
    "    total_epochs +=1"
   ]
  },
  {
   "cell_type": "code",
   "execution_count": 18,
   "id": "b26d2c55-5c5a-48ee-80c6-1331ac4ef92a",
   "metadata": {},
   "outputs": [
    {
     "name": "stdout",
     "output_type": "stream",
     "text": [
      "Saved to /mnt/swordfish-pool2/ndeas/prob_models/results2/pos_bigrams_formality_emoji_task_casing_punc_tags_sentiment_task/2023-12-20_10_20_44/model_epoch2_5944.042022705078.pt\n"
     ]
    }
   ],
   "source": [
    "path = os.path.join(PATH, f'model_epoch{total_epochs}_{val_elbo[-1]}.pt')\n",
    "prod_slda.eval()\n",
    "torch.save(prod_slda, path)\n",
    "print(f'Saved to {path}')"
   ]
  },
  {
   "cell_type": "code",
   "execution_count": 19,
   "id": "310e69d2-833d-41c4-a81c-e1b92c3f8e19",
   "metadata": {},
   "outputs": [
    {
     "data": {
      "image/png": "[encoded data removed]",
      "text/plain": [
       "<Figure size 640x480 with 1 Axes>"
      ]
     },
     "metadata": {},
     "output_type": "display_data"
    }
   ],
   "source": [
    "plt.plot(range(len(train_elbo)), [e/len(dl.dataset) for e in train_elbo], label = 'In-Sample')\n",
    "plt.plot(range(len(val_elbo)), [e/len(eval_dl.dataset) for e in val_elbo], label = 'Out-Sample')\n",
    "\n",
    "plt.legend()\n",
    "plt.xlabel('# Iterations')\n",
    "plt.ylabel('ELBO')\n",
    "\n",
    "plt.savefig(os.path.join(PATH, 'loss_plot_indep.png'), dpi = 600, facecolor = None)\n"
   ]
  },
  {
   "cell_type": "code",
   "execution_count": 20,
   "id": "aa70f4f4-985b-4771-b6c3-ae543d182684",
   "metadata": {},
   "outputs": [
    {
     "name": "stdout",
     "output_type": "stream",
     "text": [
      "Saved to /mnt/swordfish-pool2/ndeas/prob_models/results2/pos_bigrams_formality_emoji_task_casing_punc_tags_sentiment_task/2023-12-20_10_20_44/model_epoch2_5944.042022705078.pt\n"
     ]
    }
   ],
   "source": [
    "path = os.path.join(PATH, f'model_epoch{total_epochs}_{val_elbo[-1]}.pt')\n",
    "prod_slda.eval()\n",
    "torch.save(prod_slda, path)\n",
    "print(f'Saved to {path}')"
   ]
  },
  {
   "cell_type": "markdown",
   "id": "4ad580dc-c791-4f02-8b00-6095f1c945fc",
   "metadata": {},
   "source": [
    "# Eval "
   ]
  },
  {
   "cell_type": "markdown",
   "id": "06849b0f-0c3d-48b4-bd08-e13035b402b6",
   "metadata": {},
   "source": [
    "## Reconstruct Perplexity "
   ]
  },
  {
   "cell_type": "code",
   "execution_count": 39,
   "id": "15cf2d57-30e1-4420-a8e0-c3c880c4e0cd",
   "metadata": {},
   "outputs": [],
   "source": [
    "def calc_doc_perp(prod_slda, eval_dl, device, use_style = True):\n",
    "    total_ce, total_count = 0., 0.\n",
    "    for batch in tqdm(eval_dl):\n",
    "        for key in batch.keys():\n",
    "            if isinstance(batch[key], dict):\n",
    "                for key2 in batch[key].keys():\n",
    "                    batch[key][key2] = batch[key][key2].to(device)\n",
    "            else:\n",
    "                batch[key] = batch[key].to(device)\n",
    "\n",
    "        ce, count = prod_slda.doc_reconstruct_ce(batch, use_style = use_style)\n",
    "        total_ce += ce\n",
    "        total_count += count\n",
    "    return torch.exp(total_ce/total_count).item()\n",
    "\n",
    "def calc_style_perp(prod_slda, eval_dl, device):\n",
    "    total_ce, total_count = 0., 0.\n",
    "    for batch in tqdm(eval_dl):\n",
    "        for key in batch.keys():\n",
    "            if isinstance(batch[key], dict):\n",
    "                for key2 in batch[key].keys():\n",
    "                    batch[key][key2] = batch[key][key2].to(device)\n",
    "            else:\n",
    "                batch[key] = batch[key].to(device)\n",
    "\n",
    "        ce, count = prod_slda.style_reconstruct_ce(batch)\n",
    "        total_ce += ce\n",
    "        total_count += count\n",
    "    return torch.exp(total_ce/total_count).item()"
   ]
  },
  {
   "cell_type": "code",
   "execution_count": 36,
   "id": "212124e2-2f4e-4140-9330-5d88e1cdc677",
   "metadata": {},
   "outputs": [],
   "source": [
    "prod_slda = torch.load(path).to(DEVICE)"
   ]
  },
  {
   "cell_type": "code",
   "execution_count": 40,
   "id": "5f2ce986-17f1-4e36-afa4-23b8c3330c15",
   "metadata": {},
   "outputs": [
    {
     "name": "stderr",
     "output_type": "stream",
     "text": [
      "100%|██████████| 179/179 [00:12<00:00, 14.10it/s]\n"
     ]
    }
   ],
   "source": [
    "doc_perp      = calc_doc_perp(prod_slda, eval_dl)\n",
    "doc_only_perp = calc_doc_perp(prod_slda, eval_dl, use_style = False)\n",
    "style_perp    = calc_style_perp(prod_slda, eval_dl)"
   ]
  },
  {
   "cell_type": "code",
   "execution_count": 41,
   "id": "a4bfb47a-4b9c-4b36-a1cc-089037eabf34",
   "metadata": {},
   "outputs": [
    {
     "name": "stdout",
     "output_type": "stream",
     "text": [
      "Perp           : 3199.2117\n",
      "Perp (No Style): 3485.7412\n",
      "Style Perp     : 56.1780\n"
     ]
    }
   ],
   "source": [
    "print(f'Perp           : {doc_perp:.4f}')\n",
    "print(f'Perp (No Style): {doc_only_perp:.4f}')\n",
    "print(f'Style Perp     : {style_perp:.4f}')"
   ]
  },
  {
   "cell_type": "markdown",
   "id": "bedb88f5-5208-44eb-a101-bc489ddcc988",
   "metadata": {},
   "source": [
    "# Examine Topics "
   ]
  },
  {
   "cell_type": "code",
   "execution_count": 52,
   "id": "f0e767b9-c933-448b-8dde-10d957c2d8c4",
   "metadata": {},
   "outputs": [],
   "source": [
    "def top_beta_document(model, vectorizer, top_k=20):\n",
    "    betas_document = model.beta_document()\n",
    "    features_to_betas = {}\n",
    "    idx_to_name = {v:k for k,v in vectorizer.vocabulary_.items()}\n",
    "    for feature, logits in betas_document.items():\n",
    "        features_to_betas[feature] = []\n",
    "        num_features = logits.shape[0]\n",
    "        top_results = torch.topk(logits, top_k, dim=-1)\n",
    "        \n",
    "        ids = top_results.indices.cpu().numpy()\n",
    "        values = top_results.values.cpu().numpy()\n",
    "        \n",
    "        for i in tqdm(range(num_features)):\n",
    "            features_to_betas[feature].append({'values':values[i], 'top':[idx_to_name[idx] for idx in ids[i]]})\n",
    "                \n",
    "    return features_to_betas\n",
    "\n",
    "def top_beta_meta(model, meta_feature_to_names, top_k=20):\n",
    "    betas_metas = model.beta_meta()\n",
    "    features_to_betas = {}\n",
    "    for feature, logits in betas_metas.items():\n",
    "        idx_to_name = {i:k for i,k in enumerate(meta_feature_to_names[feature])}\n",
    "        features_to_betas[feature] = []\n",
    "        num_features = logits.shape[0]\n",
    "        top_results = torch.topk(logits, min(top_k, logits.shape[1]), dim=-1)\n",
    "        ids = top_results.indices.cpu().numpy()\n",
    "        values = top_results.values.cpu().numpy()\n",
    "        for i in tqdm(range(num_features)):\n",
    "            features_to_betas[feature].append({'values':values[i], 'top':[idx_to_name[idx] for idx in ids[i]]})\n",
    "        \n",
    "    return features_to_betas "
   ]
  },
  {
   "cell_type": "code",
   "execution_count": 53,
   "id": "a72b1e4b-b50d-476e-a0d9-71f2a14e3489",
   "metadata": {},
   "outputs": [
    {
     "name": "stderr",
     "output_type": "stream",
     "text": [
      "100%|██████████| 10/10 [00:00<00:00, 76959.71it/s]\n",
      "100%|██████████| 10/10 [00:00<00:00, 85773.09it/s]\n",
      "100%|██████████| 10/10 [00:00<00:00, 111550.64it/s]\n",
      "100%|██████████| 10/10 [00:00<00:00, 112447.83it/s]\n",
      "100%|██████████| 10/10 [00:00<00:00, 134865.08it/s]\n",
      "100%|██████████| 10/10 [00:00<00:00, 113975.65it/s]\n",
      "100%|██████████| 10/10 [00:00<00:00, 116832.98it/s]\n",
      "100%|██████████| 10/10 [00:00<00:00, 118483.16it/s]"
     ]
    },
    {
     "name": "stdout",
     "output_type": "stream",
     "text": [
      "Document Term Info\n",
      "\tbeta_topic (10):\n",
      "\t\t beta_topic (0):\n",
      "['wants', 'termination', 'general', 'caiso', 'q2', 'dial', 'ees', 'process', 'paso', 'results']\n",
      "\n",
      "\t\t beta_topic (1):\n",
      "['supervisor', 'contribute', 'thanx', 'addition', 'pulling', 'documents', 'years', 'brief', 'imbalance', 'gh']\n",
      "\n",
      "\t\t beta_topic (2):\n",
      "['mr', 'effective', 'yahoo', 'agreements', 'team', 'larry', '08', 'set', '20', 'pm']\n",
      "\n",
      "\t\t beta_topic (3):\n",
      "['mike', 'added', 'weekly', 'security', 'll', 'elizabeth', 'business', 'lets', 'kay', 'positions']\n",
      "\n",
      "\t\t beta_topic (4):\n",
      "['713', 'msn', 'delainey', 'look', 'fyi', 'robert', 'number', 'sure', 'think', 'letter']\n",
      "\n",
      "\t\t beta_topic (5):\n",
      "['reminder', 'jackie', 'soon', 'peak', 'theresa', 'cc', 'vacation', 'believe', 'est', 'language']\n",
      "\n",
      "\t\t beta_topic (6):\n",
      "['getting', 'christie', 'official', 'reports', 'pm', 'litigation', 'horton', 'unit', 'outlook', '646']\n",
      "\n",
      "\t\t beta_topic (7):\n",
      "['msn', '853', 'sara', 'analysis', 'fuel', 'car', 'assistance', 'latest', 'explorer', 'monday']\n",
      "\n",
      "\t\t beta_topic (8):\n",
      "['free', 'year', 'open', 'kill', 'leslie', 'meeting', 'weekend', 'way', 'took', 'good']\n",
      "\n",
      "\t\t beta_topic (9):\n",
      "['kitchen', 'louise', 'cc', 'htm', 'risk', 'contact', 'positions', 'idea', 'global', '2001']\n",
      "\n",
      "\tbeta_style (10):\n",
      "\t\t beta_style (0):\n",
      "['questions', 'attached', 'team', 'nat', 'gas', 'wish', '03', 'fischer', '2000', 'id']\n",
      "\n",
      "\t\t beta_style (1):\n",
      "['edmund', '58', 'beck', 'elizabeth', 'cover', 'concert', 'whats', 'saturday', 'receipt', 'lou']\n",
      "\n",
      "\t\t beta_style (2):\n",
      "['task', 'prior', 'days', 'kind', '58', 'leslie', 'approved', 'date', 'eott', 'weekend']\n",
      "\n",
      "\t\t beta_style (3):\n",
      "['need', 'changed', 'flight', 'dg', 'americas', 'region', 'awesome', 'open', 'view', 'brown']\n",
      "\n",
      "\t\t beta_style (4):\n",
      "['wife', 'long', 'instructions', '51', 'paul', 'possible', 'site', 'ees', 'html', 'victor']\n",
      "\n",
      "\t\t beta_style (5):\n",
      "['related', 'opening', 'looking', 'agreements', 'bruce', 'contract', '464', 'sense', 'sounds', 'julie']\n",
      "\n",
      "\t\t beta_style (6):\n",
      "['traded', 'eei', 'original', '646', 'mike', 'gave', 'stephanie', 'perfect', 'um', 'dasovich']\n",
      "\n",
      "\t\t beta_style (7):\n",
      "['heard', 'kitchen', '646', 'deals', 'lc', 'hard', 'taken', 'notice', 'cc', 'discuss']\n",
      "\n",
      "\t\t beta_style (8):\n",
      "['summary', 'black', 'heard', 'mentioned', 'ha', 'purchase', 'shelley', '29', 'intervention', 'discussions']\n",
      "\n",
      "\t\t beta_style (9):\n",
      "['used', 'robert', 'task', 'template', 'commercial', 'forwarded', 'company', 'remember', 'holiday', 'htm']\n",
      "\n",
      "Meta Var Info\n",
      "\tcasing (10):\n",
      "\t\t casing (0):\n",
      "['mixed', 'upper', 'lower']\n",
      "\n",
      "\t\t casing (1):\n",
      "['mixed', 'lower', 'upper']\n",
      "\n",
      "\t\t casing (2):\n",
      "['lower', 'mixed', 'upper']\n",
      "\n",
      "\t\t casing (3):\n",
      "['lower', 'upper', 'mixed']\n",
      "\n",
      "\t\t casing (4):\n",
      "['lower', 'upper', 'mixed']\n",
      "\n",
      "\t\t casing (5):\n",
      "['mixed', 'lower', 'upper']\n",
      "\n",
      "\t\t casing (6):\n",
      "['mixed', 'upper', 'lower']\n",
      "\n",
      "\t\t casing (7):\n",
      "['mixed', 'lower', 'upper']\n",
      "\n",
      "\t\t casing (8):\n",
      "['mixed', 'lower', 'upper']\n",
      "\n",
      "\t\t casing (9):\n",
      "['upper', 'lower', 'mixed']\n",
      "\n",
      "\temoji_task (10):\n",
      "\t\t emoji_task (0):\n",
      "['😊', '❤', '😘', '📷', '😍', '☀', '😜', '😎', '💙', '💜']\n",
      "\n",
      "\t\t emoji_task (1):\n",
      "['📷', '😂', '😍', '❤', '💕', '💯', '💙', '💜', '😜', '🇺🇸']\n",
      "\n",
      "\t\t emoji_task (2):\n",
      "['💜', '💕', '😂', '😉', '🇺🇸', '📸', '☀', '💙', '😁', '😘']\n",
      "\n",
      "\t\t emoji_task (3):\n",
      "['🎄', '🔥', '✨', '📷', '💯', '☀', '😁', '💙', '📸', '😜']\n",
      "\n",
      "\t\t emoji_task (4):\n",
      "['☀', '😘', '🔥', '❤', '📸', '💜', '😉', '😊', '🇺🇸', '💯']\n",
      "\n",
      "\t\t emoji_task (5):\n",
      "['😜', '💕', '☀', '😘', '📸', '🎄', '😍', '💜', '💙', '📷']\n",
      "\n",
      "\t\t emoji_task (6):\n",
      "['✨', '😉', '🎄', '💕', '🔥', '😁', '😂', '😜', '💯', '😍']\n",
      "\n",
      "\t\t emoji_task (7):\n",
      "['😂', '😍', '🎄', '💯', '💜', '😉', '💙', '😜', '🇺🇸', '😘']\n",
      "\n",
      "\t\t emoji_task (8):\n",
      "['😊', '🎄', '🇺🇸', '🔥', '📸', '😎', '☀', '😜', '😘', '📷']\n",
      "\n",
      "\t\t emoji_task (9):\n",
      "['✨', '💜', '😁', '💙', '💕', '😉', '😂', '😘', '💯', '🇺🇸']\n",
      "\n",
      "\tformality (10):\n",
      "\t\t formality (0):\n",
      "['Informal', 'Formal']\n",
      "\n",
      "\t\t formality (1):\n",
      "['Formal', 'Informal']\n",
      "\n",
      "\t\t formality (2):\n",
      "['Informal', 'Formal']\n",
      "\n",
      "\t\t formality (3):\n",
      "['Formal', 'Informal']\n",
      "\n",
      "\t\t formality (4):\n",
      "['Informal', 'Formal']\n",
      "\n",
      "\t\t formality (5):\n",
      "['Formal', 'Informal']\n",
      "\n",
      "\t\t formality (6):\n",
      "['Informal', 'Formal']\n",
      "\n",
      "\t\t formality (7):\n",
      "['Informal', 'Formal']\n",
      "\n",
      "\t\t formality (8):\n",
      "['Informal', 'Formal']\n",
      "\n",
      "\t\t formality (9):\n",
      "['Informal', 'Formal']\n",
      "\n",
      "\tpos_bigrams (10):\n",
      "\t\t pos_bigrams (0):\n",
      "['pos_bigrams:NUM SYM', 'pos_bigrams:ADP DET', 'pos_bigrams:SYM NUM', 'pos_bigrams:ADP PROPN', 'pos_bigrams:NOUN ADP', 'pos_bigrams:PROPN PROPN', 'pos_bigrams:AUX VERB', 'pos_bigrams:VERB NOUN', 'pos_bigrams:PUNCT NUM', 'pos_bigrams:PART VERB']\n",
      "\n",
      "\t\t pos_bigrams (1):\n",
      "['pos_bigrams:PUNCT VERB', 'pos_bigrams:NUM PRON', 'pos_bigrams:CCONJ DET', 'pos_bigrams:PROPN PART', 'pos_bigrams:DET ADP', 'pos_bigrams:ADJ X', 'pos_bigrams:VERB PROPN', 'pos_bigrams:NOUN INTJ', 'pos_bigrams:PROPN ADJ', 'pos_bigrams:NOUN ADP']\n",
      "\n",
      "\t\t pos_bigrams (2):\n",
      "['pos_bigrams:ADJ ADV', 'pos_bigrams:VERB PUNCT', 'pos_bigrams:ADJ NUM', 'pos_bigrams:DET NOUN', 'pos_bigrams:CCONJ AUX', 'pos_bigrams:PRON AUX', 'pos_bigrams:PART NOUN', 'pos_bigrams:X AUX', 'pos_bigrams:SYM VERB', 'pos_bigrams:NUM PROPN']\n",
      "\n",
      "\t\t pos_bigrams (3):\n",
      "['pos_bigrams:ADP SCONJ', 'pos_bigrams:PART DET', 'pos_bigrams:ADJ PUNCT', 'pos_bigrams:NUM VERB', 'pos_bigrams:AUX NUM', 'pos_bigrams:CCONJ SYM', 'pos_bigrams:PRON ADJ', 'pos_bigrams:ADP INTJ', 'pos_bigrams:SCONJ ADJ', 'pos_bigrams:NOUN PROPN']\n",
      "\n",
      "\t\t pos_bigrams (4):\n",
      "['pos_bigrams:SPACE ADJ', 'pos_bigrams:DET NUM', 'pos_bigrams:NUM X', 'pos_bigrams:DET INTJ', 'pos_bigrams:NUM ADP', 'pos_bigrams:NOUN X', 'pos_bigrams:VERB PROPN', 'pos_bigrams:PART PUNCT', 'pos_bigrams:CCONJ AUX', 'pos_bigrams:PART SPACE']\n",
      "\n",
      "\t\t pos_bigrams (5):\n",
      "['pos_bigrams:NUM PART', 'pos_bigrams:ADV ADP', 'pos_bigrams:NUM DET', 'pos_bigrams:INTJ SPACE', 'pos_bigrams:INTJ SYM', 'pos_bigrams:CCONJ DET', 'pos_bigrams:CCONJ SCONJ', 'pos_bigrams:SCONJ SPACE', 'pos_bigrams:DET INTJ', 'pos_bigrams:ADV NUM']\n",
      "\n",
      "\t\t pos_bigrams (6):\n",
      "['pos_bigrams:PROPN SYM', 'pos_bigrams:INTJ SPACE', 'pos_bigrams:PRON SCONJ', 'pos_bigrams:ADJ SYM', 'pos_bigrams:INTJ ADP', 'pos_bigrams:CCONJ PUNCT', 'pos_bigrams:ADV PROPN', 'pos_bigrams:SPACE NOUN', 'pos_bigrams:NUM PART', 'pos_bigrams:DET CCONJ']\n",
      "\n",
      "\t\t pos_bigrams (7):\n",
      "['pos_bigrams:PROPN ADV', 'pos_bigrams:PUNCT PROPN', 'pos_bigrams:NUM SYM', 'pos_bigrams:PROPN PROPN', 'pos_bigrams:PART VERB', 'pos_bigrams:VERB NOUN', 'pos_bigrams:AUX ADJ', 'pos_bigrams:VERB PART', 'pos_bigrams:SPACE ADJ', 'pos_bigrams:AUX VERB']\n",
      "\n",
      "\t\t pos_bigrams (8):\n",
      "['pos_bigrams:ADP PROPN', 'pos_bigrams:AUX VERB', 'pos_bigrams:NUM NUM', 'pos_bigrams:PROPN PROPN', 'pos_bigrams:PUNCT NUM', 'pos_bigrams:VERB PART', 'pos_bigrams:ADP PRON', 'pos_bigrams:NOUN VERB', 'pos_bigrams:PROPN ADP', 'pos_bigrams:NOUN AUX']\n",
      "\n",
      "\t\t pos_bigrams (9):\n",
      "['pos_bigrams:DET VERB', 'pos_bigrams:PUNCT SCONJ', 'pos_bigrams:VERB DET', 'pos_bigrams:ADP DET', 'pos_bigrams:VERB NOUN', 'pos_bigrams:VERB PUNCT', 'pos_bigrams:PRON VERB', 'pos_bigrams:ADV PRON', 'pos_bigrams:DET NOUN', 'pos_bigrams:PROPN NOUN']\n",
      "\n",
      "\tpunc_tags (10):\n",
      "\t\t punc_tags (0):\n",
      "['punctuation:(', 'punctuation:,', 'punctuation:`', 'punctuation:.', 'punctuation:–', 'punctuation:-', \"punctuation:'\", 'punctuation:?', 'punctuation:!', 'punctuation:*']\n",
      "\n",
      "\t\t punc_tags (1):\n",
      "['punctuation:,', 'punctuation:&', 'punctuation:(', 'punctuation:?', 'punctuation:;', \"punctuation:'\", 'punctuation:\"', 'punctuation:!', 'punctuation::', 'punctuation:‘']\n",
      "\n",
      "\t\t punc_tags (2):\n",
      "['punctuation:;', 'punctuation:\"', 'punctuation:-', 'punctuation::', 'punctuation:`', 'punctuation:–', 'punctuation:%', 'punctuation:‘', 'punctuation:_', 'none']\n",
      "\n",
      "\t\t punc_tags (3):\n",
      "['punctuation:,', 'punctuation::', 'punctuation:\"', 'punctuation:‘', 'punctuation:_', 'punctuation:`', 'punctuation:&', 'punctuation:%', 'none', 'punctuation:-']\n",
      "\n",
      "\t\t punc_tags (4):\n",
      "['punctuation:;', 'punctuation:)', 'punctuation:–', 'punctuation:!', 'punctuation:%', 'punctuation:‘', 'punctuation:.', 'punctuation::', 'none', 'punctuation:?']\n",
      "\n",
      "\t\t punc_tags (5):\n",
      "['punctuation:?', 'punctuation::', 'punctuation:`', 'punctuation:(', 'punctuation:–', 'punctuation:&', 'punctuation:*', 'punctuation:!', 'punctuation:_', 'punctuation:\"']\n",
      "\n",
      "\t\t punc_tags (6):\n",
      "['punctuation:,', 'punctuation:.', 'punctuation:‘', 'punctuation:(', 'punctuation:`', 'none', 'punctuation:–', 'punctuation:’', 'punctuation:%', 'punctuation:*']\n",
      "\n",
      "\t\t punc_tags (7):\n",
      "['punctuation:&', 'punctuation::', 'punctuation:,', 'punctuation:?', 'punctuation:)', 'punctuation:–', 'punctuation:\"', 'punctuation:.', 'punctuation:‘', \"punctuation:'\"]\n",
      "\n",
      "\t\t punc_tags (8):\n",
      "[\"punctuation:'\", 'punctuation:_', 'punctuation:)', 'none', 'punctuation:\"', 'punctuation:?', 'punctuation:.', 'punctuation:’', 'punctuation:`', 'punctuation:%']\n",
      "\n",
      "\t\t punc_tags (9):\n",
      "['punctuation:-', 'punctuation:.', 'punctuation:;', 'punctuation:)', 'punctuation:‘', 'punctuation:,', 'punctuation:\"', \"punctuation:'\", 'punctuation:(', 'punctuation:`']\n",
      "\n",
      "\tsentiment_task (10):\n",
      "\t\t sentiment_task (0):\n",
      "['neutral', 'positive', 'negative']\n",
      "\n",
      "\t\t sentiment_task (1):\n",
      "['positive', 'negative', 'neutral']\n",
      "\n",
      "\t\t sentiment_task (2):\n",
      "['neutral', 'negative', 'positive']\n",
      "\n",
      "\t\t sentiment_task (3):\n",
      "['positive', 'neutral', 'negative']\n",
      "\n",
      "\t\t sentiment_task (4):\n",
      "['neutral', 'negative', 'positive']\n",
      "\n",
      "\t\t sentiment_task (5):\n",
      "['positive', 'neutral', 'negative']\n",
      "\n",
      "\t\t sentiment_task (6):\n",
      "['positive', 'neutral', 'negative']\n",
      "\n",
      "\t\t sentiment_task (7):\n",
      "['neutral', 'positive', 'negative']\n",
      "\n",
      "\t\t sentiment_task (8):\n",
      "['positive', 'negative', 'neutral']\n",
      "\n",
      "\t\t sentiment_task (9):\n",
      "['neutral', 'negative', 'positive']\n",
      "\n"
     ]
    },
    {
     "name": "stderr",
     "output_type": "stream",
     "text": [
      "\n"
     ]
    }
   ],
   "source": [
    "top_words_per_latent = top_beta_document(prod_slda, vectorizer,  top_k=10)\n",
    "top_meta_per_latent = top_beta_meta(prod_slda, meta_features_to_names, top_k=10)\n",
    "\n",
    "print('Document Term Info')\n",
    "for latent, top in top_words_per_latent.items():\n",
    "    print(f'\\t{latent} ({len(top)}):')\n",
    "    for i, results in enumerate(top):\n",
    "        print(f'\\t\\t {latent} ({i}):\\n{results[\"top\"]}')\n",
    "        print()\n",
    "\n",
    "print('Meta Var Info')\n",
    "for latent, top in top_meta_per_latent.items():\n",
    "\n",
    "    print(f'\\t{latent} ({len(top)}):')\n",
    "    for i, results in enumerate(top):\n",
    "        print(f'\\t\\t {latent} ({i}):\\n{results[\"top\"]}')\n",
    "        print()"
   ]
  },
  {
   "cell_type": "code",
   "execution_count": null,
   "id": "540e74e6-7906-425e-83cc-5c3e80547760",
   "metadata": {},
   "outputs": [],
   "source": []
  }
 ],
 "metadata": {
  "kernelspec": {
   "display_name": "Python 3",
   "language": "python",
   "name": "python3"
  },
  "language_info": {
   "codemirror_mode": {
    "name": "ipython",
    "version": 3
   },
   "file_extension": ".py",
   "mimetype": "text/x-python",
   "name": "python",
   "nbconvert_exporter": "python",
   "pygments_lexer": "ipython3",
   "version": "3.8.10"
  }
 },
 "nbformat": 4,
 "nbformat_minor": 5
}
