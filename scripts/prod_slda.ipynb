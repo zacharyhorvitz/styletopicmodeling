{
 "cells": [
  {
   "cell_type": "code",
   "execution_count": 132,
   "id": "e2f8012e-f322-4234-aa7f-212c6c1620de",
   "metadata": {},
   "outputs": [],
   "source": [
    "import numpy as np\n",
    "import pandas as pd\n",
    "from scipy import sparse\n",
    "\n",
    "from tqdm import tqdm\n",
    "tqdm.pandas()\n",
    "import matplotlib.pyplot as plt\n",
    "\n",
    "from sklearn.model_selection import train_test_split\n",
    "from sklearn.feature_extraction.text import CountVectorizer\n",
    "\n",
    "from nltk.tag import pos_tag\n",
    "from nltk.tokenize import word_tokenize\n",
    "\n",
    "import torch\n",
    "import torch.nn as nn\n",
    "import torch.nn.functional as F\n",
    "from torch.utils.data import Dataset, DataLoader\n",
    "\n",
    "import pyro\n",
    "import pyro.distributions as dist\n",
    "from pyro.infer import SVI, Trace_ELBO, TraceMeanField_ELBO\n",
    "from pyro.optim import Adam, ClippedAdam"
   ]
  },
  {
   "cell_type": "code",
   "execution_count": 167,
   "id": "073131aa-9d82-4037-91e6-8a5d750a0605",
   "metadata": {},
   "outputs": [],
   "source": [
    "DATA_SRC = './styletopicmodeling/data/enron/users_data_50_unique_clean_min_10_fixed_sender.tsv'\n",
    "\n",
    "BATCH_SIZE = 512\n",
    "NUM_WORKERS = 8\n",
    "\n",
    "LR = 1e-2\n",
    "BETAS = (0.99, 0.999)\n",
    "EPS   = 1e-8\n",
    "CLIP_NORM = 10.\n",
    "ADAM_ARGS = {'lr': LR, 'betas': BETAS, 'eps': EPS, 'clip_norm': CLIP_NORM}\n",
    "\n",
    "DEVICE = torch.device('cuda:0')"
   ]
  },
  {
   "cell_type": "markdown",
   "id": "293b5753-b006-44c8-885f-32f70635d4ca",
   "metadata": {},
   "source": [
    "# Data Setup "
   ]
  },
  {
   "cell_type": "markdown",
   "id": "b7665c5b-ab47-4176-ad3a-975eb88978dd",
   "metadata": {
    "jp-MarkdownHeadingCollapsed": true,
    "tags": []
   },
   "source": [
    "## Data Reading "
   ]
  },
  {
   "cell_type": "code",
   "execution_count": 36,
   "id": "01d8b37c-de66-4ce1-bf2b-9deefce39f39",
   "metadata": {},
   "outputs": [],
   "source": [
    "data = pd.read_csv(DATA_SRC, sep = '\\t', header = None)\n",
    "data.columns = ['author', 'text', 'from', 'to', 'cc', 'bcc', 'meta']"
   ]
  },
  {
   "cell_type": "code",
   "execution_count": 39,
   "id": "4074fda7-483a-4ced-a581-a02ba56dc9ee",
   "metadata": {},
   "outputs": [
    {
     "data": {
      "text/html": [
       "<div>\n",
       "<style scoped>\n",
       "    .dataframe tbody tr th:only-of-type {\n",
       "        vertical-align: middle;\n",
       "    }\n",
       "\n",
       "    .dataframe tbody tr th {\n",
       "        vertical-align: top;\n",
       "    }\n",
       "\n",
       "    .dataframe thead th {\n",
       "        text-align: right;\n",
       "    }\n",
       "</style>\n",
       "<table border=\"1\" class=\"dataframe\">\n",
       "  <thead>\n",
       "    <tr style=\"text-align: right;\">\n",
       "      <th></th>\n",
       "      <th>author</th>\n",
       "      <th>text</th>\n",
       "      <th>from</th>\n",
       "      <th>to</th>\n",
       "      <th>cc</th>\n",
       "      <th>bcc</th>\n",
       "      <th>meta</th>\n",
       "    </tr>\n",
       "  </thead>\n",
       "  <tbody>\n",
       "    <tr>\n",
       "      <th>0</th>\n",
       "      <td>allen-p</td>\n",
       "      <td>Here is our forecast</td>\n",
       "      <td>From: phillip.allen@enron.com</td>\n",
       "      <td>X-To: Tim Belden</td>\n",
       "      <td>X-cc:</td>\n",
       "      <td>X-bcc:</td>\n",
       "      <td>Date: Mon, 14 May 2001 16:39:00 -0700 (PDT)</td>\n",
       "    </tr>\n",
       "    <tr>\n",
       "      <th>1</th>\n",
       "      <td>allen-p</td>\n",
       "      <td>test successful. way to go!!!</td>\n",
       "      <td>From: phillip.allen@enron.com</td>\n",
       "      <td>X-To: Leah Van Arsdall</td>\n",
       "      <td>X-cc:</td>\n",
       "      <td>X-bcc:</td>\n",
       "      <td>Date: Wed, 18 Oct 2000 03:00:00 -0700 (PDT)</td>\n",
       "    </tr>\n",
       "  </tbody>\n",
       "</table>\n",
       "</div>"
      ],
      "text/plain": [
       "    author                           text                           from  \\\n",
       "0  allen-p           Here is our forecast  From: phillip.allen@enron.com   \n",
       "1  allen-p  test successful. way to go!!!  From: phillip.allen@enron.com   \n",
       "\n",
       "                       to     cc     bcc  \\\n",
       "0        X-To: Tim Belden  X-cc:  X-bcc:   \n",
       "1  X-To: Leah Van Arsdall  X-cc:  X-bcc:   \n",
       "\n",
       "                                          meta  \n",
       "0  Date: Mon, 14 May 2001 16:39:00 -0700 (PDT)  \n",
       "1  Date: Wed, 18 Oct 2000 03:00:00 -0700 (PDT)  "
      ]
     },
     "execution_count": 39,
     "metadata": {},
     "output_type": "execute_result"
    }
   ],
   "source": [
    "data.head(2)"
   ]
  },
  {
   "cell_type": "markdown",
   "id": "3ec51068-a48f-46e4-9ae6-c1b4eb9d8244",
   "metadata": {
    "tags": []
   },
   "source": [
    "## Data Processing "
   ]
  },
  {
   "cell_type": "markdown",
   "id": "c20d96ec-eea5-45d0-8ab2-4fe1780e5824",
   "metadata": {
    "jp-MarkdownHeadingCollapsed": true,
    "tags": []
   },
   "source": [
    "### BOW "
   ]
  },
  {
   "cell_type": "code",
   "execution_count": 83,
   "id": "4f79754a-9fa0-4fdd-a647-0084e702f05f",
   "metadata": {},
   "outputs": [],
   "source": [
    "vectorizer = CountVectorizer(max_df=0.5, min_df=5, stop_words='english')\n",
    "bows = vectorizer.fit_transform(data['text'].values)"
   ]
  },
  {
   "cell_type": "markdown",
   "id": "e29d9a2a-6288-40a4-a62f-400f8c218402",
   "metadata": {
    "jp-MarkdownHeadingCollapsed": true,
    "tags": []
   },
   "source": [
    "### Bag-of-POS "
   ]
  },
  {
   "cell_type": "code",
   "execution_count": 66,
   "id": "d7024959-053c-456a-b3a6-2da1ebcc4f8f",
   "metadata": {},
   "outputs": [],
   "source": [
    "uni_tags = ['ADJ', 'ADP', 'ADV', 'CONJ', 'DET', 'NOUN', 'NUM', 'PRT', 'PRON', 'VERB', '.', 'X']"
   ]
  },
  {
   "cell_type": "code",
   "execution_count": 67,
   "id": "853c2d94-7d2f-43c4-aff7-e3c61bf1711d",
   "metadata": {},
   "outputs": [],
   "source": [
    "def get_pos_rep(text, tagset):\n",
    "    emb = {tag: 0 for tag in uni_tags}\n",
    "    tags = [tag[1] for tag in pos_tag(word_tokenize(test_txt), tagset = 'universal')]\n",
    "    for tag in tags:\n",
    "        emb[tag] += 1\n",
    "    return list(emb.values())"
   ]
  },
  {
   "cell_type": "code",
   "execution_count": 72,
   "id": "e7303c4c-5106-4b59-ba47-a6977ca3eeb0",
   "metadata": {},
   "outputs": [
    {
     "name": "stderr",
     "output_type": "stream",
     "text": [
      "100%|██████████| 89064/89064 [00:26<00:00, 3412.52it/s]\n"
     ]
    }
   ],
   "source": [
    "bops = data['text'].progress_apply(lambda txt: get_pos_rep(txt, uni_tags)).tolist()"
   ]
  },
  {
   "cell_type": "code",
   "execution_count": 76,
   "id": "20a0166c-b4d0-4dd0-80dd-6f5fbca9b84c",
   "metadata": {},
   "outputs": [],
   "source": [
    "bops = sparse.csr_matrix(bops)"
   ]
  },
  {
   "cell_type": "markdown",
   "id": "97291dbb-5aa9-4612-8961-a629cfa16c13",
   "metadata": {
    "tags": []
   },
   "source": [
    "### Summary "
   ]
  },
  {
   "cell_type": "code",
   "execution_count": 107,
   "id": "fa09ece7-3827-47a7-b7fc-a441a589298c",
   "metadata": {},
   "outputs": [],
   "source": [
    "assert(bows.shape[0] == bops.shape[0])\n",
    "NUM_DOCS   = bows.shape[0]\n",
    "VOCAB_SIZE = bows.shape[1]\n",
    "META_SIZE  = bops.shape[1]"
   ]
  },
  {
   "cell_type": "code",
   "execution_count": 108,
   "id": "14566e36-f4aa-4812-8633-d6e6c638f2e9",
   "metadata": {},
   "outputs": [
    {
     "name": "stdout",
     "output_type": "stream",
     "text": [
      "BOW Dims: (89064, 9222)\n",
      "BOP Dims: (89064, 12)\n"
     ]
    }
   ],
   "source": [
    "print(f'BOW Dims: {bows.shape}')\n",
    "print(f'BOP Dims: {bops.shape}')"
   ]
  },
  {
   "cell_type": "markdown",
   "id": "cb6e3a9e-420d-4b50-887a-6e00b5ec98f7",
   "metadata": {},
   "source": [
    "## Dataset"
   ]
  },
  {
   "cell_type": "code",
   "execution_count": 168,
   "id": "eae84587-4202-4136-a98a-8cc5f52b4402",
   "metadata": {},
   "outputs": [],
   "source": [
    "class DocMetaData(Dataset):\n",
    "    \n",
    "    def __init__(self, bows, metas, dtype = np.float32):\n",
    "        self.bows = bows\n",
    "        self.metas = metas\n",
    "        \n",
    "        self.dtype = dtype\n",
    "        \n",
    "    def __len__(self):\n",
    "        return self.bows.shape[0]\n",
    "    \n",
    "    def __getitem__(self, idx):\n",
    "        \n",
    "        bow = self.bows[idx].toarray().astype(self.dtype)[0]\n",
    "        meta = self.metas[idx].toarray().astype(self.dtype)[0]\n",
    "        \n",
    "        batch = {\n",
    "            'bow': bow,\n",
    "            'meta': meta\n",
    "        }\n",
    "        \n",
    "        return batch"
   ]
  },
  {
   "cell_type": "code",
   "execution_count": 169,
   "id": "e16dec22-8379-430b-8f25-5675e8ef8af3",
   "metadata": {},
   "outputs": [],
   "source": [
    "dataset = DocMetaData(bows, bops)"
   ]
  },
  {
   "cell_type": "code",
   "execution_count": 170,
   "id": "e231698c-1fd3-48de-98ee-43843613b690",
   "metadata": {},
   "outputs": [],
   "source": [
    "dl = DataLoader(dataset, batch_size = BATCH_SIZE, num_workers = NUM_WORKERS)"
   ]
  },
  {
   "cell_type": "code",
   "execution_count": 171,
   "id": "eb31ab8a-2164-4454-93be-ea3fb6899331",
   "metadata": {},
   "outputs": [
    {
     "name": "stdout",
     "output_type": "stream",
     "text": [
      "bow    : torch.Size([512, 9222])   torch.float32            \n",
      "meta   : torch.Size([512, 12])     torch.float32            \n"
     ]
    }
   ],
   "source": [
    "test_ = next(iter(dl))\n",
    "for k, v in test_.items():\n",
    "    print(f'{k:7s}: {str(v.shape):25s} {str(v.dtype):25s}')"
   ]
  },
  {
   "cell_type": "markdown",
   "id": "6d1b0ce8-9814-431f-8ecb-f557327c933d",
   "metadata": {},
   "source": [
    "# Model Definition "
   ]
  },
  {
   "cell_type": "markdown",
   "id": "036e5545-1066-4331-8d2f-4afc11fe9469",
   "metadata": {
    "tags": []
   },
   "source": [
    "## Neural Layers "
   ]
  },
  {
   "cell_type": "code",
   "execution_count": 156,
   "id": "bcd5ea24-a797-4986-afb4-b0806a3d8086",
   "metadata": {},
   "outputs": [],
   "source": [
    "class Encoder(nn.Module):\n",
    "    # Base class for the encoder net, used in the guide\n",
    "    def __init__(self, vocab_size, num_topics, hidden, dropout, eps = 1e-10):\n",
    "        super().__init__()\n",
    "        \n",
    "        self.eps = eps\n",
    "        \n",
    "        self.drop = nn.Dropout(dropout)  # to avoid component collapse\n",
    "        self.fc1 = nn.Linear(vocab_size, hidden)\n",
    "        self.fc2 = nn.Linear(hidden, hidden)\n",
    "        self.fcmu = nn.Linear(hidden, num_topics)\n",
    "        self.fclv = nn.Linear(hidden, num_topics)\n",
    "\n",
    "        self.bnmu = nn.BatchNorm1d(num_topics, affine=False)  # to avoid component collapse\n",
    "        self.bnlv = nn.BatchNorm1d(num_topics, affine=False)  # to avoid component collapse\n",
    "\n",
    "    def forward(self, inputs):\n",
    "        h = F.softplus(self.fc1(inputs))\n",
    "        h = F.softplus(self.fc2(h))\n",
    "        h = self.drop(h)\n",
    "        # μ and Σ are the outputs\n",
    "        logtheta_loc = self.bnmu(self.fcmu(h))\n",
    "        logtheta_logvar = self.bnlv(self.fclv(h))\n",
    "        logtheta_scale = self.eps + (0.5 * logtheta_logvar).exp()  # Enforces positivity\n",
    "        return logtheta_loc, logtheta_scale\n",
    "    \n",
    "class MetaDocEncoder(nn.Module):\n",
    "    \n",
    "    def __init__(self, vocab_size, meta_size, num_styles, hidden, dropout, eps = 1e-10):\n",
    "        super().__init__()\n",
    "        \n",
    "        self.eps = eps\n",
    "        \n",
    "        self.drop = nn.Dropout(dropout)  # to avoid component collapse\n",
    "        self.fc1_doc = nn.Linear(vocab_size, hidden)\n",
    "        self.fc1_meta = nn.Linear(meta_size, hidden)\n",
    "        self.fc2 = nn.Linear(2 * hidden, hidden)\n",
    "        self.fcmu = nn.Linear(hidden, num_styles)\n",
    "        self.fclv = nn.Linear(hidden, num_styles)\n",
    "\n",
    "        self.bnmu = nn.BatchNorm1d(num_styles, affine=False)  # to avoid component collapse\n",
    "        self.bnlv = nn.BatchNorm1d(num_styles, affine=False)  # to avoid component collapse\n",
    "\n",
    "    def forward(self, inputs_doc, inputs_meta):\n",
    "        \n",
    "        h_doc = F.softplus(self.fc1_doc(inputs_doc))\n",
    "        h_meta = F.softplus(self.fc1_meta(inputs_meta))\n",
    "        h = torch.hstack([h_doc, h_meta])\n",
    "        h = F.softplus(self.fc2(h))\n",
    "        h = self.drop(h)\n",
    "        # μ and Σ are the outputs\n",
    "        logkappa_loc = self.bnmu(self.fcmu(h))\n",
    "        logkappa_logvar = self.bnlv(self.fclv(h))\n",
    "        logkappa_scale = self.eps + (0.5 * logtheta_logvar).exp()  # Enforces positivity\n",
    "        return logkappa_loc, logkappa_scale"
   ]
  },
  {
   "cell_type": "code",
   "execution_count": 157,
   "id": "db798a1e-8552-4d0a-b185-14b3e4425bcf",
   "metadata": {},
   "outputs": [],
   "source": [
    "class Decoder(nn.Module):\n",
    "    # Base class for the decoder net, used in the model\n",
    "    def __init__(self, vocab_size, num_topics, dropout):\n",
    "        super().__init__()\n",
    "        self.beta = nn.Linear(num_topics, vocab_size, bias=False)\n",
    "        self.bn = nn.BatchNorm1d(vocab_size, affine=False)\n",
    "        self.drop = nn.Dropout(dropout)\n",
    "\n",
    "    def forward(self, inputs):\n",
    "        inputs = self.drop(inputs)\n",
    "        # the output is σ(βθ)\n",
    "        return self.bn(self.beta(inputs))\n",
    "    \n",
    "class MetaDocDecoder(nn.Module):\n",
    "    # Base class for the decoder net, used in the model\n",
    "    def __init__(self, vocab_size, num_topics, dropout):\n",
    "        super().__init__()\n",
    "        self.t_beta = nn.Linear(num_topics, meta_size, bias=False)\n",
    "        self.s_beta = nn.Linear(num_styles, meta_size, bias=False)\n",
    "        self.t_bn = nn.BatchNorm1d(meta_size, affine=False)\n",
    "        self.s_bn = nn.BatchNorm1d(meta_size, affine=False)\n",
    "        self.drop = nn.Dropout(dropout)\n",
    "\n",
    "    def forward(self, inputs_doc, inputs_meta):\n",
    "        inputs_doc  = self.drop(inputs_doc)\n",
    "        inputs_meta = self.drop(inputs_meta)\n",
    "        # the output is σ(βθ)\n",
    "        \n",
    "        dist_t = self.t_bn(self.t_beta(inputs_doc))\n",
    "        dist_s = self.s_bn(self.s_beta(inputs_meta))\n",
    "        \n",
    "        return 0.5 * (dist_t + dist_s)"
   ]
  },
  {
   "cell_type": "markdown",
   "id": "93f3b961-5983-4575-af2a-b5fe5ca56f84",
   "metadata": {},
   "source": [
    "## ProdSLDA "
   ]
  },
  {
   "cell_type": "code",
   "execution_count": 172,
   "id": "d7d033aa-6189-415b-8d37-80ca01b8dd0d",
   "metadata": {},
   "outputs": [],
   "source": [
    "class ProdSLDA(nn.Module):\n",
    "    \n",
    "    PRIOR_DISTS  = {'gaussian': dist.Normal,\n",
    "                    'laplace': dist.Laplace,\n",
    "                   }\n",
    "    TK_LINKS     = ('none', # Model style and documents independently\n",
    "                    'kappa_doc', # Allow kappa to effect word distributions\n",
    "                    'kappa_doc_style', # Allow kappa to effect word distributions and sampled words to effect style\n",
    "                   )\n",
    "    \n",
    "    def __init__(self, vocab_size, meta_size, num_topics, num_styles, hidden, dropout, \n",
    "                 theta_prior_dist = 'gaussian', theta_prior_loc = 0., theta_prior_scale = 1.,\n",
    "                 kappa_prior_dist = 'laplace', kappa_prior_loc = 0., kappa_prior_scale = 1.,\n",
    "                 style_topic_link = 'none',\n",
    "                 eps = 1e-10):\n",
    "        super().__init__()\n",
    "        \n",
    "        # Global model variables\n",
    "        self.vocab_size = vocab_size\n",
    "        self.num_topics = num_topics\n",
    "        self.num_styles = num_styles\n",
    "        self.hidden     = hidden\n",
    "        self.dropout    = dropout\n",
    "        \n",
    "        self.eps = eps\n",
    "        \n",
    "        # Theta Prior\n",
    "        if theta_prior_dist not in ProdSLDA.PRIOR_DISTS.keys():\n",
    "            raise ValueError(f'Theta prior {theta_prior_dist} not yet implemented. Must be one of {\", \".join(ProdSLDA.PRIOR_DISTS.keys())}')\n",
    "        self.theta_prior_dist = theta_prior_dist\n",
    "        \n",
    "        self.theta_prior_scale = theta_prior_scale\n",
    "        self.theta_prior_loc = theta_prior_loc\n",
    "        \n",
    "        # Kappa Prior\n",
    "        if kappa_prior_dist not in ProdSLDA.PRIOR_DISTS.keys():\n",
    "            raise ValueError(f'Kappa prior {kappa_prior_dist} not yet implemented. Must be one of {\", \".join(ProdSLDA.PRIOR_DISTS.keys())}')\n",
    "        self.kappa_prior_dist = kappa_prior_dist\n",
    "        \n",
    "        self.kappa_prior_scale = kappa_prior_scale\n",
    "        self.kappa_prior_loc = kappa_prior_loc\n",
    "        \n",
    "        \n",
    "        # Document style linking\n",
    "        self.style_topic_link = style_topic_link\n",
    "        \n",
    "        if self.style_topic_link not in ProdSLDA.TK_LINKS:\n",
    "            raise ValueError(f'Link {self.style_topic_link} not yet implemented. Must be one of {\", \".join(ProdSLDA.TK_LINKS)}')\n",
    "        elif self.style_topic_link == 'none':\n",
    "            # Independent modeling of style and topic, all normal encoder/decoders\n",
    "            self.encoder = Encoder(vocab_size, num_topics, hidden, dropout, self.eps)\n",
    "            self.decoder = Decoder(vocab_size, num_topics, dropout)\n",
    "            self.style_encoder = Encoder(meta_size, num_styles, hidden, dropout, self.eps)\n",
    "            self.style_decoder = Decoder(meta_size, num_styles, dropout)\n",
    "        elif self.style_topic_link == 'kappa_doc':\n",
    "            # Doc influences kappa encoding, style encoder takes in doc\n",
    "            self.encoder = MetaDocEncoder(vocab_size, meta_size, num_styles, hidden, dropout, self.eps)\n",
    "            self.decoder = MetaDocDecoder(vocab_size, num_topics, dropout)\n",
    "            self.style_encoder = Encoder(meta_size, num_styles, hidden, dropout, self.eps)\n",
    "            self.style_decoder = Decoder(meta_size, num_styles, dropout)\n",
    "\n",
    "    def model(self, docs, metas):\n",
    "        pyro.module(\"decoder\", self.decoder)\n",
    "        pyro.module(\"style_decoder\", self.style_decoder)\n",
    "        \n",
    "        with pyro.plate(\"documents\", docs.shape[0]):\n",
    "            # Dirichlet prior 𝑝(𝜃|𝛼) is replaced by a logistic-normal distribution\n",
    "            logtheta_loc = docs.new_zeros((docs.shape[0], self.num_topics)) * self.theta_prior_loc\n",
    "            logtheta_scale = docs.new_ones((docs.shape[0], self.num_topics)) * self.theta_prior_scale\n",
    "            logkappa_loc = docs.new_zeros((docs.shape[0], self.num_styles)) * self.kappa_prior_loc\n",
    "            logkappa_scale = docs.new_ones((docs.shape[0], self.num_styles)) * self.kappa_prior_scale\n",
    "            \n",
    "            if self.style_topic_link == 'kappa_doc':\n",
    "                logtheta_s_loc = docs.new_zeros((docs.shape[0], self.num_topics)) * self.theta_prior_loc\n",
    "                logtheta_s_scale = docs.new_ones((docs.shape[0], self.num_topics)) * self.theta_prior_scale\n",
    "                \n",
    "                logtheta_s = pyro.sample(\n",
    "                    \"logtheta_s\", ProdSLDA.PRIOR_DISTS[self.theta_prior_dist](logtheta_s_loc, logtheta_s_scale).to_event(1))\n",
    "                \n",
    "                theta_s = F.softmax(logtheta_s, -1)\n",
    "            \n",
    "            logtheta = pyro.sample(\n",
    "                \"logtheta\", ProdSLDA.PRIOR_DISTS[self.theta_prior_dist](logtheta_loc, logtheta_scale).to_event(1))\n",
    "            logkappa = pyro.sample(\n",
    "                \"logkappa\", ProdSLDA.PRIOR_DISTS[self.kappa_prior_dist](logkappa_loc, logkappa_scale).to_event(1))\n",
    "            \n",
    "            theta = F.softmax(logtheta, -1)\n",
    "            kappa = F.softmax(logkappa, -1)\n",
    "\n",
    "            if self.style_topic_link == 'none':\n",
    "                word_logits = self.decoder(theta)\n",
    "            elif self.style_topic_link == 'kappa_doc':\n",
    "                word_logits = self.decoder(theta, theta_s)\n",
    "                \n",
    "            style_logits = self.style_decoder(kappa)\n",
    "\n",
    "            total_count = int(docs.sum(-1).max())\n",
    "            pyro.sample(\n",
    "                'obs_doc',\n",
    "                dist.Multinomial(total_count, logits = word_logits),\n",
    "                obs=docs\n",
    "            )\n",
    "            \n",
    "            total_s_count = int(metas.sum(-1).max())\n",
    "            pyro.sample(\n",
    "                'obs_meta',\n",
    "                dist.Multinomial(total_s_count, logits = style_logits),\n",
    "                obs=metas\n",
    "            )\n",
    "\n",
    "    def guide(self, docs, metas):\n",
    "        pyro.module(\"encoder\", self.encoder)\n",
    "        pyro.module(\"style_encoder\", self.encoder)\n",
    "            \n",
    "        with pyro.plate(\"documents\", docs.shape[0]):\n",
    "            # Dirichlet prior 𝑝(𝜃|𝛼) is replaced by a logistic-normal distribution,\n",
    "            # where μ and Σ are the encoder network outputs\n",
    "            \n",
    "            if self.style_topic_link == 'none':\n",
    "                logtheta_loc, logtheta_scale = self.encoder(docs)\n",
    "                logkappa_loc, logkappa_scale = self.style_encoder(metas)\n",
    "\n",
    "            elif self.style_topic_link == 'kappa_doc':\n",
    "                logtheta_loc, logtheta_scale, logkappa_d_loc, logkappa_d_scale = self.encoder(docs, metas)\n",
    "                logkappa_loc, logkappa_scale = self.style_encoder(metas)\n",
    "                \n",
    "                # Average theta loc from document and style\n",
    "                logkappa_loc = 0.5 * (logkappa_loc + logkappa_d_loc) \n",
    "                logkappa_scale = 0.5 * (logkappa_scale + logkappa_d_scale)\n",
    "            \n",
    "            # Sample logtheta/logkappa from guide\n",
    "            logtheta = pyro.sample(\n",
    "                \"logtheta\", ProdSLDA.PRIOR_DISTS[self.theta_prior_dist](logtheta_loc, logtheta_scale).to_event(1))\n",
    "            logkappa = pyro.sample(\n",
    "                \"logkappa\", ProdSLDA.PRIOR_DISTS[self.kappa_prior_dist](logkappa_loc, logkappa_scale).to_event(1))\n",
    "            \n",
    "\n",
    "    def beta_topic(self):\n",
    "        if self.style_topic_link == 'none':\n",
    "            return self.decoder.beta.weight.cpu().detach().T\n",
    "        elif self.style_topic_link == 'kappa_doc':\n",
    "            t_beta = self.decoder.t_beta.weight.cpu().detach().T\n",
    "            s_beta = self.style_decoder.s_beta.weight.cpu().detach().T\n",
    "            return t_beta, s_beta\n",
    "            \n",
    "    def betas(self):\n",
    "        # beta matrix elements are the weights of the FC layer on the decoder\n",
    "        return self.decoder.beta.weight.cpu().detach().T"
   ]
  },
  {
   "cell_type": "markdown",
   "id": "93050dff-fe64-4737-862e-2e6baa0af03e",
   "metadata": {},
   "source": [
    "# Model Fitting "
   ]
  },
  {
   "cell_type": "markdown",
   "id": "9ed443b9-6ebe-4351-aeb7-5c85caff576b",
   "metadata": {},
   "source": [
    "## Setup"
   ]
  },
  {
   "cell_type": "code",
   "execution_count": 173,
   "id": "a6ed2353-d5e5-47d0-a9f9-e37c82db4cca",
   "metadata": {},
   "outputs": [],
   "source": [
    "NUM_TOPICS = 20\n",
    "NUM_STYLES = 20\n",
    "HIDDEN_DIM = 64\n",
    "DROPOUT    = 0.2\n",
    "\n",
    "THETA_PRIOR_DIST = 'gaussian'\n",
    "THETA_PRIOR_LOC = 0.\n",
    "THETA_PRIOR_SCALE = 1.\n",
    "\n",
    "KAPPA_PRIOR_DIST = 'laplace'\n",
    "KAPPA_PRIOR_LOC = 0.\n",
    "KAPPA_PRIOR_SCALE = 1.\n",
    "\n",
    "STYLE_TOPIC_LINK = 'none'\n",
    "\n",
    "NUM_EPOCHS = 100"
   ]
  },
  {
   "cell_type": "code",
   "execution_count": 174,
   "id": "5cb86678-f33a-49a1-971c-1641b2da6e66",
   "metadata": {},
   "outputs": [],
   "source": [
    "prod_slda = ProdSLDA(\n",
    "    vocab_size = VOCAB_SIZE,\n",
    "    meta_size  = META_SIZE,\n",
    "    num_topics = NUM_TOPICS, num_styles = NUM_STYLES, \n",
    "    hidden = HIDDEN_DIM, dropout = DROPOUT, \n",
    "    theta_prior_dist = THETA_PRIOR_DIST, \n",
    "    theta_prior_loc = THETA_PRIOR_LOC, theta_prior_scale = THETA_PRIOR_SCALE,\n",
    "    kappa_prior_dist = KAPPA_PRIOR_DIST, \n",
    "    kappa_prior_loc = KAPPA_PRIOR_LOC, kappa_prior_scale = KAPPA_PRIOR_SCALE,\n",
    "    style_topic_link = STYLE_TOPIC_LINK,\n",
    ").to(DEVICE)"
   ]
  },
  {
   "cell_type": "markdown",
   "id": "bf790d2c-25ba-4769-8703-5b9e672a735f",
   "metadata": {},
   "source": [
    "## Training "
   ]
  },
  {
   "cell_type": "code",
   "execution_count": 175,
   "id": "4487f140-7c91-4b84-9404-af5d21b233d8",
   "metadata": {
    "scrolled": true,
    "tags": []
   },
   "outputs": [
    {
     "data": {
      "image/svg+xml": [
       "<?xml version=\"1.0\" encoding=\"UTF-8\" standalone=\"no\"?>\n",
       "<!DOCTYPE svg PUBLIC \"-//W3C//DTD SVG 1.1//EN\"\n",
       " \"http://www.w3.org/Graphics/SVG/1.1/DTD/svg11.dtd\">\n",
       "<!-- Generated by graphviz version 2.43.0 (0)\n",
       " -->\n",
       "<!-- Title: %3 Pages: 1 -->\n",
       "<svg width=\"456pt\" height=\"187pt\"\n",
       " viewBox=\"0.00 0.00 455.50 187.00\" xmlns=\"http://www.w3.org/2000/svg\" xmlns:xlink=\"http://www.w3.org/1999/xlink\">\n",
       "<g id=\"graph0\" class=\"graph\" transform=\"scale(1 1) rotate(0) translate(4 183)\">\n",
       "<title>%3</title>\n",
       "<polygon fill=\"white\" stroke=\"transparent\" points=\"-4,4 -4,-183 451.5,-183 451.5,4 -4,4\"/>\n",
       "<g id=\"clust1\" class=\"cluster\">\n",
       "<title>cluster_documents</title>\n",
       "<polygon fill=\"none\" stroke=\"black\" points=\"8,-8 8,-171 246,-171 246,-8 8,-8\"/>\n",
       "<text text-anchor=\"middle\" x=\"198.5\" y=\"-15.8\" font-family=\"Times,serif\" font-size=\"14.00\">documents</text>\n",
       "</g>\n",
       "<!-- logtheta -->\n",
       "<g id=\"node1\" class=\"node\">\n",
       "<title>logtheta</title>\n",
       "<ellipse fill=\"white\" stroke=\"black\" cx=\"189\" cy=\"-145\" rx=\"49.29\" ry=\"18\"/>\n",
       "<text text-anchor=\"middle\" x=\"189\" y=\"-141.3\" font-family=\"Times,serif\" font-size=\"14.00\">logtheta</text>\n",
       "</g>\n",
       "<!-- obs_doc -->\n",
       "<g id=\"node3\" class=\"node\">\n",
       "<title>obs_doc</title>\n",
       "<ellipse fill=\"grey\" stroke=\"black\" cx=\"191\" cy=\"-57\" rx=\"47.39\" ry=\"18\"/>\n",
       "<text text-anchor=\"middle\" x=\"191\" y=\"-53.3\" font-family=\"Times,serif\" font-size=\"14.00\">obs_doc</text>\n",
       "</g>\n",
       "<!-- logtheta&#45;&gt;obs_doc -->\n",
       "<g id=\"edge1\" class=\"edge\">\n",
       "<title>logtheta&#45;&gt;obs_doc</title>\n",
       "<path fill=\"none\" stroke=\"black\" d=\"M189.4,-126.6C189.68,-114.75 190.05,-98.82 190.37,-85.29\"/>\n",
       "<polygon fill=\"black\" stroke=\"black\" points=\"193.87,-85.16 190.6,-75.08 186.87,-85 193.87,-85.16\"/>\n",
       "</g>\n",
       "<!-- logkappa -->\n",
       "<g id=\"node2\" class=\"node\">\n",
       "<title>logkappa</title>\n",
       "<ellipse fill=\"white\" stroke=\"black\" cx=\"69\" cy=\"-145\" rx=\"52.79\" ry=\"18\"/>\n",
       "<text text-anchor=\"middle\" x=\"69\" y=\"-141.3\" font-family=\"Times,serif\" font-size=\"14.00\">logkappa</text>\n",
       "</g>\n",
       "<!-- obs_meta -->\n",
       "<g id=\"node4\" class=\"node\">\n",
       "<title>obs_meta</title>\n",
       "<ellipse fill=\"grey\" stroke=\"black\" cx=\"71\" cy=\"-57\" rx=\"54.69\" ry=\"18\"/>\n",
       "<text text-anchor=\"middle\" x=\"71\" y=\"-53.3\" font-family=\"Times,serif\" font-size=\"14.00\">obs_meta</text>\n",
       "</g>\n",
       "<!-- logkappa&#45;&gt;obs_meta -->\n",
       "<g id=\"edge2\" class=\"edge\">\n",
       "<title>logkappa&#45;&gt;obs_meta</title>\n",
       "<path fill=\"none\" stroke=\"black\" d=\"M69.4,-126.6C69.68,-114.75 70.05,-98.82 70.37,-85.29\"/>\n",
       "<polygon fill=\"black\" stroke=\"black\" points=\"73.87,-85.16 70.6,-75.08 66.87,-85 73.87,-85.16\"/>\n",
       "</g>\n",
       "<!-- distribution_description_node -->\n",
       "<g id=\"node5\" class=\"node\">\n",
       "<title>distribution_description_node</title>\n",
       "<text text-anchor=\"start\" x=\"264.5\" y=\"-163.8\" font-family=\"Times,serif\" font-size=\"14.00\">logtheta ~ Normal</text>\n",
       "<text text-anchor=\"start\" x=\"264.5\" y=\"-148.8\" font-family=\"Times,serif\" font-size=\"14.00\">logkappa ~ Laplace</text>\n",
       "<text text-anchor=\"start\" x=\"264.5\" y=\"-133.8\" font-family=\"Times,serif\" font-size=\"14.00\">obs_doc ~ Multinomial</text>\n",
       "<text text-anchor=\"start\" x=\"264.5\" y=\"-118.8\" font-family=\"Times,serif\" font-size=\"14.00\">obs_meta ~ Multinomial</text>\n",
       "</g>\n",
       "</g>\n",
       "</svg>\n"
      ],
      "text/plain": [
       "<graphviz.graphs.Digraph at 0x7f5a9c3500d0>"
      ]
     },
     "execution_count": 175,
     "metadata": {},
     "output_type": "execute_result"
    }
   ],
   "source": [
    "pyro.clear_param_store()\n",
    "prod_slda.train()\n",
    "_"
   ]
  },
  {
   "cell_type": "code",
   "execution_count": 176,
   "id": "2cc93883-15f9-411c-98b0-851ee1f1390a",
   "metadata": {},
   "outputs": [],
   "source": [
    "optim = pyro.optim.ClippedAdam(ADAM_ARGS)\n",
    "\n",
    "svi = SVI(\n",
    "    pyro.poutine.scale(prod_slda.model, BATCH_SIZE/len(dl.dataset)),\n",
    "    pyro.poutine.scale(prod_slda.model, BATCH_SIZE/len(dl.dataset)),\n",
    "    optim,\n",
    "    loss = TraceMeanField_ELBO()\n",
    ")"
   ]
  },
  {
   "cell_type": "code",
   "execution_count": 177,
   "id": "26707463-b804-4ad2-9eac-a2c4251dfd80",
   "metadata": {
    "scrolled": true,
    "tags": []
   },
   "outputs": [
    {
     "name": "stdout",
     "output_type": "stream",
     "text": [
      "              Trace Shapes:             \n",
      "               Param Sites:             \n",
      "      decoder$$$beta.weight 9222 20     \n",
      "style_decoder$$$beta.weight   12 20     \n",
      "              Sample Sites:             \n",
      "             documents dist       |     \n",
      "                      value  512  |     \n",
      "              logtheta dist  512  |   20\n",
      "                      value  512  |   20\n",
      "              logkappa dist  512  |   20\n",
      "                      value  512  |   20\n",
      "               obs_doc dist  512  | 9222\n",
      "                      value  512  | 9222\n",
      "              obs_meta dist  512  |   12\n",
      "                      value  512  |   12\n"
     ]
    }
   ],
   "source": [
    "print(pyro.poutine.trace(prod_slda.model).get_trace(test_['bow'].to(DEVICE), test_['meta'].to(DEVICE)).format_shapes())"
   ]
  },
  {
   "cell_type": "code",
   "execution_count": 178,
   "id": "4f1bea62-f21c-46d2-9963-9a2b4ee9e90c",
   "metadata": {
    "scrolled": true,
    "tags": []
   },
   "outputs": [
    {
     "name": "stdout",
     "output_type": "stream",
     "text": [
      "              Trace Shapes:            \n",
      "               Param Sites:            \n",
      "       encoder$$$fc1.weight  64 9222   \n",
      "         encoder$$$fc1.bias       64   \n",
      "       encoder$$$fc2.weight  64   64   \n",
      "         encoder$$$fc2.bias       64   \n",
      "      encoder$$$fcmu.weight  20   64   \n",
      "        encoder$$$fcmu.bias       20   \n",
      "      encoder$$$fclv.weight  20   64   \n",
      "        encoder$$$fclv.bias       20   \n",
      " style_encoder$$$fc1.weight  64 9222   \n",
      "   style_encoder$$$fc1.bias       64   \n",
      " style_encoder$$$fc2.weight  64   64   \n",
      "   style_encoder$$$fc2.bias       64   \n",
      "style_encoder$$$fcmu.weight  20   64   \n",
      "  style_encoder$$$fcmu.bias       20   \n",
      "style_encoder$$$fclv.weight  20   64   \n",
      "  style_encoder$$$fclv.bias       20   \n",
      "              Sample Sites:            \n",
      "             documents dist        |   \n",
      "                      value 512    |   \n",
      "              logtheta dist 512    | 20\n",
      "                      value 512    | 20\n",
      "              logkappa dist 512    | 20\n",
      "                      value 512    | 20\n"
     ]
    }
   ],
   "source": [
    "print(pyro.poutine.trace(prod_slda.guide).get_trace(test_['bow'].to(DEVICE), test_['meta'].to(DEVICE)).format_shapes())\n"
   ]
  },
  {
   "cell_type": "code",
   "execution_count": 179,
   "id": "e61c37b2-22a8-463a-9c4c-2aaec9f4e538",
   "metadata": {},
   "outputs": [
    {
     "name": "stdout",
     "output_type": "stream",
     "text": [
      "---TRAINING---\n"
     ]
    },
    {
     "name": "stderr",
     "output_type": "stream",
     "text": [
      "/home/ndeas/envs/test_env/lib/python3.8/site-packages/pyro/util.py:288: UserWarning: Found non-auxiliary vars in guide but not model, consider marking these infer={'is_auxiliary': True}:\n",
      "{'obs_meta', 'obs_doc'}\n",
      "  warnings.warn(\n"
     ]
    },
    {
     "name": "stdout",
     "output_type": "stream",
     "text": [
      "Epoch 0: 35429.980\n",
      "Epoch 1: 35044.375\n",
      "Epoch 2: 34694.578\n",
      "Epoch 3: 34381.309\n",
      "Epoch 4: 34164.132\n",
      "Epoch 5: 34040.122\n",
      "Epoch 6: 34010.540\n",
      "Epoch 7: 33985.624\n",
      "Epoch 8: 33959.979\n",
      "Epoch 9: 33957.539\n",
      "Epoch 10: 33956.995\n",
      "Epoch 11: 33949.561\n",
      "Epoch 12: 33943.447\n",
      "Epoch 13: 33944.722\n",
      "Epoch 14: 33938.450\n",
      "Epoch 15: 33940.313\n",
      "Epoch 16: 33935.557\n",
      "Epoch 17: 33933.815\n",
      "Epoch 18: 33928.471\n",
      "Epoch 19: 33930.410\n",
      "Epoch 20: 33930.759\n",
      "Epoch 21: 33936.281\n",
      "Epoch 22: 33925.130\n",
      "Epoch 23: 33923.342\n",
      "Epoch 24: 33923.810\n",
      "Epoch 25: 33921.978\n",
      "Epoch 26: 33923.227\n",
      "Epoch 27: 33917.850\n"
     ]
    },
    {
     "ename": "KeyboardInterrupt",
     "evalue": "",
     "output_type": "error",
     "traceback": [
      "\u001b[0;31m---------------------------------------------------------------------------\u001b[0m",
      "\u001b[0;31mKeyboardInterrupt\u001b[0m                         Traceback (most recent call last)",
      "Cell \u001b[0;32mIn [179], line 7\u001b[0m\n\u001b[1;32m      4\u001b[0m \u001b[38;5;28;01mfor\u001b[39;00m epoch \u001b[38;5;129;01min\u001b[39;00m \u001b[38;5;28mrange\u001b[39m(NUM_EPOCHS):\n\u001b[1;32m      6\u001b[0m     epoch_elbo \u001b[38;5;241m=\u001b[39m \u001b[38;5;241m0.\u001b[39m\n\u001b[0;32m----> 7\u001b[0m     \u001b[38;5;28;01mfor\u001b[39;00m i, batch \u001b[38;5;129;01min\u001b[39;00m \u001b[38;5;28menumerate\u001b[39m(dl):\n\u001b[1;32m      9\u001b[0m         bow \u001b[38;5;241m=\u001b[39m batch[\u001b[38;5;124m'\u001b[39m\u001b[38;5;124mbow\u001b[39m\u001b[38;5;124m'\u001b[39m]\u001b[38;5;241m.\u001b[39mto(DEVICE)\n\u001b[1;32m     10\u001b[0m         bop \u001b[38;5;241m=\u001b[39m batch[\u001b[38;5;124m'\u001b[39m\u001b[38;5;124mmeta\u001b[39m\u001b[38;5;124m'\u001b[39m]\u001b[38;5;241m.\u001b[39mto(DEVICE)\n",
      "\u001b[0;31mKeyboardInterrupt\u001b[0m: "
     ]
    }
   ],
   "source": [
    "train_elbo = []\n",
    "\n",
    "print(\"---TRAINING---\")\n",
    "for epoch in range(NUM_EPOCHS):\n",
    "    \n",
    "    epoch_elbo = 0.\n",
    "    for i, batch in enumerate(dl):\n",
    "        \n",
    "        bow = batch['bow'].to(DEVICE)\n",
    "        bop = batch['meta'].to(DEVICE)\n",
    "        \n",
    "        epoch_elbo += svi.step(bow, bop)\n",
    "    print(f'Epoch {epoch}: {epoch_elbo:.3f}')\n",
    "    \n",
    "    train_elbo.append(epoch_elbo)"
   ]
  },
  {
   "cell_type": "code",
   "execution_count": 181,
   "id": "310e69d2-833d-41c4-a81c-e1b92c3f8e19",
   "metadata": {},
   "outputs": [
    {
     "data": {
      "image/png": "[encoded data removed]",
      "text/plain": [
       "<Figure size 640x480 with 1 Axes>"
      ]
     },
     "metadata": {},
     "output_type": "display_data"
    }
   ],
   "source": [
    "plt.plot(range(len(train_elbo)), train_elbo)\n",
    "\n",
    "plt.show()"
   ]
  },
  {
   "cell_type": "code",
   "execution_count": null,
   "id": "7b77b68e-c765-440f-aed3-62cdb37d5f6f",
   "metadata": {},
   "outputs": [],
   "source": []
  }
 ],
 "metadata": {
  "kernelspec": {
   "display_name": "Python 3",
   "language": "python",
   "name": "python3"
  },
  "language_info": {
   "codemirror_mode": {
    "name": "ipython",
    "version": 3
   },
   "file_extension": ".py",
   "mimetype": "text/x-python",
   "name": "python",
   "nbconvert_exporter": "python",
   "pygments_lexer": "ipython3",
   "version": "3.8.10"
  }
 },
 "nbformat": 4,
 "nbformat_minor": 5
}
