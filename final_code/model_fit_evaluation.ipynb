{
 "cells": [
  {
   "cell_type": "code",
   "execution_count": 127,
   "id": "e2f8012e-f322-4234-aa7f-212c6c1620de",
   "metadata": {},
   "outputs": [],
   "source": [
    "import numpy as np\n",
    "import pandas as pd\n",
    "from scipy import sparse\n",
    "from scipy.linalg import circulant\n",
    "\n",
    "\n",
    "from tqdm import tqdm\n",
    "tqdm.pandas()\n",
    "import matplotlib.pyplot as plt\n",
    "import scienceplots\n",
    "\n",
    "from sklearn.model_selection import train_test_split\n",
    "\n",
    "from nltk.tag import pos_tag\n",
    "from nltk.tokenize import word_tokenize\n",
    "\n",
    "import torch\n",
    "import torch.nn as nn\n",
    "import torch.nn.functional as F\n",
    "from torch.utils.data import Dataset, DataLoader\n",
    "\n",
    "import pyro\n",
    "import pyro.distributions as dist\n",
    "from pyro.infer import SVI, Trace_ELBO, TraceMeanField_ELBO\n",
    "from pyro.optim import Adam, ClippedAdam\n",
    "\n",
    "from datetime import datetime\n",
    "import json\n",
    "from collections import defaultdict\n",
    "import itertools\n",
    "\n",
    "import os\n",
    "import json\n",
    "\n",
    "from prod_slda.model import ProdSLDA\n",
    "from prod_slda.data_utils import *"
   ]
  },
  {
   "cell_type": "code",
   "execution_count": 128,
   "id": "06b4db78-193f-4d0c-9038-885fe2bd413a",
   "metadata": {},
   "outputs": [],
   "source": [
    "def set_seeds(seed):\n",
    "    np.random.seed(seed)\n",
    "    torch.manual_seed(seed)\n",
    "    torch.cuda.manual_seed(seed)"
   ]
  },
  {
   "cell_type": "code",
   "execution_count": 129,
   "id": "69b8b81a-7e08-4408-b3f7-7fd40d4ee977",
   "metadata": {},
   "outputs": [],
   "source": [
    "RESULTS_DIR = '/mnt/swordfish-pool2/ndeas/prob_models/final_results/pos_bigrams_formality_emoji_task_casing_punc_tags_sentiment_task/'\n",
    "DATA_DIR    = '/mnt/swordfish-pool2/ndeas/prob_models/final_results/pos_bigrams_formality_emoji_task_casing_punc_tags_sentiment_task/maxdf0.7_mindf20_DATA/'\n",
    "MODEL_DIRS  = [os.path.join(RESULTS_DIR, mdir) for mdir in os.listdir(RESULTS_DIR) if 'DATA' not in mdir]\n",
    "\n",
    "BATCH_SIZE  = 256\n",
    "NUM_WORKERS = 4\n",
    "\n",
    "DEVICE = torch.device('cuda:0')\n",
    "\n",
    "plt.style.use('science')\n",
    "\n",
    "set_seeds(0)"
   ]
  },
  {
   "cell_type": "markdown",
   "id": "293b5753-b006-44c8-885f-32f70635d4ca",
   "metadata": {},
   "source": [
    "# Data Setup "
   ]
  },
  {
   "cell_type": "code",
   "execution_count": null,
   "id": "b01b7d36-1cd2-4ec5-a68c-b991ee8067d6",
   "metadata": {},
   "outputs": [],
   "source": [
    "casing, 3, emoji, 20, formality, 2, pos_bigrams, 324, punc tags, 20, sentiment, 3"
   ]
  },
  {
   "cell_type": "code",
   "execution_count": 232,
   "id": "e7851fa5-fb6f-4a05-9e2a-b545fd833b09",
   "metadata": {},
   "outputs": [
    {
     "data": {
      "text/plain": [
       "{'casing': <66668x3 sparse matrix of type '<class 'numpy.int64'>'\n",
       " \twith 72739 stored elements in Compressed Sparse Row format>,\n",
       " 'emoji_task': <66668x20 sparse matrix of type '<class 'numpy.int64'>'\n",
       " \twith 113006 stored elements in Compressed Sparse Row format>,\n",
       " 'formality': <66668x2 sparse matrix of type '<class 'numpy.int64'>'\n",
       " \twith 88017 stored elements in Compressed Sparse Row format>,\n",
       " 'pos_bigrams': <66668x324 sparse matrix of type '<class 'numpy.float64'>'\n",
       " \twith 852253 stored elements in Compressed Sparse Row format>,\n",
       " 'punc_tags': <66668x20 sparse matrix of type '<class 'numpy.float64'>'\n",
       " \twith 144710 stored elements in Compressed Sparse Row format>,\n",
       " 'sentiment_task': <66668x3 sparse matrix of type '<class 'numpy.int64'>'\n",
       " \twith 89547 stored elements in Compressed Sparse Row format>}"
      ]
     },
     "execution_count": 232,
     "metadata": {},
     "output_type": "execute_result"
    }
   ],
   "source": [
    "meta_vectorized['training']"
   ]
  },
  {
   "cell_type": "markdown",
   "id": "6e5f1c90-decd-41a0-a23e-beec5a4692dd",
   "metadata": {
    "tags": []
   },
   "source": [
    "## Data Preprocessing/Loading"
   ]
  },
  {
   "cell_type": "code",
   "execution_count": 4,
   "id": "4f79754a-9fa0-4fdd-a647-0084e702f05f",
   "metadata": {
    "scrolled": true,
    "tags": []
   },
   "outputs": [],
   "source": [
    "bows, meta_vectorized, vectorizer, raw_text, authors_json, meta_features_to_names = load_data(DATA_DIR)   "
   ]
  },
  {
   "cell_type": "code",
   "execution_count": 5,
   "id": "fa09ece7-3827-47a7-b7fc-a441a589298c",
   "metadata": {},
   "outputs": [],
   "source": [
    "NUM_DOCS   = bows['training'].shape[0]\n",
    "VOCAB_SIZE = bows['training'].shape[1]\n",
    "META_SIZE  = {k:v.shape[1] for k,v in meta_vectorized['training'].items()}\n",
    "IDX_TO_TERM = {v:k for k,v in vectorizer.vocabulary_.items()}"
   ]
  },
  {
   "cell_type": "code",
   "execution_count": 6,
   "id": "14566e36-f4aa-4812-8633-d6e6c638f2e9",
   "metadata": {},
   "outputs": [
    {
     "name": "stdout",
     "output_type": "stream",
     "text": [
      "BOW Dims: (66668, 3098)\n",
      "META Dims: {'casing': 3, 'emoji_task': 20, 'formality': 2, 'pos_bigrams': 324, 'punc_tags': 20, 'sentiment_task': 3}\n"
     ]
    }
   ],
   "source": [
    "print(f'BOW Dims: {bows[\"training\"].shape}')\n",
    "print(f'META Dims: {META_SIZE}')"
   ]
  },
  {
   "cell_type": "markdown",
   "id": "fc014667-6dc8-439a-8c19-511fa6c906e3",
   "metadata": {},
   "source": [
    "# Hyperparameter Tuning Results"
   ]
  },
  {
   "cell_type": "code",
   "execution_count": 25,
   "id": "8e1a23c3-e471-4dca-88db-8e0a4d130abf",
   "metadata": {},
   "outputs": [],
   "source": [
    "def get_model_name(model_dir):\n",
    "    try:\n",
    "        pt_file = [fp for fp in os.listdir(model_dir) if fp[-3:] == '.pt'][0]\n",
    "        return pt_file\n",
    "    except:\n",
    "        return None\n",
    "\n",
    "def get_loss(model_dir):\n",
    "    # try:\n",
    "    pt_file = [fp for fp in os.listdir(model_dir) if fp[-3:] == '.pt'][0]\n",
    "    final_loss = float(pt_file[pt_file.rindex('_') + 1:-3])\n",
    "    losses = pd.read_csv(os.path.join(model_dir, 'elbos.json'))\n",
    "    best_loss = losses['val_elbo'].min()\n",
    "    return final_loss, best_loss\n",
    "    # except:\n",
    "    #     return None, None\n",
    "\n",
    "def extract_hparams(fp):\n",
    "    try:\n",
    "        with open(os.path.join(fp, 'info.json')) as f:\n",
    "            info = json.load(f)\n",
    "\n",
    "        return info\n",
    "    except:\n",
    "        return None"
   ]
  },
  {
   "cell_type": "code",
   "execution_count": 26,
   "id": "95343f82-6a4f-4bd4-9d9a-12ab8e9bc4b5",
   "metadata": {},
   "outputs": [],
   "source": [
    "models = [get_model_name(model_dir) for model_dir in MODEL_DIRS]\n",
    "losses = [get_loss(model_dir) for model_dir in MODEL_DIRS]\n",
    "final_losses, best_losses = [loss[0] for loss in losses], [loss[1] for loss in losses]\n",
    "hparams = [extract_hparams(model_dir) for model_dir in MODEL_DIRS]"
   ]
  },
  {
   "cell_type": "code",
   "execution_count": 27,
   "id": "bf60f627-c09e-46c8-bf6f-f110ee662c39",
   "metadata": {},
   "outputs": [],
   "source": [
    "hparam_res = pd.DataFrame({'checkpoint': models, \n",
    "              'final_val_loss': final_losses,\n",
    "              'best_val_loss': best_losses,\n",
    "              'hparams': hparams,\n",
    "              'full_path': [mdir + '/' + model_fp for mdir, model_fp in zip(MODEL_DIRS, models)]})"
   ]
  },
  {
   "cell_type": "code",
   "execution_count": 29,
   "id": "7a39477d-a027-41de-b35b-d20633c842fe",
   "metadata": {},
   "outputs": [],
   "source": [
    "hparam_res = hparam_res.sort_values('best_val_loss', ascending = True)\n",
    "hparam_res.to_csv('hparam_tuning_res.csv', index = None)"
   ]
  },
  {
   "cell_type": "code",
   "execution_count": 30,
   "id": "2a75695c-3842-47ee-a964-367da9bf0799",
   "metadata": {},
   "outputs": [],
   "source": [
    "CHOSEN_MODEL = hparam_res.iloc[0]['full_path']"
   ]
  },
  {
   "cell_type": "code",
   "execution_count": 218,
   "id": "ee89362f-edf8-4343-aabd-bb13735d3cbf",
   "metadata": {},
   "outputs": [],
   "source": [
    "# Model File for equivalent independent model\n",
    "# CHOSEN_INDEP_MODEL = '/mnt/swordfish-pool2/ndeas/prob_models/final_results/pos_bigrams_formality_emoji_task_casing_punc_tags_sentiment_task/2023-12-21_20_26_05/model_epoch23_5271.38775062561.pt'\n",
    "CHOSEN_INDEP_MODEL = '/mnt/swordfish-pool2/ndeas/prob_models/final_results/pos_bigrams_formality_emoji_task_casing_punc_tags_sentiment_task/2023-12-21_21_07_02/model_epoch14_5511.27596282959.pt'"
   ]
  },
  {
   "cell_type": "markdown",
   "id": "6d1b0ce8-9814-431f-8ecb-f557327c933d",
   "metadata": {},
   "source": [
    "# Perplexity Evaluation"
   ]
  },
  {
   "cell_type": "code",
   "execution_count": 35,
   "id": "1dd68f44-fb10-4e3a-9fb9-cd4359017f16",
   "metadata": {},
   "outputs": [],
   "source": [
    "def calc_doc_perp(prod_slda, eval_dl, device, use_style = True):\n",
    "    total_ce, total_count = 0., 0.\n",
    "    for batch in tqdm(eval_dl):\n",
    "        for key in batch.keys():\n",
    "            if isinstance(batch[key], dict):\n",
    "                for key2 in batch[key].keys():\n",
    "                    batch[key][key2] = batch[key][key2].to(device)\n",
    "            else:\n",
    "                batch[key] = batch[key].to(device)\n",
    "\n",
    "        ce, count = prod_slda.doc_reconstruct_ce(batch, use_style = use_style)\n",
    "        total_ce += ce\n",
    "        total_count += count\n",
    "    return torch.exp(total_ce/total_count).item()\n",
    "\n",
    "def calc_style_perp(prod_slda, eval_dl, device):\n",
    "    total_ce, total_count = 0., 0.\n",
    "    for batch in tqdm(eval_dl):\n",
    "        for key in batch.keys():\n",
    "            if isinstance(batch[key], dict):\n",
    "                for key2 in batch[key].keys():\n",
    "                    batch[key][key2] = batch[key][key2].to(device)\n",
    "            else:\n",
    "                batch[key] = batch[key].to(device)\n",
    "\n",
    "        ce, count = prod_slda.style_reconstruct_ce(batch)\n",
    "        total_ce += ce\n",
    "        total_count += count\n",
    "    return torch.exp(total_ce/total_count).item()"
   ]
  },
  {
   "cell_type": "code",
   "execution_count": 36,
   "id": "6d7cb443-896b-47e7-9d11-4db3ec92297a",
   "metadata": {},
   "outputs": [],
   "source": [
    "def full_perp_eval(prod_slda, eval_dl, device):\n",
    "    doc_perp      = calc_doc_perp(prod_slda, eval_dl, device)\n",
    "    doc_only_perp = calc_doc_perp(prod_slda, eval_dl, device, use_style = False)\n",
    "    style_perp    = calc_style_perp(prod_slda, eval_dl, device)\n",
    "    \n",
    "    return doc_perp, doc_only_perp, style_perp"
   ]
  },
  {
   "cell_type": "code",
   "execution_count": 37,
   "id": "dd082a2a-255b-4f8f-a5dd-47c9934fa28c",
   "metadata": {},
   "outputs": [],
   "source": [
    "def perp_by_perc_hidden(prod_slda, bows, meta_vectorized, device, perc_obs_vals = [0.5],\n",
    "                        batch_size = 64, num_workers = 4, doc_only = True):\n",
    "    \n",
    "    doc_perps = []\n",
    "    doc_only_perps = []\n",
    "    \n",
    "    for obs_val in perc_obs_vals:\n",
    "        \n",
    "        # Prepare partially hidden data\n",
    "        eval_dataset = DocMetaData(bows['holdout'], meta_vectorized['holdout'], split_halves = True, perc_obs = obs_val)\n",
    "        eval_dl = DataLoader(eval_dataset, batch_size = batch_size, num_workers = num_workers, shuffle=True)\n",
    "        \n",
    "        doc_perp = calc_doc_perp(prod_slda, eval_dl, device)\n",
    "        \n",
    "        doc_perps.append(doc_perp)\n",
    "        \n",
    "        if doc_only:\n",
    "            doc_only_perp = calc_doc_perp(prod_slda, eval_dl, device, use_style = False)\n",
    "            doc_only_perps.append(doc_only_perp)\n",
    "    \n",
    "    if doc_only:\n",
    "        return doc_perps, doc_only_perps\n",
    "    else:\n",
    "        return doc_perps"
   ]
  },
  {
   "cell_type": "markdown",
   "id": "1c73af07-694a-4271-91ce-8c7a39b9ccc3",
   "metadata": {
    "jp-MarkdownHeadingCollapsed": true,
    "tags": []
   },
   "source": [
    "## Reconstruction Perplexity"
   ]
  },
  {
   "cell_type": "code",
   "execution_count": 38,
   "id": "9c9d5c10-e34b-4c3b-84e6-9fed647e23e1",
   "metadata": {},
   "outputs": [],
   "source": [
    "eval_dataset = DocMetaData(bows['holdout'], meta_vectorized['holdout'], split_halves = True)\n",
    "eval_dl = DataLoader(eval_dataset, batch_size = BATCH_SIZE, num_workers = NUM_WORKERS, shuffle=True)"
   ]
  },
  {
   "cell_type": "code",
   "execution_count": 39,
   "id": "21b0ad28-0895-4366-a927-6da2ebb17d5e",
   "metadata": {
    "scrolled": true,
    "tags": []
   },
   "outputs": [
    {
     "name": "stdout",
     "output_type": "stream",
     "text": [
      "Evaluating model 2023-12-21_11_36_17 (1 of 107)\n"
     ]
    },
    {
     "name": "stderr",
     "output_type": "stream",
     "text": [
      "100%|██████████| 90/90 [00:07<00:00, 12.84it/s]\n",
      "100%|██████████| 90/90 [00:05<00:00, 15.00it/s]\n",
      "100%|██████████| 90/90 [00:06<00:00, 14.20it/s]\n"
     ]
    },
    {
     "name": "stdout",
     "output_type": "stream",
     "text": [
      "Evaluating model 2023-12-21_03_44_05 (2 of 107)\n"
     ]
    },
    {
     "name": "stderr",
     "output_type": "stream",
     "text": [
      "100%|██████████| 90/90 [00:06<00:00, 14.50it/s]\n",
      "100%|██████████| 90/90 [00:06<00:00, 14.76it/s]\n",
      "100%|██████████| 90/90 [00:06<00:00, 14.19it/s]\n"
     ]
    },
    {
     "name": "stdout",
     "output_type": "stream",
     "text": [
      "Evaluating model 2023-12-20_22_20_01 (3 of 107)\n"
     ]
    },
    {
     "name": "stderr",
     "output_type": "stream",
     "text": [
      "100%|██████████| 90/90 [00:06<00:00, 14.48it/s]\n",
      "100%|██████████| 90/90 [00:06<00:00, 13.86it/s]\n",
      "100%|██████████| 90/90 [00:06<00:00, 14.85it/s]\n"
     ]
    },
    {
     "name": "stdout",
     "output_type": "stream",
     "text": [
      "Evaluating model 2023-12-21_04_31_46 (4 of 107)\n"
     ]
    },
    {
     "name": "stderr",
     "output_type": "stream",
     "text": [
      "100%|██████████| 90/90 [00:06<00:00, 14.04it/s]\n",
      "100%|██████████| 90/90 [00:05<00:00, 15.06it/s]\n",
      "100%|██████████| 90/90 [00:06<00:00, 14.58it/s]\n"
     ]
    },
    {
     "name": "stdout",
     "output_type": "stream",
     "text": [
      "Evaluating model 2023-12-21_03_37_54 (5 of 107)\n"
     ]
    },
    {
     "name": "stderr",
     "output_type": "stream",
     "text": [
      "100%|██████████| 90/90 [00:06<00:00, 13.89it/s]\n",
      "100%|██████████| 90/90 [00:06<00:00, 13.90it/s]\n",
      "100%|██████████| 90/90 [00:06<00:00, 14.34it/s]\n"
     ]
    },
    {
     "name": "stdout",
     "output_type": "stream",
     "text": [
      "Evaluating model 2023-12-21_04_11_08 (6 of 107)\n"
     ]
    },
    {
     "name": "stderr",
     "output_type": "stream",
     "text": [
      "100%|██████████| 90/90 [00:06<00:00, 14.25it/s]\n",
      "100%|██████████| 90/90 [00:06<00:00, 14.04it/s]\n",
      "100%|██████████| 90/90 [00:06<00:00, 14.31it/s]\n"
     ]
    },
    {
     "name": "stdout",
     "output_type": "stream",
     "text": [
      "Evaluating model 2023-12-21_05_26_58 (7 of 107)\n"
     ]
    },
    {
     "name": "stderr",
     "output_type": "stream",
     "text": [
      "100%|██████████| 90/90 [00:06<00:00, 13.66it/s]\n",
      "100%|██████████| 90/90 [00:06<00:00, 14.03it/s]\n",
      "100%|██████████| 90/90 [00:06<00:00, 13.55it/s]\n"
     ]
    },
    {
     "name": "stdout",
     "output_type": "stream",
     "text": [
      "Evaluating model 2023-12-21_04_36_13 (8 of 107)\n"
     ]
    },
    {
     "name": "stderr",
     "output_type": "stream",
     "text": [
      "100%|██████████| 90/90 [00:06<00:00, 13.57it/s]\n",
      "100%|██████████| 90/90 [00:06<00:00, 14.24it/s]\n",
      "100%|██████████| 90/90 [00:06<00:00, 14.02it/s]\n"
     ]
    },
    {
     "name": "stdout",
     "output_type": "stream",
     "text": [
      "Evaluating model 2023-12-20_22_51_18 (9 of 107)\n"
     ]
    },
    {
     "name": "stderr",
     "output_type": "stream",
     "text": [
      "100%|██████████| 90/90 [00:06<00:00, 14.84it/s]\n",
      "100%|██████████| 90/90 [00:06<00:00, 14.46it/s]\n",
      "100%|██████████| 90/90 [00:06<00:00, 14.82it/s]\n"
     ]
    },
    {
     "name": "stdout",
     "output_type": "stream",
     "text": [
      "Evaluating model 2023-12-21_12_27_09 (10 of 107)\n"
     ]
    },
    {
     "name": "stderr",
     "output_type": "stream",
     "text": [
      "100%|██████████| 90/90 [00:05<00:00, 15.29it/s]\n",
      "100%|██████████| 90/90 [00:06<00:00, 14.80it/s]\n",
      "100%|██████████| 90/90 [00:06<00:00, 13.33it/s]\n"
     ]
    },
    {
     "name": "stdout",
     "output_type": "stream",
     "text": [
      "Evaluating model 2023-12-21_03_16_09 (11 of 107)\n"
     ]
    },
    {
     "name": "stderr",
     "output_type": "stream",
     "text": [
      "100%|██████████| 90/90 [00:06<00:00, 13.91it/s]\n",
      "100%|██████████| 90/90 [00:06<00:00, 13.97it/s]\n",
      "100%|██████████| 90/90 [00:06<00:00, 13.91it/s]\n"
     ]
    },
    {
     "name": "stdout",
     "output_type": "stream",
     "text": [
      "Evaluating model 2023-12-20_22_06_10 (12 of 107)\n"
     ]
    },
    {
     "name": "stderr",
     "output_type": "stream",
     "text": [
      "100%|██████████| 90/90 [00:06<00:00, 14.59it/s]\n",
      "100%|██████████| 90/90 [00:06<00:00, 14.41it/s]\n",
      "100%|██████████| 90/90 [00:06<00:00, 13.70it/s]\n"
     ]
    },
    {
     "name": "stdout",
     "output_type": "stream",
     "text": [
      "Evaluating model 2023-12-21_11_47_25 (13 of 107)\n"
     ]
    },
    {
     "name": "stderr",
     "output_type": "stream",
     "text": [
      "100%|██████████| 90/90 [00:06<00:00, 12.94it/s]\n",
      "100%|██████████| 90/90 [00:06<00:00, 14.32it/s]\n",
      "100%|██████████| 90/90 [00:06<00:00, 14.68it/s]\n"
     ]
    },
    {
     "name": "stdout",
     "output_type": "stream",
     "text": [
      "Evaluating model 2023-12-21_11_36_36 (14 of 107)\n"
     ]
    },
    {
     "name": "stderr",
     "output_type": "stream",
     "text": [
      "100%|██████████| 90/90 [00:06<00:00, 14.44it/s]\n",
      "100%|██████████| 90/90 [00:06<00:00, 13.86it/s]\n",
      "100%|██████████| 90/90 [00:06<00:00, 14.36it/s]\n"
     ]
    },
    {
     "name": "stdout",
     "output_type": "stream",
     "text": [
      "Evaluating model 2023-12-21_03_41_44 (15 of 107)\n"
     ]
    },
    {
     "name": "stderr",
     "output_type": "stream",
     "text": [
      "100%|██████████| 90/90 [00:06<00:00, 14.34it/s]\n",
      "100%|██████████| 90/90 [00:06<00:00, 14.83it/s]\n",
      "100%|██████████| 90/90 [00:06<00:00, 14.70it/s]\n"
     ]
    },
    {
     "name": "stdout",
     "output_type": "stream",
     "text": [
      "Evaluating model 2023-12-20_21_54_34 (16 of 107)\n"
     ]
    },
    {
     "name": "stderr",
     "output_type": "stream",
     "text": [
      "100%|██████████| 90/90 [00:06<00:00, 14.65it/s]\n",
      "100%|██████████| 90/90 [00:06<00:00, 14.42it/s]\n",
      "100%|██████████| 90/90 [00:06<00:00, 14.19it/s]\n"
     ]
    },
    {
     "name": "stdout",
     "output_type": "stream",
     "text": [
      "Evaluating model 2023-12-21_12_28_24 (17 of 107)\n"
     ]
    },
    {
     "name": "stderr",
     "output_type": "stream",
     "text": [
      "100%|██████████| 90/90 [00:06<00:00, 14.39it/s]\n",
      "100%|██████████| 90/90 [00:06<00:00, 14.50it/s]\n",
      "100%|██████████| 90/90 [00:06<00:00, 14.03it/s]\n"
     ]
    },
    {
     "name": "stdout",
     "output_type": "stream",
     "text": [
      "Evaluating model 2023-12-21_03_05_13 (18 of 107)\n"
     ]
    },
    {
     "name": "stderr",
     "output_type": "stream",
     "text": [
      "100%|██████████| 90/90 [00:06<00:00, 13.84it/s]\n",
      "100%|██████████| 90/90 [00:06<00:00, 13.83it/s]\n",
      "100%|██████████| 90/90 [00:06<00:00, 14.65it/s]\n"
     ]
    },
    {
     "name": "stdout",
     "output_type": "stream",
     "text": [
      "Evaluating model 2023-12-21_11_53_36 (19 of 107)\n"
     ]
    },
    {
     "name": "stderr",
     "output_type": "stream",
     "text": [
      "100%|██████████| 90/90 [00:06<00:00, 14.57it/s]\n",
      "100%|██████████| 90/90 [00:06<00:00, 14.30it/s]\n",
      "100%|██████████| 90/90 [00:05<00:00, 15.08it/s]\n"
     ]
    },
    {
     "name": "stdout",
     "output_type": "stream",
     "text": [
      "Evaluating model 2023-12-20_22_16_35 (20 of 107)\n"
     ]
    },
    {
     "name": "stderr",
     "output_type": "stream",
     "text": [
      "100%|██████████| 90/90 [00:06<00:00, 14.98it/s]\n",
      "100%|██████████| 90/90 [00:06<00:00, 14.43it/s]\n",
      "100%|██████████| 90/90 [00:06<00:00, 14.41it/s]\n"
     ]
    },
    {
     "name": "stdout",
     "output_type": "stream",
     "text": [
      "Evaluating model 2023-12-21_02_50_54 (21 of 107)\n"
     ]
    },
    {
     "name": "stderr",
     "output_type": "stream",
     "text": [
      "100%|██████████| 90/90 [00:06<00:00, 14.71it/s]\n",
      "100%|██████████| 90/90 [00:06<00:00, 13.56it/s]\n",
      "100%|██████████| 90/90 [00:06<00:00, 14.03it/s]\n"
     ]
    },
    {
     "name": "stdout",
     "output_type": "stream",
     "text": [
      "Evaluating model 2023-12-21_12_34_56 (22 of 107)\n"
     ]
    },
    {
     "name": "stderr",
     "output_type": "stream",
     "text": [
      "100%|██████████| 90/90 [00:06<00:00, 14.90it/s]\n",
      "100%|██████████| 90/90 [00:06<00:00, 14.31it/s]\n",
      "100%|██████████| 90/90 [00:06<00:00, 14.42it/s]\n"
     ]
    },
    {
     "name": "stdout",
     "output_type": "stream",
     "text": [
      "Evaluating model 2023-12-21_12_38_15 (23 of 107)\n"
     ]
    },
    {
     "name": "stderr",
     "output_type": "stream",
     "text": [
      "100%|██████████| 90/90 [00:06<00:00, 14.51it/s]\n",
      "100%|██████████| 90/90 [00:06<00:00, 13.93it/s]\n",
      "100%|██████████| 90/90 [00:06<00:00, 14.58it/s]\n"
     ]
    },
    {
     "name": "stdout",
     "output_type": "stream",
     "text": [
      "Evaluating model 2023-12-21_12_25_09 (24 of 107)\n"
     ]
    },
    {
     "name": "stderr",
     "output_type": "stream",
     "text": [
      "100%|██████████| 90/90 [00:06<00:00, 14.09it/s]\n",
      "100%|██████████| 90/90 [00:05<00:00, 15.27it/s]\n",
      "100%|██████████| 90/90 [00:06<00:00, 13.48it/s]\n"
     ]
    },
    {
     "name": "stdout",
     "output_type": "stream",
     "text": [
      "Evaluating model 2023-12-21_04_51_51 (25 of 107)\n"
     ]
    },
    {
     "name": "stderr",
     "output_type": "stream",
     "text": [
      "100%|██████████| 90/90 [00:06<00:00, 13.54it/s]\n",
      "100%|██████████| 90/90 [00:06<00:00, 14.54it/s]\n",
      "100%|██████████| 90/90 [00:06<00:00, 14.44it/s]\n"
     ]
    },
    {
     "name": "stdout",
     "output_type": "stream",
     "text": [
      "Evaluating model 2023-12-21_03_09_50 (26 of 107)\n"
     ]
    },
    {
     "name": "stderr",
     "output_type": "stream",
     "text": [
      "100%|██████████| 90/90 [00:05<00:00, 15.24it/s]\n",
      "100%|██████████| 90/90 [00:06<00:00, 14.14it/s]\n",
      "100%|██████████| 90/90 [00:06<00:00, 14.59it/s]\n"
     ]
    },
    {
     "name": "stdout",
     "output_type": "stream",
     "text": [
      "Evaluating model 2023-12-20_22_40_53 (27 of 107)\n"
     ]
    },
    {
     "name": "stderr",
     "output_type": "stream",
     "text": [
      "100%|██████████| 90/90 [00:06<00:00, 14.46it/s]\n",
      "100%|██████████| 90/90 [00:05<00:00, 15.11it/s]\n",
      "100%|██████████| 90/90 [00:06<00:00, 14.37it/s]\n"
     ]
    },
    {
     "name": "stdout",
     "output_type": "stream",
     "text": [
      "Evaluating model 2023-12-21_12_19_42 (28 of 107)\n"
     ]
    },
    {
     "name": "stderr",
     "output_type": "stream",
     "text": [
      "100%|██████████| 90/90 [00:06<00:00, 13.62it/s]\n",
      "100%|██████████| 90/90 [00:06<00:00, 14.20it/s]\n",
      "100%|██████████| 90/90 [00:06<00:00, 14.82it/s]\n"
     ]
    },
    {
     "name": "stdout",
     "output_type": "stream",
     "text": [
      "Evaluating model 2023-12-20_22_47_43 (29 of 107)\n"
     ]
    },
    {
     "name": "stderr",
     "output_type": "stream",
     "text": [
      "100%|██████████| 90/90 [00:06<00:00, 14.53it/s]\n",
      "100%|██████████| 90/90 [00:06<00:00, 14.12it/s]\n",
      "100%|██████████| 90/90 [00:06<00:00, 13.93it/s]\n"
     ]
    },
    {
     "name": "stdout",
     "output_type": "stream",
     "text": [
      "Evaluating model 2023-12-21_03_44_02 (30 of 107)\n"
     ]
    },
    {
     "name": "stderr",
     "output_type": "stream",
     "text": [
      "100%|██████████| 90/90 [00:06<00:00, 13.54it/s]\n",
      "100%|██████████| 90/90 [00:06<00:00, 14.70it/s]\n",
      "100%|██████████| 90/90 [00:06<00:00, 13.70it/s]\n"
     ]
    },
    {
     "name": "stdout",
     "output_type": "stream",
     "text": [
      "Evaluating model 2023-12-21_12_18_10 (31 of 107)\n"
     ]
    },
    {
     "name": "stderr",
     "output_type": "stream",
     "text": [
      "100%|██████████| 90/90 [00:06<00:00, 14.81it/s]\n",
      "100%|██████████| 90/90 [00:06<00:00, 13.29it/s]\n",
      "100%|██████████| 90/90 [00:06<00:00, 14.11it/s]\n"
     ]
    },
    {
     "name": "stdout",
     "output_type": "stream",
     "text": [
      "Evaluating model 2023-12-20_22_24_43 (32 of 107)\n"
     ]
    },
    {
     "name": "stderr",
     "output_type": "stream",
     "text": [
      "100%|██████████| 90/90 [00:06<00:00, 14.67it/s]\n",
      "100%|██████████| 90/90 [00:06<00:00, 14.47it/s]\n",
      "100%|██████████| 90/90 [00:06<00:00, 14.59it/s]\n"
     ]
    },
    {
     "name": "stdout",
     "output_type": "stream",
     "text": [
      "Evaluating model 2023-12-21_03_17_19 (33 of 107)\n"
     ]
    },
    {
     "name": "stderr",
     "output_type": "stream",
     "text": [
      "100%|██████████| 90/90 [00:06<00:00, 14.41it/s]\n",
      "100%|██████████| 90/90 [00:05<00:00, 15.02it/s]\n",
      "100%|██████████| 90/90 [00:06<00:00, 13.75it/s]\n"
     ]
    },
    {
     "name": "stdout",
     "output_type": "stream",
     "text": [
      "Evaluating model 2023-12-21_03_14_07 (34 of 107)\n"
     ]
    },
    {
     "name": "stderr",
     "output_type": "stream",
     "text": [
      "100%|██████████| 90/90 [00:06<00:00, 14.25it/s]\n",
      "100%|██████████| 90/90 [00:06<00:00, 14.50it/s]\n",
      "100%|██████████| 90/90 [00:06<00:00, 14.17it/s]\n"
     ]
    },
    {
     "name": "stdout",
     "output_type": "stream",
     "text": [
      "Evaluating model 2023-12-21_12_00_23 (35 of 107)\n"
     ]
    },
    {
     "name": "stderr",
     "output_type": "stream",
     "text": [
      "100%|██████████| 90/90 [00:06<00:00, 14.21it/s]\n",
      "100%|██████████| 90/90 [00:06<00:00, 13.92it/s]\n",
      "100%|██████████| 90/90 [00:06<00:00, 14.15it/s]\n"
     ]
    },
    {
     "name": "stdout",
     "output_type": "stream",
     "text": [
      "Evaluating model 2023-12-21_04_45_36 (36 of 107)\n"
     ]
    },
    {
     "name": "stderr",
     "output_type": "stream",
     "text": [
      "100%|██████████| 90/90 [00:06<00:00, 14.84it/s]\n",
      "100%|██████████| 90/90 [00:06<00:00, 14.05it/s]\n",
      "100%|██████████| 90/90 [00:06<00:00, 13.61it/s]\n"
     ]
    },
    {
     "name": "stdout",
     "output_type": "stream",
     "text": [
      "Evaluating model 2023-12-21_02_51_27 (37 of 107)\n"
     ]
    },
    {
     "name": "stderr",
     "output_type": "stream",
     "text": [
      "100%|██████████| 90/90 [00:06<00:00, 14.44it/s]\n",
      "100%|██████████| 90/90 [00:06<00:00, 14.03it/s]\n",
      "100%|██████████| 90/90 [00:06<00:00, 14.59it/s]\n"
     ]
    },
    {
     "name": "stdout",
     "output_type": "stream",
     "text": [
      "Evaluating model 2023-12-21_02_58_52 (38 of 107)\n"
     ]
    },
    {
     "name": "stderr",
     "output_type": "stream",
     "text": [
      "100%|██████████| 90/90 [00:06<00:00, 13.90it/s]\n",
      "100%|██████████| 90/90 [00:06<00:00, 13.73it/s]\n",
      "100%|██████████| 90/90 [00:06<00:00, 14.19it/s]\n"
     ]
    },
    {
     "name": "stdout",
     "output_type": "stream",
     "text": [
      "Evaluating model 2023-12-21_04_00_47 (39 of 107)\n"
     ]
    },
    {
     "name": "stderr",
     "output_type": "stream",
     "text": [
      "100%|██████████| 90/90 [00:06<00:00, 14.68it/s]\n",
      "100%|██████████| 90/90 [00:06<00:00, 14.12it/s]\n",
      "100%|██████████| 90/90 [00:06<00:00, 14.24it/s]\n"
     ]
    },
    {
     "name": "stdout",
     "output_type": "stream",
     "text": [
      "Evaluating model 2023-12-20_22_29_13 (40 of 107)\n"
     ]
    },
    {
     "name": "stderr",
     "output_type": "stream",
     "text": [
      "100%|██████████| 90/90 [00:06<00:00, 14.36it/s]\n",
      "100%|██████████| 90/90 [00:06<00:00, 14.19it/s]\n",
      "100%|██████████| 90/90 [00:06<00:00, 14.77it/s]\n"
     ]
    },
    {
     "name": "stdout",
     "output_type": "stream",
     "text": [
      "Evaluating model 2023-12-21_04_31_56 (41 of 107)\n"
     ]
    },
    {
     "name": "stderr",
     "output_type": "stream",
     "text": [
      "100%|██████████| 90/90 [00:06<00:00, 14.67it/s]\n",
      "100%|██████████| 90/90 [00:06<00:00, 14.12it/s]\n",
      "100%|██████████| 90/90 [00:06<00:00, 14.27it/s]\n"
     ]
    },
    {
     "name": "stdout",
     "output_type": "stream",
     "text": [
      "Evaluating model 2023-12-21_03_01_13 (42 of 107)\n"
     ]
    },
    {
     "name": "stderr",
     "output_type": "stream",
     "text": [
      "100%|██████████| 90/90 [00:06<00:00, 14.66it/s]\n",
      "100%|██████████| 90/90 [00:06<00:00, 14.04it/s]\n",
      "100%|██████████| 90/90 [00:06<00:00, 14.17it/s]\n"
     ]
    },
    {
     "name": "stdout",
     "output_type": "stream",
     "text": [
      "Evaluating model 2023-12-20_22_40_39 (43 of 107)\n"
     ]
    },
    {
     "name": "stderr",
     "output_type": "stream",
     "text": [
      "100%|██████████| 90/90 [00:06<00:00, 14.13it/s]\n",
      "100%|██████████| 90/90 [00:06<00:00, 14.33it/s]\n",
      "100%|██████████| 90/90 [00:06<00:00, 14.35it/s]\n"
     ]
    },
    {
     "name": "stdout",
     "output_type": "stream",
     "text": [
      "Evaluating model 2023-12-21_03_25_59 (44 of 107)\n"
     ]
    },
    {
     "name": "stderr",
     "output_type": "stream",
     "text": [
      "100%|██████████| 90/90 [00:06<00:00, 14.40it/s]\n",
      "100%|██████████| 90/90 [00:06<00:00, 14.65it/s]\n",
      "100%|██████████| 90/90 [00:06<00:00, 14.40it/s]\n"
     ]
    },
    {
     "name": "stdout",
     "output_type": "stream",
     "text": [
      "Evaluating model 2023-12-21_03_26_02 (45 of 107)\n"
     ]
    },
    {
     "name": "stderr",
     "output_type": "stream",
     "text": [
      "100%|██████████| 90/90 [00:06<00:00, 14.41it/s]\n",
      "100%|██████████| 90/90 [00:06<00:00, 14.49it/s]\n",
      "100%|██████████| 90/90 [00:06<00:00, 13.79it/s]\n"
     ]
    },
    {
     "name": "stdout",
     "output_type": "stream",
     "text": [
      "Evaluating model 2023-12-21_03_13_09 (46 of 107)\n"
     ]
    },
    {
     "name": "stderr",
     "output_type": "stream",
     "text": [
      "100%|██████████| 90/90 [00:06<00:00, 13.82it/s]\n",
      "100%|██████████| 90/90 [00:06<00:00, 14.41it/s]\n",
      "100%|██████████| 90/90 [00:06<00:00, 14.08it/s]\n"
     ]
    },
    {
     "name": "stdout",
     "output_type": "stream",
     "text": [
      "Evaluating model 2023-12-21_02_51_44 (47 of 107)\n"
     ]
    },
    {
     "name": "stderr",
     "output_type": "stream",
     "text": [
      "100%|██████████| 90/90 [00:06<00:00, 13.94it/s]\n",
      "100%|██████████| 90/90 [00:06<00:00, 14.38it/s]\n",
      "100%|██████████| 90/90 [00:06<00:00, 14.80it/s]\n"
     ]
    },
    {
     "name": "stdout",
     "output_type": "stream",
     "text": [
      "Evaluating model 2023-12-20_22_02_10 (48 of 107)\n"
     ]
    },
    {
     "name": "stderr",
     "output_type": "stream",
     "text": [
      "100%|██████████| 90/90 [00:06<00:00, 14.37it/s]\n",
      "100%|██████████| 90/90 [00:06<00:00, 14.61it/s]\n",
      "100%|██████████| 90/90 [00:06<00:00, 14.79it/s]\n"
     ]
    },
    {
     "name": "stdout",
     "output_type": "stream",
     "text": [
      "Evaluating model 2023-12-21_03_50_43 (49 of 107)\n"
     ]
    },
    {
     "name": "stderr",
     "output_type": "stream",
     "text": [
      "100%|██████████| 90/90 [00:06<00:00, 14.40it/s]\n",
      "100%|██████████| 90/90 [00:06<00:00, 14.25it/s]\n",
      "100%|██████████| 90/90 [00:06<00:00, 14.27it/s]\n"
     ]
    },
    {
     "name": "stdout",
     "output_type": "stream",
     "text": [
      "Evaluating model 2023-12-21_03_53_20 (50 of 107)\n"
     ]
    },
    {
     "name": "stderr",
     "output_type": "stream",
     "text": [
      "100%|██████████| 90/90 [00:05<00:00, 15.14it/s]\n",
      "100%|██████████| 90/90 [00:06<00:00, 14.78it/s]\n",
      "100%|██████████| 90/90 [00:06<00:00, 13.67it/s]\n"
     ]
    },
    {
     "name": "stdout",
     "output_type": "stream",
     "text": [
      "Evaluating model 2023-12-20_22_09_06 (51 of 107)\n"
     ]
    },
    {
     "name": "stderr",
     "output_type": "stream",
     "text": [
      "100%|██████████| 90/90 [00:06<00:00, 14.36it/s]\n",
      "100%|██████████| 90/90 [00:06<00:00, 14.55it/s]\n",
      "100%|██████████| 90/90 [00:06<00:00, 14.62it/s]\n"
     ]
    },
    {
     "name": "stdout",
     "output_type": "stream",
     "text": [
      "Evaluating model 2023-12-20_22_34_29 (52 of 107)\n"
     ]
    },
    {
     "name": "stderr",
     "output_type": "stream",
     "text": [
      "100%|██████████| 90/90 [00:06<00:00, 14.36it/s]\n",
      "100%|██████████| 90/90 [00:05<00:00, 15.05it/s]\n",
      "100%|██████████| 90/90 [00:06<00:00, 14.24it/s]\n"
     ]
    },
    {
     "name": "stdout",
     "output_type": "stream",
     "text": [
      "Evaluating model 2023-12-21_12_17_24 (53 of 107)\n"
     ]
    },
    {
     "name": "stderr",
     "output_type": "stream",
     "text": [
      "100%|██████████| 90/90 [00:06<00:00, 14.31it/s]\n",
      "100%|██████████| 90/90 [00:05<00:00, 15.37it/s]\n",
      "100%|██████████| 90/90 [00:06<00:00, 13.98it/s]\n"
     ]
    },
    {
     "name": "stdout",
     "output_type": "stream",
     "text": [
      "Evaluating model 2023-12-21_12_13_22 (54 of 107)\n"
     ]
    },
    {
     "name": "stderr",
     "output_type": "stream",
     "text": [
      "100%|██████████| 90/90 [00:06<00:00, 14.61it/s]\n",
      "100%|██████████| 90/90 [00:06<00:00, 14.04it/s]\n",
      "100%|██████████| 90/90 [00:06<00:00, 14.95it/s]\n"
     ]
    },
    {
     "name": "stdout",
     "output_type": "stream",
     "text": [
      "Evaluating model 2023-12-20_21_54_51 (55 of 107)\n"
     ]
    },
    {
     "name": "stderr",
     "output_type": "stream",
     "text": [
      "100%|██████████| 90/90 [00:05<00:00, 15.03it/s]\n",
      "100%|██████████| 90/90 [00:06<00:00, 14.51it/s]\n",
      "100%|██████████| 90/90 [00:06<00:00, 14.66it/s]\n"
     ]
    },
    {
     "name": "stdout",
     "output_type": "stream",
     "text": [
      "Evaluating model 2023-12-21_04_02_32 (56 of 107)\n"
     ]
    },
    {
     "name": "stderr",
     "output_type": "stream",
     "text": [
      "100%|██████████| 90/90 [00:06<00:00, 13.94it/s]\n",
      "100%|██████████| 90/90 [00:06<00:00, 14.67it/s]\n",
      "100%|██████████| 90/90 [00:05<00:00, 15.29it/s]\n"
     ]
    },
    {
     "name": "stdout",
     "output_type": "stream",
     "text": [
      "Evaluating model 2023-12-21_04_17_07 (57 of 107)\n"
     ]
    },
    {
     "name": "stderr",
     "output_type": "stream",
     "text": [
      "100%|██████████| 90/90 [00:06<00:00, 14.31it/s]\n",
      "100%|██████████| 90/90 [00:06<00:00, 14.82it/s]\n",
      "100%|██████████| 90/90 [00:05<00:00, 15.43it/s]\n"
     ]
    },
    {
     "name": "stdout",
     "output_type": "stream",
     "text": [
      "Evaluating model 2023-12-21_04_14_21 (58 of 107)\n"
     ]
    },
    {
     "name": "stderr",
     "output_type": "stream",
     "text": [
      "100%|██████████| 90/90 [00:05<00:00, 15.03it/s]\n",
      "100%|██████████| 90/90 [00:06<00:00, 14.08it/s]\n",
      "100%|██████████| 90/90 [00:06<00:00, 14.18it/s]\n"
     ]
    },
    {
     "name": "stdout",
     "output_type": "stream",
     "text": [
      "Evaluating model 2023-12-20_22_12_29 (59 of 107)\n"
     ]
    },
    {
     "name": "stderr",
     "output_type": "stream",
     "text": [
      "100%|██████████| 90/90 [00:06<00:00, 14.01it/s]\n",
      "100%|██████████| 90/90 [00:06<00:00, 13.75it/s]\n",
      "100%|██████████| 90/90 [00:05<00:00, 15.04it/s]\n"
     ]
    },
    {
     "name": "stdout",
     "output_type": "stream",
     "text": [
      "Evaluating model 2023-12-20_22_13_08 (60 of 107)\n"
     ]
    },
    {
     "name": "stderr",
     "output_type": "stream",
     "text": [
      "100%|██████████| 90/90 [00:06<00:00, 14.54it/s]\n",
      "100%|██████████| 90/90 [00:06<00:00, 13.95it/s]\n",
      "100%|██████████| 90/90 [00:06<00:00, 13.85it/s]\n"
     ]
    },
    {
     "name": "stdout",
     "output_type": "stream",
     "text": [
      "Evaluating model 2023-12-21_11_50_08 (61 of 107)\n"
     ]
    },
    {
     "name": "stderr",
     "output_type": "stream",
     "text": [
      "100%|██████████| 90/90 [00:06<00:00, 14.12it/s]\n",
      "100%|██████████| 90/90 [00:06<00:00, 14.61it/s]\n",
      "100%|██████████| 90/90 [00:06<00:00, 14.46it/s]\n"
     ]
    },
    {
     "name": "stdout",
     "output_type": "stream",
     "text": [
      "Evaluating model 2023-12-20_22_03_18 (62 of 107)\n"
     ]
    },
    {
     "name": "stderr",
     "output_type": "stream",
     "text": [
      "100%|██████████| 90/90 [00:06<00:00, 14.27it/s]\n",
      "100%|██████████| 90/90 [00:06<00:00, 13.32it/s]\n",
      "100%|██████████| 90/90 [00:06<00:00, 14.67it/s]\n"
     ]
    },
    {
     "name": "stdout",
     "output_type": "stream",
     "text": [
      "Evaluating model 2023-12-21_04_38_42 (63 of 107)\n"
     ]
    },
    {
     "name": "stderr",
     "output_type": "stream",
     "text": [
      "100%|██████████| 90/90 [00:06<00:00, 13.90it/s]\n",
      "100%|██████████| 90/90 [00:06<00:00, 14.24it/s]\n",
      "100%|██████████| 90/90 [00:06<00:00, 14.44it/s]\n"
     ]
    },
    {
     "name": "stdout",
     "output_type": "stream",
     "text": [
      "Evaluating model 2023-12-21_03_51_36 (64 of 107)\n"
     ]
    },
    {
     "name": "stderr",
     "output_type": "stream",
     "text": [
      "100%|██████████| 90/90 [00:06<00:00, 14.73it/s]\n",
      "100%|██████████| 90/90 [00:06<00:00, 14.10it/s]\n",
      "100%|██████████| 90/90 [00:06<00:00, 13.99it/s]\n"
     ]
    },
    {
     "name": "stdout",
     "output_type": "stream",
     "text": [
      "Evaluating model 2023-12-21_12_23_57 (65 of 107)\n"
     ]
    },
    {
     "name": "stderr",
     "output_type": "stream",
     "text": [
      "100%|██████████| 90/90 [00:06<00:00, 13.97it/s]\n",
      "100%|██████████| 90/90 [00:06<00:00, 14.50it/s]\n",
      "100%|██████████| 90/90 [00:06<00:00, 14.38it/s]\n"
     ]
    },
    {
     "name": "stdout",
     "output_type": "stream",
     "text": [
      "Evaluating model 2023-12-21_11_37_11 (66 of 107)\n"
     ]
    },
    {
     "name": "stderr",
     "output_type": "stream",
     "text": [
      "100%|██████████| 90/90 [00:06<00:00, 14.55it/s]\n",
      "100%|██████████| 90/90 [00:05<00:00, 15.10it/s]\n",
      "100%|██████████| 90/90 [00:06<00:00, 14.22it/s]\n"
     ]
    },
    {
     "name": "stdout",
     "output_type": "stream",
     "text": [
      "Evaluating model 2023-12-20_22_36_42 (67 of 107)\n"
     ]
    },
    {
     "name": "stderr",
     "output_type": "stream",
     "text": [
      "100%|██████████| 90/90 [00:06<00:00, 13.98it/s]\n",
      "100%|██████████| 90/90 [00:06<00:00, 14.26it/s]\n",
      "100%|██████████| 90/90 [00:06<00:00, 14.69it/s]\n"
     ]
    },
    {
     "name": "stdout",
     "output_type": "stream",
     "text": [
      "Evaluating model 2023-12-20_22_03_33 (68 of 107)\n"
     ]
    },
    {
     "name": "stderr",
     "output_type": "stream",
     "text": [
      "100%|██████████| 90/90 [00:06<00:00, 14.22it/s]\n",
      "100%|██████████| 90/90 [00:06<00:00, 14.43it/s]\n",
      "100%|██████████| 90/90 [00:06<00:00, 14.23it/s]\n"
     ]
    },
    {
     "name": "stdout",
     "output_type": "stream",
     "text": [
      "Evaluating model 2023-12-21_04_28_41 (69 of 107)\n"
     ]
    },
    {
     "name": "stderr",
     "output_type": "stream",
     "text": [
      "100%|██████████| 90/90 [00:06<00:00, 14.77it/s]\n",
      "100%|██████████| 90/90 [00:06<00:00, 14.32it/s]\n",
      "100%|██████████| 90/90 [00:06<00:00, 13.70it/s]\n"
     ]
    },
    {
     "name": "stdout",
     "output_type": "stream",
     "text": [
      "Evaluating model 2023-12-20_22_26_52 (70 of 107)\n"
     ]
    },
    {
     "name": "stderr",
     "output_type": "stream",
     "text": [
      "100%|██████████| 90/90 [00:06<00:00, 14.14it/s]\n",
      "100%|██████████| 90/90 [00:06<00:00, 14.17it/s]\n",
      "100%|██████████| 90/90 [00:06<00:00, 13.98it/s]\n"
     ]
    },
    {
     "name": "stdout",
     "output_type": "stream",
     "text": [
      "Evaluating model 2023-12-21_04_10_41 (71 of 107)\n"
     ]
    },
    {
     "name": "stderr",
     "output_type": "stream",
     "text": [
      "100%|██████████| 90/90 [00:06<00:00, 14.24it/s]\n",
      "100%|██████████| 90/90 [00:06<00:00, 13.64it/s]\n",
      "100%|██████████| 90/90 [00:06<00:00, 14.65it/s]\n"
     ]
    },
    {
     "name": "stdout",
     "output_type": "stream",
     "text": [
      "Evaluating model 2023-12-21_04_20_57 (72 of 107)\n"
     ]
    },
    {
     "name": "stderr",
     "output_type": "stream",
     "text": [
      "100%|██████████| 90/90 [00:06<00:00, 14.73it/s]\n",
      "100%|██████████| 90/90 [00:06<00:00, 14.96it/s]\n",
      "100%|██████████| 90/90 [00:05<00:00, 15.34it/s]\n"
     ]
    },
    {
     "name": "stdout",
     "output_type": "stream",
     "text": [
      "Evaluating model 2023-12-20_21_52_46 (73 of 107)\n"
     ]
    },
    {
     "name": "stderr",
     "output_type": "stream",
     "text": [
      "100%|██████████| 90/90 [00:05<00:00, 15.05it/s]\n",
      "100%|██████████| 90/90 [00:06<00:00, 14.39it/s]\n",
      "100%|██████████| 90/90 [00:06<00:00, 13.96it/s]\n"
     ]
    },
    {
     "name": "stdout",
     "output_type": "stream",
     "text": [
      "Evaluating model 2023-12-21_11_48_17 (74 of 107)\n"
     ]
    },
    {
     "name": "stderr",
     "output_type": "stream",
     "text": [
      "100%|██████████| 90/90 [00:06<00:00, 14.68it/s]\n",
      "100%|██████████| 90/90 [00:06<00:00, 13.91it/s]\n",
      "100%|██████████| 90/90 [00:05<00:00, 15.02it/s]\n"
     ]
    },
    {
     "name": "stdout",
     "output_type": "stream",
     "text": [
      "Evaluating model 2023-12-21_12_10_22 (75 of 107)\n"
     ]
    },
    {
     "name": "stderr",
     "output_type": "stream",
     "text": [
      "100%|██████████| 90/90 [00:06<00:00, 14.06it/s]\n",
      "100%|██████████| 90/90 [00:06<00:00, 14.26it/s]\n",
      "100%|██████████| 90/90 [00:06<00:00, 14.13it/s]\n"
     ]
    },
    {
     "name": "stdout",
     "output_type": "stream",
     "text": [
      "Evaluating model 2023-12-21_04_54_53 (76 of 107)\n"
     ]
    },
    {
     "name": "stderr",
     "output_type": "stream",
     "text": [
      "100%|██████████| 90/90 [00:06<00:00, 13.33it/s]\n",
      "100%|██████████| 90/90 [00:06<00:00, 14.34it/s]\n",
      "100%|██████████| 90/90 [00:06<00:00, 13.79it/s]\n"
     ]
    },
    {
     "name": "stdout",
     "output_type": "stream",
     "text": [
      "Evaluating model 2023-12-21_04_22_43 (77 of 107)\n"
     ]
    },
    {
     "name": "stderr",
     "output_type": "stream",
     "text": [
      "100%|██████████| 90/90 [00:06<00:00, 13.94it/s]\n",
      "100%|██████████| 90/90 [00:06<00:00, 13.94it/s]\n",
      "100%|██████████| 90/90 [00:06<00:00, 14.41it/s]\n"
     ]
    },
    {
     "name": "stdout",
     "output_type": "stream",
     "text": [
      "Evaluating model 2023-12-21_03_35_17 (78 of 107)\n"
     ]
    },
    {
     "name": "stderr",
     "output_type": "stream",
     "text": [
      "100%|██████████| 90/90 [00:06<00:00, 13.50it/s]\n",
      "100%|██████████| 90/90 [00:06<00:00, 13.95it/s]\n",
      "100%|██████████| 90/90 [00:06<00:00, 14.19it/s]\n"
     ]
    },
    {
     "name": "stdout",
     "output_type": "stream",
     "text": [
      "Evaluating model 2023-12-21_04_00_45 (79 of 107)\n"
     ]
    },
    {
     "name": "stderr",
     "output_type": "stream",
     "text": [
      "100%|██████████| 90/90 [00:06<00:00, 14.29it/s]\n",
      "100%|██████████| 90/90 [00:06<00:00, 13.78it/s]\n",
      "100%|██████████| 90/90 [00:06<00:00, 13.86it/s]\n"
     ]
    },
    {
     "name": "stdout",
     "output_type": "stream",
     "text": [
      "Evaluating model 2023-12-21_04_47_44 (80 of 107)\n"
     ]
    },
    {
     "name": "stderr",
     "output_type": "stream",
     "text": [
      "100%|██████████| 90/90 [00:06<00:00, 14.45it/s]\n",
      "100%|██████████| 90/90 [00:06<00:00, 13.89it/s]\n",
      "100%|██████████| 90/90 [00:06<00:00, 14.68it/s]\n"
     ]
    },
    {
     "name": "stdout",
     "output_type": "stream",
     "text": [
      "Evaluating model 2023-12-21_04_41_08 (81 of 107)\n"
     ]
    },
    {
     "name": "stderr",
     "output_type": "stream",
     "text": [
      "100%|██████████| 90/90 [00:06<00:00, 14.64it/s]\n",
      "100%|██████████| 90/90 [00:06<00:00, 14.56it/s]\n",
      "100%|██████████| 90/90 [00:06<00:00, 14.47it/s]\n"
     ]
    },
    {
     "name": "stdout",
     "output_type": "stream",
     "text": [
      "Evaluating model 2023-12-21_03_31_21 (82 of 107)\n"
     ]
    },
    {
     "name": "stderr",
     "output_type": "stream",
     "text": [
      "100%|██████████| 90/90 [00:06<00:00, 14.58it/s]\n",
      "100%|██████████| 90/90 [00:06<00:00, 14.35it/s]\n",
      "100%|██████████| 90/90 [00:06<00:00, 13.52it/s]\n"
     ]
    },
    {
     "name": "stdout",
     "output_type": "stream",
     "text": [
      "Evaluating model 2023-12-21_03_34_45 (83 of 107)\n"
     ]
    },
    {
     "name": "stderr",
     "output_type": "stream",
     "text": [
      "100%|██████████| 90/90 [00:06<00:00, 14.40it/s]\n",
      "100%|██████████| 90/90 [00:06<00:00, 14.67it/s]\n",
      "100%|██████████| 90/90 [00:06<00:00, 13.91it/s]\n"
     ]
    },
    {
     "name": "stdout",
     "output_type": "stream",
     "text": [
      "Evaluating model 2023-12-21_12_35_54 (84 of 107)\n"
     ]
    },
    {
     "name": "stderr",
     "output_type": "stream",
     "text": [
      "100%|██████████| 90/90 [00:06<00:00, 14.18it/s]\n",
      "100%|██████████| 90/90 [00:06<00:00, 13.86it/s]\n",
      "100%|██████████| 90/90 [00:06<00:00, 14.87it/s]\n"
     ]
    },
    {
     "name": "stdout",
     "output_type": "stream",
     "text": [
      "Evaluating model 2023-12-21_04_03_55 (85 of 107)\n"
     ]
    },
    {
     "name": "stderr",
     "output_type": "stream",
     "text": [
      "100%|██████████| 90/90 [00:06<00:00, 14.80it/s]\n",
      "100%|██████████| 90/90 [00:06<00:00, 14.34it/s]\n",
      "100%|██████████| 90/90 [00:06<00:00, 14.39it/s]\n"
     ]
    },
    {
     "name": "stdout",
     "output_type": "stream",
     "text": [
      "Evaluating model 2023-12-20_22_13_44 (86 of 107)\n"
     ]
    },
    {
     "name": "stderr",
     "output_type": "stream",
     "text": [
      "100%|██████████| 90/90 [00:06<00:00, 14.43it/s]\n",
      "100%|██████████| 90/90 [00:06<00:00, 14.32it/s]\n",
      "100%|██████████| 90/90 [00:06<00:00, 14.32it/s]\n"
     ]
    },
    {
     "name": "stdout",
     "output_type": "stream",
     "text": [
      "Evaluating model 2023-12-21_12_39_04 (87 of 107)\n"
     ]
    },
    {
     "name": "stderr",
     "output_type": "stream",
     "text": [
      "100%|██████████| 90/90 [00:06<00:00, 14.04it/s]\n",
      "100%|██████████| 90/90 [00:06<00:00, 14.19it/s]\n",
      "100%|██████████| 90/90 [00:05<00:00, 15.02it/s]\n"
     ]
    },
    {
     "name": "stdout",
     "output_type": "stream",
     "text": [
      "Evaluating model 2023-12-21_04_30_49 (88 of 107)\n"
     ]
    },
    {
     "name": "stderr",
     "output_type": "stream",
     "text": [
      "100%|██████████| 90/90 [00:06<00:00, 14.73it/s]\n",
      "100%|██████████| 90/90 [00:06<00:00, 13.64it/s]\n",
      "100%|██████████| 90/90 [00:06<00:00, 14.47it/s]\n"
     ]
    },
    {
     "name": "stdout",
     "output_type": "stream",
     "text": [
      "Evaluating model 2023-12-20_21_59_02 (89 of 107)\n"
     ]
    },
    {
     "name": "stderr",
     "output_type": "stream",
     "text": [
      "100%|██████████| 90/90 [00:06<00:00, 13.94it/s]\n",
      "100%|██████████| 90/90 [00:06<00:00, 13.86it/s]\n",
      "100%|██████████| 90/90 [00:06<00:00, 14.55it/s]\n"
     ]
    },
    {
     "name": "stdout",
     "output_type": "stream",
     "text": [
      "Evaluating model 2023-12-20_22_22_55 (90 of 107)\n"
     ]
    },
    {
     "name": "stderr",
     "output_type": "stream",
     "text": [
      "100%|██████████| 90/90 [00:06<00:00, 14.12it/s]\n",
      "100%|██████████| 90/90 [00:06<00:00, 14.17it/s]\n",
      "100%|██████████| 90/90 [00:06<00:00, 14.22it/s]\n"
     ]
    },
    {
     "name": "stdout",
     "output_type": "stream",
     "text": [
      "Evaluating model 2023-12-21_12_05_21 (91 of 107)\n"
     ]
    },
    {
     "name": "stderr",
     "output_type": "stream",
     "text": [
      "100%|██████████| 90/90 [00:06<00:00, 14.38it/s]\n",
      "100%|██████████| 90/90 [00:06<00:00, 14.62it/s]\n",
      "100%|██████████| 90/90 [00:06<00:00, 14.53it/s]\n"
     ]
    },
    {
     "name": "stdout",
     "output_type": "stream",
     "text": [
      "Evaluating model 2023-12-20_22_33_13 (92 of 107)\n"
     ]
    },
    {
     "name": "stderr",
     "output_type": "stream",
     "text": [
      "100%|██████████| 90/90 [00:06<00:00, 14.50it/s]\n",
      "100%|██████████| 90/90 [00:06<00:00, 14.04it/s]\n",
      "100%|██████████| 90/90 [00:06<00:00, 13.57it/s]\n"
     ]
    },
    {
     "name": "stdout",
     "output_type": "stream",
     "text": [
      "Evaluating model 2023-12-20_22_23_31 (93 of 107)\n"
     ]
    },
    {
     "name": "stderr",
     "output_type": "stream",
     "text": [
      "100%|██████████| 90/90 [00:06<00:00, 14.62it/s]\n",
      "100%|██████████| 90/90 [00:06<00:00, 14.83it/s]\n",
      "100%|██████████| 90/90 [00:06<00:00, 14.39it/s]\n"
     ]
    },
    {
     "name": "stdout",
     "output_type": "stream",
     "text": [
      "Evaluating model 2023-12-21_05_16_52 (94 of 107)\n"
     ]
    },
    {
     "name": "stderr",
     "output_type": "stream",
     "text": [
      "100%|██████████| 90/90 [00:06<00:00, 14.34it/s]\n",
      "100%|██████████| 90/90 [00:06<00:00, 13.72it/s]\n",
      "100%|██████████| 90/90 [00:06<00:00, 14.07it/s]\n"
     ]
    },
    {
     "name": "stdout",
     "output_type": "stream",
     "text": [
      "Evaluating model 2023-12-21_11_57_05 (95 of 107)\n"
     ]
    },
    {
     "name": "stderr",
     "output_type": "stream",
     "text": [
      "100%|██████████| 90/90 [00:06<00:00, 14.60it/s]\n",
      "100%|██████████| 90/90 [00:06<00:00, 13.81it/s]\n",
      "100%|██████████| 90/90 [00:06<00:00, 14.15it/s]\n"
     ]
    },
    {
     "name": "stdout",
     "output_type": "stream",
     "text": [
      "Evaluating model 2023-12-21_12_46_54 (96 of 107)\n"
     ]
    },
    {
     "name": "stderr",
     "output_type": "stream",
     "text": [
      "100%|██████████| 90/90 [00:06<00:00, 14.41it/s]\n",
      "100%|██████████| 90/90 [00:06<00:00, 14.07it/s]\n",
      "100%|██████████| 90/90 [00:06<00:00, 14.52it/s]\n"
     ]
    },
    {
     "name": "stdout",
     "output_type": "stream",
     "text": [
      "Evaluating model 2023-12-21_05_06_35 (97 of 107)\n"
     ]
    },
    {
     "name": "stderr",
     "output_type": "stream",
     "text": [
      "100%|██████████| 90/90 [00:06<00:00, 14.08it/s]\n",
      "100%|██████████| 90/90 [00:06<00:00, 14.23it/s]\n",
      "100%|██████████| 90/90 [00:06<00:00, 14.41it/s]\n"
     ]
    },
    {
     "name": "stdout",
     "output_type": "stream",
     "text": [
      "Evaluating model 2023-12-20_21_54_31 (98 of 107)\n"
     ]
    },
    {
     "name": "stderr",
     "output_type": "stream",
     "text": [
      "100%|██████████| 90/90 [00:06<00:00, 14.71it/s]\n",
      "100%|██████████| 90/90 [00:06<00:00, 13.93it/s]\n",
      "100%|██████████| 90/90 [00:06<00:00, 14.56it/s]\n"
     ]
    },
    {
     "name": "stdout",
     "output_type": "stream",
     "text": [
      "Evaluating model 2023-12-21_12_08_18 (99 of 107)\n"
     ]
    },
    {
     "name": "stderr",
     "output_type": "stream",
     "text": [
      "100%|██████████| 90/90 [00:06<00:00, 14.12it/s]\n",
      "100%|██████████| 90/90 [00:06<00:00, 13.88it/s]\n",
      "100%|██████████| 90/90 [00:06<00:00, 14.52it/s]\n"
     ]
    },
    {
     "name": "stdout",
     "output_type": "stream",
     "text": [
      "Evaluating model 2023-12-21_11_36_49 (100 of 107)\n"
     ]
    },
    {
     "name": "stderr",
     "output_type": "stream",
     "text": [
      "100%|██████████| 90/90 [00:06<00:00, 13.89it/s]\n",
      "100%|██████████| 90/90 [00:06<00:00, 13.84it/s]\n",
      "100%|██████████| 90/90 [00:06<00:00, 14.07it/s]\n"
     ]
    },
    {
     "name": "stdout",
     "output_type": "stream",
     "text": [
      "Evaluating model 2023-12-21_04_10_00 (101 of 107)\n"
     ]
    },
    {
     "name": "stderr",
     "output_type": "stream",
     "text": [
      "100%|██████████| 90/90 [00:06<00:00, 13.77it/s]\n",
      "100%|██████████| 90/90 [00:06<00:00, 13.08it/s]\n",
      "100%|██████████| 90/90 [00:06<00:00, 13.62it/s]\n"
     ]
    },
    {
     "name": "stdout",
     "output_type": "stream",
     "text": [
      "Evaluating model 2023-12-21_02_51_14 (102 of 107)\n"
     ]
    },
    {
     "name": "stderr",
     "output_type": "stream",
     "text": [
      "100%|██████████| 90/90 [00:06<00:00, 14.02it/s]\n",
      "100%|██████████| 90/90 [00:06<00:00, 13.99it/s]\n",
      "100%|██████████| 90/90 [00:06<00:00, 13.99it/s]\n"
     ]
    },
    {
     "name": "stdout",
     "output_type": "stream",
     "text": [
      "Evaluating model 2023-12-21_04_58_13 (103 of 107)\n"
     ]
    },
    {
     "name": "stderr",
     "output_type": "stream",
     "text": [
      "100%|██████████| 90/90 [00:06<00:00, 14.37it/s]\n",
      "100%|██████████| 90/90 [00:06<00:00, 14.09it/s]\n",
      "100%|██████████| 90/90 [00:06<00:00, 13.68it/s]\n"
     ]
    },
    {
     "name": "stdout",
     "output_type": "stream",
     "text": [
      "Evaluating model 2023-12-21_03_01_39 (104 of 107)\n"
     ]
    },
    {
     "name": "stderr",
     "output_type": "stream",
     "text": [
      "100%|██████████| 90/90 [00:06<00:00, 13.80it/s]\n",
      "100%|██████████| 90/90 [00:06<00:00, 14.28it/s]\n",
      "100%|██████████| 90/90 [00:06<00:00, 14.42it/s]\n"
     ]
    },
    {
     "name": "stdout",
     "output_type": "stream",
     "text": [
      "Evaluating model 2023-12-21_12_41_18 (105 of 107)\n"
     ]
    },
    {
     "name": "stderr",
     "output_type": "stream",
     "text": [
      "100%|██████████| 90/90 [00:06<00:00, 14.39it/s]\n",
      "100%|██████████| 90/90 [00:06<00:00, 13.75it/s]\n",
      "100%|██████████| 90/90 [00:06<00:00, 13.73it/s]\n"
     ]
    },
    {
     "name": "stdout",
     "output_type": "stream",
     "text": [
      "Evaluating model 2023-12-21_03_03_43 (106 of 107)\n"
     ]
    },
    {
     "name": "stderr",
     "output_type": "stream",
     "text": [
      "100%|██████████| 90/90 [00:05<00:00, 15.09it/s]\n",
      "100%|██████████| 90/90 [00:06<00:00, 13.62it/s]\n",
      "100%|██████████| 90/90 [00:06<00:00, 14.23it/s]\n"
     ]
    },
    {
     "name": "stdout",
     "output_type": "stream",
     "text": [
      "Evaluating model 2023-12-21_03_28_08 (107 of 107)\n"
     ]
    },
    {
     "name": "stderr",
     "output_type": "stream",
     "text": [
      "100%|██████████| 90/90 [00:06<00:00, 14.07it/s]\n",
      "100%|██████████| 90/90 [00:06<00:00, 14.41it/s]\n",
      "100%|██████████| 90/90 [00:06<00:00, 13.71it/s]\n"
     ]
    }
   ],
   "source": [
    "all_results = defaultdict(list)\n",
    "for i, model_dir in enumerate(MODEL_DIRS):\n",
    "    \n",
    "    print(f'Evaluating model {model_dir.split(\"/\")[-1]} ({str(i+1)} of {len(MODEL_DIRS)})')\n",
    "    \n",
    "    model_fp = [os.path.join(model_dir, fp) for fp in os.listdir(model_dir) if fp[-3:] == '.pt'][0]\n",
    "    prod_slda = torch.load(model_fp).to(DEVICE)\n",
    "    prod_slda.eval()\n",
    "    model_file = get_model_name(model_dir)\n",
    "    \n",
    "    doc_perp, doc_only_perp, style_perp = full_perp_eval(prod_slda, eval_dl, DEVICE)\n",
    "    \n",
    "    all_results['checkpoint'].append(model_file)\n",
    "    all_results['doc_perp'].append(doc_perp)\n",
    "    all_results['doc_only_perp'].append(doc_only_perp)\n",
    "    all_results['style_perp'].append(style_perp)"
   ]
  },
  {
   "cell_type": "code",
   "execution_count": 40,
   "id": "1c5503ef-b06e-4b2b-a60d-a419bcae06c3",
   "metadata": {},
   "outputs": [],
   "source": [
    "all_perp_results = pd.DataFrame(all_results)"
   ]
  },
  {
   "cell_type": "code",
   "execution_count": 46,
   "id": "bde36772-a8fb-4e4d-9bc1-b6eb72b448a6",
   "metadata": {},
   "outputs": [],
   "source": [
    "all_res = hparam_res.merge(all_perp_results, on = 'checkpoint')"
   ]
  },
  {
   "cell_type": "markdown",
   "id": "b09babf1-1404-4aaf-bd89-de44e0dc1a1f",
   "metadata": {},
   "source": [
    "## Topic Metrics Analysis"
   ]
  },
  {
   "cell_type": "code",
   "execution_count": 205,
   "id": "90daf23c-6aab-4756-a3cc-cbf488eb747a",
   "metadata": {},
   "outputs": [],
   "source": [
    "def get_doc_topics(prod_slda, topk = 10):\n",
    "    betas = prod_slda.beta_document()\n",
    "    beta_doc = (-betas['beta_topic']).argsort()[:, :topk]\n",
    "    if prod_slda.style_topic_link == 'kappa_doc':\n",
    "        beta_style = (-betas['beta_style']).argsort()[:, :topk]\n",
    "        return beta_doc.numpy(), beta_style.numpy()\n",
    "    else:\n",
    "        return beta_doc.numpy()"
   ]
  },
  {
   "cell_type": "code",
   "execution_count": 115,
   "id": "db96ad1b-d18a-47d9-ae1b-f3dc225128fa",
   "metadata": {},
   "outputs": [],
   "source": [
    "def single_topic_coherence(topic, cooc_mat, sing_freqs):\n",
    "    eps = 1e-9\n",
    "    \n",
    "    # Get idxs of all term combinations within topic as flat lists\n",
    "    idx_0 = topic.repeat(topic.shape[0] - 1)\n",
    "    idx_1 = circulant(topic[::-1])[::-1][:, 1:].flatten()\n",
    "    term_cooc = np.array(cooc_mat[idx_0, idx_1])\n",
    "    # print(term_cooc)\n",
    "    \n",
    "    # Calc coherence\n",
    "    numer = np.log(term_cooc + eps) - (np.log(sing_freqs[idx_0]) + np.log(sing_freqs[idx_1]))\n",
    "    denom = -np.log(term_cooc + eps)\n",
    "    coh = numer/denom\n",
    "    \n",
    "    # Safely replace non coocurring terms with -1's\n",
    "    coh[cooc_mat[idx_0, idx_1] == 0] = 0\n",
    "    \n",
    "    return np.mean(coh)\n",
    "    \n",
    "def topic_coherence(topics, bows):\n",
    "    pres_bows = (bows > 0).astype(int)\n",
    "    cooc_mat = (pres_bows.T @ pres_bows)/pres_bows.shape[0]\n",
    "    sing_freqs = cooc_mat.diagonal()\n",
    "    \n",
    "    cohs = []\n",
    "    for topic in topics:\n",
    "        cohs.append(single_topic_coherence(topic, cooc_mat, sing_freqs))\n",
    "        \n",
    "    return np.mean(cohs), cohs\n",
    "\n",
    "def topic_diversity(topics):\n",
    "    uniq_cnt = np.unique(topics).shape[0]\n",
    "    total_cnt = np.prod(topics.shape)\n",
    "    return uniq_cnt/total_cnt\n",
    "    \n",
    "def between_topic_diversity(topics1, topics2):\n",
    "    uniq_1 = np.unique(topics1)\n",
    "    uniq_2 = np.unique(topics2)\n",
    "    inter_uniq = np.unique(np.array([topics1, topics2]))\n",
    "    \n",
    "    return inter_uniq.shape[0]/(uniq_1.shape[0] + uniq_2.shape[0])"
   ]
  },
  {
   "cell_type": "code",
   "execution_count": 137,
   "id": "4fbf0907-9f39-4314-b848-3621a065e40e",
   "metadata": {
    "scrolled": true,
    "tags": []
   },
   "outputs": [
    {
     "name": "stdout",
     "output_type": "stream",
     "text": [
      "Evaluating model 2023-12-21_11_36_17 (1 of 107)\n",
      "Evaluating model 2023-12-21_03_44_05 (2 of 107)\n",
      "Evaluating model 2023-12-20_22_20_01 (3 of 107)\n",
      "Evaluating model 2023-12-21_04_31_46 (4 of 107)\n",
      "Evaluating model 2023-12-21_03_37_54 (5 of 107)\n",
      "Evaluating model 2023-12-21_04_11_08 (6 of 107)\n",
      "Evaluating model 2023-12-21_05_26_58 (7 of 107)\n",
      "Evaluating model 2023-12-21_04_36_13 (8 of 107)\n",
      "Evaluating model 2023-12-20_22_51_18 (9 of 107)\n",
      "Evaluating model 2023-12-21_12_27_09 (10 of 107)\n",
      "Evaluating model 2023-12-21_03_16_09 (11 of 107)\n",
      "Evaluating model 2023-12-20_22_06_10 (12 of 107)\n",
      "Evaluating model 2023-12-21_11_47_25 (13 of 107)\n",
      "Evaluating model 2023-12-21_11_36_36 (14 of 107)\n",
      "Evaluating model 2023-12-21_03_41_44 (15 of 107)\n",
      "Evaluating model 2023-12-20_21_54_34 (16 of 107)\n",
      "Evaluating model 2023-12-21_12_28_24 (17 of 107)\n",
      "Evaluating model 2023-12-21_03_05_13 (18 of 107)\n",
      "Evaluating model 2023-12-21_11_53_36 (19 of 107)\n",
      "Evaluating model 2023-12-20_22_16_35 (20 of 107)\n",
      "Evaluating model 2023-12-21_02_50_54 (21 of 107)\n",
      "Evaluating model 2023-12-21_12_34_56 (22 of 107)\n",
      "Evaluating model 2023-12-21_12_38_15 (23 of 107)\n",
      "Evaluating model 2023-12-21_12_25_09 (24 of 107)\n",
      "Evaluating model 2023-12-21_04_51_51 (25 of 107)\n",
      "Evaluating model 2023-12-21_03_09_50 (26 of 107)\n",
      "Evaluating model 2023-12-20_22_40_53 (27 of 107)\n",
      "Evaluating model 2023-12-21_12_19_42 (28 of 107)\n",
      "Evaluating model 2023-12-20_22_47_43 (29 of 107)\n",
      "Evaluating model 2023-12-21_03_44_02 (30 of 107)\n",
      "Evaluating model 2023-12-21_12_18_10 (31 of 107)\n",
      "Evaluating model 2023-12-20_22_24_43 (32 of 107)\n",
      "Evaluating model 2023-12-21_03_17_19 (33 of 107)\n",
      "Evaluating model 2023-12-21_03_14_07 (34 of 107)\n",
      "Evaluating model 2023-12-21_12_00_23 (35 of 107)\n",
      "Evaluating model 2023-12-21_04_45_36 (36 of 107)\n",
      "Evaluating model 2023-12-21_02_51_27 (37 of 107)\n",
      "Evaluating model 2023-12-21_02_58_52 (38 of 107)\n",
      "Evaluating model 2023-12-21_04_00_47 (39 of 107)\n",
      "Evaluating model 2023-12-20_22_29_13 (40 of 107)\n",
      "Evaluating model 2023-12-21_04_31_56 (41 of 107)\n",
      "Evaluating model 2023-12-21_03_01_13 (42 of 107)\n",
      "Evaluating model 2023-12-20_22_40_39 (43 of 107)\n",
      "Evaluating model 2023-12-21_03_25_59 (44 of 107)\n",
      "Evaluating model 2023-12-21_03_26_02 (45 of 107)\n",
      "Evaluating model 2023-12-21_03_13_09 (46 of 107)\n",
      "Evaluating model 2023-12-21_02_51_44 (47 of 107)\n",
      "Evaluating model 2023-12-20_22_02_10 (48 of 107)\n",
      "Evaluating model 2023-12-21_03_50_43 (49 of 107)\n",
      "Evaluating model 2023-12-21_03_53_20 (50 of 107)\n",
      "Evaluating model 2023-12-20_22_09_06 (51 of 107)\n",
      "Evaluating model 2023-12-20_22_34_29 (52 of 107)\n",
      "Evaluating model 2023-12-21_12_17_24 (53 of 107)\n",
      "Evaluating model 2023-12-21_12_13_22 (54 of 107)\n",
      "Evaluating model 2023-12-20_21_54_51 (55 of 107)\n",
      "Evaluating model 2023-12-21_04_02_32 (56 of 107)\n",
      "Evaluating model 2023-12-21_04_17_07 (57 of 107)\n",
      "Evaluating model 2023-12-21_04_14_21 (58 of 107)\n",
      "Evaluating model 2023-12-20_22_12_29 (59 of 107)\n",
      "Evaluating model 2023-12-20_22_13_08 (60 of 107)\n",
      "Evaluating model 2023-12-21_11_50_08 (61 of 107)\n",
      "Evaluating model 2023-12-20_22_03_18 (62 of 107)\n",
      "Evaluating model 2023-12-21_04_38_42 (63 of 107)\n",
      "Evaluating model 2023-12-21_03_51_36 (64 of 107)\n",
      "Evaluating model 2023-12-21_12_23_57 (65 of 107)\n",
      "Evaluating model 2023-12-21_11_37_11 (66 of 107)\n",
      "Evaluating model 2023-12-20_22_36_42 (67 of 107)\n",
      "Evaluating model 2023-12-20_22_03_33 (68 of 107)\n",
      "Evaluating model 2023-12-21_04_28_41 (69 of 107)\n",
      "Evaluating model 2023-12-20_22_26_52 (70 of 107)\n",
      "Evaluating model 2023-12-21_04_10_41 (71 of 107)\n",
      "Evaluating model 2023-12-21_04_20_57 (72 of 107)\n",
      "Evaluating model 2023-12-20_21_52_46 (73 of 107)\n",
      "Evaluating model 2023-12-21_11_48_17 (74 of 107)\n",
      "Evaluating model 2023-12-21_12_10_22 (75 of 107)\n",
      "Evaluating model 2023-12-21_04_54_53 (76 of 107)\n",
      "Evaluating model 2023-12-21_04_22_43 (77 of 107)\n",
      "Evaluating model 2023-12-21_03_35_17 (78 of 107)\n",
      "Evaluating model 2023-12-21_04_00_45 (79 of 107)\n",
      "Evaluating model 2023-12-21_04_47_44 (80 of 107)\n",
      "Evaluating model 2023-12-21_04_41_08 (81 of 107)\n",
      "Evaluating model 2023-12-21_03_31_21 (82 of 107)\n",
      "Evaluating model 2023-12-21_03_34_45 (83 of 107)\n",
      "Evaluating model 2023-12-21_12_35_54 (84 of 107)\n",
      "Evaluating model 2023-12-21_04_03_55 (85 of 107)\n",
      "Evaluating model 2023-12-20_22_13_44 (86 of 107)\n",
      "Evaluating model 2023-12-21_12_39_04 (87 of 107)\n",
      "Evaluating model 2023-12-21_04_30_49 (88 of 107)\n",
      "Evaluating model 2023-12-20_21_59_02 (89 of 107)\n",
      "Evaluating model 2023-12-20_22_22_55 (90 of 107)\n",
      "Evaluating model 2023-12-21_12_05_21 (91 of 107)\n",
      "Evaluating model 2023-12-20_22_33_13 (92 of 107)\n",
      "Evaluating model 2023-12-20_22_23_31 (93 of 107)\n",
      "Evaluating model 2023-12-21_05_16_52 (94 of 107)\n",
      "Evaluating model 2023-12-21_11_57_05 (95 of 107)\n",
      "Evaluating model 2023-12-21_12_46_54 (96 of 107)\n",
      "Evaluating model 2023-12-21_05_06_35 (97 of 107)\n",
      "Evaluating model 2023-12-20_21_54_31 (98 of 107)\n",
      "Evaluating model 2023-12-21_12_08_18 (99 of 107)\n",
      "Evaluating model 2023-12-21_11_36_49 (100 of 107)\n",
      "Evaluating model 2023-12-21_04_10_00 (101 of 107)\n",
      "Evaluating model 2023-12-21_02_51_14 (102 of 107)\n",
      "Evaluating model 2023-12-21_04_58_13 (103 of 107)\n",
      "Evaluating model 2023-12-21_03_01_39 (104 of 107)\n",
      "Evaluating model 2023-12-21_12_41_18 (105 of 107)\n",
      "Evaluating model 2023-12-21_03_03_43 (106 of 107)\n",
      "Evaluating model 2023-12-21_03_28_08 (107 of 107)\n"
     ]
    }
   ],
   "source": [
    "top_results = defaultdict(list)\n",
    "for i, model_dir in enumerate(MODEL_DIRS):\n",
    "    \n",
    "    print(f'Evaluating model {model_dir.split(\"/\")[-1]} ({str(i+1)} of {len(MODEL_DIRS)})')\n",
    "    \n",
    "    model_fp = [os.path.join(model_dir, fp) for fp in os.listdir(model_dir) if fp[-3:] == '.pt'][0]\n",
    "    prod_slda = torch.load(model_fp).to(DEVICE)\n",
    "    prod_slda.eval()\n",
    "    model_file = get_model_name(model_dir)\n",
    "    \n",
    "    beta_doc, beta_style = get_doc_topics(prod_slda, topk = 15)\n",
    "    doc_coh = topic_coherence(beta_doc, bows['training'])\n",
    "    style_coh = topic_coherence(beta_style, bows['training'])\n",
    "    doc_div   = topic_diversity(beta_doc)\n",
    "    style_div = topic_diversity(beta_style)\n",
    "    bet_div   = between_topic_diversity(beta_doc, beta_style)\n",
    "    \n",
    "    top_results['checkpoint'].append(model_file)\n",
    "    top_results['topic_coh'].append(doc_coh[0])\n",
    "    top_results['topic_div'].append(doc_div)\n",
    "    top_results['style_coh'].append(style_coh[0])\n",
    "    top_results['style_div'].append(style_div)\n",
    "    top_results['bet_div'].append(bet_div)"
   ]
  },
  {
   "cell_type": "code",
   "execution_count": 138,
   "id": "10cc253a-c473-4658-b5ad-f36af094afe8",
   "metadata": {},
   "outputs": [],
   "source": [
    "top_results = pd.DataFrame(top_results)"
   ]
  },
  {
   "cell_type": "code",
   "execution_count": 139,
   "id": "879b0ef9-4a3d-4fc5-ae19-a3869ebbdaf3",
   "metadata": {},
   "outputs": [],
   "source": [
    "all_res = all_res.merge(top_results, on = 'checkpoint')"
   ]
  },
  {
   "cell_type": "markdown",
   "id": "ae2d9c38-eed8-4455-9b5e-2b27b0aa5ce8",
   "metadata": {},
   "source": [
    "## Table Generation "
   ]
  },
  {
   "cell_type": "code",
   "execution_count": 62,
   "id": "470ab5a6-59ce-47d9-b324-143ab4668f5d",
   "metadata": {},
   "outputs": [],
   "source": [
    "def extract_hparams(row):\n",
    "    row['lr'] = row['hparams']['lr']\n",
    "    row['num_topics'] = row['hparams']['num_topics']\n",
    "    row['style_hidden_dim'] = row['hparams']['style_hidden_dim']\n",
    "    row['kappa_prior_scale'] = row['hparams']['kappa_prior_scale']\n",
    "    row['theta_prior_scale'] = row['hparams']['theta_prior_scale']\n",
    "    \n",
    "    return row"
   ]
  },
  {
   "cell_type": "code",
   "execution_count": 65,
   "id": "733dc442-d920-4537-9c06-3d68aa35dc99",
   "metadata": {},
   "outputs": [],
   "source": [
    "all_res = all_res.apply(extract_hparams, axis = 1)"
   ]
  },
  {
   "cell_type": "code",
   "execution_count": 98,
   "id": "4531a7f6-7d08-4124-b65f-2d9dced12175",
   "metadata": {},
   "outputs": [],
   "source": [
    "all_res['topic_qual'] = all_res['topic_coh'] * all_res['topic_div']\n",
    "all_res['style_qual'] = all_res['style_coh'] * all_res['style_div']"
   ]
  },
  {
   "cell_type": "code",
   "execution_count": 140,
   "id": "8e03218f-3c32-45e3-b596-d6080564d0a0",
   "metadata": {},
   "outputs": [],
   "source": [
    "all_res.to_csv('all_hparam_results.csv', index = None)"
   ]
  },
  {
   "cell_type": "code",
   "execution_count": 134,
   "id": "e268adc2-5e44-4003-8d03-0b5b41b82e07",
   "metadata": {},
   "outputs": [],
   "source": [
    "pd.options.display.float_format = '{:.3f}'.format"
   ]
  },
  {
   "cell_type": "code",
   "execution_count": 135,
   "id": "c50c4c8d-8a68-4ace-85ca-6b93b0c387ad",
   "metadata": {},
   "outputs": [
    {
     "name": "stdout",
     "output_type": "stream",
     "text": [
      "\\begin{tabular}{cccccccc}\n",
      "\\toprule\n",
      "   lr &  num\\_topics &  style\\_hidden\\_dim &  kappa\\_prior\\_scale &  theta\\_prior\\_scale &  best\\_val\\_loss &  doc\\_perp &  doc\\_only\\_perp &  style\\_perp \\\\\n",
      "\\midrule\n",
      "0.001 &          10 &                64 &              1.000 &              1.000 &       4784.723 &  2026.838 &       3253.946 &     489.693 \\\\\n",
      "0.001 &          20 &                64 &              1.000 &              1.000 &       4808.006 &  2154.800 &       3141.339 &     373.839 \\\\\n",
      "0.001 &          10 &                16 &              1.000 &              1.000 &       4817.355 &  2337.801 &       3439.035 &     244.170 \\\\\n",
      "0.001 &           5 &                64 &              1.000 &              1.000 &       4844.650 &  2209.704 &       2980.751 &     480.237 \\\\\n",
      "0.001 &           5 &                16 &              3.000 &              1.000 &       4853.584 &  2224.970 &       2918.532 &     324.849 \\\\\n",
      "0.001 &          20 &                16 &              1.000 &              1.000 &       4860.020 &  1791.708 &       2667.373 &     350.844 \\\\\n",
      "0.001 &           5 &                16 &              1.000 &              1.000 &       4865.892 &  1836.798 &       2305.185 &     377.900 \\\\\n",
      "\\bottomrule\n",
      "\\end{tabular}\n",
      "\n"
     ]
    },
    {
     "name": "stderr",
     "output_type": "stream",
     "text": [
      "/tmp/ipykernel_3043555/3515694205.py:4: FutureWarning: In future versions `DataFrame.to_latex` is expected to utilise the base implementation of `Styler.to_latex` for formatting and rendering. The arguments signature may therefore change. It is recommended instead to use `DataFrame.style.to_latex` which also contains additional functionality.\n",
      "  print(table.to_latex(index = None, column_format = 'cccccccc'))\n"
     ]
    }
   ],
   "source": [
    "table_cols = ['lr', 'num_topics', 'style_hidden_dim', 'kappa_prior_scale', 'theta_prior_scale', 'best_val_loss', 'doc_perp', 'doc_only_perp', 'style_perp']\n",
    "table = all_res.sort_values('best_val_loss', ascending = True).head(7)[table_cols]\n",
    "table\n",
    "print(table.to_latex(index = None, column_format = 'cccccccc'))"
   ]
  },
  {
   "cell_type": "code",
   "execution_count": 146,
   "id": "93f09d92-b9f7-4c10-b5c4-7f37c7d880e3",
   "metadata": {},
   "outputs": [
    {
     "name": "stdout",
     "output_type": "stream",
     "text": [
      "\\begin{tabular}{cccccccccc}\n",
      "\\toprule\n",
      "   lr &  num\\_topics &  style\\_hidden\\_dim &  kappa\\_prior\\_scale &  theta\\_prior\\_scale &  topic\\_coh &  topic\\_div &  topic\\_qual &  style\\_coh &  style\\_div &  style\\_qual &  bet\\_div \\\\\n",
      "\\midrule\n",
      "0.001 &          10 &                64 &              1.000 &              1.000 &      0.186 &      0.993 &       0.185 &      0.161 &      0.953 &       0.154 &    0.842 \\\\\n",
      "0.001 &          20 &                64 &              1.000 &              1.000 &      0.199 &      0.977 &       0.194 &      0.146 &      0.940 &       0.137 &    0.786 \\\\\n",
      "0.001 &          10 &                16 &              1.000 &              1.000 &      0.198 &      1.000 &       0.198 &      0.122 &      0.973 &       0.119 &    0.818 \\\\\n",
      "0.001 &           5 &                64 &              1.000 &              1.000 &      0.114 &      1.000 &       0.114 &      0.090 &      1.000 &       0.090 &    0.920 \\\\\n",
      "0.001 &           5 &                16 &              3.000 &              1.000 &      0.121 &      1.000 &       0.121 &      0.059 &      0.973 &       0.057 &    0.946 \\\\\n",
      "0.001 &          20 &                16 &              1.000 &              1.000 &      0.204 &      0.983 &       0.201 &      0.143 &      0.937 &       0.134 &    0.786 \\\\\n",
      "0.001 &           5 &                16 &              1.000 &              1.000 &      0.128 &      1.000 &       0.128 &      0.061 &      0.987 &       0.060 &    0.919 \\\\\n",
      "\\bottomrule\n",
      "\\end{tabular}\n",
      "\n"
     ]
    },
    {
     "name": "stderr",
     "output_type": "stream",
     "text": [
      "/tmp/ipykernel_3043555/1894344162.py:4: FutureWarning: In future versions `DataFrame.to_latex` is expected to utilise the base implementation of `Styler.to_latex` for formatting and rendering. The arguments signature may therefore change. It is recommended instead to use `DataFrame.style.to_latex` which also contains additional functionality.\n",
      "  print(table.to_latex(index = None, column_format = 'cccccccccc'))\n"
     ]
    }
   ],
   "source": [
    "table_cols = ['lr', 'num_topics', 'style_hidden_dim', 'kappa_prior_scale', 'theta_prior_scale', 'best_val_loss', 'topic_coh', 'topic_div', 'topic_qual', 'style_coh', 'style_div', 'style_qual', 'bet_div', 'best_val_loss']\n",
    "table = all_res.sort_values('best_val_loss', ascending = True).head(7)[table_cols]\n",
    "table = table.drop('best_val_loss', axis = 1)\n",
    "print(table.to_latex(index = None, column_format = 'cccccccccc'))"
   ]
  },
  {
   "cell_type": "code",
   "execution_count": 147,
   "id": "1599d82a-41db-43bc-8b50-da0c0e2b4ad0",
   "metadata": {},
   "outputs": [
    {
     "name": "stdout",
     "output_type": "stream",
     "text": [
      "\\begin{tabular}{cccccc}\n",
      "\\toprule\n",
      "   lr &  num\\_topics &  style\\_hidden\\_dim &  kappa\\_prior\\_scale &  theta\\_prior\\_scale &  topic\\_qual &  style\\_qual &  bet\\_div \\\\\n",
      "\\midrule\n",
      "0.001 &          10 &                64 &              1.000 &              1.000 &       0.185 &       0.154 &    0.842 \\\\\n",
      "0.001 &          20 &                64 &              1.000 &              1.000 &       0.194 &       0.137 &    0.786 \\\\\n",
      "0.001 &          10 &                16 &              1.000 &              1.000 &       0.198 &       0.119 &    0.818 \\\\\n",
      "0.001 &           5 &                64 &              1.000 &              1.000 &       0.114 &       0.090 &    0.920 \\\\\n",
      "0.001 &           5 &                16 &              3.000 &              1.000 &       0.121 &       0.057 &    0.946 \\\\\n",
      "0.001 &          20 &                16 &              1.000 &              1.000 &       0.201 &       0.134 &    0.786 \\\\\n",
      "0.001 &           5 &                16 &              1.000 &              1.000 &       0.128 &       0.060 &    0.919 \\\\\n",
      "\\bottomrule\n",
      "\\end{tabular}\n",
      "\n"
     ]
    },
    {
     "name": "stderr",
     "output_type": "stream",
     "text": [
      "/tmp/ipykernel_3043555/2328362935.py:4: FutureWarning: In future versions `DataFrame.to_latex` is expected to utilise the base implementation of `Styler.to_latex` for formatting and rendering. The arguments signature may therefore change. It is recommended instead to use `DataFrame.style.to_latex` which also contains additional functionality.\n",
      "  print(table.to_latex(index = None, column_format = 'cccccc'))\n"
     ]
    }
   ],
   "source": [
    "table_cols = ['lr', 'num_topics', 'style_hidden_dim', 'kappa_prior_scale', 'theta_prior_scale', 'best_val_loss', 'topic_qual', 'style_qual', 'bet_div', 'best_val_loss']\n",
    "table = all_res.sort_values('best_val_loss', ascending = True).head(7)[table_cols]\n",
    "table = table.drop('best_val_loss', axis = 1)\n",
    "print(table.to_latex(index = None, column_format = 'cccccc'))"
   ]
  },
  {
   "cell_type": "markdown",
   "id": "55e963a8-936d-494f-845e-b68b0a69e2a0",
   "metadata": {},
   "source": [
    "# Document Link Analysis "
   ]
  },
  {
   "cell_type": "markdown",
   "id": "28c0291c-c644-45a5-bb75-79ff68be5290",
   "metadata": {},
   "source": [
    "## Evidence Reconstruction Analysis "
   ]
  },
  {
   "cell_type": "code",
   "execution_count": 219,
   "id": "eeda7273-db41-4b52-bea2-70594233ebb8",
   "metadata": {},
   "outputs": [],
   "source": [
    "PERC_OBS_VALS = np.arange(0, 1, .1)"
   ]
  },
  {
   "cell_type": "code",
   "execution_count": 220,
   "id": "905b2aca-87a4-4598-8763-16dbabcb9fe8",
   "metadata": {},
   "outputs": [
    {
     "data": {
      "text/plain": [
       "ProdSLDA(\n",
       "  (encoder): GeneralEncoder(\n",
       "    (drop): Dropout(p=0.2, inplace=False)\n",
       "    (fc1s): ModuleDict(\n",
       "      (doc): Linear(in_features=3098, out_features=128, bias=True)\n",
       "    )\n",
       "    (fc2): Linear(in_features=128, out_features=72, bias=True)\n",
       "    (fcmu): Linear(in_features=72, out_features=20, bias=True)\n",
       "    (fclv): Linear(in_features=72, out_features=20, bias=True)\n",
       "    (bnmu): BatchNorm1d(20, eps=1e-05, momentum=0.1, affine=False, track_running_stats=True)\n",
       "    (bnlv): BatchNorm1d(20, eps=1e-05, momentum=0.1, affine=False, track_running_stats=True)\n",
       "  )\n",
       "  (decoder): Decoder(\n",
       "    (beta): Linear(in_features=20, out_features=3098, bias=False)\n",
       "    (bn): BatchNorm1d(3098, eps=1e-05, momentum=0.1, affine=False, track_running_stats=True)\n",
       "    (drop): Dropout(p=0.2, inplace=False)\n",
       "  )\n",
       "  (style_encoder): GeneralEncoder(\n",
       "    (drop): Dropout(p=0.2, inplace=False)\n",
       "    (fc1s): ModuleDict(\n",
       "      (casing): Linear(in_features=3, out_features=16, bias=True)\n",
       "      (emoji_task): Linear(in_features=20, out_features=16, bias=True)\n",
       "      (formality): Linear(in_features=2, out_features=16, bias=True)\n",
       "      (pos_bigrams): Linear(in_features=324, out_features=16, bias=True)\n",
       "      (punc_tags): Linear(in_features=20, out_features=16, bias=True)\n",
       "      (sentiment_task): Linear(in_features=3, out_features=16, bias=True)\n",
       "    )\n",
       "    (fc2): Linear(in_features=96, out_features=72, bias=True)\n",
       "    (fcmu): Linear(in_features=72, out_features=10, bias=True)\n",
       "    (fclv): Linear(in_features=72, out_features=10, bias=True)\n",
       "    (bnmu): BatchNorm1d(10, eps=1e-05, momentum=0.1, affine=False, track_running_stats=True)\n",
       "    (bnlv): BatchNorm1d(10, eps=1e-05, momentum=0.1, affine=False, track_running_stats=True)\n",
       "  )\n",
       "  (style_decoder): ModuleDict(\n",
       "    (casing): Decoder(\n",
       "      (beta): Linear(in_features=10, out_features=3, bias=False)\n",
       "      (bn): BatchNorm1d(3, eps=1e-05, momentum=0.1, affine=False, track_running_stats=True)\n",
       "      (drop): Dropout(p=0.2, inplace=False)\n",
       "    )\n",
       "    (emoji_task): Decoder(\n",
       "      (beta): Linear(in_features=10, out_features=20, bias=False)\n",
       "      (bn): BatchNorm1d(20, eps=1e-05, momentum=0.1, affine=False, track_running_stats=True)\n",
       "      (drop): Dropout(p=0.2, inplace=False)\n",
       "    )\n",
       "    (formality): Decoder(\n",
       "      (beta): Linear(in_features=10, out_features=2, bias=False)\n",
       "      (bn): BatchNorm1d(2, eps=1e-05, momentum=0.1, affine=False, track_running_stats=True)\n",
       "      (drop): Dropout(p=0.2, inplace=False)\n",
       "    )\n",
       "    (pos_bigrams): Decoder(\n",
       "      (beta): Linear(in_features=10, out_features=324, bias=False)\n",
       "      (bn): BatchNorm1d(324, eps=1e-05, momentum=0.1, affine=False, track_running_stats=True)\n",
       "      (drop): Dropout(p=0.2, inplace=False)\n",
       "    )\n",
       "    (punc_tags): Decoder(\n",
       "      (beta): Linear(in_features=10, out_features=20, bias=False)\n",
       "      (bn): BatchNorm1d(20, eps=1e-05, momentum=0.1, affine=False, track_running_stats=True)\n",
       "      (drop): Dropout(p=0.2, inplace=False)\n",
       "    )\n",
       "    (sentiment_task): Decoder(\n",
       "      (beta): Linear(in_features=10, out_features=3, bias=False)\n",
       "      (bn): BatchNorm1d(3, eps=1e-05, momentum=0.1, affine=False, track_running_stats=True)\n",
       "      (drop): Dropout(p=0.2, inplace=False)\n",
       "    )\n",
       "  )\n",
       ")"
      ]
     },
     "execution_count": 220,
     "metadata": {},
     "output_type": "execute_result"
    }
   ],
   "source": [
    "prod_slda = torch.load(CHOSEN_MODEL).to(DEVICE)\n",
    "prod_slda.eval()\n",
    "\n",
    "prod_islda = torch.load(CHOSEN_INDEP_MODEL).to(DEVICE)\n",
    "prod_islda.eval()"
   ]
  },
  {
   "cell_type": "code",
   "execution_count": 221,
   "id": "78b2b0fb-b7f1-41e4-9d87-bd0676e1079f",
   "metadata": {},
   "outputs": [
    {
     "name": "stderr",
     "output_type": "stream",
     "text": [
      "100%|██████████| 90/90 [00:06<00:00, 13.01it/s]\n",
      "100%|██████████| 90/90 [00:06<00:00, 13.63it/s]\n",
      "100%|██████████| 90/90 [00:06<00:00, 13.75it/s]\n",
      "100%|██████████| 90/90 [00:06<00:00, 13.31it/s]\n",
      "100%|██████████| 90/90 [00:06<00:00, 13.60it/s]\n",
      "100%|██████████| 90/90 [00:06<00:00, 13.68it/s]\n",
      "100%|██████████| 90/90 [00:06<00:00, 13.13it/s]\n",
      "100%|██████████| 90/90 [00:06<00:00, 13.67it/s]\n",
      "100%|██████████| 90/90 [00:06<00:00, 13.82it/s]\n",
      "100%|██████████| 90/90 [00:06<00:00, 13.67it/s]\n",
      "100%|██████████| 90/90 [00:06<00:00, 13.80it/s]\n",
      "100%|██████████| 90/90 [00:06<00:00, 13.33it/s]\n",
      "100%|██████████| 90/90 [00:06<00:00, 12.88it/s]\n",
      "100%|██████████| 90/90 [00:06<00:00, 14.02it/s]\n",
      "100%|██████████| 90/90 [00:06<00:00, 13.15it/s]\n",
      "100%|██████████| 90/90 [00:06<00:00, 13.36it/s]\n",
      "100%|██████████| 90/90 [00:06<00:00, 13.50it/s]\n",
      "100%|██████████| 90/90 [00:06<00:00, 13.17it/s]\n",
      "100%|██████████| 90/90 [00:06<00:00, 13.21it/s]\n",
      "100%|██████████| 90/90 [00:06<00:00, 13.80it/s]\n",
      "100%|██████████| 90/90 [00:06<00:00, 13.69it/s]\n",
      "100%|██████████| 90/90 [00:06<00:00, 13.33it/s]\n",
      "100%|██████████| 90/90 [00:06<00:00, 13.39it/s]\n",
      "100%|██████████| 90/90 [00:06<00:00, 12.90it/s]\n",
      "100%|██████████| 90/90 [00:06<00:00, 13.73it/s]\n",
      "100%|██████████| 90/90 [00:06<00:00, 13.40it/s]\n",
      "100%|██████████| 90/90 [00:06<00:00, 13.64it/s]\n",
      "100%|██████████| 90/90 [00:07<00:00, 12.75it/s]\n",
      "100%|██████████| 90/90 [00:06<00:00, 13.87it/s]\n",
      "100%|██████████| 90/90 [00:06<00:00, 13.73it/s]\n"
     ]
    }
   ],
   "source": [
    "doc_perps, doc_only_perps = perp_by_perc_hidden(prod_slda, bows, meta_vectorized, DEVICE, perc_obs_vals = PERC_OBS_VALS,\n",
    "                                batch_size = BATCH_SIZE, num_workers = NUM_WORKERS)\n",
    "\n",
    "indep_doc_perps = perp_by_perc_hidden(prod_islda, bows, meta_vectorized, DEVICE, perc_obs_vals = PERC_OBS_VALS,\n",
    "                                batch_size = BATCH_SIZE, num_workers = NUM_WORKERS, doc_only = False)"
   ]
  },
  {
   "cell_type": "code",
   "execution_count": 222,
   "id": "93b39e65-94ea-431d-96f1-2cf9ed9448e2",
   "metadata": {},
   "outputs": [
    {
     "data": {
      "image/png": "[encoded data removed]",
      "text/plain": [
       "<Figure size 350x262.5 with 1 Axes>"
      ]
     },
     "metadata": {},
     "output_type": "display_data"
    }
   ],
   "source": [
    "plt.plot(PERC_OBS_VALS, doc_perps, label = 'Doc + Style')\n",
    "plt.plot(PERC_OBS_VALS, doc_only_perps, label = 'Doc Only')\n",
    "plt.plot(PERC_OBS_VALS, indep_doc_perps, label = 'Independent')\n",
    "\n",
    "plt.xlabel('\\% Document Observed')\n",
    "plt.ylabel('Perplexity')\n",
    "\n",
    "plt.legend()\n",
    "\n",
    "plt.savefig('perp_observed_curve_20.png')"
   ]
  },
  {
   "cell_type": "markdown",
   "id": "4b5681fa-b6d6-413d-bdd1-442dd176dbc8",
   "metadata": {},
   "source": [
    "# Loss Curve "
   ]
  },
  {
   "cell_type": "code",
   "execution_count": 223,
   "id": "89382237-9edc-4970-a225-0ce93317db45",
   "metadata": {},
   "outputs": [],
   "source": [
    "indep_losses     = pd.read_csv(f'{\"/\".join(CHOSEN_INDEP_MODEL.split(\"/\")[:-1])}/elbos.json')\n",
    "prod_slda_losses = pd.read_csv(f'{\"/\".join(CHOSEN_MODEL.split(\"/\")[:-1])}/elbos.json')"
   ]
  },
  {
   "cell_type": "code",
   "execution_count": 224,
   "id": "a7e0bd19-d105-44f2-9463-58d5b16acfb7",
   "metadata": {},
   "outputs": [
    {
     "data": {
      "image/png": "[encoded data removed]",
      "text/plain": [
       "<Figure size 350x262.5 with 1 Axes>"
      ]
     },
     "metadata": {},
     "output_type": "display_data"
    }
   ],
   "source": [
    "plt.plot(range(len(prod_slda_losses)), prod_slda_losses['train_elbo'],\n",
    "         label = 'ProdSLDA Train ELBO')\n",
    "plt.plot(range(len(prod_slda_losses)), prod_slda_losses['val_elbo'],\n",
    "         label = 'ProdSLDA Val ELBO')\n",
    "plt.plot(range(len(indep_losses)), indep_losses['train_elbo'], \n",
    "         linestyle = 'dashed',\n",
    "         label = 'Indep. Train ELBO')\n",
    "plt.plot(range(len(indep_losses)), indep_losses['val_elbo'],  \n",
    "         linestyle = 'dashed',\n",
    "         label = 'Indep. Val ELBO')\n",
    "\n",
    "plt.legend(bbox_to_anchor = (1, 0.75))\n",
    "plt.xlabel('\\# Iterations')\n",
    "plt.ylabel('(Negative) ELBO')\n",
    "plt.savefig('elbo_curve_20.png', dpi = 600)"
   ]
  },
  {
   "cell_type": "code",
   "execution_count": 228,
   "id": "d4575c6e-af1a-4bab-95c5-8aa48729004c",
   "metadata": {},
   "outputs": [],
   "source": [
    "prod_slda.eval()\n",
    "prod_islda.eval()\n",
    "    \n",
    "beta_doc, beta_style = get_doc_topics(prod_slda, topk = 15)\n",
    "beta_idoc            = get_doc_topics(prod_islda, topk = 15)"
   ]
  },
  {
   "cell_type": "code",
   "execution_count": 229,
   "id": "a0700d75-905d-4314-9932-ceec674b3e0f",
   "metadata": {},
   "outputs": [],
   "source": [
    "comp_res = defaultdict()\n",
    "comp_res['model'] = ['ProdSLDA', 'Independent']\n",
    "\n",
    "doc_coh, _    = topic_coherence(beta_doc, bows['training'])\n",
    "doc_icoh, _   = topic_coherence(beta_idoc, bows['training'])\n",
    "\n",
    "style_coh, _  = topic_coherence(beta_style, bows['training'])\n",
    "\n",
    "doc_div       = topic_diversity(beta_doc)\n",
    "doc_idiv      = topic_diversity(beta_idoc)\n",
    "\n",
    "style_div     = topic_diversity(beta_style)\n",
    "\n",
    "bet_div       = between_topic_diversity(beta_doc, beta_style)\n",
    "\n",
    "comp_res['top_coh']   = [doc_coh, doc_icoh]\n",
    "comp_res['style_coh'] = [style_coh, None]\n",
    "comp_res['top_div']   = [doc_div, doc_idiv]\n",
    "comp_res['style_div'] = [style_div, None]\n",
    "comp_res['bet_div']   = [bet_div, None]"
   ]
  },
  {
   "cell_type": "code",
   "execution_count": 230,
   "id": "958613dc-d2b1-461c-a0a8-6e84213ff17c",
   "metadata": {},
   "outputs": [
    {
     "name": "stdout",
     "output_type": "stream",
     "text": [
      "\\begin{tabular}{cccccc}\n",
      "\\toprule\n",
      "       model &  top\\_coh &  style\\_coh &  top\\_div &  style\\_div &  bet\\_div \\\\\n",
      "\\midrule\n",
      "    ProdSLDA &    0.186 &      0.161 &    0.993 &      0.953 &    0.842 \\\\\n",
      " Independent &    0.173 &        NaN &    0.803 &        NaN &      NaN \\\\\n",
      "\\bottomrule\n",
      "\\end{tabular}\n",
      "\n"
     ]
    },
    {
     "name": "stderr",
     "output_type": "stream",
     "text": [
      "/tmp/ipykernel_3043555/2432429119.py:1: FutureWarning: In future versions `DataFrame.to_latex` is expected to utilise the base implementation of `Styler.to_latex` for formatting and rendering. The arguments signature may therefore change. It is recommended instead to use `DataFrame.style.to_latex` which also contains additional functionality.\n",
      "  print(pd.DataFrame(comp_res).to_latex(index = None, column_format = 'cccccc'))\n"
     ]
    }
   ],
   "source": [
    "print(pd.DataFrame(comp_res).to_latex(index = None, column_format = 'cccccc'))"
   ]
  },
  {
   "cell_type": "code",
   "execution_count": null,
   "id": "9b8455dc-a7d3-46a8-9d20-0711d026ade8",
   "metadata": {},
   "outputs": [],
   "source": []
  }
 ],
 "metadata": {
  "kernelspec": {
   "display_name": "Python 3",
   "language": "python",
   "name": "python3"
  },
  "language_info": {
   "codemirror_mode": {
    "name": "ipython",
    "version": 3
   },
   "file_extension": ".py",
   "mimetype": "text/x-python",
   "name": "python",
   "nbconvert_exporter": "python",
   "pygments_lexer": "ipython3",
   "version": "3.8.10"
  }
 },
 "nbformat": 4,
 "nbformat_minor": 5
}
