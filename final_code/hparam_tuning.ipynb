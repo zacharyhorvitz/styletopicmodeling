{
 "cells": [
  {
   "cell_type": "code",
   "execution_count": 6,
   "id": "e2f8012e-f322-4234-aa7f-212c6c1620de",
   "metadata": {},
   "outputs": [],
   "source": [
    "import numpy as np\n",
    "import pandas as pd\n",
    "from scipy import sparse\n",
    "\n",
    "from tqdm import tqdm\n",
    "tqdm.pandas()\n",
    "import matplotlib.pyplot as plt\n",
    "\n",
    "from sklearn.model_selection import train_test_split\n",
    "\n",
    "from nltk.tag import pos_tag\n",
    "from nltk.tokenize import word_tokenize\n",
    "\n",
    "import torch\n",
    "import torch.nn as nn\n",
    "import torch.nn.functional as F\n",
    "from torch.utils.data import Dataset, DataLoader\n",
    "\n",
    "import pyro\n",
    "import pyro.distributions as dist\n",
    "from pyro.infer import SVI, Trace_ELBO, TraceMeanField_ELBO\n",
    "from pyro.optim import Adam, ClippedAdam\n",
    "\n",
    "from datetime import datetime\n",
    "import json\n",
    "from collections import defaultdict\n",
    "import itertools\n",
    "\n",
    "import os\n",
    "\n",
    "from prod_slda.model import ProdSLDA\n",
    "from prod_slda.data_utils import *"
   ]
  },
  {
   "cell_type": "code",
   "execution_count": 7,
   "id": "06b4db78-193f-4d0c-9038-885fe2bd413a",
   "metadata": {},
   "outputs": [],
   "source": [
    "def set_seeds(seed):\n",
    "    np.random.seed(seed)\n",
    "    torch.manual_seed(seed)\n",
    "    torch.cuda.manual_seed(seed)"
   ]
  },
  {
   "cell_type": "code",
   "execution_count": 8,
   "id": "073131aa-9d82-4037-91e6-8a5d750a0605",
   "metadata": {},
   "outputs": [],
   "source": [
    "# ----- EXPERIMENT HPARAMS -----\n",
    "META_FEATURES   = ['pos_bigrams','formality','emoji_task', 'casing','punc_tags', 'sentiment_task']\n",
    "EXPERIMENT_NAME = '_'.join(META_FEATURES)\n",
    "\n",
    "# ----- DATA HPARAMS -----\n",
    "OUT_DIR       = '/mnt/swordfish-pool2/ndeas/prob_models/final_results/' #'/burg/nlp/users/zfh2000/style_results'\n",
    "\n",
    "DATA_SRC      = '/mnt/swordfish-pool2/ndeas/prob_models/data/enron_processed.json' #'/burg/nlp/users/zfh2000/enron_processed.json'\n",
    "SPLITS_PATH   = '/mnt/swordfish-pool2/ndeas/prob_models/data/authors_splits.json' #'/burg/home/zfh2000/styletopicmodeling/scripts/authors_splits.json'\n",
    "SYNTHETIC_SRC = '/mnt/swordfish-pool2/ndeas/prob_models/data/gpt_4_enron_processed.json' #'/burg/nlp/users/zfh2000/gpt_4_enron_processed.json'\n",
    "\n",
    "BATCH_SIZE  = 128\n",
    "NUM_WORKERS = 4\n",
    "\n",
    "MAX_DF = 0.7\n",
    "MIN_DF = 20\n",
    "\n",
    "NUM_EPOCHS = 30\n",
    "\n",
    "DEVICE = torch.device('cuda:1')\n",
    "\n",
    "DATA_DIR_PATH = os.path.join(OUT_DIR,EXPERIMENT_NAME, f'maxdf{MAX_DF}_mindf{MIN_DF}_DATA')"
   ]
  },
  {
   "cell_type": "markdown",
   "id": "293b5753-b006-44c8-885f-32f70635d4ca",
   "metadata": {},
   "source": [
    "# Data Setup "
   ]
  },
  {
   "cell_type": "markdown",
   "id": "6e5f1c90-decd-41a0-a23e-beec5a4692dd",
   "metadata": {
    "tags": []
   },
   "source": [
    "## Data Preprocessing/Loading"
   ]
  },
  {
   "cell_type": "code",
   "execution_count": 9,
   "id": "4f79754a-9fa0-4fdd-a647-0084e702f05f",
   "metadata": {
    "scrolled": true,
    "tags": []
   },
   "outputs": [
    {
     "name": "stdout",
     "output_type": "stream",
     "text": [
      "LOADING FROM /mnt/swordfish-pool2/ndeas/prob_models/final_results/pos_bigrams_formality_emoji_task_casing_punc_tags_sentiment_task/maxdf0.7_mindf20_DATA\n"
     ]
    }
   ],
   "source": [
    "if not os.path.exists(DATA_DIR_PATH):\n",
    "    bows, meta_vectorized, vectorizer, raw_text, authors_json, meta_features_to_names = prepare_data(DATA_SRC,\n",
    "                 SYNTHETIC_SRC,\n",
    "                 SPLITS_PATH,\n",
    "                 META_FEATURES,\n",
    "                 DATA_DIR_PATH,\n",
    "                 max_df = MAX_DF,\n",
    "                 min_df = MIN_DF)\n",
    "else:\n",
    "    print(f\"LOADING FROM {DATA_DIR_PATH}\")\n",
    "    \n",
    "    bows, meta_vectorized, vectorizer, raw_text, authors_json, meta_features_to_names = load_data(DATA_DIR_PATH)   "
   ]
  },
  {
   "cell_type": "code",
   "execution_count": 10,
   "id": "fa09ece7-3827-47a7-b7fc-a441a589298c",
   "metadata": {},
   "outputs": [],
   "source": [
    "NUM_DOCS   = bows['training'].shape[0]\n",
    "VOCAB_SIZE = bows['training'].shape[1]\n",
    "META_SIZE  = {k:v.shape[1] for k,v in meta_vectorized['training'].items()}\n",
    "IDX_TO_TERM = {v:k for k,v in vectorizer.vocabulary_.items()}"
   ]
  },
  {
   "cell_type": "code",
   "execution_count": 11,
   "id": "14566e36-f4aa-4812-8633-d6e6c638f2e9",
   "metadata": {},
   "outputs": [
    {
     "name": "stdout",
     "output_type": "stream",
     "text": [
      "BOW Dims: (66668, 3098)\n",
      "META Dims: {'casing': 3, 'emoji_task': 20, 'formality': 2, 'pos_bigrams': 324, 'punc_tags': 20, 'sentiment_task': 3}\n"
     ]
    }
   ],
   "source": [
    "print(f'BOW Dims: {bows[\"training\"].shape}')\n",
    "print(f'META Dims: {META_SIZE}')"
   ]
  },
  {
   "cell_type": "markdown",
   "id": "cb6e3a9e-420d-4b50-887a-6e00b5ec98f7",
   "metadata": {},
   "source": [
    "## Dataset"
   ]
  },
  {
   "cell_type": "code",
   "execution_count": 12,
   "id": "e16dec22-8379-430b-8f25-5675e8ef8af3",
   "metadata": {},
   "outputs": [],
   "source": [
    "dataset = DocMetaData(bows['training'], meta_vectorized['training'])\n",
    "eval_dataset = DocMetaData(bows['holdout'], meta_vectorized['holdout'], split_halves = True)"
   ]
  },
  {
   "cell_type": "code",
   "execution_count": 13,
   "id": "e231698c-1fd3-48de-98ee-43843613b690",
   "metadata": {},
   "outputs": [],
   "source": [
    "dl = DataLoader(dataset, batch_size = BATCH_SIZE, num_workers = NUM_WORKERS, shuffle=True)\n",
    "eval_dl = DataLoader(eval_dataset, batch_size = BATCH_SIZE, num_workers = NUM_WORKERS, shuffle=True)"
   ]
  },
  {
   "cell_type": "code",
   "execution_count": 14,
   "id": "eb31ab8a-2164-4454-93be-ea3fb6899331",
   "metadata": {},
   "outputs": [
    {
     "name": "stdout",
     "output_type": "stream",
     "text": [
      "bow            \n",
      "\t               : torch.Size([128, 3098])\n",
      "meta\n",
      "\tcasing         : torch.Size([128, 3])\n",
      "\temoji_task     : torch.Size([128, 20])\n",
      "\tformality      : torch.Size([128, 2])\n",
      "\tpos_bigrams    : torch.Size([128, 324])\n",
      "\tpunc_tags      : torch.Size([128, 20])\n",
      "\tsentiment_task : torch.Size([128, 3])\n"
     ]
    }
   ],
   "source": [
    "train_test_batch = next(iter(dl))\n",
    "for k, v in train_test_batch.items():\n",
    "    if isinstance(v, dict):\n",
    "        print(k)\n",
    "        for k1, v1 in v.items():\n",
    "             print(f'\\t{k1:15s}: {str(v1.shape)}')\n",
    "    else:\n",
    "        print(f'{k:15s}\\n\\t{\"\":15s}: {v.shape}')"
   ]
  },
  {
   "cell_type": "code",
   "execution_count": 15,
   "id": "7cc84357-253d-49b2-9785-db722daceaae",
   "metadata": {},
   "outputs": [
    {
     "name": "stdout",
     "output_type": "stream",
     "text": [
      "bow            \n",
      "\t               : torch.Size([128, 3098])\n",
      "meta\n",
      "\tcasing         : torch.Size([128, 3])\n",
      "\temoji_task     : torch.Size([128, 20])\n",
      "\tformality      : torch.Size([128, 2])\n",
      "\tpos_bigrams    : torch.Size([128, 324])\n",
      "\tpunc_tags      : torch.Size([128, 20])\n",
      "\tsentiment_task : torch.Size([128, 3])\n",
      "bow_h1         \n",
      "\t               : torch.Size([128, 3098])\n",
      "bow_h2         \n",
      "\t               : torch.Size([128, 3098])\n"
     ]
    }
   ],
   "source": [
    "eval_test_batch = next(iter(eval_dl))\n",
    "for k, v in eval_test_batch.items():\n",
    "    if isinstance(v, dict):\n",
    "        print(k)\n",
    "        for k1, v1 in v.items():\n",
    "             print(f'\\t{k1:15s}: {str(v1.shape)}')\n",
    "    else:\n",
    "        print(f'{k:15s}\\n\\t{\"\":15s}: {v.shape}')"
   ]
  },
  {
   "cell_type": "markdown",
   "id": "6d1b0ce8-9814-431f-8ecb-f557327c933d",
   "metadata": {},
   "source": [
    "# Training"
   ]
  },
  {
   "cell_type": "code",
   "execution_count": 30,
   "id": "57264967-90be-4d1f-9d82-d483a002cd15",
   "metadata": {},
   "outputs": [],
   "source": [
    "# ----- TRAINING HPARAMS -----\n",
    "\n",
    "LRS = [1e-3]\n",
    "BETAS = (0.99, 0.999)\n",
    "EPS   = 1e-8\n",
    "CLIP_NORM = 10.\n",
    "# ADAM_ARGS = {'lr': LR, 'betas': BETAS, 'eps': EPS, 'clip_norm': CLIP_NORM}\n",
    "\n",
    "# ----- MODEL HPARAMS -----\n",
    "\n",
    "NUM_TOPICS_BOTHS = [5, 10, 20]\n",
    "TOPIC_HIDDEN_DIM = 128\n",
    "STYLE_HIDDEN_DIM = 64\n",
    "DROPOUT    = 0\n",
    "\n",
    "THETA_PRIOR_DIST = 'gaussian'\n",
    "THETA_PRIOR_LOC = 0.\n",
    "THETA_PRIOR_SCALES = [1., 3., 5.]\n",
    "\n",
    "KAPPA_PRIOR_DISTS = ['gaussian']\n",
    "KAPPA_PRIOR_LOC = 0.\n",
    "KAPPA_PRIOR_SCALES = [1., 3., 5.]\n",
    "\n",
    "STYLE_TOPIC_LINK = 'kappa_doc'\n",
    "\n",
    "HPARAM_QUART = 1"
   ]
  },
  {
   "cell_type": "code",
   "execution_count": 31,
   "id": "e1b9adae-e554-4e7f-be48-b10be8b367dc",
   "metadata": {},
   "outputs": [],
   "source": [
    "hparam_combos = itertools.product(LRS, NUM_TOPICS_BOTHS, THETA_PRIOR_SCALES, KAPPA_PRIOR_DISTS, KAPPA_PRIOR_SCALES)\n",
    "hparam_combos = [dict(zip(['lr', 'num_topics', 'theta_prior_scale', 'kappa_prior_dist', 'kappa_prior_scale'], list(hparam_combo))) for hparam_combo in hparam_combos]\n",
    "for i, combo in enumerate(hparam_combos):\n",
    "    hparam_combos[i]['num_styles'] = combo['num_topics']"
   ]
  },
  {
   "cell_type": "code",
   "execution_count": 32,
   "id": "1e3b5275-b5f8-44d7-b2e2-48b3b438c0ce",
   "metadata": {},
   "outputs": [],
   "source": [
    "hp_start = HPARAM_QUART * (len(hparam_combos)//4 + 1)\n",
    "hp_end   = (HPARAM_QUART + 1) * (len(hparam_combos)//4 + 1)\n",
    "hparam_combos = hparam_combos[hp_start:hp_end]"
   ]
  },
  {
   "cell_type": "markdown",
   "id": "d5ad153e-72fb-4761-83f8-247d584e4d19",
   "metadata": {},
   "source": [
    "# Tuning "
   ]
  },
  {
   "cell_type": "code",
   "execution_count": 33,
   "id": "ee301401-15ca-47ef-a4bc-c6630a6a61fb",
   "metadata": {},
   "outputs": [],
   "source": [
    "def train_epochs(prod_slda, svi, train_dl, eval_dl, num_epochs, device, last_elbos = 5):\n",
    "    total_epochs = 0\n",
    "    train_elbo = []\n",
    "    val_elbo = []\n",
    "\n",
    "    print(\"---TRAINING---\")\n",
    "    for epoch in range(num_epochs):\n",
    "\n",
    "        epoch_elbo = 0.\n",
    "        prod_slda.train()\n",
    "        for batch in tqdm(train_dl):\n",
    "\n",
    "            batch = batch_to_device(batch, device)\n",
    "\n",
    "            bow = batch['bow']\n",
    "            meta = batch['meta']\n",
    "\n",
    "            epoch_elbo += svi.step(bow, meta)\n",
    "\n",
    "\n",
    "        eval_elbo = 0\n",
    "        prod_slda.eval()\n",
    "        with torch.no_grad():\n",
    "            for batch in tqdm(eval_dl):\n",
    "\n",
    "                batch = batch_to_device(batch, device)\n",
    "\n",
    "                bow = batch['bow']\n",
    "                meta = batch['meta']\n",
    "\n",
    "                eval_elbo += svi.evaluate_loss(bow, meta)           \n",
    "\n",
    "\n",
    "        print(f'Epoch {epoch}: {epoch_elbo:.3f}')\n",
    "        print(f'Epoch {epoch}: Eval: {eval_elbo:.3f}')\n",
    "\n",
    "        train_elbo.append(epoch_elbo)\n",
    "        val_elbo.append(eval_elbo)\n",
    "        total_epochs +=1\n",
    "\n",
    "        if len(val_elbo) > last_elbos:\n",
    "            val_elbo_changes = [val_elbo[i] - val_elbo[i-1] for i in range(len(val_elbo) - last_elbos, len(val_elbo))]\n",
    "            if np.mean(val_elbo_changes) > 0:\n",
    "                print('Val ELBO diverging, stopping fitting')\n",
    "                break\n",
    "                \n",
    "    return train_elbo, val_elbo, total_epochs"
   ]
  },
  {
   "cell_type": "code",
   "execution_count": 34,
   "id": "ccc49656-7141-4d12-8822-78d91559fdfe",
   "metadata": {},
   "outputs": [],
   "source": [
    "def plot_elbos(train_elbo, val_elbo, path):\n",
    "    plt.plot(range(len(train_elbo)), [e/len(dl.dataset) for e in train_elbo], label = 'In-Sample')\n",
    "    plt.plot(range(len(val_elbo)), [e/len(eval_dl.dataset) for e in val_elbo], label = 'Out-Sample')\n",
    "\n",
    "    plt.legend()\n",
    "    plt.xlabel('# Iterations')\n",
    "    plt.ylabel('ELBO')\n",
    "\n",
    "    plt.savefig(os.path.join(path, 'converge_plot.png'), dpi = 500, facecolor = None)"
   ]
  },
  {
   "cell_type": "code",
   "execution_count": 35,
   "id": "52350e34-e6bb-42b4-aab9-08bcfffc2521",
   "metadata": {},
   "outputs": [],
   "source": [
    "base_info = {\n",
    "    'experiment_name': EXPERIMENT_NAME,\n",
    "    'topic_hidden_dim': TOPIC_HIDDEN_DIM,\n",
    "    'style_hidden_dim': STYLE_HIDDEN_DIM,\n",
    "    'dropout': DROPOUT,\n",
    "    'theta_prior_dist': THETA_PRIOR_DIST,\n",
    "    'theta_prior_loc': THETA_PRIOR_LOC,\n",
    "    'kappa_prior_loc': KAPPA_PRIOR_LOC,\n",
    "    'style_topic_link': STYLE_TOPIC_LINK,\n",
    "    'num_epochs': NUM_EPOCHS,\n",
    "    'betas': BETAS,\n",
    "    'eps': EPS,\n",
    "    'batch_size': BATCH_SIZE,\n",
    "    'clip_norm': CLIP_NORM,\n",
    "    'num_workers': NUM_WORKERS,\n",
    "    'device': DEVICE.type,\n",
    "    'meta_features': META_FEATURES,\n",
    "    'DATA_SRC': DATA_SRC,\n",
    "    'SPLITS_PATH': SPLITS_PATH,\n",
    "    'SYNTHETIC_SRC': SYNTHETIC_SRC,\n",
    "    'MAX_DF': MAX_DF,\n",
    "    'MIN_DF': MIN_DF,\n",
    "}\n",
    "\n",
    "LAST_ELBOS = 10"
   ]
  },
  {
   "cell_type": "code",
   "execution_count": 36,
   "id": "445fe812-b6ef-44cd-ac81-07bdfea116a9",
   "metadata": {
    "scrolled": true,
    "tags": []
   },
   "outputs": [
    {
     "name": "stdout",
     "output_type": "stream",
     "text": [
      "Beginning training for hparams: {'lr': 0.001, 'num_topics': 5, 'theta_prior_scale': 5.0, 'kappa_prior_dist': 'gaussian', 'kappa_prior_scale': 3.0, 'num_styles': 5}\n",
      "---TRAINING---\n"
     ]
    },
    {
     "name": "stderr",
     "output_type": "stream",
     "text": [
      "100%|██████████| 521/521 [00:26<00:00, 19.71it/s]\n",
      "100%|██████████| 179/179 [00:08<00:00, 21.23it/s]\n"
     ]
    },
    {
     "name": "stdout",
     "output_type": "stream",
     "text": [
      "Epoch 0: 16936.779\n",
      "Epoch 0: Eval: 5365.939\n"
     ]
    },
    {
     "name": "stderr",
     "output_type": "stream",
     "text": [
      "100%|██████████| 521/521 [00:27<00:00, 19.12it/s]\n",
      "100%|██████████| 179/179 [00:08<00:00, 21.17it/s]\n"
     ]
    },
    {
     "name": "stdout",
     "output_type": "stream",
     "text": [
      "Epoch 1: 15606.270\n",
      "Epoch 1: Eval: 5188.238\n"
     ]
    },
    {
     "name": "stderr",
     "output_type": "stream",
     "text": [
      "100%|██████████| 521/521 [00:27<00:00, 18.97it/s]\n",
      "100%|██████████| 179/179 [00:08<00:00, 21.05it/s]\n"
     ]
    },
    {
     "name": "stdout",
     "output_type": "stream",
     "text": [
      "Epoch 2: 15296.889\n",
      "Epoch 2: Eval: 5151.791\n"
     ]
    },
    {
     "name": "stderr",
     "output_type": "stream",
     "text": [
      "100%|██████████| 521/521 [00:28<00:00, 18.45it/s]\n",
      "100%|██████████| 179/179 [00:08<00:00, 20.56it/s]\n"
     ]
    },
    {
     "name": "stdout",
     "output_type": "stream",
     "text": [
      "Epoch 3: 15155.499\n",
      "Epoch 3: Eval: 5125.064\n"
     ]
    },
    {
     "name": "stderr",
     "output_type": "stream",
     "text": [
      "100%|██████████| 521/521 [00:27<00:00, 19.07it/s]\n",
      "100%|██████████| 179/179 [00:08<00:00, 20.83it/s]\n"
     ]
    },
    {
     "name": "stdout",
     "output_type": "stream",
     "text": [
      "Epoch 4: 15104.067\n",
      "Epoch 4: Eval: 5115.359\n"
     ]
    },
    {
     "name": "stderr",
     "output_type": "stream",
     "text": [
      "100%|██████████| 521/521 [00:26<00:00, 19.48it/s]\n",
      "100%|██████████| 179/179 [00:08<00:00, 21.71it/s]\n"
     ]
    },
    {
     "name": "stdout",
     "output_type": "stream",
     "text": [
      "Epoch 5: 15051.442\n",
      "Epoch 5: Eval: 5103.169\n"
     ]
    },
    {
     "name": "stderr",
     "output_type": "stream",
     "text": [
      "100%|██████████| 521/521 [00:26<00:00, 19.68it/s]\n",
      "100%|██████████| 179/179 [00:08<00:00, 20.96it/s]\n"
     ]
    },
    {
     "name": "stdout",
     "output_type": "stream",
     "text": [
      "Epoch 6: 15021.590\n",
      "Epoch 6: Eval: 5097.830\n"
     ]
    },
    {
     "name": "stderr",
     "output_type": "stream",
     "text": [
      "100%|██████████| 521/521 [00:28<00:00, 18.43it/s]\n",
      "100%|██████████| 179/179 [00:08<00:00, 21.84it/s]\n"
     ]
    },
    {
     "name": "stdout",
     "output_type": "stream",
     "text": [
      "Epoch 7: 15005.977\n",
      "Epoch 7: Eval: 5081.600\n"
     ]
    },
    {
     "name": "stderr",
     "output_type": "stream",
     "text": [
      "100%|██████████| 521/521 [00:27<00:00, 18.61it/s]\n",
      "100%|██████████| 179/179 [00:08<00:00, 20.40it/s]\n"
     ]
    },
    {
     "name": "stdout",
     "output_type": "stream",
     "text": [
      "Epoch 8: 14991.616\n",
      "Epoch 8: Eval: 5054.831\n"
     ]
    },
    {
     "name": "stderr",
     "output_type": "stream",
     "text": [
      "100%|██████████| 521/521 [00:27<00:00, 19.05it/s]\n",
      "100%|██████████| 179/179 [00:08<00:00, 21.48it/s]\n"
     ]
    },
    {
     "name": "stdout",
     "output_type": "stream",
     "text": [
      "Epoch 9: 14988.538\n",
      "Epoch 9: Eval: 5219.092\n"
     ]
    },
    {
     "name": "stderr",
     "output_type": "stream",
     "text": [
      "100%|██████████| 521/521 [00:27<00:00, 18.81it/s]\n",
      "100%|██████████| 179/179 [00:08<00:00, 21.48it/s]\n"
     ]
    },
    {
     "name": "stdout",
     "output_type": "stream",
     "text": [
      "Epoch 10: 14976.475\n",
      "Epoch 10: Eval: 5092.557\n"
     ]
    },
    {
     "name": "stderr",
     "output_type": "stream",
     "text": [
      "100%|██████████| 521/521 [00:27<00:00, 18.74it/s]\n",
      "100%|██████████| 179/179 [00:08<00:00, 21.24it/s]\n"
     ]
    },
    {
     "name": "stdout",
     "output_type": "stream",
     "text": [
      "Epoch 11: 14969.696\n",
      "Epoch 11: Eval: 5106.048\n"
     ]
    },
    {
     "name": "stderr",
     "output_type": "stream",
     "text": [
      "100%|██████████| 521/521 [00:26<00:00, 19.46it/s]\n",
      "100%|██████████| 179/179 [00:08<00:00, 21.76it/s]\n"
     ]
    },
    {
     "name": "stdout",
     "output_type": "stream",
     "text": [
      "Epoch 12: 14964.260\n",
      "Epoch 12: Eval: 5093.696\n"
     ]
    },
    {
     "name": "stderr",
     "output_type": "stream",
     "text": [
      "100%|██████████| 521/521 [00:27<00:00, 19.03it/s]\n",
      "100%|██████████| 179/179 [00:08<00:00, 20.87it/s]\n"
     ]
    },
    {
     "name": "stdout",
     "output_type": "stream",
     "text": [
      "Epoch 13: 14960.234\n",
      "Epoch 13: Eval: 5093.345\n"
     ]
    },
    {
     "name": "stderr",
     "output_type": "stream",
     "text": [
      "100%|██████████| 521/521 [00:28<00:00, 18.59it/s]\n",
      "100%|██████████| 179/179 [00:08<00:00, 20.93it/s]\n"
     ]
    },
    {
     "name": "stdout",
     "output_type": "stream",
     "text": [
      "Epoch 14: 14957.978\n",
      "Epoch 14: Eval: 5091.749\n"
     ]
    },
    {
     "name": "stderr",
     "output_type": "stream",
     "text": [
      "100%|██████████| 521/521 [00:27<00:00, 18.82it/s]\n",
      "100%|██████████| 179/179 [00:08<00:00, 21.07it/s]\n"
     ]
    },
    {
     "name": "stdout",
     "output_type": "stream",
     "text": [
      "Epoch 15: 14958.289\n",
      "Epoch 15: Eval: 5062.475\n"
     ]
    },
    {
     "name": "stderr",
     "output_type": "stream",
     "text": [
      "100%|██████████| 521/521 [00:28<00:00, 18.55it/s]\n",
      "100%|██████████| 179/179 [00:08<00:00, 20.01it/s]\n"
     ]
    },
    {
     "name": "stdout",
     "output_type": "stream",
     "text": [
      "Epoch 16: 14951.108\n",
      "Epoch 16: Eval: 5073.473\n"
     ]
    },
    {
     "name": "stderr",
     "output_type": "stream",
     "text": [
      "100%|██████████| 521/521 [00:27<00:00, 18.83it/s]\n",
      "100%|██████████| 179/179 [00:08<00:00, 20.68it/s]\n"
     ]
    },
    {
     "name": "stdout",
     "output_type": "stream",
     "text": [
      "Epoch 17: 14942.198\n",
      "Epoch 17: Eval: 5087.618\n",
      "Val ELBO diverging, stopping fitting\n",
      "Model saved to /mnt/swordfish-pool2/ndeas/prob_models/final_results/pos_bigrams_formality_emoji_task_casing_punc_tags_sentiment_task/2023-12-21_11_36_36/model_epoch18_5087.617931365967.pt\n",
      "Beginning training for hparams: {'lr': 0.001, 'num_topics': 5, 'theta_prior_scale': 5.0, 'kappa_prior_dist': 'gaussian', 'kappa_prior_scale': 5.0, 'num_styles': 5}\n",
      "---TRAINING---\n"
     ]
    },
    {
     "name": "stderr",
     "output_type": "stream",
     "text": [
      "100%|██████████| 521/521 [00:27<00:00, 18.70it/s]\n",
      "100%|██████████| 179/179 [00:08<00:00, 20.20it/s]\n"
     ]
    },
    {
     "name": "stdout",
     "output_type": "stream",
     "text": [
      "Epoch 0: 17144.718\n",
      "Epoch 0: Eval: 5495.466\n"
     ]
    },
    {
     "name": "stderr",
     "output_type": "stream",
     "text": [
      "100%|██████████| 521/521 [00:27<00:00, 19.14it/s]\n",
      "100%|██████████| 179/179 [00:10<00:00, 17.58it/s]\n"
     ]
    },
    {
     "name": "stdout",
     "output_type": "stream",
     "text": [
      "Epoch 1: 15902.361\n",
      "Epoch 1: Eval: 5337.380\n"
     ]
    },
    {
     "name": "stderr",
     "output_type": "stream",
     "text": [
      "100%|██████████| 521/521 [00:27<00:00, 19.11it/s]\n",
      "100%|██████████| 179/179 [00:08<00:00, 20.73it/s]\n"
     ]
    },
    {
     "name": "stdout",
     "output_type": "stream",
     "text": [
      "Epoch 2: 15554.168\n",
      "Epoch 2: Eval: 5264.723\n"
     ]
    },
    {
     "name": "stderr",
     "output_type": "stream",
     "text": [
      "100%|██████████| 521/521 [00:27<00:00, 19.06it/s]\n",
      "100%|██████████| 179/179 [00:08<00:00, 21.26it/s]\n"
     ]
    },
    {
     "name": "stdout",
     "output_type": "stream",
     "text": [
      "Epoch 3: 15438.989\n",
      "Epoch 3: Eval: 5265.823\n"
     ]
    },
    {
     "name": "stderr",
     "output_type": "stream",
     "text": [
      "100%|██████████| 521/521 [00:27<00:00, 18.95it/s]\n",
      "100%|██████████| 179/179 [00:08<00:00, 20.98it/s]\n"
     ]
    },
    {
     "name": "stdout",
     "output_type": "stream",
     "text": [
      "Epoch 4: 15334.567\n",
      "Epoch 4: Eval: 5231.823\n"
     ]
    },
    {
     "name": "stderr",
     "output_type": "stream",
     "text": [
      "100%|██████████| 521/521 [00:28<00:00, 18.57it/s]\n",
      "100%|██████████| 179/179 [00:08<00:00, 20.98it/s]\n"
     ]
    },
    {
     "name": "stdout",
     "output_type": "stream",
     "text": [
      "Epoch 5: 15293.985\n",
      "Epoch 5: Eval: 5130.478\n"
     ]
    },
    {
     "name": "stderr",
     "output_type": "stream",
     "text": [
      "100%|██████████| 521/521 [00:27<00:00, 18.86it/s]\n",
      "100%|██████████| 179/179 [00:08<00:00, 20.27it/s]\n"
     ]
    },
    {
     "name": "stdout",
     "output_type": "stream",
     "text": [
      "Epoch 6: 15267.709\n",
      "Epoch 6: Eval: 5226.774\n"
     ]
    },
    {
     "name": "stderr",
     "output_type": "stream",
     "text": [
      "100%|██████████| 521/521 [00:27<00:00, 19.20it/s]\n",
      "100%|██████████| 179/179 [00:08<00:00, 21.15it/s]\n"
     ]
    },
    {
     "name": "stdout",
     "output_type": "stream",
     "text": [
      "Epoch 7: 15253.725\n",
      "Epoch 7: Eval: 5199.366\n"
     ]
    },
    {
     "name": "stderr",
     "output_type": "stream",
     "text": [
      "100%|██████████| 521/521 [00:27<00:00, 19.06it/s]\n",
      "100%|██████████| 179/179 [00:08<00:00, 21.20it/s]\n"
     ]
    },
    {
     "name": "stdout",
     "output_type": "stream",
     "text": [
      "Epoch 8: 15233.951\n",
      "Epoch 8: Eval: 5192.573\n"
     ]
    },
    {
     "name": "stderr",
     "output_type": "stream",
     "text": [
      "100%|██████████| 521/521 [00:27<00:00, 18.85it/s]\n",
      "100%|██████████| 179/179 [00:08<00:00, 20.91it/s]\n"
     ]
    },
    {
     "name": "stdout",
     "output_type": "stream",
     "text": [
      "Epoch 9: 15226.160\n",
      "Epoch 9: Eval: 5191.578\n"
     ]
    },
    {
     "name": "stderr",
     "output_type": "stream",
     "text": [
      "100%|██████████| 521/521 [00:27<00:00, 18.83it/s]\n",
      "100%|██████████| 179/179 [00:07<00:00, 22.53it/s]\n"
     ]
    },
    {
     "name": "stdout",
     "output_type": "stream",
     "text": [
      "Epoch 10: 15223.517\n",
      "Epoch 10: Eval: 5182.742\n"
     ]
    },
    {
     "name": "stderr",
     "output_type": "stream",
     "text": [
      "100%|██████████| 521/521 [00:26<00:00, 19.34it/s]\n",
      "100%|██████████| 179/179 [00:08<00:00, 21.38it/s]\n"
     ]
    },
    {
     "name": "stdout",
     "output_type": "stream",
     "text": [
      "Epoch 11: 15211.992\n",
      "Epoch 11: Eval: 5180.068\n"
     ]
    },
    {
     "name": "stderr",
     "output_type": "stream",
     "text": [
      "100%|██████████| 521/521 [00:28<00:00, 18.16it/s]\n",
      "100%|██████████| 179/179 [00:08<00:00, 20.89it/s]\n"
     ]
    },
    {
     "name": "stdout",
     "output_type": "stream",
     "text": [
      "Epoch 12: 15214.588\n",
      "Epoch 12: Eval: 5218.723\n"
     ]
    },
    {
     "name": "stderr",
     "output_type": "stream",
     "text": [
      "100%|██████████| 521/521 [00:27<00:00, 18.97it/s]\n",
      "100%|██████████| 179/179 [00:08<00:00, 21.53it/s]\n"
     ]
    },
    {
     "name": "stdout",
     "output_type": "stream",
     "text": [
      "Epoch 13: 15226.989\n",
      "Epoch 13: Eval: 5201.949\n"
     ]
    },
    {
     "name": "stderr",
     "output_type": "stream",
     "text": [
      "100%|██████████| 521/521 [00:27<00:00, 18.95it/s]\n",
      "100%|██████████| 179/179 [00:08<00:00, 21.28it/s]\n"
     ]
    },
    {
     "name": "stdout",
     "output_type": "stream",
     "text": [
      "Epoch 14: 15210.699\n",
      "Epoch 14: Eval: 5194.560\n"
     ]
    },
    {
     "name": "stderr",
     "output_type": "stream",
     "text": [
      "100%|██████████| 521/521 [00:27<00:00, 18.86it/s]\n",
      "100%|██████████| 179/179 [00:08<00:00, 21.47it/s]\n"
     ]
    },
    {
     "name": "stdout",
     "output_type": "stream",
     "text": [
      "Epoch 15: 15198.794\n",
      "Epoch 15: Eval: 5340.325\n",
      "Val ELBO diverging, stopping fitting\n",
      "Model saved to /mnt/swordfish-pool2/ndeas/prob_models/final_results/pos_bigrams_formality_emoji_task_casing_punc_tags_sentiment_task/2023-12-21_11_47_25/model_epoch16_5340.325119018555.pt\n",
      "Beginning training for hparams: {'lr': 0.001, 'num_topics': 10, 'theta_prior_scale': 1.0, 'kappa_prior_dist': 'gaussian', 'kappa_prior_scale': 1.0, 'num_styles': 10}\n",
      "---TRAINING---\n"
     ]
    },
    {
     "name": "stderr",
     "output_type": "stream",
     "text": [
      "100%|██████████| 521/521 [00:28<00:00, 18.24it/s]\n",
      "100%|██████████| 179/179 [00:08<00:00, 21.71it/s]\n"
     ]
    },
    {
     "name": "stdout",
     "output_type": "stream",
     "text": [
      "Epoch 0: 16682.670\n",
      "Epoch 0: Eval: 10578.374\n"
     ]
    },
    {
     "name": "stderr",
     "output_type": "stream",
     "text": [
      "100%|██████████| 521/521 [00:27<00:00, 18.68it/s]\n",
      "100%|██████████| 179/179 [00:08<00:00, 20.99it/s]\n"
     ]
    },
    {
     "name": "stdout",
     "output_type": "stream",
     "text": [
      "Epoch 1: 15036.515\n",
      "Epoch 1: Eval: 5011.321\n"
     ]
    },
    {
     "name": "stderr",
     "output_type": "stream",
     "text": [
      "100%|██████████| 521/521 [00:27<00:00, 19.22it/s]\n",
      "100%|██████████| 179/179 [00:08<00:00, 21.98it/s]\n"
     ]
    },
    {
     "name": "stdout",
     "output_type": "stream",
     "text": [
      "Epoch 2: 14599.288\n",
      "Epoch 2: Eval: 4991.579\n"
     ]
    },
    {
     "name": "stderr",
     "output_type": "stream",
     "text": [
      "100%|██████████| 521/521 [00:26<00:00, 19.45it/s]\n",
      "100%|██████████| 179/179 [00:08<00:00, 22.26it/s]\n"
     ]
    },
    {
     "name": "stdout",
     "output_type": "stream",
     "text": [
      "Epoch 3: 14447.498\n",
      "Epoch 3: Eval: 4955.220\n"
     ]
    },
    {
     "name": "stderr",
     "output_type": "stream",
     "text": [
      "100%|██████████| 521/521 [00:27<00:00, 19.01it/s]\n",
      "100%|██████████| 179/179 [00:08<00:00, 21.53it/s]\n"
     ]
    },
    {
     "name": "stdout",
     "output_type": "stream",
     "text": [
      "Epoch 4: 14344.878\n",
      "Epoch 4: Eval: 4871.601\n"
     ]
    },
    {
     "name": "stderr",
     "output_type": "stream",
     "text": [
      "100%|██████████| 521/521 [00:26<00:00, 19.32it/s]\n",
      "100%|██████████| 179/179 [00:08<00:00, 21.63it/s]\n"
     ]
    },
    {
     "name": "stdout",
     "output_type": "stream",
     "text": [
      "Epoch 5: 14294.246\n",
      "Epoch 5: Eval: 4917.300\n"
     ]
    },
    {
     "name": "stderr",
     "output_type": "stream",
     "text": [
      "100%|██████████| 521/521 [00:26<00:00, 19.36it/s]\n",
      "100%|██████████| 179/179 [00:08<00:00, 20.84it/s]\n"
     ]
    },
    {
     "name": "stdout",
     "output_type": "stream",
     "text": [
      "Epoch 6: 14250.806\n",
      "Epoch 6: Eval: 4856.614\n"
     ]
    },
    {
     "name": "stderr",
     "output_type": "stream",
     "text": [
      "100%|██████████| 521/521 [00:27<00:00, 18.77it/s]\n",
      "100%|██████████| 179/179 [00:08<00:00, 21.33it/s]\n"
     ]
    },
    {
     "name": "stdout",
     "output_type": "stream",
     "text": [
      "Epoch 7: 14211.582\n",
      "Epoch 7: Eval: 4813.382\n"
     ]
    },
    {
     "name": "stderr",
     "output_type": "stream",
     "text": [
      "100%|██████████| 521/521 [00:27<00:00, 19.10it/s]\n",
      "100%|██████████| 179/179 [00:08<00:00, 21.97it/s]\n"
     ]
    },
    {
     "name": "stdout",
     "output_type": "stream",
     "text": [
      "Epoch 8: 14194.500\n",
      "Epoch 8: Eval: 4802.169\n"
     ]
    },
    {
     "name": "stderr",
     "output_type": "stream",
     "text": [
      "100%|██████████| 521/521 [00:26<00:00, 19.43it/s]\n",
      "100%|██████████| 179/179 [00:08<00:00, 21.82it/s]\n"
     ]
    },
    {
     "name": "stdout",
     "output_type": "stream",
     "text": [
      "Epoch 9: 14164.900\n",
      "Epoch 9: Eval: 4808.505\n"
     ]
    },
    {
     "name": "stderr",
     "output_type": "stream",
     "text": [
      "100%|██████████| 521/521 [00:26<00:00, 19.68it/s]\n",
      "100%|██████████| 179/179 [00:08<00:00, 21.85it/s]\n"
     ]
    },
    {
     "name": "stdout",
     "output_type": "stream",
     "text": [
      "Epoch 10: 14151.874\n",
      "Epoch 10: Eval: 4790.515\n"
     ]
    },
    {
     "name": "stderr",
     "output_type": "stream",
     "text": [
      "100%|██████████| 521/521 [00:26<00:00, 19.91it/s]\n",
      "100%|██████████| 179/179 [00:08<00:00, 21.37it/s]\n"
     ]
    },
    {
     "name": "stdout",
     "output_type": "stream",
     "text": [
      "Epoch 11: 14141.097\n",
      "Epoch 11: Eval: 4791.468\n"
     ]
    },
    {
     "name": "stderr",
     "output_type": "stream",
     "text": [
      "100%|██████████| 521/521 [00:26<00:00, 19.84it/s]\n",
      "100%|██████████| 179/179 [00:08<00:00, 21.02it/s]\n"
     ]
    },
    {
     "name": "stdout",
     "output_type": "stream",
     "text": [
      "Epoch 12: 14128.643\n",
      "Epoch 12: Eval: 4831.196\n"
     ]
    },
    {
     "name": "stderr",
     "output_type": "stream",
     "text": [
      "100%|██████████| 521/521 [00:28<00:00, 18.27it/s]\n",
      "100%|██████████| 179/179 [00:08<00:00, 20.91it/s]\n"
     ]
    },
    {
     "name": "stdout",
     "output_type": "stream",
     "text": [
      "Epoch 13: 14119.279\n",
      "Epoch 13: Eval: 4798.300\n"
     ]
    },
    {
     "name": "stderr",
     "output_type": "stream",
     "text": [
      "100%|██████████| 521/521 [00:26<00:00, 19.36it/s]\n",
      "100%|██████████| 179/179 [00:08<00:00, 21.83it/s]\n"
     ]
    },
    {
     "name": "stdout",
     "output_type": "stream",
     "text": [
      "Epoch 14: 14120.280\n",
      "Epoch 14: Eval: 4855.536\n"
     ]
    },
    {
     "name": "stderr",
     "output_type": "stream",
     "text": [
      "100%|██████████| 521/521 [00:26<00:00, 19.59it/s]\n",
      "100%|██████████| 179/179 [00:08<00:00, 21.55it/s]\n"
     ]
    },
    {
     "name": "stdout",
     "output_type": "stream",
     "text": [
      "Epoch 15: 14112.734\n",
      "Epoch 15: Eval: 4788.219\n"
     ]
    },
    {
     "name": "stderr",
     "output_type": "stream",
     "text": [
      "100%|██████████| 521/521 [00:26<00:00, 20.03it/s]\n",
      "100%|██████████| 179/179 [00:08<00:00, 21.99it/s]\n"
     ]
    },
    {
     "name": "stdout",
     "output_type": "stream",
     "text": [
      "Epoch 16: 14097.675\n",
      "Epoch 16: Eval: 4802.791\n"
     ]
    },
    {
     "name": "stderr",
     "output_type": "stream",
     "text": [
      "100%|██████████| 521/521 [00:26<00:00, 19.51it/s]\n",
      "100%|██████████| 179/179 [00:08<00:00, 21.11it/s]\n"
     ]
    },
    {
     "name": "stdout",
     "output_type": "stream",
     "text": [
      "Epoch 17: 14097.706\n",
      "Epoch 17: Eval: 4784.723\n"
     ]
    },
    {
     "name": "stderr",
     "output_type": "stream",
     "text": [
      "100%|██████████| 521/521 [00:27<00:00, 19.08it/s]\n",
      "100%|██████████| 179/179 [00:07<00:00, 23.04it/s]\n"
     ]
    },
    {
     "name": "stdout",
     "output_type": "stream",
     "text": [
      "Epoch 18: 14088.965\n",
      "Epoch 18: Eval: 4806.112\n",
      "Val ELBO diverging, stopping fitting\n",
      "Model saved to /mnt/swordfish-pool2/ndeas/prob_models/final_results/pos_bigrams_formality_emoji_task_casing_punc_tags_sentiment_task/2023-12-21_11_57_05/model_epoch19_4806.112176895142.pt\n",
      "Beginning training for hparams: {'lr': 0.001, 'num_topics': 10, 'theta_prior_scale': 1.0, 'kappa_prior_dist': 'gaussian', 'kappa_prior_scale': 3.0, 'num_styles': 10}\n",
      "---TRAINING---\n"
     ]
    },
    {
     "name": "stderr",
     "output_type": "stream",
     "text": [
      "100%|██████████| 521/521 [00:26<00:00, 19.75it/s]\n",
      "100%|██████████| 179/179 [00:08<00:00, 21.63it/s]\n"
     ]
    },
    {
     "name": "stdout",
     "output_type": "stream",
     "text": [
      "Epoch 0: 16277.920\n",
      "Epoch 0: Eval: 5816.880\n"
     ]
    },
    {
     "name": "stderr",
     "output_type": "stream",
     "text": [
      "100%|██████████| 521/521 [00:26<00:00, 19.48it/s]\n",
      "100%|██████████| 179/179 [00:08<00:00, 22.14it/s]\n"
     ]
    },
    {
     "name": "stdout",
     "output_type": "stream",
     "text": [
      "Epoch 1: 14921.035\n",
      "Epoch 1: Eval: 5188.314\n"
     ]
    },
    {
     "name": "stderr",
     "output_type": "stream",
     "text": [
      "100%|██████████| 521/521 [00:26<00:00, 19.86it/s]\n",
      "100%|██████████| 179/179 [00:08<00:00, 21.92it/s]\n"
     ]
    },
    {
     "name": "stdout",
     "output_type": "stream",
     "text": [
      "Epoch 2: 15123.350\n",
      "Epoch 2: Eval: 5909.839\n"
     ]
    },
    {
     "name": "stderr",
     "output_type": "stream",
     "text": [
      "100%|██████████| 521/521 [00:26<00:00, 19.56it/s]\n",
      "100%|██████████| 179/179 [00:08<00:00, 22.26it/s]\n"
     ]
    },
    {
     "name": "stdout",
     "output_type": "stream",
     "text": [
      "Epoch 3: 14840.747\n",
      "Epoch 3: Eval: 5169.832\n"
     ]
    },
    {
     "name": "stderr",
     "output_type": "stream",
     "text": [
      "100%|██████████| 521/521 [00:26<00:00, 19.60it/s]\n",
      "100%|██████████| 179/179 [00:07<00:00, 22.59it/s]\n"
     ]
    },
    {
     "name": "stdout",
     "output_type": "stream",
     "text": [
      "Epoch 4: 14607.013\n",
      "Epoch 4: Eval: 5067.770\n"
     ]
    },
    {
     "name": "stderr",
     "output_type": "stream",
     "text": [
      "100%|██████████| 521/521 [00:26<00:00, 19.72it/s]\n",
      "100%|██████████| 179/179 [00:08<00:00, 21.61it/s]\n"
     ]
    },
    {
     "name": "stdout",
     "output_type": "stream",
     "text": [
      "Epoch 5: 14551.644\n",
      "Epoch 5: Eval: 5552.666\n"
     ]
    },
    {
     "name": "stderr",
     "output_type": "stream",
     "text": [
      "100%|██████████| 521/521 [00:26<00:00, 19.92it/s]\n",
      "100%|██████████| 179/179 [00:08<00:00, 21.36it/s]\n"
     ]
    },
    {
     "name": "stdout",
     "output_type": "stream",
     "text": [
      "Epoch 6: 14686.508\n",
      "Epoch 6: Eval: 5076.509\n"
     ]
    },
    {
     "name": "stderr",
     "output_type": "stream",
     "text": [
      "100%|██████████| 521/521 [00:25<00:00, 20.33it/s]\n",
      "100%|██████████| 179/179 [00:08<00:00, 20.96it/s]\n"
     ]
    },
    {
     "name": "stdout",
     "output_type": "stream",
     "text": [
      "Epoch 7: 14559.046\n",
      "Epoch 7: Eval: 5190.036\n"
     ]
    },
    {
     "name": "stderr",
     "output_type": "stream",
     "text": [
      "100%|██████████| 521/521 [00:26<00:00, 19.39it/s]\n",
      "100%|██████████| 179/179 [00:08<00:00, 22.19it/s]\n"
     ]
    },
    {
     "name": "stdout",
     "output_type": "stream",
     "text": [
      "Epoch 8: 14503.362\n",
      "Epoch 8: Eval: 5071.442\n"
     ]
    },
    {
     "name": "stderr",
     "output_type": "stream",
     "text": [
      "100%|██████████| 521/521 [00:26<00:00, 19.36it/s]\n",
      "100%|██████████| 179/179 [00:08<00:00, 21.82it/s]\n"
     ]
    },
    {
     "name": "stdout",
     "output_type": "stream",
     "text": [
      "Epoch 9: 14445.377\n",
      "Epoch 9: Eval: 5051.274\n"
     ]
    },
    {
     "name": "stderr",
     "output_type": "stream",
     "text": [
      "100%|██████████| 521/521 [00:26<00:00, 19.40it/s]\n",
      "100%|██████████| 179/179 [00:08<00:00, 21.81it/s]\n"
     ]
    },
    {
     "name": "stdout",
     "output_type": "stream",
     "text": [
      "Epoch 10: 14443.323\n",
      "Epoch 10: Eval: 4971.190\n"
     ]
    },
    {
     "name": "stderr",
     "output_type": "stream",
     "text": [
      "100%|██████████| 521/521 [00:26<00:00, 19.53it/s]\n",
      "100%|██████████| 179/179 [00:07<00:00, 22.84it/s]\n"
     ]
    },
    {
     "name": "stdout",
     "output_type": "stream",
     "text": [
      "Epoch 11: 14320.462\n",
      "Epoch 11: Eval: 4997.624\n"
     ]
    },
    {
     "name": "stderr",
     "output_type": "stream",
     "text": [
      "100%|██████████| 521/521 [00:26<00:00, 19.31it/s]\n",
      "100%|██████████| 179/179 [00:08<00:00, 22.33it/s]\n"
     ]
    },
    {
     "name": "stdout",
     "output_type": "stream",
     "text": [
      "Epoch 12: 14367.070\n",
      "Epoch 12: Eval: 4965.644\n"
     ]
    },
    {
     "name": "stderr",
     "output_type": "stream",
     "text": [
      "100%|██████████| 521/521 [00:26<00:00, 19.96it/s]\n",
      "100%|██████████| 179/179 [00:08<00:00, 21.98it/s]\n"
     ]
    },
    {
     "name": "stdout",
     "output_type": "stream",
     "text": [
      "Epoch 13: 14360.314\n",
      "Epoch 13: Eval: 5027.117\n"
     ]
    },
    {
     "name": "stderr",
     "output_type": "stream",
     "text": [
      "100%|██████████| 521/521 [00:25<00:00, 20.13it/s]\n",
      "100%|██████████| 179/179 [00:08<00:00, 20.95it/s]\n"
     ]
    },
    {
     "name": "stdout",
     "output_type": "stream",
     "text": [
      "Epoch 14: 14339.512\n",
      "Epoch 14: Eval: 4990.191\n"
     ]
    },
    {
     "name": "stderr",
     "output_type": "stream",
     "text": [
      "100%|██████████| 521/521 [00:26<00:00, 19.43it/s]\n",
      "100%|██████████| 179/179 [00:08<00:00, 21.74it/s]\n"
     ]
    },
    {
     "name": "stdout",
     "output_type": "stream",
     "text": [
      "Epoch 15: 14416.249\n",
      "Epoch 15: Eval: 5114.122\n"
     ]
    },
    {
     "name": "stderr",
     "output_type": "stream",
     "text": [
      "100%|██████████| 521/521 [00:27<00:00, 19.28it/s]\n",
      "100%|██████████| 179/179 [00:08<00:00, 21.43it/s]\n"
     ]
    },
    {
     "name": "stdout",
     "output_type": "stream",
     "text": [
      "Epoch 16: 14382.960\n",
      "Epoch 16: Eval: 5477.437\n",
      "Val ELBO diverging, stopping fitting\n",
      "Model saved to /mnt/swordfish-pool2/ndeas/prob_models/final_results/pos_bigrams_formality_emoji_task_casing_punc_tags_sentiment_task/2023-12-21_12_08_18/model_epoch17_5477.437126159668.pt\n",
      "Beginning training for hparams: {'lr': 0.001, 'num_topics': 10, 'theta_prior_scale': 1.0, 'kappa_prior_dist': 'gaussian', 'kappa_prior_scale': 5.0, 'num_styles': 10}\n",
      "---TRAINING---\n"
     ]
    },
    {
     "name": "stderr",
     "output_type": "stream",
     "text": [
      "100%|██████████| 521/521 [00:26<00:00, 19.61it/s]\n",
      "100%|██████████| 179/179 [00:08<00:00, 20.82it/s]\n"
     ]
    },
    {
     "name": "stdout",
     "output_type": "stream",
     "text": [
      "Epoch 0: 16758.976\n",
      "Epoch 0: Eval: 10508.478\n"
     ]
    },
    {
     "name": "stderr",
     "output_type": "stream",
     "text": [
      "100%|██████████| 521/521 [00:27<00:00, 19.23it/s]\n",
      "100%|██████████| 179/179 [00:08<00:00, 22.27it/s]\n"
     ]
    },
    {
     "name": "stdout",
     "output_type": "stream",
     "text": [
      "Epoch 1: 15727.227\n",
      "Epoch 1: Eval: 5374.673\n"
     ]
    },
    {
     "name": "stderr",
     "output_type": "stream",
     "text": [
      "100%|██████████| 521/521 [00:27<00:00, 19.06it/s]\n",
      "100%|██████████| 179/179 [00:08<00:00, 21.38it/s]\n"
     ]
    },
    {
     "name": "stdout",
     "output_type": "stream",
     "text": [
      "Epoch 2: 15411.591\n",
      "Epoch 2: Eval: 7148.943\n"
     ]
    },
    {
     "name": "stderr",
     "output_type": "stream",
     "text": [
      "100%|██████████| 521/521 [00:26<00:00, 19.36it/s]\n",
      "100%|██████████| 179/179 [00:08<00:00, 21.71it/s]\n"
     ]
    },
    {
     "name": "stdout",
     "output_type": "stream",
     "text": [
      "Epoch 3: 15283.262\n",
      "Epoch 3: Eval: 13621.548\n"
     ]
    },
    {
     "name": "stderr",
     "output_type": "stream",
     "text": [
      "100%|██████████| 521/521 [00:26<00:00, 19.66it/s]\n",
      "100%|██████████| 179/179 [00:08<00:00, 21.09it/s]\n"
     ]
    },
    {
     "name": "stdout",
     "output_type": "stream",
     "text": [
      "Epoch 4: 15021.408\n",
      "Epoch 4: Eval: 5982.460\n"
     ]
    },
    {
     "name": "stderr",
     "output_type": "stream",
     "text": [
      "100%|██████████| 521/521 [00:26<00:00, 19.94it/s]\n",
      "100%|██████████| 179/179 [00:08<00:00, 22.26it/s]\n"
     ]
    },
    {
     "name": "stdout",
     "output_type": "stream",
     "text": [
      "Epoch 5: 15036.987\n",
      "Epoch 5: Eval: 7372.463\n"
     ]
    },
    {
     "name": "stderr",
     "output_type": "stream",
     "text": [
      "100%|██████████| 521/521 [00:26<00:00, 19.64it/s]\n",
      "100%|██████████| 179/179 [00:08<00:00, 22.15it/s]\n"
     ]
    },
    {
     "name": "stdout",
     "output_type": "stream",
     "text": [
      "Epoch 6: 14919.534\n",
      "Epoch 6: Eval: 5441.716\n"
     ]
    },
    {
     "name": "stderr",
     "output_type": "stream",
     "text": [
      "100%|██████████| 521/521 [00:26<00:00, 19.70it/s]\n",
      "100%|██████████| 179/179 [00:07<00:00, 23.24it/s]\n"
     ]
    },
    {
     "name": "stdout",
     "output_type": "stream",
     "text": [
      "Epoch 7: 14963.947\n",
      "Epoch 7: Eval: 5463.658\n"
     ]
    },
    {
     "name": "stderr",
     "output_type": "stream",
     "text": [
      "100%|██████████| 521/521 [00:26<00:00, 19.95it/s]\n",
      "100%|██████████| 179/179 [00:08<00:00, 22.25it/s]\n"
     ]
    },
    {
     "name": "stdout",
     "output_type": "stream",
     "text": [
      "Epoch 8: 14950.032\n",
      "Epoch 8: Eval: 5820.282\n"
     ]
    },
    {
     "name": "stderr",
     "output_type": "stream",
     "text": [
      "100%|██████████| 521/521 [00:26<00:00, 19.91it/s]\n",
      "100%|██████████| 179/179 [00:07<00:00, 22.64it/s]\n"
     ]
    },
    {
     "name": "stdout",
     "output_type": "stream",
     "text": [
      "Epoch 9: 14938.401\n",
      "Epoch 9: Eval: 6332.883\n"
     ]
    },
    {
     "name": "stderr",
     "output_type": "stream",
     "text": [
      "100%|██████████| 521/521 [00:26<00:00, 19.58it/s]\n",
      "100%|██████████| 179/179 [00:08<00:00, 21.09it/s]\n"
     ]
    },
    {
     "name": "stdout",
     "output_type": "stream",
     "text": [
      "Epoch 10: 15062.969\n",
      "Epoch 10: Eval: 5216.823\n"
     ]
    },
    {
     "name": "stderr",
     "output_type": "stream",
     "text": [
      "100%|██████████| 521/521 [00:26<00:00, 19.40it/s]\n",
      "100%|██████████| 179/179 [00:08<00:00, 22.35it/s]\n"
     ]
    },
    {
     "name": "stdout",
     "output_type": "stream",
     "text": [
      "Epoch 11: 15046.674\n",
      "Epoch 11: Eval: 5554.299\n",
      "Val ELBO diverging, stopping fitting\n",
      "Model saved to /mnt/swordfish-pool2/ndeas/prob_models/final_results/pos_bigrams_formality_emoji_task_casing_punc_tags_sentiment_task/2023-12-21_12_18_10/model_epoch12_5554.298946380615.pt\n",
      "Beginning training for hparams: {'lr': 0.001, 'num_topics': 10, 'theta_prior_scale': 3.0, 'kappa_prior_dist': 'gaussian', 'kappa_prior_scale': 1.0, 'num_styles': 10}\n",
      "---TRAINING---\n"
     ]
    },
    {
     "name": "stderr",
     "output_type": "stream",
     "text": [
      "100%|██████████| 521/521 [00:27<00:00, 19.21it/s]\n",
      "100%|██████████| 179/179 [00:08<00:00, 21.82it/s]\n"
     ]
    },
    {
     "name": "stdout",
     "output_type": "stream",
     "text": [
      "Epoch 0: 17018.851\n",
      "Epoch 0: Eval: 5378.475\n"
     ]
    },
    {
     "name": "stderr",
     "output_type": "stream",
     "text": [
      "100%|██████████| 521/521 [00:26<00:00, 19.42it/s]\n",
      "100%|██████████| 179/179 [00:07<00:00, 22.68it/s]\n"
     ]
    },
    {
     "name": "stdout",
     "output_type": "stream",
     "text": [
      "Epoch 1: 15513.615\n",
      "Epoch 1: Eval: 5433.417\n"
     ]
    },
    {
     "name": "stderr",
     "output_type": "stream",
     "text": [
      "100%|██████████| 521/521 [00:25<00:00, 20.36it/s]\n",
      "100%|██████████| 179/179 [00:08<00:00, 21.35it/s]\n"
     ]
    },
    {
     "name": "stdout",
     "output_type": "stream",
     "text": [
      "Epoch 2: 15184.689\n",
      "Epoch 2: Eval: 5222.128\n"
     ]
    },
    {
     "name": "stderr",
     "output_type": "stream",
     "text": [
      "100%|██████████| 521/521 [00:26<00:00, 19.30it/s]\n",
      "100%|██████████| 179/179 [00:08<00:00, 21.86it/s]\n"
     ]
    },
    {
     "name": "stdout",
     "output_type": "stream",
     "text": [
      "Epoch 3: 15028.867\n",
      "Epoch 3: Eval: 5165.298\n"
     ]
    },
    {
     "name": "stderr",
     "output_type": "stream",
     "text": [
      "100%|██████████| 521/521 [00:26<00:00, 19.34it/s]\n",
      "100%|██████████| 179/179 [00:08<00:00, 21.28it/s]\n"
     ]
    },
    {
     "name": "stdout",
     "output_type": "stream",
     "text": [
      "Epoch 4: 14984.428\n",
      "Epoch 4: Eval: 5156.975\n"
     ]
    },
    {
     "name": "stderr",
     "output_type": "stream",
     "text": [
      "100%|██████████| 521/521 [00:25<00:00, 20.35it/s]\n",
      "100%|██████████| 179/179 [00:08<00:00, 21.93it/s]\n"
     ]
    },
    {
     "name": "stdout",
     "output_type": "stream",
     "text": [
      "Epoch 5: 14873.843\n",
      "Epoch 5: Eval: 5121.560\n"
     ]
    },
    {
     "name": "stderr",
     "output_type": "stream",
     "text": [
      "100%|██████████| 521/521 [00:26<00:00, 19.89it/s]\n",
      "100%|██████████| 179/179 [00:08<00:00, 21.54it/s]\n"
     ]
    },
    {
     "name": "stdout",
     "output_type": "stream",
     "text": [
      "Epoch 6: 14840.162\n",
      "Epoch 6: Eval: 5062.810\n"
     ]
    },
    {
     "name": "stderr",
     "output_type": "stream",
     "text": [
      "100%|██████████| 521/521 [00:26<00:00, 19.45it/s]\n",
      "100%|██████████| 179/179 [00:08<00:00, 20.66it/s]\n"
     ]
    },
    {
     "name": "stdout",
     "output_type": "stream",
     "text": [
      "Epoch 7: 14815.259\n",
      "Epoch 7: Eval: 5017.323\n"
     ]
    },
    {
     "name": "stderr",
     "output_type": "stream",
     "text": [
      "100%|██████████| 521/521 [00:25<00:00, 20.25it/s]\n",
      "100%|██████████| 179/179 [00:08<00:00, 22.06it/s]\n"
     ]
    },
    {
     "name": "stdout",
     "output_type": "stream",
     "text": [
      "Epoch 8: 14790.445\n",
      "Epoch 8: Eval: 5091.628\n"
     ]
    },
    {
     "name": "stderr",
     "output_type": "stream",
     "text": [
      "100%|██████████| 521/521 [00:25<00:00, 20.26it/s]\n",
      "100%|██████████| 179/179 [00:08<00:00, 22.12it/s]\n"
     ]
    },
    {
     "name": "stdout",
     "output_type": "stream",
     "text": [
      "Epoch 9: 14768.526\n",
      "Epoch 9: Eval: 5039.361\n"
     ]
    },
    {
     "name": "stderr",
     "output_type": "stream",
     "text": [
      "100%|██████████| 521/521 [00:26<00:00, 19.46it/s]\n",
      "100%|██████████| 179/179 [00:08<00:00, 21.88it/s]\n"
     ]
    },
    {
     "name": "stdout",
     "output_type": "stream",
     "text": [
      "Epoch 10: 14751.274\n",
      "Epoch 10: Eval: 5042.410\n"
     ]
    },
    {
     "name": "stderr",
     "output_type": "stream",
     "text": [
      "100%|██████████| 521/521 [00:26<00:00, 19.66it/s]\n",
      "100%|██████████| 179/179 [00:08<00:00, 22.35it/s]\n"
     ]
    },
    {
     "name": "stdout",
     "output_type": "stream",
     "text": [
      "Epoch 11: 14729.427\n",
      "Epoch 11: Eval: 5048.298\n"
     ]
    },
    {
     "name": "stderr",
     "output_type": "stream",
     "text": [
      "100%|██████████| 521/521 [00:26<00:00, 19.73it/s]\n",
      "100%|██████████| 179/179 [00:07<00:00, 22.85it/s]\n"
     ]
    },
    {
     "name": "stdout",
     "output_type": "stream",
     "text": [
      "Epoch 12: 14730.829\n",
      "Epoch 12: Eval: 5000.923\n"
     ]
    },
    {
     "name": "stderr",
     "output_type": "stream",
     "text": [
      "100%|██████████| 521/521 [00:26<00:00, 19.40it/s]\n",
      "100%|██████████| 179/179 [00:08<00:00, 21.39it/s]\n"
     ]
    },
    {
     "name": "stdout",
     "output_type": "stream",
     "text": [
      "Epoch 13: 14702.246\n",
      "Epoch 13: Eval: 4988.171\n"
     ]
    },
    {
     "name": "stderr",
     "output_type": "stream",
     "text": [
      "100%|██████████| 521/521 [00:27<00:00, 19.26it/s]\n",
      "100%|██████████| 179/179 [00:07<00:00, 22.47it/s]\n"
     ]
    },
    {
     "name": "stdout",
     "output_type": "stream",
     "text": [
      "Epoch 14: 14705.374\n",
      "Epoch 14: Eval: 5050.884\n"
     ]
    },
    {
     "name": "stderr",
     "output_type": "stream",
     "text": [
      "100%|██████████| 521/521 [00:26<00:00, 19.51it/s]\n",
      "100%|██████████| 179/179 [00:08<00:00, 21.69it/s]\n"
     ]
    },
    {
     "name": "stdout",
     "output_type": "stream",
     "text": [
      "Epoch 15: 14700.233\n",
      "Epoch 15: Eval: 4998.576\n"
     ]
    },
    {
     "name": "stderr",
     "output_type": "stream",
     "text": [
      "100%|██████████| 521/521 [00:27<00:00, 19.04it/s]\n",
      "100%|██████████| 179/179 [00:07<00:00, 22.58it/s]\n"
     ]
    },
    {
     "name": "stdout",
     "output_type": "stream",
     "text": [
      "Epoch 16: 14689.181\n",
      "Epoch 16: Eval: 5016.757\n"
     ]
    },
    {
     "name": "stderr",
     "output_type": "stream",
     "text": [
      "100%|██████████| 521/521 [00:26<00:00, 19.59it/s]\n",
      "100%|██████████| 179/179 [00:08<00:00, 21.63it/s]\n"
     ]
    },
    {
     "name": "stdout",
     "output_type": "stream",
     "text": [
      "Epoch 17: 14689.462\n",
      "Epoch 17: Eval: 5009.357\n"
     ]
    },
    {
     "name": "stderr",
     "output_type": "stream",
     "text": [
      "100%|██████████| 521/521 [00:27<00:00, 19.26it/s]\n",
      "100%|██████████| 179/179 [00:08<00:00, 21.32it/s]\n"
     ]
    },
    {
     "name": "stdout",
     "output_type": "stream",
     "text": [
      "Epoch 18: 14678.670\n",
      "Epoch 18: Eval: 4994.440\n"
     ]
    },
    {
     "name": "stderr",
     "output_type": "stream",
     "text": [
      "100%|██████████| 521/521 [00:25<00:00, 20.82it/s]\n",
      "100%|██████████| 179/179 [00:08<00:00, 21.22it/s]\n"
     ]
    },
    {
     "name": "stdout",
     "output_type": "stream",
     "text": [
      "Epoch 19: 14672.154\n",
      "Epoch 19: Eval: 4995.404\n"
     ]
    },
    {
     "name": "stderr",
     "output_type": "stream",
     "text": [
      "100%|██████████| 521/521 [00:27<00:00, 19.09it/s]\n",
      "100%|██████████| 179/179 [00:08<00:00, 21.76it/s]\n"
     ]
    },
    {
     "name": "stdout",
     "output_type": "stream",
     "text": [
      "Epoch 20: 14667.773\n",
      "Epoch 20: Eval: 5030.082\n"
     ]
    },
    {
     "name": "stderr",
     "output_type": "stream",
     "text": [
      "100%|██████████| 521/521 [00:26<00:00, 19.48it/s]\n",
      "100%|██████████| 179/179 [00:08<00:00, 21.26it/s]\n"
     ]
    },
    {
     "name": "stdout",
     "output_type": "stream",
     "text": [
      "Epoch 21: 14666.913\n",
      "Epoch 21: Eval: 5029.115\n"
     ]
    },
    {
     "name": "stderr",
     "output_type": "stream",
     "text": [
      "100%|██████████| 521/521 [00:26<00:00, 19.92it/s]\n",
      "100%|██████████| 179/179 [00:08<00:00, 21.91it/s]\n"
     ]
    },
    {
     "name": "stdout",
     "output_type": "stream",
     "text": [
      "Epoch 22: 14663.341\n",
      "Epoch 22: Eval: 4980.430\n"
     ]
    },
    {
     "name": "stderr",
     "output_type": "stream",
     "text": [
      "100%|██████████| 521/521 [00:26<00:00, 19.59it/s]\n",
      "100%|██████████| 179/179 [00:08<00:00, 21.48it/s]\n"
     ]
    },
    {
     "name": "stdout",
     "output_type": "stream",
     "text": [
      "Epoch 23: 14662.326\n",
      "Epoch 23: Eval: 4990.018\n",
      "Val ELBO diverging, stopping fitting\n",
      "Model saved to /mnt/swordfish-pool2/ndeas/prob_models/final_results/pos_bigrams_formality_emoji_task_casing_punc_tags_sentiment_task/2023-12-21_12_25_09/model_epoch24_4990.017833709717.pt\n",
      "Beginning training for hparams: {'lr': 0.001, 'num_topics': 10, 'theta_prior_scale': 3.0, 'kappa_prior_dist': 'gaussian', 'kappa_prior_scale': 3.0, 'num_styles': 10}\n",
      "---TRAINING---\n"
     ]
    },
    {
     "name": "stderr",
     "output_type": "stream",
     "text": [
      "100%|██████████| 521/521 [00:26<00:00, 19.81it/s]\n",
      "100%|██████████| 179/179 [00:08<00:00, 21.48it/s]\n"
     ]
    },
    {
     "name": "stdout",
     "output_type": "stream",
     "text": [
      "Epoch 0: 17215.714\n",
      "Epoch 0: Eval: 5537.723\n"
     ]
    },
    {
     "name": "stderr",
     "output_type": "stream",
     "text": [
      "100%|██████████| 521/521 [00:26<00:00, 19.73it/s]\n",
      "100%|██████████| 179/179 [00:08<00:00, 21.85it/s]\n"
     ]
    },
    {
     "name": "stdout",
     "output_type": "stream",
     "text": [
      "Epoch 1: 15752.500\n",
      "Epoch 1: Eval: 5369.373\n"
     ]
    },
    {
     "name": "stderr",
     "output_type": "stream",
     "text": [
      "100%|██████████| 521/521 [00:25<00:00, 20.25it/s]\n",
      "100%|██████████| 179/179 [00:08<00:00, 21.76it/s]\n"
     ]
    },
    {
     "name": "stdout",
     "output_type": "stream",
     "text": [
      "Epoch 2: 15391.108\n",
      "Epoch 2: Eval: 5559.333\n"
     ]
    },
    {
     "name": "stderr",
     "output_type": "stream",
     "text": [
      "100%|██████████| 521/521 [00:26<00:00, 19.84it/s]\n",
      "100%|██████████| 179/179 [00:08<00:00, 22.11it/s]\n"
     ]
    },
    {
     "name": "stdout",
     "output_type": "stream",
     "text": [
      "Epoch 3: 15198.262\n",
      "Epoch 3: Eval: 5232.604\n"
     ]
    },
    {
     "name": "stderr",
     "output_type": "stream",
     "text": [
      "100%|██████████| 521/521 [00:26<00:00, 19.56it/s]\n",
      "100%|██████████| 179/179 [00:08<00:00, 21.59it/s]\n"
     ]
    },
    {
     "name": "stdout",
     "output_type": "stream",
     "text": [
      "Epoch 4: 15128.754\n",
      "Epoch 4: Eval: 5282.144\n"
     ]
    },
    {
     "name": "stderr",
     "output_type": "stream",
     "text": [
      "100%|██████████| 521/521 [00:27<00:00, 19.11it/s]\n",
      "100%|██████████| 179/179 [00:07<00:00, 22.44it/s]\n"
     ]
    },
    {
     "name": "stdout",
     "output_type": "stream",
     "text": [
      "Epoch 5: 15048.648\n",
      "Epoch 5: Eval: 5125.846\n"
     ]
    },
    {
     "name": "stderr",
     "output_type": "stream",
     "text": [
      "100%|██████████| 521/521 [00:26<00:00, 19.89it/s]\n",
      "100%|██████████| 179/179 [00:08<00:00, 21.76it/s]\n"
     ]
    },
    {
     "name": "stdout",
     "output_type": "stream",
     "text": [
      "Epoch 6: 14988.441\n",
      "Epoch 6: Eval: 5163.368\n"
     ]
    },
    {
     "name": "stderr",
     "output_type": "stream",
     "text": [
      "100%|██████████| 521/521 [00:25<00:00, 20.54it/s]\n",
      "100%|██████████| 179/179 [00:08<00:00, 22.06it/s]\n"
     ]
    },
    {
     "name": "stdout",
     "output_type": "stream",
     "text": [
      "Epoch 7: 14954.866\n",
      "Epoch 7: Eval: 5226.313\n"
     ]
    },
    {
     "name": "stderr",
     "output_type": "stream",
     "text": [
      "100%|██████████| 521/521 [00:26<00:00, 19.90it/s]\n",
      "100%|██████████| 179/179 [00:08<00:00, 22.11it/s]\n"
     ]
    },
    {
     "name": "stdout",
     "output_type": "stream",
     "text": [
      "Epoch 8: 14936.117\n",
      "Epoch 8: Eval: 5098.789\n"
     ]
    },
    {
     "name": "stderr",
     "output_type": "stream",
     "text": [
      "100%|██████████| 521/521 [00:26<00:00, 19.70it/s]\n",
      "100%|██████████| 179/179 [00:08<00:00, 21.77it/s]\n"
     ]
    },
    {
     "name": "stdout",
     "output_type": "stream",
     "text": [
      "Epoch 9: 14905.009\n",
      "Epoch 9: Eval: 5124.923\n"
     ]
    },
    {
     "name": "stderr",
     "output_type": "stream",
     "text": [
      "100%|██████████| 521/521 [00:25<00:00, 20.48it/s]\n",
      "100%|██████████| 179/179 [00:07<00:00, 23.09it/s]\n"
     ]
    },
    {
     "name": "stdout",
     "output_type": "stream",
     "text": [
      "Epoch 10: 14902.719\n",
      "Epoch 10: Eval: 5147.979\n"
     ]
    },
    {
     "name": "stderr",
     "output_type": "stream",
     "text": [
      "100%|██████████| 521/521 [00:26<00:00, 19.99it/s]\n",
      "100%|██████████| 179/179 [00:08<00:00, 20.76it/s]\n"
     ]
    },
    {
     "name": "stdout",
     "output_type": "stream",
     "text": [
      "Epoch 11: 14875.339\n",
      "Epoch 11: Eval: 5099.276\n"
     ]
    },
    {
     "name": "stderr",
     "output_type": "stream",
     "text": [
      "100%|██████████| 521/521 [00:26<00:00, 19.89it/s]\n",
      "100%|██████████| 179/179 [00:08<00:00, 20.93it/s]\n"
     ]
    },
    {
     "name": "stdout",
     "output_type": "stream",
     "text": [
      "Epoch 12: 14888.967\n",
      "Epoch 12: Eval: 5079.499\n"
     ]
    },
    {
     "name": "stderr",
     "output_type": "stream",
     "text": [
      "100%|██████████| 521/521 [00:26<00:00, 19.90it/s]\n",
      "100%|██████████| 179/179 [00:07<00:00, 23.16it/s]\n"
     ]
    },
    {
     "name": "stdout",
     "output_type": "stream",
     "text": [
      "Epoch 13: 14902.962\n",
      "Epoch 13: Eval: 5112.540\n"
     ]
    },
    {
     "name": "stderr",
     "output_type": "stream",
     "text": [
      "100%|██████████| 521/521 [00:25<00:00, 20.34it/s]\n",
      "100%|██████████| 179/179 [00:08<00:00, 22.23it/s]\n"
     ]
    },
    {
     "name": "stdout",
     "output_type": "stream",
     "text": [
      "Epoch 14: 14849.772\n",
      "Epoch 14: Eval: 5087.562\n"
     ]
    },
    {
     "name": "stderr",
     "output_type": "stream",
     "text": [
      "100%|██████████| 521/521 [00:25<00:00, 20.31it/s]\n",
      "100%|██████████| 179/179 [00:08<00:00, 21.78it/s]\n"
     ]
    },
    {
     "name": "stdout",
     "output_type": "stream",
     "text": [
      "Epoch 15: 14851.935\n",
      "Epoch 15: Eval: 5076.628\n"
     ]
    },
    {
     "name": "stderr",
     "output_type": "stream",
     "text": [
      "100%|██████████| 521/521 [00:26<00:00, 19.37it/s]\n",
      "100%|██████████| 179/179 [00:08<00:00, 21.83it/s]\n"
     ]
    },
    {
     "name": "stdout",
     "output_type": "stream",
     "text": [
      "Epoch 16: 14825.956\n",
      "Epoch 16: Eval: 5082.145\n"
     ]
    },
    {
     "name": "stderr",
     "output_type": "stream",
     "text": [
      "100%|██████████| 521/521 [00:25<00:00, 20.05it/s]\n",
      "100%|██████████| 179/179 [00:08<00:00, 21.62it/s]\n"
     ]
    },
    {
     "name": "stdout",
     "output_type": "stream",
     "text": [
      "Epoch 17: 14853.819\n",
      "Epoch 17: Eval: 5107.314\n"
     ]
    },
    {
     "name": "stderr",
     "output_type": "stream",
     "text": [
      "100%|██████████| 521/521 [00:25<00:00, 20.23it/s]\n",
      "100%|██████████| 179/179 [00:07<00:00, 22.39it/s]\n"
     ]
    },
    {
     "name": "stdout",
     "output_type": "stream",
     "text": [
      "Epoch 18: 14811.929\n",
      "Epoch 18: Eval: 5070.688\n"
     ]
    },
    {
     "name": "stderr",
     "output_type": "stream",
     "text": [
      "100%|██████████| 521/521 [00:26<00:00, 19.76it/s]\n",
      "100%|██████████| 179/179 [00:08<00:00, 21.41it/s]\n"
     ]
    },
    {
     "name": "stdout",
     "output_type": "stream",
     "text": [
      "Epoch 19: 14805.476\n",
      "Epoch 19: Eval: 5084.240\n"
     ]
    },
    {
     "name": "stderr",
     "output_type": "stream",
     "text": [
      "100%|██████████| 521/521 [00:24<00:00, 21.16it/s]\n",
      "100%|██████████| 179/179 [00:07<00:00, 22.42it/s]\n"
     ]
    },
    {
     "name": "stdout",
     "output_type": "stream",
     "text": [
      "Epoch 20: 14798.654\n",
      "Epoch 20: Eval: 5061.395\n"
     ]
    },
    {
     "name": "stderr",
     "output_type": "stream",
     "text": [
      "100%|██████████| 521/521 [00:25<00:00, 20.17it/s]\n",
      "100%|██████████| 179/179 [00:08<00:00, 22.11it/s]\n"
     ]
    },
    {
     "name": "stdout",
     "output_type": "stream",
     "text": [
      "Epoch 21: 14793.679\n",
      "Epoch 21: Eval: 5075.897\n"
     ]
    },
    {
     "name": "stderr",
     "output_type": "stream",
     "text": [
      "100%|██████████| 521/521 [00:26<00:00, 20.00it/s]\n",
      "100%|██████████| 179/179 [00:08<00:00, 21.87it/s]\n"
     ]
    },
    {
     "name": "stdout",
     "output_type": "stream",
     "text": [
      "Epoch 22: 14791.863\n",
      "Epoch 22: Eval: 5057.232\n"
     ]
    },
    {
     "name": "stderr",
     "output_type": "stream",
     "text": [
      "100%|██████████| 521/521 [00:25<00:00, 20.32it/s]\n",
      "100%|██████████| 179/179 [00:07<00:00, 23.22it/s]\n"
     ]
    },
    {
     "name": "stdout",
     "output_type": "stream",
     "text": [
      "Epoch 23: 14781.599\n",
      "Epoch 23: Eval: 5136.832\n",
      "Val ELBO diverging, stopping fitting\n",
      "Model saved to /mnt/swordfish-pool2/ndeas/prob_models/final_results/pos_bigrams_formality_emoji_task_casing_punc_tags_sentiment_task/2023-12-21_12_39_04/model_epoch24_5136.832389831543.pt\n"
     ]
    },
    {
     "data": {
      "image/png": "[encoded data removed]",
      "text/plain": [
       "<Figure size 640x480 with 1 Axes>"
      ]
     },
     "metadata": {},
     "output_type": "display_data"
    }
   ],
   "source": [
    "for hparam in hparam_combos:\n",
    "    \n",
    "    print(f'Beginning training for hparams: {str(hparam)}')\n",
    "    \n",
    "    # Create and save configuration info\n",
    "    date = datetime.now().strftime(\"%Y-%m-%d_%H_%M_%S\")\n",
    "\n",
    "    info = dict(hparam, **base_info)\n",
    "    info['date'] = date\n",
    "    \n",
    "    PATH = os.path.join(OUT_DIR, EXPERIMENT_NAME, date)\n",
    "    os.makedirs(PATH, exist_ok=True)\n",
    "    with open(os.path.join(PATH, 'info.json'), 'w') as f:\n",
    "        json.dump(info, f, indent=4)\n",
    "        \n",
    "    # Create Model\n",
    "    prod_slda = ProdSLDA(\n",
    "        vocab_size = VOCAB_SIZE,\n",
    "        meta_sizes  = META_SIZE,\n",
    "        num_topics = info['num_topics'], num_styles = info['num_styles'], \n",
    "        topic_hidden = TOPIC_HIDDEN_DIM, style_hidden = STYLE_HIDDEN_DIM, dropout = DROPOUT, \n",
    "        theta_prior_dist = THETA_PRIOR_DIST, \n",
    "        theta_prior_loc = THETA_PRIOR_LOC, theta_prior_scale = info['theta_prior_scale'],\n",
    "        kappa_prior_dist = info['kappa_prior_dist'], \n",
    "        kappa_prior_loc = KAPPA_PRIOR_LOC, kappa_prior_scale = info['kappa_prior_scale'],\n",
    "        style_topic_link = STYLE_TOPIC_LINK,\n",
    "    ).to(DEVICE)\n",
    "    \n",
    "    # Setup Fitting\n",
    "    pyro.clear_param_store()\n",
    "    prod_slda.train()\n",
    "    \n",
    "    adam_args = {'lr': info['lr'], 'betas': BETAS, 'eps': EPS, 'clip_norm': CLIP_NORM}\n",
    "    \n",
    "    optim = pyro.optim.ClippedAdam(adam_args)\n",
    "\n",
    "    svi = SVI(\n",
    "        pyro.poutine.scale(prod_slda.model, BATCH_SIZE/len(dl.dataset)),\n",
    "        pyro.poutine.scale(prod_slda.guide, BATCH_SIZE/len(dl.dataset)),\n",
    "        optim,\n",
    "        loss = TraceMeanField_ELBO()\n",
    "    )\n",
    "    \n",
    "    train_elbo, val_elbo, total_epochs = train_epochs(prod_slda, svi, \n",
    "                                        dl, eval_dl, \n",
    "                                        NUM_EPOCHS, DEVICE,\n",
    "                                        last_elbos = LAST_ELBOS)\n",
    "    \n",
    "    # Save recorded elbos\n",
    "    elbos = pd.DataFrame({'train_elbo': train_elbo, 'val_elbo': val_elbo})\n",
    "    elbos.to_csv(os.path.join(PATH, 'elbos.json'), index = False)\n",
    "    \n",
    "    # Save convergence plot\n",
    "    plot_elbos(train_elbo, val_elbo, PATH)\n",
    "    \n",
    "    # Save final model\n",
    "    path = os.path.join(PATH, f'model_epoch{total_epochs}_{val_elbo[-1]}.pt')\n",
    "    prod_slda.eval()\n",
    "    torch.save(prod_slda, path)\n",
    "    print(f'Model saved to {path}')\n",
    "    \n",
    "    "
   ]
  },
  {
   "cell_type": "markdown",
   "id": "9ed443b9-6ebe-4351-aeb7-5c85caff576b",
   "metadata": {
    "tags": []
   },
   "source": [
    "## Setup"
   ]
  },
  {
   "cell_type": "code",
   "execution_count": null,
   "id": "5cb86678-f33a-49a1-971c-1641b2da6e66",
   "metadata": {
    "scrolled": true,
    "tags": []
   },
   "outputs": [],
   "source": [
    "prod_slda = ProdSLDA(\n",
    "    vocab_size = VOCAB_SIZE,\n",
    "    meta_sizes  = META_SIZE,\n",
    "    num_topics = NUM_TOPICS, num_styles = NUM_STYLES, \n",
    "    hidden = HIDDEN_DIM, dropout = DROPOUT, \n",
    "    theta_prior_dist = THETA_PRIOR_DIST, \n",
    "    theta_prior_loc = THETA_PRIOR_LOC, theta_prior_scale = THETA_PRIOR_SCALE,\n",
    "    kappa_prior_dist = KAPPA_PRIOR_DIST, \n",
    "    kappa_prior_loc = KAPPA_PRIOR_LOC, kappa_prior_scale = KAPPA_PRIOR_SCALE,\n",
    "    style_topic_link = STYLE_TOPIC_LINK,\n",
    ").to(DEVICE)\n",
    "\n",
    "print(prod_slda.beta_document())\n",
    "print(prod_slda.beta_meta())\n"
   ]
  },
  {
   "cell_type": "markdown",
   "id": "bf790d2c-25ba-4769-8703-5b9e672a735f",
   "metadata": {
    "tags": []
   },
   "source": [
    "## Training "
   ]
  },
  {
   "cell_type": "code",
   "execution_count": null,
   "id": "4487f140-7c91-4b84-9404-af5d21b233d8",
   "metadata": {
    "scrolled": true,
    "tags": []
   },
   "outputs": [],
   "source": [
    "%%capture cap --no-stderr\n",
    "pyro.clear_param_store()\n",
    "prod_slda.train()"
   ]
  },
  {
   "cell_type": "code",
   "execution_count": null,
   "id": "2cc93883-15f9-411c-98b0-851ee1f1390a",
   "metadata": {},
   "outputs": [],
   "source": [
    "optim = pyro.optim.ClippedAdam(ADAM_ARGS)\n",
    "\n",
    "svi = SVI(\n",
    "    pyro.poutine.scale(prod_slda.model, BATCH_SIZE/len(dl.dataset)),\n",
    "    pyro.poutine.scale(prod_slda.guide, BATCH_SIZE/len(dl.dataset)),\n",
    "    optim,\n",
    "    loss = TraceMeanField_ELBO()\n",
    ")"
   ]
  },
  {
   "cell_type": "code",
   "execution_count": null,
   "id": "7323f1de-8558-482e-91f2-4e05b4c822d4",
   "metadata": {},
   "outputs": [],
   "source": [
    "total_epochs = 0"
   ]
  },
  {
   "cell_type": "code",
   "execution_count": null,
   "id": "e61c37b2-22a8-463a-9c4c-2aaec9f4e538",
   "metadata": {
    "scrolled": true,
    "tags": []
   },
   "outputs": [],
   "source": [
    "train_elbo = []\n",
    "val_elbo = []\n",
    "\n",
    "print(\"---TRAINING---\")\n",
    "for epoch in range(NUM_EPOCHS):\n",
    "    \n",
    "    epoch_elbo = 0.\n",
    "    prod_slda.train()\n",
    "    for batch in tqdm(dl):\n",
    "        \n",
    "        batch = batch_to_device(batch, DEVICE)\n",
    "        \n",
    "        bow = batch['bow']\n",
    "        meta = batch['meta']\n",
    "        \n",
    "        epoch_elbo += svi.step(bow, meta)\n",
    "\n",
    "    eval_elbo = 0\n",
    "    prod_slda.eval()\n",
    "    with torch.no_grad():\n",
    "        for batch in tqdm(eval_dl):\n",
    "            \n",
    "            batch = batch_to_device(batch, DEVICE)\n",
    "            \n",
    "            bow = batch['bow']\n",
    "            meta = batch['meta']\n",
    "    \n",
    "            eval_elbo += svi.evaluate_loss(bow, meta)\n",
    "    \n",
    "        \n",
    "    print(f'Epoch {epoch}: {epoch_elbo:.3f}')\n",
    "    print(f'Epoch {epoch}: Eval: {eval_elbo:.3f}')\n",
    "    \n",
    "    train_elbo.append(epoch_elbo)\n",
    "    val_elbo.append(eval_elbo)\n",
    "    total_epochs +=1"
   ]
  },
  {
   "cell_type": "code",
   "execution_count": null,
   "id": "b26d2c55-5c5a-48ee-80c6-1331ac4ef92a",
   "metadata": {},
   "outputs": [],
   "source": [
    "path = os.path.join(PATH, f'model_epoch{total_epochs}_{val_elbo[-1]}.pt')\n",
    "prod_slda.eval()\n",
    "torch.save(prod_slda, path)\n",
    "print(f'Saved to {path}')"
   ]
  },
  {
   "cell_type": "code",
   "execution_count": null,
   "id": "310e69d2-833d-41c4-a81c-e1b92c3f8e19",
   "metadata": {},
   "outputs": [],
   "source": [
    "plt.plot(range(len(train_elbo)), [e/len(dl.dataset) for e in train_elbo], label = 'In-Sample')\n",
    "plt.plot(range(len(val_elbo)), [e/len(eval_dl.dataset) for e in val_elbo], label = 'Out-Sample')\n",
    "\n",
    "plt.legend()\n",
    "plt.xlabel('# Iterations')\n",
    "plt.ylabel('ELBO')\n",
    "\n",
    "plt.savefig(os.path.join(PATH, 'loss_plot_indep.png'), dpi = 600, facecolor = None)\n"
   ]
  },
  {
   "cell_type": "code",
   "execution_count": null,
   "id": "aa70f4f4-985b-4771-b6c3-ae543d182684",
   "metadata": {},
   "outputs": [],
   "source": [
    "path = os.path.join(PATH, f'model_epoch{total_epochs}_{val_elbo[-1]}.pt')\n",
    "prod_slda.eval()\n",
    "torch.save(prod_slda, path)\n",
    "print(f'Saved to {path}')"
   ]
  },
  {
   "cell_type": "markdown",
   "id": "4ad580dc-c791-4f02-8b00-6095f1c945fc",
   "metadata": {},
   "source": [
    "# Eval "
   ]
  },
  {
   "cell_type": "markdown",
   "id": "06849b0f-0c3d-48b4-bd08-e13035b402b6",
   "metadata": {},
   "source": [
    "## Reconstruct Perplexity "
   ]
  },
  {
   "cell_type": "code",
   "execution_count": 39,
   "id": "15cf2d57-30e1-4420-a8e0-c3c880c4e0cd",
   "metadata": {},
   "outputs": [],
   "source": [
    "def calc_doc_perp(prod_slda, eval_dl, device, use_style = True):\n",
    "    total_ce, total_count = 0., 0.\n",
    "    for batch in tqdm(eval_dl):\n",
    "        for key in batch.keys():\n",
    "            if isinstance(batch[key], dict):\n",
    "                for key2 in batch[key].keys():\n",
    "                    batch[key][key2] = batch[key][key2].to(device)\n",
    "            else:\n",
    "                batch[key] = batch[key].to(device)\n",
    "\n",
    "        ce, count = prod_slda.doc_reconstruct_ce(batch, use_style = use_style)\n",
    "        total_ce += ce\n",
    "        total_count += count\n",
    "    return torch.exp(total_ce/total_count).item()\n",
    "\n",
    "def calc_style_perp(prod_slda, eval_dl, device):\n",
    "    total_ce, total_count = 0., 0.\n",
    "    for batch in tqdm(eval_dl):\n",
    "        for key in batch.keys():\n",
    "            if isinstance(batch[key], dict):\n",
    "                for key2 in batch[key].keys():\n",
    "                    batch[key][key2] = batch[key][key2].to(device)\n",
    "            else:\n",
    "                batch[key] = batch[key].to(device)\n",
    "\n",
    "        ce, count = prod_slda.style_reconstruct_ce(batch)\n",
    "        total_ce += ce\n",
    "        total_count += count\n",
    "    return torch.exp(total_ce/total_count).item()"
   ]
  },
  {
   "cell_type": "code",
   "execution_count": 36,
   "id": "212124e2-2f4e-4140-9330-5d88e1cdc677",
   "metadata": {},
   "outputs": [],
   "source": [
    "prod_slda = torch.load(path).to(DEVICE)"
   ]
  },
  {
   "cell_type": "code",
   "execution_count": 40,
   "id": "5f2ce986-17f1-4e36-afa4-23b8c3330c15",
   "metadata": {},
   "outputs": [
    {
     "name": "stderr",
     "output_type": "stream",
     "text": [
      "100%|██████████| 179/179 [00:12<00:00, 14.10it/s]\n"
     ]
    }
   ],
   "source": [
    "doc_perp      = calc_doc_perp(prod_slda, eval_dl)\n",
    "doc_only_perp = calc_doc_perp(prod_slda, eval_dl, use_style = False)\n",
    "style_perp    = calc_style_perp(prod_slda, eval_dl)"
   ]
  },
  {
   "cell_type": "code",
   "execution_count": 41,
   "id": "a4bfb47a-4b9c-4b36-a1cc-089037eabf34",
   "metadata": {},
   "outputs": [
    {
     "name": "stdout",
     "output_type": "stream",
     "text": [
      "Perp           : 3199.2117\n",
      "Perp (No Style): 3485.7412\n",
      "Style Perp     : 56.1780\n"
     ]
    }
   ],
   "source": [
    "print(f'Perp           : {doc_perp:.4f}')\n",
    "print(f'Perp (No Style): {doc_only_perp:.4f}')\n",
    "print(f'Style Perp     : {style_perp:.4f}')"
   ]
  },
  {
   "cell_type": "markdown",
   "id": "bedb88f5-5208-44eb-a101-bc489ddcc988",
   "metadata": {},
   "source": [
    "# Examine Topics "
   ]
  },
  {
   "cell_type": "code",
   "execution_count": 52,
   "id": "f0e767b9-c933-448b-8dde-10d957c2d8c4",
   "metadata": {},
   "outputs": [],
   "source": [
    "def top_beta_document(model, vectorizer, top_k=20):\n",
    "    betas_document = model.beta_document()\n",
    "    features_to_betas = {}\n",
    "    idx_to_name = {v:k for k,v in vectorizer.vocabulary_.items()}\n",
    "    for feature, logits in betas_document.items():\n",
    "        features_to_betas[feature] = []\n",
    "        num_features = logits.shape[0]\n",
    "        top_results = torch.topk(logits, top_k, dim=-1)\n",
    "        \n",
    "        ids = top_results.indices.cpu().numpy()\n",
    "        values = top_results.values.cpu().numpy()\n",
    "        \n",
    "        for i in tqdm(range(num_features)):\n",
    "            features_to_betas[feature].append({'values':values[i], 'top':[idx_to_name[idx] for idx in ids[i]]})\n",
    "                \n",
    "    return features_to_betas\n",
    "\n",
    "def top_beta_meta(model, meta_feature_to_names, top_k=20):\n",
    "    betas_metas = model.beta_meta()\n",
    "    features_to_betas = {}\n",
    "    for feature, logits in betas_metas.items():\n",
    "        idx_to_name = {i:k for i,k in enumerate(meta_feature_to_names[feature])}\n",
    "        features_to_betas[feature] = []\n",
    "        num_features = logits.shape[0]\n",
    "        top_results = torch.topk(logits, min(top_k, logits.shape[1]), dim=-1)\n",
    "        ids = top_results.indices.cpu().numpy()\n",
    "        values = top_results.values.cpu().numpy()\n",
    "        for i in tqdm(range(num_features)):\n",
    "            features_to_betas[feature].append({'values':values[i], 'top':[idx_to_name[idx] for idx in ids[i]]})\n",
    "        \n",
    "    return features_to_betas "
   ]
  },
  {
   "cell_type": "code",
   "execution_count": 53,
   "id": "a72b1e4b-b50d-476e-a0d9-71f2a14e3489",
   "metadata": {},
   "outputs": [
    {
     "name": "stderr",
     "output_type": "stream",
     "text": [
      "100%|██████████| 10/10 [00:00<00:00, 76959.71it/s]\n",
      "100%|██████████| 10/10 [00:00<00:00, 85773.09it/s]\n",
      "100%|██████████| 10/10 [00:00<00:00, 111550.64it/s]\n",
      "100%|██████████| 10/10 [00:00<00:00, 112447.83it/s]\n",
      "100%|██████████| 10/10 [00:00<00:00, 134865.08it/s]\n",
      "100%|██████████| 10/10 [00:00<00:00, 113975.65it/s]\n",
      "100%|██████████| 10/10 [00:00<00:00, 116832.98it/s]\n",
      "100%|██████████| 10/10 [00:00<00:00, 118483.16it/s]"
     ]
    },
    {
     "name": "stdout",
     "output_type": "stream",
     "text": [
      "Document Term Info\n",
      "\tbeta_topic (10):\n",
      "\t\t beta_topic (0):\n",
      "['wants', 'termination', 'general', 'caiso', 'q2', 'dial', 'ees', 'process', 'paso', 'results']\n",
      "\n",
      "\t\t beta_topic (1):\n",
      "['supervisor', 'contribute', 'thanx', 'addition', 'pulling', 'documents', 'years', 'brief', 'imbalance', 'gh']\n",
      "\n",
      "\t\t beta_topic (2):\n",
      "['mr', 'effective', 'yahoo', 'agreements', 'team', 'larry', '08', 'set', '20', 'pm']\n",
      "\n",
      "\t\t beta_topic (3):\n",
      "['mike', 'added', 'weekly', 'security', 'll', 'elizabeth', 'business', 'lets', 'kay', 'positions']\n",
      "\n",
      "\t\t beta_topic (4):\n",
      "['713', 'msn', 'delainey', 'look', 'fyi', 'robert', 'number', 'sure', 'think', 'letter']\n",
      "\n",
      "\t\t beta_topic (5):\n",
      "['reminder', 'jackie', 'soon', 'peak', 'theresa', 'cc', 'vacation', 'believe', 'est', 'language']\n",
      "\n",
      "\t\t beta_topic (6):\n",
      "['getting', 'christie', 'official', 'reports', 'pm', 'litigation', 'horton', 'unit', 'outlook', '646']\n",
      "\n",
      "\t\t beta_topic (7):\n",
      "['msn', '853', 'sara', 'analysis', 'fuel', 'car', 'assistance', 'latest', 'explorer', 'monday']\n",
      "\n",
      "\t\t beta_topic (8):\n",
      "['free', 'year', 'open', 'kill', 'leslie', 'meeting', 'weekend', 'way', 'took', 'good']\n",
      "\n",
      "\t\t beta_topic (9):\n",
      "['kitchen', 'louise', 'cc', 'htm', 'risk', 'contact', 'positions', 'idea', 'global', '2001']\n",
      "\n",
      "\tbeta_style (10):\n",
      "\t\t beta_style (0):\n",
      "['questions', 'attached', 'team', 'nat', 'gas', 'wish', '03', 'fischer', '2000', 'id']\n",
      "\n",
      "\t\t beta_style (1):\n",
      "['edmund', '58', 'beck', 'elizabeth', 'cover', 'concert', 'whats', 'saturday', 'receipt', 'lou']\n",
      "\n",
      "\t\t beta_style (2):\n",
      "['task', 'prior', 'days', 'kind', '58', 'leslie', 'approved', 'date', 'eott', 'weekend']\n",
      "\n",
      "\t\t beta_style (3):\n",
      "['need', 'changed', 'flight', 'dg', 'americas', 'region', 'awesome', 'open', 'view', 'brown']\n",
      "\n",
      "\t\t beta_style (4):\n",
      "['wife', 'long', 'instructions', '51', 'paul', 'possible', 'site', 'ees', 'html', 'victor']\n",
      "\n",
      "\t\t beta_style (5):\n",
      "['related', 'opening', 'looking', 'agreements', 'bruce', 'contract', '464', 'sense', 'sounds', 'julie']\n",
      "\n",
      "\t\t beta_style (6):\n",
      "['traded', 'eei', 'original', '646', 'mike', 'gave', 'stephanie', 'perfect', 'um', 'dasovich']\n",
      "\n",
      "\t\t beta_style (7):\n",
      "['heard', 'kitchen', '646', 'deals', 'lc', 'hard', 'taken', 'notice', 'cc', 'discuss']\n",
      "\n",
      "\t\t beta_style (8):\n",
      "['summary', 'black', 'heard', 'mentioned', 'ha', 'purchase', 'shelley', '29', 'intervention', 'discussions']\n",
      "\n",
      "\t\t beta_style (9):\n",
      "['used', 'robert', 'task', 'template', 'commercial', 'forwarded', 'company', 'remember', 'holiday', 'htm']\n",
      "\n",
      "Meta Var Info\n",
      "\tcasing (10):\n",
      "\t\t casing (0):\n",
      "['mixed', 'upper', 'lower']\n",
      "\n",
      "\t\t casing (1):\n",
      "['mixed', 'lower', 'upper']\n",
      "\n",
      "\t\t casing (2):\n",
      "['lower', 'mixed', 'upper']\n",
      "\n",
      "\t\t casing (3):\n",
      "['lower', 'upper', 'mixed']\n",
      "\n",
      "\t\t casing (4):\n",
      "['lower', 'upper', 'mixed']\n",
      "\n",
      "\t\t casing (5):\n",
      "['mixed', 'lower', 'upper']\n",
      "\n",
      "\t\t casing (6):\n",
      "['mixed', 'upper', 'lower']\n",
      "\n",
      "\t\t casing (7):\n",
      "['mixed', 'lower', 'upper']\n",
      "\n",
      "\t\t casing (8):\n",
      "['mixed', 'lower', 'upper']\n",
      "\n",
      "\t\t casing (9):\n",
      "['upper', 'lower', 'mixed']\n",
      "\n",
      "\temoji_task (10):\n",
      "\t\t emoji_task (0):\n",
      "['😊', '❤', '😘', '📷', '😍', '☀', '😜', '😎', '💙', '💜']\n",
      "\n",
      "\t\t emoji_task (1):\n",
      "['📷', '😂', '😍', '❤', '💕', '💯', '💙', '💜', '😜', '🇺🇸']\n",
      "\n",
      "\t\t emoji_task (2):\n",
      "['💜', '💕', '😂', '😉', '🇺🇸', '📸', '☀', '💙', '😁', '😘']\n",
      "\n",
      "\t\t emoji_task (3):\n",
      "['🎄', '🔥', '✨', '📷', '💯', '☀', '😁', '💙', '📸', '😜']\n",
      "\n",
      "\t\t emoji_task (4):\n",
      "['☀', '😘', '🔥', '❤', '📸', '💜', '😉', '😊', '🇺🇸', '💯']\n",
      "\n",
      "\t\t emoji_task (5):\n",
      "['😜', '💕', '☀', '😘', '📸', '🎄', '😍', '💜', '💙', '📷']\n",
      "\n",
      "\t\t emoji_task (6):\n",
      "['✨', '😉', '🎄', '💕', '🔥', '😁', '😂', '😜', '💯', '😍']\n",
      "\n",
      "\t\t emoji_task (7):\n",
      "['😂', '😍', '🎄', '💯', '💜', '😉', '💙', '😜', '🇺🇸', '😘']\n",
      "\n",
      "\t\t emoji_task (8):\n",
      "['😊', '🎄', '🇺🇸', '🔥', '📸', '😎', '☀', '😜', '😘', '📷']\n",
      "\n",
      "\t\t emoji_task (9):\n",
      "['✨', '💜', '😁', '💙', '💕', '😉', '😂', '😘', '💯', '🇺🇸']\n",
      "\n",
      "\tformality (10):\n",
      "\t\t formality (0):\n",
      "['Informal', 'Formal']\n",
      "\n",
      "\t\t formality (1):\n",
      "['Formal', 'Informal']\n",
      "\n",
      "\t\t formality (2):\n",
      "['Informal', 'Formal']\n",
      "\n",
      "\t\t formality (3):\n",
      "['Formal', 'Informal']\n",
      "\n",
      "\t\t formality (4):\n",
      "['Informal', 'Formal']\n",
      "\n",
      "\t\t formality (5):\n",
      "['Formal', 'Informal']\n",
      "\n",
      "\t\t formality (6):\n",
      "['Informal', 'Formal']\n",
      "\n",
      "\t\t formality (7):\n",
      "['Informal', 'Formal']\n",
      "\n",
      "\t\t formality (8):\n",
      "['Informal', 'Formal']\n",
      "\n",
      "\t\t formality (9):\n",
      "['Informal', 'Formal']\n",
      "\n",
      "\tpos_bigrams (10):\n",
      "\t\t pos_bigrams (0):\n",
      "['pos_bigrams:NUM SYM', 'pos_bigrams:ADP DET', 'pos_bigrams:SYM NUM', 'pos_bigrams:ADP PROPN', 'pos_bigrams:NOUN ADP', 'pos_bigrams:PROPN PROPN', 'pos_bigrams:AUX VERB', 'pos_bigrams:VERB NOUN', 'pos_bigrams:PUNCT NUM', 'pos_bigrams:PART VERB']\n",
      "\n",
      "\t\t pos_bigrams (1):\n",
      "['pos_bigrams:PUNCT VERB', 'pos_bigrams:NUM PRON', 'pos_bigrams:CCONJ DET', 'pos_bigrams:PROPN PART', 'pos_bigrams:DET ADP', 'pos_bigrams:ADJ X', 'pos_bigrams:VERB PROPN', 'pos_bigrams:NOUN INTJ', 'pos_bigrams:PROPN ADJ', 'pos_bigrams:NOUN ADP']\n",
      "\n",
      "\t\t pos_bigrams (2):\n",
      "['pos_bigrams:ADJ ADV', 'pos_bigrams:VERB PUNCT', 'pos_bigrams:ADJ NUM', 'pos_bigrams:DET NOUN', 'pos_bigrams:CCONJ AUX', 'pos_bigrams:PRON AUX', 'pos_bigrams:PART NOUN', 'pos_bigrams:X AUX', 'pos_bigrams:SYM VERB', 'pos_bigrams:NUM PROPN']\n",
      "\n",
      "\t\t pos_bigrams (3):\n",
      "['pos_bigrams:ADP SCONJ', 'pos_bigrams:PART DET', 'pos_bigrams:ADJ PUNCT', 'pos_bigrams:NUM VERB', 'pos_bigrams:AUX NUM', 'pos_bigrams:CCONJ SYM', 'pos_bigrams:PRON ADJ', 'pos_bigrams:ADP INTJ', 'pos_bigrams:SCONJ ADJ', 'pos_bigrams:NOUN PROPN']\n",
      "\n",
      "\t\t pos_bigrams (4):\n",
      "['pos_bigrams:SPACE ADJ', 'pos_bigrams:DET NUM', 'pos_bigrams:NUM X', 'pos_bigrams:DET INTJ', 'pos_bigrams:NUM ADP', 'pos_bigrams:NOUN X', 'pos_bigrams:VERB PROPN', 'pos_bigrams:PART PUNCT', 'pos_bigrams:CCONJ AUX', 'pos_bigrams:PART SPACE']\n",
      "\n",
      "\t\t pos_bigrams (5):\n",
      "['pos_bigrams:NUM PART', 'pos_bigrams:ADV ADP', 'pos_bigrams:NUM DET', 'pos_bigrams:INTJ SPACE', 'pos_bigrams:INTJ SYM', 'pos_bigrams:CCONJ DET', 'pos_bigrams:CCONJ SCONJ', 'pos_bigrams:SCONJ SPACE', 'pos_bigrams:DET INTJ', 'pos_bigrams:ADV NUM']\n",
      "\n",
      "\t\t pos_bigrams (6):\n",
      "['pos_bigrams:PROPN SYM', 'pos_bigrams:INTJ SPACE', 'pos_bigrams:PRON SCONJ', 'pos_bigrams:ADJ SYM', 'pos_bigrams:INTJ ADP', 'pos_bigrams:CCONJ PUNCT', 'pos_bigrams:ADV PROPN', 'pos_bigrams:SPACE NOUN', 'pos_bigrams:NUM PART', 'pos_bigrams:DET CCONJ']\n",
      "\n",
      "\t\t pos_bigrams (7):\n",
      "['pos_bigrams:PROPN ADV', 'pos_bigrams:PUNCT PROPN', 'pos_bigrams:NUM SYM', 'pos_bigrams:PROPN PROPN', 'pos_bigrams:PART VERB', 'pos_bigrams:VERB NOUN', 'pos_bigrams:AUX ADJ', 'pos_bigrams:VERB PART', 'pos_bigrams:SPACE ADJ', 'pos_bigrams:AUX VERB']\n",
      "\n",
      "\t\t pos_bigrams (8):\n",
      "['pos_bigrams:ADP PROPN', 'pos_bigrams:AUX VERB', 'pos_bigrams:NUM NUM', 'pos_bigrams:PROPN PROPN', 'pos_bigrams:PUNCT NUM', 'pos_bigrams:VERB PART', 'pos_bigrams:ADP PRON', 'pos_bigrams:NOUN VERB', 'pos_bigrams:PROPN ADP', 'pos_bigrams:NOUN AUX']\n",
      "\n",
      "\t\t pos_bigrams (9):\n",
      "['pos_bigrams:DET VERB', 'pos_bigrams:PUNCT SCONJ', 'pos_bigrams:VERB DET', 'pos_bigrams:ADP DET', 'pos_bigrams:VERB NOUN', 'pos_bigrams:VERB PUNCT', 'pos_bigrams:PRON VERB', 'pos_bigrams:ADV PRON', 'pos_bigrams:DET NOUN', 'pos_bigrams:PROPN NOUN']\n",
      "\n",
      "\tpunc_tags (10):\n",
      "\t\t punc_tags (0):\n",
      "['punctuation:(', 'punctuation:,', 'punctuation:`', 'punctuation:.', 'punctuation:–', 'punctuation:-', \"punctuation:'\", 'punctuation:?', 'punctuation:!', 'punctuation:*']\n",
      "\n",
      "\t\t punc_tags (1):\n",
      "['punctuation:,', 'punctuation:&', 'punctuation:(', 'punctuation:?', 'punctuation:;', \"punctuation:'\", 'punctuation:\"', 'punctuation:!', 'punctuation::', 'punctuation:‘']\n",
      "\n",
      "\t\t punc_tags (2):\n",
      "['punctuation:;', 'punctuation:\"', 'punctuation:-', 'punctuation::', 'punctuation:`', 'punctuation:–', 'punctuation:%', 'punctuation:‘', 'punctuation:_', 'none']\n",
      "\n",
      "\t\t punc_tags (3):\n",
      "['punctuation:,', 'punctuation::', 'punctuation:\"', 'punctuation:‘', 'punctuation:_', 'punctuation:`', 'punctuation:&', 'punctuation:%', 'none', 'punctuation:-']\n",
      "\n",
      "\t\t punc_tags (4):\n",
      "['punctuation:;', 'punctuation:)', 'punctuation:–', 'punctuation:!', 'punctuation:%', 'punctuation:‘', 'punctuation:.', 'punctuation::', 'none', 'punctuation:?']\n",
      "\n",
      "\t\t punc_tags (5):\n",
      "['punctuation:?', 'punctuation::', 'punctuation:`', 'punctuation:(', 'punctuation:–', 'punctuation:&', 'punctuation:*', 'punctuation:!', 'punctuation:_', 'punctuation:\"']\n",
      "\n",
      "\t\t punc_tags (6):\n",
      "['punctuation:,', 'punctuation:.', 'punctuation:‘', 'punctuation:(', 'punctuation:`', 'none', 'punctuation:–', 'punctuation:’', 'punctuation:%', 'punctuation:*']\n",
      "\n",
      "\t\t punc_tags (7):\n",
      "['punctuation:&', 'punctuation::', 'punctuation:,', 'punctuation:?', 'punctuation:)', 'punctuation:–', 'punctuation:\"', 'punctuation:.', 'punctuation:‘', \"punctuation:'\"]\n",
      "\n",
      "\t\t punc_tags (8):\n",
      "[\"punctuation:'\", 'punctuation:_', 'punctuation:)', 'none', 'punctuation:\"', 'punctuation:?', 'punctuation:.', 'punctuation:’', 'punctuation:`', 'punctuation:%']\n",
      "\n",
      "\t\t punc_tags (9):\n",
      "['punctuation:-', 'punctuation:.', 'punctuation:;', 'punctuation:)', 'punctuation:‘', 'punctuation:,', 'punctuation:\"', \"punctuation:'\", 'punctuation:(', 'punctuation:`']\n",
      "\n",
      "\tsentiment_task (10):\n",
      "\t\t sentiment_task (0):\n",
      "['neutral', 'positive', 'negative']\n",
      "\n",
      "\t\t sentiment_task (1):\n",
      "['positive', 'negative', 'neutral']\n",
      "\n",
      "\t\t sentiment_task (2):\n",
      "['neutral', 'negative', 'positive']\n",
      "\n",
      "\t\t sentiment_task (3):\n",
      "['positive', 'neutral', 'negative']\n",
      "\n",
      "\t\t sentiment_task (4):\n",
      "['neutral', 'negative', 'positive']\n",
      "\n",
      "\t\t sentiment_task (5):\n",
      "['positive', 'neutral', 'negative']\n",
      "\n",
      "\t\t sentiment_task (6):\n",
      "['positive', 'neutral', 'negative']\n",
      "\n",
      "\t\t sentiment_task (7):\n",
      "['neutral', 'positive', 'negative']\n",
      "\n",
      "\t\t sentiment_task (8):\n",
      "['positive', 'negative', 'neutral']\n",
      "\n",
      "\t\t sentiment_task (9):\n",
      "['neutral', 'negative', 'positive']\n",
      "\n"
     ]
    },
    {
     "name": "stderr",
     "output_type": "stream",
     "text": [
      "\n"
     ]
    }
   ],
   "source": [
    "top_words_per_latent = top_beta_document(prod_slda, vectorizer,  top_k=10)\n",
    "top_meta_per_latent = top_beta_meta(prod_slda, meta_features_to_names, top_k=10)\n",
    "\n",
    "print('Document Term Info')\n",
    "for latent, top in top_words_per_latent.items():\n",
    "    print(f'\\t{latent} ({len(top)}):')\n",
    "    for i, results in enumerate(top):\n",
    "        print(f'\\t\\t {latent} ({i}):\\n{results[\"top\"]}')\n",
    "        print()\n",
    "\n",
    "print('Meta Var Info')\n",
    "for latent, top in top_meta_per_latent.items():\n",
    "\n",
    "    print(f'\\t{latent} ({len(top)}):')\n",
    "    for i, results in enumerate(top):\n",
    "        print(f'\\t\\t {latent} ({i}):\\n{results[\"top\"]}')\n",
    "        print()"
   ]
  },
  {
   "cell_type": "code",
   "execution_count": null,
   "id": "540e74e6-7906-425e-83cc-5c3e80547760",
   "metadata": {},
   "outputs": [],
   "source": []
  }
 ],
 "metadata": {
  "kernelspec": {
   "display_name": "Python 3",
   "language": "python",
   "name": "python3"
  },
  "language_info": {
   "codemirror_mode": {
    "name": "ipython",
    "version": 3
   },
   "file_extension": ".py",
   "mimetype": "text/x-python",
   "name": "python",
   "nbconvert_exporter": "python",
   "pygments_lexer": "ipython3",
   "version": "3.8.10"
  }
 },
 "nbformat": 4,
 "nbformat_minor": 5
}
