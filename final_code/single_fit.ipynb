{
 "cells": [
  {
   "cell_type": "markdown",
   "id": "21413ea5-1e80-4770-a316-ed2b3fbebd85",
   "metadata": {},
   "source": [
    "Fit a single model (used for the independent model)"
   ]
  },
  {
   "cell_type": "code",
   "execution_count": 2,
   "id": "e2f8012e-f322-4234-aa7f-212c6c1620de",
   "metadata": {},
   "outputs": [],
   "source": [
    "import numpy as np\n",
    "import pandas as pd\n",
    "from scipy import sparse\n",
    "\n",
    "from tqdm import tqdm\n",
    "tqdm.pandas()\n",
    "import matplotlib.pyplot as plt\n",
    "\n",
    "from sklearn.model_selection import train_test_split\n",
    "\n",
    "from nltk.tag import pos_tag\n",
    "from nltk.tokenize import word_tokenize\n",
    "\n",
    "import torch\n",
    "import torch.nn as nn\n",
    "import torch.nn.functional as F\n",
    "from torch.utils.data import Dataset, DataLoader\n",
    "\n",
    "import pyro\n",
    "import pyro.distributions as dist\n",
    "from pyro.infer import SVI, Trace_ELBO, TraceMeanField_ELBO\n",
    "from pyro.optim import Adam, ClippedAdam\n",
    "\n",
    "from datetime import datetime\n",
    "import json\n",
    "from collections import defaultdict\n",
    "\n",
    "import os\n",
    "\n",
    "from prod_slda.model import ProdSLDA\n",
    "from prod_slda.data_utils import *"
   ]
  },
  {
   "cell_type": "code",
   "execution_count": 3,
   "id": "06b4db78-193f-4d0c-9038-885fe2bd413a",
   "metadata": {},
   "outputs": [],
   "source": [
    "def set_seeds(seed):\n",
    "    np.random.seed(seed)\n",
    "    torch.manual_seed(seed)\n",
    "    torch.cuda.manual_seed(seed)"
   ]
  },
  {
   "cell_type": "code",
   "execution_count": 26,
   "id": "073131aa-9d82-4037-91e6-8a5d750a0605",
   "metadata": {},
   "outputs": [],
   "source": [
    "# ----- EXPERIMENT HPARAMS -----\n",
    "META_FEATURES   = ['pos_bigrams','formality','emoji_task', 'casing','punc_tags', 'sentiment_task']\n",
    "EXPERIMENT_NAME = '_'.join(META_FEATURES)\n",
    "\n",
    "# ----- DATA HPARAMS -----\n",
    "OUT_DIR       = '/mnt/swordfish-pool2/ndeas/prob_models/final_results/' #'/burg/nlp/users/zfh2000/style_results'\n",
    "\n",
    "DATA_SRC      = '/mnt/swordfish-pool2/ndeas/prob_models/data/enron_processed.json' #'/burg/nlp/users/zfh2000/enron_processed.json'\n",
    "SPLITS_PATH   = '/mnt/swordfish-pool2/ndeas/prob_models/data/authors_splits.json' #'/burg/home/zfh2000/styletopicmodeling/scripts/authors_splits.json'\n",
    "SYNTHETIC_SRC = '/mnt/swordfish-pool2/ndeas/prob_models/data/gpt_4_enron_processed.json' #'/burg/nlp/users/zfh2000/gpt_4_enron_processed.json'\n",
    "\n",
    "BATCH_SIZE  = 128\n",
    "NUM_WORKERS = 4\n",
    "\n",
    "MAX_DF = 0.7\n",
    "MIN_DF = 20\n",
    "\n",
    "DATA_DIR_PATH = os.path.join(OUT_DIR,EXPERIMENT_NAME, f'maxdf{MAX_DF}_mindf{MIN_DF}_DATA')\n",
    "\n",
    "# NICK: files have been uploaded here: https://drive.google.com/drive/folders/1uF9GWEGe4aqSeo2MlachAWR9bTHsJq1q?usp=sharing\n",
    "# ['formality','irony', 'sentences', 'punc_tags', 'pos_bigrams', 'morph_tags', 'pos', 'casing', 'question',  'passive', 'emotion_task', 'sentiment_task', 'emoji_task']\n",
    "# NICK: Unsure which of of these features we should include!\n",
    "\n",
    "# ----- TRAINING HPARAMS -----\n",
    "\n",
    "LR = 1e-3\n",
    "BETAS = (0.99, 0.999)\n",
    "EPS   = 1e-8\n",
    "CLIP_NORM = 10.\n",
    "ADAM_ARGS = {'lr': LR, 'betas': BETAS, 'eps': EPS, 'clip_norm': CLIP_NORM}\n",
    "\n",
    "# ----- MODEL HPARAMS -----\n",
    "\n",
    "NUM_TOPICS = 20\n",
    "NUM_STYLES = 10\n",
    "TOPIC_HIDDEN_DIM   = 128\n",
    "STYLE_HIDDEN_DIM   = 16\n",
    "DROPOUT    = 0.2\n",
    "\n",
    "THETA_PRIOR_DIST = 'gaussian'\n",
    "THETA_PRIOR_LOC = 1.\n",
    "THETA_PRIOR_SCALE = 1.\n",
    "\n",
    "KAPPA_PRIOR_DIST = 'gaussian'\n",
    "KAPPA_PRIOR_LOC = 0.\n",
    "KAPPA_PRIOR_SCALE = 5.\n",
    "\n",
    "STYLE_TOPIC_LINK = 'none'\n",
    "\n",
    "NUM_EPOCHS = 30\n",
    "\n",
    "DEVICE = torch.device('cuda:0')\n",
    "\n",
    "# ----- CONFIG/SAVING -----\n",
    "date = datetime.now().strftime(\"%Y-%m-%d_%H_%M_%S\")\n",
    "\n",
    "info = {\n",
    "    'experiment_name': EXPERIMENT_NAME,\n",
    "    'num_topics': NUM_TOPICS,\n",
    "    'num_styles': NUM_STYLES,\n",
    "    'topic_hidden_dim': TOPIC_HIDDEN_DIM,\n",
    "    'style_hidden_dim': STYLE_HIDDEN_DIM,\n",
    "    'dropout': DROPOUT,\n",
    "    'theta_prior_dist': THETA_PRIOR_DIST,\n",
    "    'theta_prior_loc': THETA_PRIOR_LOC,\n",
    "    'theta_prior_scale': THETA_PRIOR_SCALE,\n",
    "    'kappa_prior_dist': KAPPA_PRIOR_DIST,\n",
    "    'kappa_prior_loc': KAPPA_PRIOR_LOC,\n",
    "    'kappa_prior_scale': KAPPA_PRIOR_SCALE,\n",
    "    'style_topic_link': STYLE_TOPIC_LINK,\n",
    "    'num_epochs': NUM_EPOCHS,\n",
    "    'date': date,\n",
    "    'lr': LR,\n",
    "    'betas': BETAS,\n",
    "    'eps': EPS,\n",
    "    'batch_size': BATCH_SIZE,\n",
    "    'clip_norm': CLIP_NORM,\n",
    "    'num_workers': NUM_WORKERS,\n",
    "    'device': DEVICE.type,\n",
    "    'meta_features': META_FEATURES,\n",
    "    'DATA_SRC': DATA_SRC,\n",
    "    'SPLITS_PATH': SPLITS_PATH,\n",
    "    'SYNTHETIC_SRC': SYNTHETIC_SRC,\n",
    "    'MAX_DF': MAX_DF,\n",
    "    'MIN_DF': MIN_DF,\n",
    "}\n",
    "\n",
    "PATH = os.path.join(OUT_DIR, EXPERIMENT_NAME, date)\n",
    "os.makedirs(PATH, exist_ok=True)\n",
    "with open(os.path.join(PATH, 'info.json'), 'w') as f:\n",
    "    json.dump(info, f, indent=4)"
   ]
  },
  {
   "cell_type": "markdown",
   "id": "293b5753-b006-44c8-885f-32f70635d4ca",
   "metadata": {},
   "source": [
    "# Data Setup "
   ]
  },
  {
   "cell_type": "markdown",
   "id": "6e5f1c90-decd-41a0-a23e-beec5a4692dd",
   "metadata": {
    "tags": []
   },
   "source": [
    "## Data Preprocessing/Loading"
   ]
  },
  {
   "cell_type": "code",
   "execution_count": 27,
   "id": "4f79754a-9fa0-4fdd-a647-0084e702f05f",
   "metadata": {
    "scrolled": true,
    "tags": []
   },
   "outputs": [
    {
     "name": "stdout",
     "output_type": "stream",
     "text": [
      "LOADING FROM /mnt/swordfish-pool2/ndeas/prob_models/final_results/pos_bigrams_formality_emoji_task_casing_punc_tags_sentiment_task/maxdf0.7_mindf20_DATA\n"
     ]
    }
   ],
   "source": [
    "if not os.path.exists(DATA_DIR_PATH):\n",
    "    bows, meta_vectorized, vectorizer, raw_text, authors_json, meta_features_to_names = prepare_data(DATA_SRC,\n",
    "                 SYNTHETIC_SRC,\n",
    "                 SPLITS_PATH,\n",
    "                 META_FEATURES,\n",
    "                 DATA_DIR_PATH,\n",
    "                 max_df = MAX_DF,\n",
    "                 min_df = MIN_DF)\n",
    "else:\n",
    "    print(f\"LOADING FROM {DATA_DIR_PATH}\")\n",
    "    \n",
    "    bows, meta_vectorized, vectorizer, raw_text, authors_json, meta_features_to_names = load_data(DATA_DIR_PATH)   "
   ]
  },
  {
   "cell_type": "code",
   "execution_count": 28,
   "id": "fa09ece7-3827-47a7-b7fc-a441a589298c",
   "metadata": {},
   "outputs": [],
   "source": [
    "NUM_DOCS   = bows['training'].shape[0]\n",
    "VOCAB_SIZE = bows['training'].shape[1]\n",
    "META_SIZE  = {k:v.shape[1] for k,v in meta_vectorized['training'].items()}\n",
    "IDX_TO_TERM = {v:k for k,v in vectorizer.vocabulary_.items()}"
   ]
  },
  {
   "cell_type": "code",
   "execution_count": 29,
   "id": "14566e36-f4aa-4812-8633-d6e6c638f2e9",
   "metadata": {},
   "outputs": [
    {
     "name": "stdout",
     "output_type": "stream",
     "text": [
      "BOW Dims: (66668, 3098)\n",
      "META Dims: {'casing': 3, 'emoji_task': 20, 'formality': 2, 'pos_bigrams': 324, 'punc_tags': 20, 'sentiment_task': 3}\n"
     ]
    }
   ],
   "source": [
    "print(f'BOW Dims: {bows[\"training\"].shape}')\n",
    "print(f'META Dims: {META_SIZE}')"
   ]
  },
  {
   "cell_type": "markdown",
   "id": "cb6e3a9e-420d-4b50-887a-6e00b5ec98f7",
   "metadata": {},
   "source": [
    "## Dataset"
   ]
  },
  {
   "cell_type": "code",
   "execution_count": 30,
   "id": "e16dec22-8379-430b-8f25-5675e8ef8af3",
   "metadata": {},
   "outputs": [],
   "source": [
    "dataset = DocMetaData(bows['training'], meta_vectorized['training'])\n",
    "eval_dataset = DocMetaData(bows['holdout'], meta_vectorized['holdout'], split_halves = True)"
   ]
  },
  {
   "cell_type": "code",
   "execution_count": 31,
   "id": "e231698c-1fd3-48de-98ee-43843613b690",
   "metadata": {},
   "outputs": [],
   "source": [
    "dl = DataLoader(dataset, batch_size = BATCH_SIZE, num_workers = NUM_WORKERS, shuffle=True)\n",
    "eval_dl = DataLoader(eval_dataset, batch_size = BATCH_SIZE, num_workers = NUM_WORKERS, shuffle=True)"
   ]
  },
  {
   "cell_type": "code",
   "execution_count": 32,
   "id": "eb31ab8a-2164-4454-93be-ea3fb6899331",
   "metadata": {},
   "outputs": [
    {
     "name": "stdout",
     "output_type": "stream",
     "text": [
      "bow            \n",
      "\t               : torch.Size([128, 3098])\n",
      "meta\n",
      "\tcasing         : torch.Size([128, 3])\n",
      "\temoji_task     : torch.Size([128, 20])\n",
      "\tformality      : torch.Size([128, 2])\n",
      "\tpos_bigrams    : torch.Size([128, 324])\n",
      "\tpunc_tags      : torch.Size([128, 20])\n",
      "\tsentiment_task : torch.Size([128, 3])\n"
     ]
    }
   ],
   "source": [
    "train_test_batch = next(iter(dl))\n",
    "for k, v in train_test_batch.items():\n",
    "    if isinstance(v, dict):\n",
    "        print(k)\n",
    "        for k1, v1 in v.items():\n",
    "             print(f'\\t{k1:15s}: {str(v1.shape)}')\n",
    "    else:\n",
    "        print(f'{k:15s}\\n\\t{\"\":15s}: {v.shape}')"
   ]
  },
  {
   "cell_type": "code",
   "execution_count": 33,
   "id": "7cc84357-253d-49b2-9785-db722daceaae",
   "metadata": {},
   "outputs": [
    {
     "name": "stdout",
     "output_type": "stream",
     "text": [
      "bow            \n",
      "\t               : torch.Size([128, 3098])\n",
      "meta\n",
      "\tcasing         : torch.Size([128, 3])\n",
      "\temoji_task     : torch.Size([128, 20])\n",
      "\tformality      : torch.Size([128, 2])\n",
      "\tpos_bigrams    : torch.Size([128, 324])\n",
      "\tpunc_tags      : torch.Size([128, 20])\n",
      "\tsentiment_task : torch.Size([128, 3])\n",
      "bow_h1         \n",
      "\t               : torch.Size([128, 3098])\n",
      "bow_h2         \n",
      "\t               : torch.Size([128, 3098])\n"
     ]
    }
   ],
   "source": [
    "eval_test_batch = next(iter(eval_dl))\n",
    "for k, v in eval_test_batch.items():\n",
    "    if isinstance(v, dict):\n",
    "        print(k)\n",
    "        for k1, v1 in v.items():\n",
    "             print(f'\\t{k1:15s}: {str(v1.shape)}')\n",
    "    else:\n",
    "        print(f'{k:15s}\\n\\t{\"\":15s}: {v.shape}')"
   ]
  },
  {
   "cell_type": "markdown",
   "id": "6d1b0ce8-9814-431f-8ecb-f557327c933d",
   "metadata": {},
   "source": [
    "# Training"
   ]
  },
  {
   "cell_type": "markdown",
   "id": "9ed443b9-6ebe-4351-aeb7-5c85caff576b",
   "metadata": {
    "tags": []
   },
   "source": [
    "## Setup"
   ]
  },
  {
   "cell_type": "code",
   "execution_count": 34,
   "id": "5cb86678-f33a-49a1-971c-1641b2da6e66",
   "metadata": {
    "scrolled": true,
    "tags": []
   },
   "outputs": [
    {
     "name": "stdout",
     "output_type": "stream",
     "text": [
      "{'beta_topic': tensor([[-0.1390, -0.1769,  0.1962,  ...,  0.1805,  0.1970, -0.1647],\n",
      "        [-0.1145, -0.2135,  0.1970,  ...,  0.1013, -0.1415, -0.0528],\n",
      "        [-0.0026,  0.1317,  0.0016,  ..., -0.1518, -0.0941,  0.0538],\n",
      "        ...,\n",
      "        [-0.1735,  0.0038, -0.1879,  ...,  0.1490, -0.1439,  0.0075],\n",
      "        [ 0.1689, -0.0975,  0.0712,  ...,  0.0549,  0.1598, -0.1547],\n",
      "        [ 0.1072, -0.1586,  0.0668,  ...,  0.1902, -0.1642,  0.1775]])}\n",
      "{'casing': tensor([[ 0.2489, -0.2175, -0.3087],\n",
      "        [ 0.1845,  0.0787,  0.2793],\n",
      "        [ 0.2424,  0.2629, -0.0665],\n",
      "        [ 0.0009,  0.2277,  0.1243],\n",
      "        [ 0.1666, -0.0240, -0.1311],\n",
      "        [ 0.0376,  0.1133, -0.2463],\n",
      "        [-0.2070, -0.2516,  0.0592],\n",
      "        [-0.1730, -0.2752,  0.1795],\n",
      "        [ 0.2563, -0.0630, -0.1708],\n",
      "        [-0.1826, -0.2810, -0.1686]]), 'emoji_task': tensor([[ 0.2336,  0.1210,  0.1987, -0.2206, -0.2787, -0.0262,  0.2290,  0.2059,\n",
      "         -0.1784,  0.0215, -0.1571,  0.1764, -0.1359, -0.0150, -0.1351, -0.1146,\n",
      "          0.1353, -0.0394, -0.2423, -0.0869],\n",
      "        [ 0.2193, -0.1248,  0.1867,  0.2293, -0.2811,  0.1648, -0.0420,  0.2821,\n",
      "          0.1536,  0.2596, -0.0644,  0.0967, -0.0388, -0.2479,  0.2056, -0.2186,\n",
      "          0.0192,  0.0982, -0.1830, -0.0794],\n",
      "        [ 0.0525, -0.2604,  0.1065, -0.1776,  0.2577, -0.2010,  0.0513,  0.2236,\n",
      "         -0.1096,  0.0226, -0.2082,  0.1908, -0.0190,  0.2690, -0.3131, -0.2389,\n",
      "         -0.2606, -0.2677,  0.1241,  0.3021],\n",
      "        [ 0.0375,  0.0635, -0.1680,  0.0812,  0.0648, -0.2971,  0.1784, -0.2770,\n",
      "         -0.2157, -0.3128,  0.3030,  0.2192, -0.0452,  0.1383, -0.2902,  0.0053,\n",
      "         -0.0679,  0.2989, -0.1343,  0.3104],\n",
      "        [ 0.1796, -0.1020,  0.0648,  0.2230,  0.0120, -0.2110, -0.0791, -0.0622,\n",
      "          0.1762,  0.1491,  0.1916, -0.2430, -0.0222, -0.0342, -0.1976, -0.2861,\n",
      "          0.2661, -0.1319, -0.0616,  0.1961],\n",
      "        [-0.1738, -0.3095, -0.0947, -0.0362, -0.1238, -0.0551,  0.0072,  0.0312,\n",
      "         -0.2873, -0.0120,  0.0134,  0.2927,  0.0185,  0.1225, -0.0859, -0.1387,\n",
      "         -0.0424, -0.0574, -0.1728,  0.2172],\n",
      "        [-0.0173, -0.2251, -0.1008, -0.0145,  0.1030,  0.0272,  0.0056, -0.0418,\n",
      "         -0.2906,  0.1560, -0.2047, -0.2486,  0.2113, -0.0863, -0.1217, -0.0149,\n",
      "          0.2345,  0.2804,  0.2368,  0.1978],\n",
      "        [ 0.1117,  0.2014,  0.2854, -0.2945, -0.2922,  0.2534,  0.2268,  0.2775,\n",
      "          0.2297,  0.1518,  0.2152,  0.2273,  0.2896, -0.2325,  0.0893, -0.3042,\n",
      "         -0.2118,  0.1304, -0.0763,  0.2928],\n",
      "        [-0.1494,  0.0651, -0.0234, -0.2217,  0.2826,  0.1848,  0.1996, -0.2484,\n",
      "          0.1433, -0.0347,  0.2425, -0.2460, -0.0618,  0.0555, -0.2104, -0.2653,\n",
      "         -0.1896, -0.3044,  0.0421,  0.1349],\n",
      "        [ 0.0299,  0.1224, -0.2802,  0.1920,  0.0713, -0.1110, -0.2066, -0.2178,\n",
      "         -0.3061,  0.2085, -0.2203,  0.2737, -0.2014, -0.0937,  0.2235,  0.3134,\n",
      "          0.0056,  0.0219,  0.0453, -0.0455]]), 'formality': tensor([[ 0.1934,  0.2669],\n",
      "        [ 0.1656,  0.1001],\n",
      "        [-0.2459,  0.2689],\n",
      "        [-0.0192,  0.2595],\n",
      "        [ 0.2576,  0.1410],\n",
      "        [-0.2084,  0.1228],\n",
      "        [-0.1219, -0.0097],\n",
      "        [ 0.0961, -0.3071],\n",
      "        [-0.1815,  0.1277],\n",
      "        [ 0.0736,  0.0922]]), 'pos_bigrams': tensor([[ 0.0545,  0.1898,  0.2880,  ..., -0.1259, -0.3125, -0.1208],\n",
      "        [-0.1069,  0.0732, -0.2094,  ..., -0.0265,  0.0646, -0.0025],\n",
      "        [ 0.1140, -0.0616, -0.0752,  ..., -0.0575, -0.0499,  0.1217],\n",
      "        ...,\n",
      "        [-0.1136, -0.0791, -0.0299,  ..., -0.1721, -0.0482, -0.1257],\n",
      "        [-0.0510, -0.0378, -0.0921,  ..., -0.1025, -0.2489, -0.2524],\n",
      "        [ 0.0642,  0.2016, -0.3029,  ..., -0.0715,  0.0733,  0.2881]]), 'punc_tags': tensor([[-0.2661, -0.0741,  0.0228, -0.2554,  0.2207, -0.2705,  0.2557,  0.0709,\n",
      "          0.2214,  0.1758, -0.1429,  0.2584,  0.1155, -0.1549, -0.0320,  0.2914,\n",
      "          0.0279,  0.1456,  0.0810,  0.0679],\n",
      "        [ 0.1399, -0.1386,  0.1977, -0.2850,  0.2789, -0.2181,  0.1202, -0.0570,\n",
      "         -0.2643, -0.2848,  0.0382,  0.2380,  0.0279,  0.2239,  0.0243, -0.0382,\n",
      "          0.1570,  0.1834, -0.1203,  0.0642],\n",
      "        [-0.1633,  0.2867, -0.0476, -0.1902,  0.0085,  0.2260, -0.2903,  0.2639,\n",
      "          0.1591,  0.0733, -0.2938, -0.1197, -0.0402,  0.2499,  0.2616,  0.0948,\n",
      "         -0.1583,  0.1863, -0.2466,  0.2807],\n",
      "        [ 0.0373,  0.2879,  0.2220, -0.2840,  0.2956,  0.1710,  0.0226,  0.0913,\n",
      "          0.1141, -0.2626, -0.0508,  0.2063, -0.1743,  0.1710,  0.2560,  0.0669,\n",
      "          0.1841,  0.1874,  0.2827, -0.2645],\n",
      "        [-0.1867, -0.0051, -0.2990,  0.2252, -0.0348,  0.1827, -0.0735,  0.2005,\n",
      "          0.2531, -0.0650,  0.2762,  0.2456, -0.1594, -0.2035, -0.1582,  0.3070,\n",
      "         -0.2716,  0.0416,  0.0399,  0.1071],\n",
      "        [-0.0476,  0.0843,  0.2461, -0.2651, -0.1819,  0.1769,  0.0431,  0.2824,\n",
      "         -0.1709, -0.0104,  0.0922, -0.0270,  0.1863, -0.1939, -0.1681, -0.0652,\n",
      "          0.0740,  0.1280, -0.0384,  0.2705],\n",
      "        [ 0.3026,  0.0893, -0.0525, -0.2420,  0.0790,  0.0718,  0.1875,  0.1383,\n",
      "         -0.2495,  0.0450,  0.1535,  0.0973, -0.3079,  0.2316, -0.2048,  0.1152,\n",
      "         -0.0493, -0.2244, -0.0793,  0.0751],\n",
      "        [-0.1822, -0.1441, -0.3115, -0.2065,  0.0347,  0.3084, -0.1160, -0.1840,\n",
      "         -0.2631, -0.1016, -0.1954,  0.1059, -0.1996,  0.1679, -0.2584, -0.1678,\n",
      "          0.0739,  0.0326,  0.1838, -0.0615],\n",
      "        [ 0.2276,  0.0645, -0.2563, -0.0519,  0.2354, -0.1940,  0.1251, -0.2220,\n",
      "          0.1326, -0.2309,  0.2517, -0.2104, -0.0862, -0.2285, -0.1973, -0.1572,\n",
      "         -0.0979,  0.0058,  0.0816,  0.2890],\n",
      "        [ 0.1823,  0.2195,  0.1515, -0.1443, -0.0861, -0.0387, -0.0442, -0.1585,\n",
      "          0.0945,  0.1141,  0.0326,  0.2964, -0.2404,  0.0505,  0.0497, -0.2119,\n",
      "          0.3156,  0.2088,  0.0428,  0.2499]]), 'sentiment_task': tensor([[ 0.2660, -0.1906, -0.2232],\n",
      "        [ 0.2297, -0.0529, -0.2105],\n",
      "        [-0.0405,  0.0158,  0.3033],\n",
      "        [ 0.1251,  0.1667,  0.1366],\n",
      "        [ 0.0412, -0.3103,  0.0393],\n",
      "        [-0.0819,  0.1549, -0.2600],\n",
      "        [ 0.1864, -0.0050,  0.2883],\n",
      "        [ 0.2920,  0.1808,  0.0103],\n",
      "        [ 0.2030,  0.2627,  0.0808],\n",
      "        [ 0.1763,  0.0969,  0.1708]])}\n",
      "Parameter containing:\n",
      "tensor([[-0.0251, -0.0210,  0.0155,  ..., -0.0034, -0.0198,  0.0254],\n",
      "        [ 0.0746,  0.0078,  0.0224,  ..., -0.0867,  0.0454,  0.0359],\n",
      "        [ 0.0013, -0.0915, -0.0329,  ..., -0.0594,  0.0521, -0.0991],\n",
      "        ...,\n",
      "        [-0.0892,  0.0933, -0.0975,  ..., -0.0036,  0.0527,  0.0270],\n",
      "        [ 0.0610, -0.0937, -0.0476,  ...,  0.0718,  0.0594, -0.0065],\n",
      "        [ 0.0296, -0.0159,  0.0567,  ..., -0.0153,  0.0368, -0.0531]],\n",
      "       device='cuda:0', requires_grad=True)\n"
     ]
    }
   ],
   "source": [
    "prod_slda = ProdSLDA(\n",
    "    vocab_size = VOCAB_SIZE,\n",
    "    meta_sizes  = META_SIZE,\n",
    "    num_topics = NUM_TOPICS, num_styles = NUM_STYLES, \n",
    "    topic_hidden = TOPIC_HIDDEN_DIM, style_hidden = STYLE_HIDDEN_DIM, dropout = DROPOUT, \n",
    "    theta_prior_dist = THETA_PRIOR_DIST, \n",
    "    theta_prior_loc = THETA_PRIOR_LOC, theta_prior_scale = THETA_PRIOR_SCALE,\n",
    "    kappa_prior_dist = KAPPA_PRIOR_DIST, \n",
    "    kappa_prior_loc = KAPPA_PRIOR_LOC, kappa_prior_scale = KAPPA_PRIOR_SCALE,\n",
    "    style_topic_link = STYLE_TOPIC_LINK,\n",
    ").to(DEVICE)\n",
    "\n",
    "print(prod_slda.beta_document())\n",
    "print(prod_slda.beta_meta())\n",
    "print(prod_slda.style_encoder.fc2.weight)\n"
   ]
  },
  {
   "cell_type": "markdown",
   "id": "bf790d2c-25ba-4769-8703-5b9e672a735f",
   "metadata": {
    "tags": []
   },
   "source": [
    "## Training "
   ]
  },
  {
   "cell_type": "code",
   "execution_count": 35,
   "id": "4487f140-7c91-4b84-9404-af5d21b233d8",
   "metadata": {
    "scrolled": true,
    "tags": []
   },
   "outputs": [],
   "source": [
    "%%capture cap --no-stderr\n",
    "pyro.clear_param_store()\n",
    "prod_slda.train()"
   ]
  },
  {
   "cell_type": "code",
   "execution_count": 36,
   "id": "2cc93883-15f9-411c-98b0-851ee1f1390a",
   "metadata": {},
   "outputs": [],
   "source": [
    "optim = pyro.optim.ClippedAdam(ADAM_ARGS)\n",
    "\n",
    "svi = SVI(\n",
    "    pyro.poutine.scale(prod_slda.model, BATCH_SIZE/len(dl.dataset)),\n",
    "    pyro.poutine.scale(prod_slda.guide, BATCH_SIZE/len(dl.dataset)),\n",
    "    optim,\n",
    "    loss = TraceMeanField_ELBO()\n",
    ")"
   ]
  },
  {
   "cell_type": "code",
   "execution_count": 37,
   "id": "7323f1de-8558-482e-91f2-4e05b4c822d4",
   "metadata": {},
   "outputs": [],
   "source": [
    "LAST_ELBOS = 10"
   ]
  },
  {
   "cell_type": "code",
   "execution_count": 38,
   "id": "fd277255-7d8c-46ad-b9df-717d027487d0",
   "metadata": {},
   "outputs": [],
   "source": [
    "def train_epochs(prod_slda, svi, train_dl, eval_dl, num_epochs, device, last_elbos = 5):\n",
    "    total_epochs = 0\n",
    "    train_elbo = []\n",
    "    val_elbo = []\n",
    "\n",
    "    print(\"---TRAINING---\")\n",
    "    for epoch in range(num_epochs):\n",
    "\n",
    "        epoch_elbo = 0.\n",
    "        prod_slda.train()\n",
    "        for batch in tqdm(train_dl):\n",
    "\n",
    "            batch = batch_to_device(batch, device)\n",
    "\n",
    "            bow = batch['bow']\n",
    "            meta = batch['meta']\n",
    "\n",
    "            epoch_elbo += svi.step(bow, meta)\n",
    "\n",
    "\n",
    "        eval_elbo = 0\n",
    "        prod_slda.eval()\n",
    "        with torch.no_grad():\n",
    "            for batch in tqdm(eval_dl):\n",
    "\n",
    "                batch = batch_to_device(batch, device)\n",
    "\n",
    "                bow = batch['bow']\n",
    "                meta = batch['meta']\n",
    "\n",
    "                eval_elbo += svi.evaluate_loss(bow, meta)           \n",
    "\n",
    "\n",
    "        print(f'Epoch {epoch}: {epoch_elbo:.3f}')\n",
    "        print(f'Epoch {epoch}: Eval: {eval_elbo:.3f}')\n",
    "\n",
    "        train_elbo.append(epoch_elbo)\n",
    "        val_elbo.append(eval_elbo)\n",
    "        total_epochs +=1\n",
    "\n",
    "        if len(val_elbo) > last_elbos:\n",
    "            val_elbo_changes = [val_elbo[i] - val_elbo[i-1] for i in range(len(val_elbo) - last_elbos, len(val_elbo))]\n",
    "            if np.mean(val_elbo_changes) > 0:\n",
    "                print(f'Val ELBO diverging, stopping fitting: {np.mean(val_elbo_changes):.3f}')\n",
    "                break \n",
    "                \n",
    "    return train_elbo, val_elbo"
   ]
  },
  {
   "cell_type": "code",
   "execution_count": 39,
   "id": "d39b49e5-b939-4d06-ab3b-bd3137e4d886",
   "metadata": {},
   "outputs": [
    {
     "name": "stdout",
     "output_type": "stream",
     "text": [
      "---TRAINING---\n"
     ]
    },
    {
     "name": "stderr",
     "output_type": "stream",
     "text": [
      "100%|██████████| 521/521 [00:23<00:00, 22.32it/s]\n",
      "100%|██████████| 179/179 [00:07<00:00, 22.49it/s]\n"
     ]
    },
    {
     "name": "stdout",
     "output_type": "stream",
     "text": [
      "Epoch 0: 19532.873\n",
      "Epoch 0: Eval: 5617.769\n"
     ]
    },
    {
     "name": "stderr",
     "output_type": "stream",
     "text": [
      "100%|██████████| 521/521 [00:24<00:00, 21.68it/s]\n",
      "100%|██████████| 179/179 [00:07<00:00, 22.45it/s]\n"
     ]
    },
    {
     "name": "stdout",
     "output_type": "stream",
     "text": [
      "Epoch 1: 17910.722\n",
      "Epoch 1: Eval: 5701.702\n"
     ]
    },
    {
     "name": "stderr",
     "output_type": "stream",
     "text": [
      "100%|██████████| 521/521 [00:23<00:00, 21.76it/s]\n",
      "100%|██████████| 179/179 [00:07<00:00, 22.42it/s]\n"
     ]
    },
    {
     "name": "stdout",
     "output_type": "stream",
     "text": [
      "Epoch 2: 17348.276\n",
      "Epoch 2: Eval: 5520.498\n"
     ]
    },
    {
     "name": "stderr",
     "output_type": "stream",
     "text": [
      "100%|██████████| 521/521 [00:24<00:00, 21.31it/s]\n",
      "100%|██████████| 179/179 [00:07<00:00, 23.26it/s]\n"
     ]
    },
    {
     "name": "stdout",
     "output_type": "stream",
     "text": [
      "Epoch 3: 17085.313\n",
      "Epoch 3: Eval: 5494.578\n"
     ]
    },
    {
     "name": "stderr",
     "output_type": "stream",
     "text": [
      "100%|██████████| 521/521 [00:24<00:00, 21.40it/s]\n",
      "100%|██████████| 179/179 [00:07<00:00, 23.19it/s]\n"
     ]
    },
    {
     "name": "stdout",
     "output_type": "stream",
     "text": [
      "Epoch 4: 16938.410\n",
      "Epoch 4: Eval: 5460.572\n"
     ]
    },
    {
     "name": "stderr",
     "output_type": "stream",
     "text": [
      "100%|██████████| 521/521 [00:24<00:00, 20.89it/s]\n",
      "100%|██████████| 179/179 [00:07<00:00, 22.69it/s]\n"
     ]
    },
    {
     "name": "stdout",
     "output_type": "stream",
     "text": [
      "Epoch 5: 16851.136\n",
      "Epoch 5: Eval: 5595.087\n"
     ]
    },
    {
     "name": "stderr",
     "output_type": "stream",
     "text": [
      "100%|██████████| 521/521 [00:24<00:00, 21.26it/s]\n",
      "100%|██████████| 179/179 [00:08<00:00, 22.28it/s]\n"
     ]
    },
    {
     "name": "stdout",
     "output_type": "stream",
     "text": [
      "Epoch 6: 16742.933\n",
      "Epoch 6: Eval: 5446.512\n"
     ]
    },
    {
     "name": "stderr",
     "output_type": "stream",
     "text": [
      "100%|██████████| 521/521 [00:24<00:00, 21.66it/s]\n",
      "100%|██████████| 179/179 [00:08<00:00, 21.93it/s]\n"
     ]
    },
    {
     "name": "stdout",
     "output_type": "stream",
     "text": [
      "Epoch 7: 16688.300\n",
      "Epoch 7: Eval: 5497.404\n"
     ]
    },
    {
     "name": "stderr",
     "output_type": "stream",
     "text": [
      "100%|██████████| 521/521 [00:24<00:00, 21.47it/s]\n",
      "100%|██████████| 179/179 [00:08<00:00, 22.31it/s]\n"
     ]
    },
    {
     "name": "stdout",
     "output_type": "stream",
     "text": [
      "Epoch 8: 16654.720\n",
      "Epoch 8: Eval: 5503.374\n"
     ]
    },
    {
     "name": "stderr",
     "output_type": "stream",
     "text": [
      "100%|██████████| 521/521 [00:24<00:00, 20.97it/s]\n",
      "100%|██████████| 179/179 [00:07<00:00, 23.19it/s]\n"
     ]
    },
    {
     "name": "stdout",
     "output_type": "stream",
     "text": [
      "Epoch 9: 16517.082\n",
      "Epoch 9: Eval: 5598.555\n"
     ]
    },
    {
     "name": "stderr",
     "output_type": "stream",
     "text": [
      "100%|██████████| 521/521 [00:25<00:00, 20.45it/s]\n",
      "100%|██████████| 179/179 [00:07<00:00, 22.88it/s]\n"
     ]
    },
    {
     "name": "stdout",
     "output_type": "stream",
     "text": [
      "Epoch 10: 16458.506\n",
      "Epoch 10: Eval: 5532.039\n"
     ]
    },
    {
     "name": "stderr",
     "output_type": "stream",
     "text": [
      "100%|██████████| 521/521 [00:24<00:00, 21.13it/s]\n",
      "100%|██████████| 179/179 [00:07<00:00, 22.52it/s]\n"
     ]
    },
    {
     "name": "stdout",
     "output_type": "stream",
     "text": [
      "Epoch 11: 16480.153\n",
      "Epoch 11: Eval: 5524.388\n"
     ]
    },
    {
     "name": "stderr",
     "output_type": "stream",
     "text": [
      "100%|██████████| 521/521 [00:23<00:00, 22.21it/s]\n",
      "100%|██████████| 179/179 [00:07<00:00, 22.52it/s]\n"
     ]
    },
    {
     "name": "stdout",
     "output_type": "stream",
     "text": [
      "Epoch 12: 16433.703\n",
      "Epoch 12: Eval: 5495.046\n"
     ]
    },
    {
     "name": "stderr",
     "output_type": "stream",
     "text": [
      "100%|██████████| 521/521 [00:23<00:00, 21.78it/s]\n",
      "100%|██████████| 179/179 [00:07<00:00, 23.69it/s]"
     ]
    },
    {
     "name": "stdout",
     "output_type": "stream",
     "text": [
      "Epoch 13: 16417.234\n",
      "Epoch 13: Eval: 5511.276\n",
      "Val ELBO diverging, stopping fitting: 1.670\n"
     ]
    },
    {
     "name": "stderr",
     "output_type": "stream",
     "text": [
      "\n"
     ]
    }
   ],
   "source": [
    "train_elbo, val_elbo = train_epochs(prod_slda, svi, dl, eval_dl, NUM_EPOCHS, DEVICE, last_elbos = LAST_ELBOS) "
   ]
  },
  {
   "cell_type": "code",
   "execution_count": 40,
   "id": "ece5f6e3-4f9a-45e0-a4d3-a24ca9ebae4b",
   "metadata": {},
   "outputs": [],
   "source": [
    "total_epochs = len(train_elbo)"
   ]
  },
  {
   "cell_type": "code",
   "execution_count": 41,
   "id": "b26d2c55-5c5a-48ee-80c6-1331ac4ef92a",
   "metadata": {},
   "outputs": [
    {
     "name": "stdout",
     "output_type": "stream",
     "text": [
      "Saved to /mnt/swordfish-pool2/ndeas/prob_models/final_results/pos_bigrams_formality_emoji_task_casing_punc_tags_sentiment_task/2023-12-21_21_07_02/model_epoch14_5511.27596282959.pt\n"
     ]
    }
   ],
   "source": [
    "path = os.path.join(PATH, f'model_epoch{total_epochs}_{val_elbo[-1]}.pt')\n",
    "prod_slda.eval()\n",
    "torch.save(prod_slda, path)\n",
    "print(f'Saved to {path}')"
   ]
  },
  {
   "cell_type": "code",
   "execution_count": 42,
   "id": "9cdb0de0-6987-4a2a-9fc8-b98d6b0bc7da",
   "metadata": {},
   "outputs": [],
   "source": [
    "pd.DataFrame({'train_elbo': train_elbo, 'val_elbo': val_elbo}).to_csv(os.path.join(PATH, 'elbos.json'), index = None)"
   ]
  },
  {
   "cell_type": "code",
   "execution_count": 43,
   "id": "310e69d2-833d-41c4-a81c-e1b92c3f8e19",
   "metadata": {},
   "outputs": [
    {
     "data": {
      "image/png": "[encoded data removed]",
      "text/plain": [
       "<Figure size 640x480 with 1 Axes>"
      ]
     },
     "metadata": {},
     "output_type": "display_data"
    }
   ],
   "source": [
    "plt.plot(range(len(train_elbo)), [e/len(dl.dataset) for e in train_elbo], label = 'In-Sample')\n",
    "plt.plot(range(len(val_elbo)), [e/len(eval_dl.dataset) for e in val_elbo], label = 'Out-Sample')\n",
    "\n",
    "plt.legend()\n",
    "plt.xlabel('# Iterations')\n",
    "plt.ylabel('ELBO')\n",
    "\n",
    "plt.savefig(os.path.join(PATH, 'loss_plot.png'), dpi = 600, facecolor = None)"
   ]
  }
 ],
 "metadata": {
  "kernelspec": {
   "display_name": "Python 3",
   "language": "python",
   "name": "python3"
  },
  "language_info": {
   "codemirror_mode": {
    "name": "ipython",
    "version": 3
   },
   "file_extension": ".py",
   "mimetype": "text/x-python",
   "name": "python",
   "nbconvert_exporter": "python",
   "pygments_lexer": "ipython3",
   "version": "3.8.10"
  }
 },
 "nbformat": 4,
 "nbformat_minor": 5
}
